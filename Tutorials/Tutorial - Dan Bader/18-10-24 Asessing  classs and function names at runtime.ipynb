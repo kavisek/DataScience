{
 "cells": [
  {
   "cell_type": "markdown",
   "metadata": {},
   "source": [
    "# Assesing class and function names at runtime"
   ]
  },
  {
   "cell_type": "code",
   "execution_count": 1,
   "metadata": {
    "ExecuteTime": {
     "end_time": "2018-12-24T00:53:07.163715Z",
     "start_time": "2018-12-24T00:53:07.159711Z"
    }
   },
   "outputs": [],
   "source": [
    "# You can get the name of\n",
    "# an object's class as a\n",
    "# string:\n",
    "class MyClass : pass"
   ]
  },
  {
   "cell_type": "code",
   "execution_count": 2,
   "metadata": {
    "ExecuteTime": {
     "end_time": "2018-12-24T00:53:23.244814Z",
     "start_time": "2018-12-24T00:53:23.228380Z"
    }
   },
   "outputs": [
    {
     "data": {
      "text/plain": [
       "'MyClass'"
      ]
     },
     "execution_count": 2,
     "metadata": {},
     "output_type": "execute_result"
    }
   ],
   "source": [
    "obj = MyClass()\n",
    "obj.__class__.__name__"
   ]
  },
  {
   "cell_type": "code",
   "execution_count": 6,
   "metadata": {
    "ExecuteTime": {
     "end_time": "2018-12-24T00:53:49.191935Z",
     "start_time": "2018-12-24T00:53:49.188448Z"
    }
   },
   "outputs": [],
   "source": [
    "def myfunc(): pass"
   ]
  },
  {
   "cell_type": "code",
   "execution_count": 8,
   "metadata": {
    "ExecuteTime": {
     "end_time": "2018-12-24T00:53:51.672138Z",
     "start_time": "2018-12-24T00:53:51.664206Z"
    }
   },
   "outputs": [
    {
     "data": {
      "text/plain": [
       "'myfunc'"
      ]
     },
     "execution_count": 8,
     "metadata": {},
     "output_type": "execute_result"
    }
   ],
   "source": [
    "myfunc.__name__"
   ]
  }
 ],
 "metadata": {
  "kernelspec": {
   "display_name": "Python 3",
   "language": "python",
   "name": "python3"
  },
  "language_info": {
   "codemirror_mode": {
    "name": "ipython",
    "version": 3
   },
   "file_extension": ".py",
   "mimetype": "text/x-python",
   "name": "python",
   "nbconvert_exporter": "python",
   "pygments_lexer": "ipython3",
   "version": "3.6.6"
  }
 },
 "nbformat": 4,
 "nbformat_minor": 2
}
