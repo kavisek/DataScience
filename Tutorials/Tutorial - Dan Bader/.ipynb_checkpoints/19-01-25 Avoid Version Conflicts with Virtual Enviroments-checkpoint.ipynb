{
 "cells": [
  {
   "cell_type": "markdown",
   "metadata": {},
   "source": [
    "# Avoid Version Conflicts with Virtual Enviroments"
   ]
  },
  {
   "cell_type": "code",
   "execution_count": 6,
   "metadata": {},
   "outputs": [
    {
     "name": "stdout",
     "output_type": "stream",
     "text": [
      "/Users/kavi/anaconda3/bin/python\r\n"
     ]
    }
   ],
   "source": [
    "! which python"
   ]
  },
  {
   "cell_type": "code",
   "execution_count": null,
   "metadata": {},
   "outputs": [
    {
     "name": "stdout",
     "output_type": "stream",
     "text": [
      "Python 3.6.5 |Anaconda, Inc.| (default, Apr 26 2018, 08:42:37) \r\n",
      "[GCC 4.2.1 Compatible Clang 4.0.1 (tags/RELEASE_401/final)] on darwin\r\n",
      "Type \"help\", \"copyright\", \"credits\" or \"license\" for more information.\r\n",
      ">>> "
     ]
    }
   ],
   "source": [
    "! $which python"
   ]
  },
  {
   "cell_type": "code",
   "execution_count": null,
   "metadata": {},
   "outputs": [],
   "source": [
    "# A virtualenv is just a \"Python\n",
    "# environment in a folder\":\n",
    "! ls ./venv"
   ]
  },
  {
   "cell_type": "code",
   "execution_count": null,
   "metadata": {},
   "outputs": [],
   "source": [
    "# Activating a virtualenv configures the\n",
    "# current shell session to use the python\n",
    "# (and pip) commands from the virtualenv\n",
    "# folder instead of the global environment:\n",
    "! source ./venv/bin/activate\n"
   ]
  },
  {
   "cell_type": "code",
   "execution_count": null,
   "metadata": {},
   "outputs": [],
   "source": [
    "# Note how activating a virtualenv modifies\n",
    "# your shell prompt with a little note\n",
    "# showing the name of the virtualenv folder:\n",
    "! echo \"wee!\""
   ]
  },
  {
   "cell_type": "code",
   "execution_count": null,
   "metadata": {},
   "outputs": [],
   "source": [
    "# With an active virtualenv, the `python`\n",
    "# command maps to the interpreter binary\n",
    "# *inside the active virtualenv*:\n",
    "! which python\n",
    "/Users/dan/my-project/venv/bin/python3"
   ]
  },
  {
   "cell_type": "code",
   "execution_count": null,
   "metadata": {},
   "outputs": [],
   "source": [
    "# Installing new libraries and frameworks\n",
    "# with `pip` now installs them *into the\n",
    "# virtualenv sandbox*, leaving your global\n",
    "# environment (and any other virtualenvs)\n",
    "# completely unmodified:\n",
    "! pip install requests"
   ]
  },
  {
   "cell_type": "code",
   "execution_count": null,
   "metadata": {},
   "outputs": [],
   "source": [
    "# To get back to the global Python\n",
    "# environment, run the following command:\n",
    "! deactivate\n"
   ]
  },
  {
   "cell_type": "code",
   "execution_count": null,
   "metadata": {},
   "outputs": [],
   "source": [
    "# (See how the prompt changed back\n",
    "# to \"normal\" again?)\n",
    "! echo \"yay!\""
   ]
  },
  {
   "cell_type": "code",
   "execution_count": null,
   "metadata": {},
   "outputs": [],
   "source": [
    "# Deactivating the virtualenv flipped the\n",
    "# `python` and `pip` commands back to\n",
    "# the global environment:\n",
    "! which python"
   ]
  }
 ],
 "metadata": {
  "kernelspec": {
   "display_name": "Python 3",
   "language": "python",
   "name": "python3"
  },
  "language_info": {
   "codemirror_mode": {
    "name": "ipython",
    "version": 3
   },
   "file_extension": ".py",
   "mimetype": "text/x-python",
   "name": "python",
   "nbconvert_exporter": "python",
   "pygments_lexer": "ipython3",
   "version": "3.6.5"
  }
 },
 "nbformat": 4,
 "nbformat_minor": 2
}
