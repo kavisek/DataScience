{
 "cells": [
  {
   "cell_type": "code",
   "execution_count": 2,
   "metadata": {},
   "outputs": [
    {
     "data": {
      "text/plain": [
       "{'__name__': '__main__',\n",
       " '__doc__': 'Automatically created module for IPython interactive environment',\n",
       " '__package__': None,\n",
       " '__loader__': None,\n",
       " '__spec__': None,\n",
       " '__builtin__': <module 'builtins' (built-in)>,\n",
       " '__builtins__': <module 'builtins' (built-in)>,\n",
       " '_ih': ['',\n",
       "  'globals()',\n",
       "  '\\n# \"globals()\" returns a dict\\n# with all global variables\\n# in the current scope:\\n\\nglobals()'],\n",
       " '_oh': {1: {...}},\n",
       " '_dh': ['/Users/kavi/Documents/Science/Tutorials/Tutorial - Dan Bader'],\n",
       " 'In': ['',\n",
       "  'globals()',\n",
       "  '\\n# \"globals()\" returns a dict\\n# with all global variables\\n# in the current scope:\\n\\nglobals()'],\n",
       " 'Out': {1: {...}},\n",
       " 'get_ipython': <bound method InteractiveShell.get_ipython of <ipykernel.zmqshell.ZMQInteractiveShell object at 0x103b65940>>,\n",
       " 'exit': <IPython.core.autocall.ZMQExitAutocall at 0x103bb1cf8>,\n",
       " 'quit': <IPython.core.autocall.ZMQExitAutocall at 0x103bb1cf8>,\n",
       " '_': {...},\n",
       " '__': '',\n",
       " '___': '',\n",
       " '_i': 'globals()',\n",
       " '_ii': '',\n",
       " '_iii': '',\n",
       " '_i1': 'globals()',\n",
       " '_1': {...},\n",
       " '_i2': '\\n# \"globals()\" returns a dict\\n# with all global variables\\n# in the current scope:\\n\\nglobals()'}"
      ]
     },
     "execution_count": 2,
     "metadata": {},
     "output_type": "execute_result"
    }
   ],
   "source": [
    "\n",
    "# \"globals()\" returns a dict\n",
    "# with all global variables\n",
    "# in the current scope:\n",
    "\n",
    "globals()"
   ]
  },
  {
   "cell_type": "code",
   "execution_count": 3,
   "metadata": {},
   "outputs": [
    {
     "data": {
      "text/plain": [
       "{'__name__': '__main__',\n",
       " '__doc__': 'Automatically created module for IPython interactive environment',\n",
       " '__package__': None,\n",
       " '__loader__': None,\n",
       " '__spec__': None,\n",
       " '__builtin__': <module 'builtins' (built-in)>,\n",
       " '__builtins__': <module 'builtins' (built-in)>,\n",
       " '_ih': ['',\n",
       "  'globals()',\n",
       "  '\\n# \"globals()\" returns a dict\\n# with all global variables\\n# in the current scope:\\n\\nglobals()',\n",
       "  '# \"locals()\" does the same\\n# but for all local variables\\n# in the current scope:\\n\\nlocals()'],\n",
       " '_oh': {1: {...}, 2: {...}},\n",
       " '_dh': ['/Users/kavi/Documents/Science/Tutorials/Tutorial - Dan Bader'],\n",
       " 'In': ['',\n",
       "  'globals()',\n",
       "  '\\n# \"globals()\" returns a dict\\n# with all global variables\\n# in the current scope:\\n\\nglobals()',\n",
       "  '# \"locals()\" does the same\\n# but for all local variables\\n# in the current scope:\\n\\nlocals()'],\n",
       " 'Out': {1: {...}, 2: {...}},\n",
       " 'get_ipython': <bound method InteractiveShell.get_ipython of <ipykernel.zmqshell.ZMQInteractiveShell object at 0x103b65940>>,\n",
       " 'exit': <IPython.core.autocall.ZMQExitAutocall at 0x103bb1cf8>,\n",
       " 'quit': <IPython.core.autocall.ZMQExitAutocall at 0x103bb1cf8>,\n",
       " '_': {...},\n",
       " '__': {...},\n",
       " '___': '',\n",
       " '_i': '\\n# \"globals()\" returns a dict\\n# with all global variables\\n# in the current scope:\\n\\nglobals()',\n",
       " '_ii': 'globals()',\n",
       " '_iii': '',\n",
       " '_i1': 'globals()',\n",
       " '_1': {...},\n",
       " '_i2': '\\n# \"globals()\" returns a dict\\n# with all global variables\\n# in the current scope:\\n\\nglobals()',\n",
       " '_2': {...},\n",
       " '_i3': '# \"locals()\" does the same\\n# but for all local variables\\n# in the current scope:\\n\\nlocals()'}"
      ]
     },
     "execution_count": 3,
     "metadata": {},
     "output_type": "execute_result"
    }
   ],
   "source": [
    "# \"locals()\" does the same\n",
    "# but for all local variables\n",
    "# in the current scope:\n",
    "\n",
    "locals()"
   ]
  }
 ],
 "metadata": {
  "kernelspec": {
   "display_name": "Python 3",
   "language": "python",
   "name": "python3"
  },
  "language_info": {
   "codemirror_mode": {
    "name": "ipython",
    "version": 3
   },
   "file_extension": ".py",
   "mimetype": "text/x-python",
   "name": "python",
   "nbconvert_exporter": "python",
   "pygments_lexer": "ipython3",
   "version": "3.6.5"
  }
 },
 "nbformat": 4,
 "nbformat_minor": 2
}
