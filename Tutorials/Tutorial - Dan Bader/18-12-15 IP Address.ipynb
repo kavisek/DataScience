{
 "cells": [
  {
   "cell_type": "markdown",
   "metadata": {},
   "source": [
    "### Python's Standard IP Address Library"
   ]
  },
  {
   "cell_type": "code",
   "execution_count": 2,
   "metadata": {
    "ExecuteTime": {
     "end_time": "2018-12-16T05:07:00.878267Z",
     "start_time": "2018-12-16T05:07:00.874794Z"
    }
   },
   "outputs": [],
   "source": [
    "# Python 3 has a std lib\n",
    "# module for working with\n",
    "# IP addresses:\n",
    "\n",
    "import ipaddress"
   ]
  },
  {
   "cell_type": "code",
   "execution_count": 4,
   "metadata": {
    "ExecuteTime": {
     "end_time": "2018-12-16T05:07:56.238344Z",
     "start_time": "2018-12-16T05:07:56.225306Z"
    }
   },
   "outputs": [
    {
     "data": {
      "text/plain": [
       "IPv4Address('192.168.0.27')"
      ]
     },
     "execution_count": 4,
     "metadata": {},
     "output_type": "execute_result"
    }
   ],
   "source": [
    "ipaddress.ip_address('192.168.0.27')"
   ]
  },
  {
   "cell_type": "code",
   "execution_count": 5,
   "metadata": {
    "ExecuteTime": {
     "end_time": "2018-12-16T05:08:32.760388Z",
     "start_time": "2018-12-16T05:08:32.754292Z"
    }
   },
   "outputs": [
    {
     "data": {
      "text/plain": [
       "IPv6Address('fe80::2fc:8dff:fefc:d5b2')"
      ]
     },
     "execution_count": 5,
     "metadata": {},
     "output_type": "execute_result"
    }
   ],
   "source": [
    "ipaddress.ip_address('fe80::2fc:8dff:fefc:d5b2')"
   ]
  }
 ],
 "metadata": {
  "kernelspec": {
   "display_name": "Python 3",
   "language": "python",
   "name": "python3"
  },
  "language_info": {
   "codemirror_mode": {
    "name": "ipython",
    "version": 3
   },
   "file_extension": ".py",
   "mimetype": "text/x-python",
   "name": "python",
   "nbconvert_exporter": "python",
   "pygments_lexer": "ipython3",
   "version": "3.6.6"
  }
 },
 "nbformat": 4,
 "nbformat_minor": 2
}
