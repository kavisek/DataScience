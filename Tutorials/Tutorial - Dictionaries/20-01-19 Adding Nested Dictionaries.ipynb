{
 "nbformat": 4,
 "nbformat_minor": 2,
 "metadata": {
  "language_info": {
   "name": "python",
   "codemirror_mode": {
    "name": "ipython",
    "version": 3
   },
   "version": "3.7.6-final"
  },
  "orig_nbformat": 2,
  "file_extension": ".py",
  "mimetype": "text/x-python",
  "name": "python",
  "npconvert_exporter": "python",
  "pygments_lexer": "ipython3",
  "version": 3,
  "kernelspec": {
   "name": "python37664bitbasecondadd3e28ed9aa245ddab41f49c7c978a5b",
   "display_name": "Python 3.7.6 64-bit ('base': conda)"
  }
 },
 "cells": [
  {
   "cell_type": "markdown",
   "metadata": {},
   "source": [
    "# Adding Nested Dictionaries"
   ]
  },
  {
   "cell_type": "code",
   "execution_count": 1,
   "metadata": {},
   "outputs": [
    {
     "output_type": "stream",
     "name": "stdout",
     "text": "{'d1': {'a': 1, 'b': 2.0, 'c': 3}, 'd2': {'a': 1, 'b': 2.0, 'c': 3}, 'd3': {'a': 1, 'b': 2.0, 'c': 3}}\n"
    }
   ],
   "source": [
    "sample = {\"a\":1, \"b\":2.0, \"c\":3}\n",
    "upper_dict = {\"d1\":sample, \"d2\":sample, \"d3\":sample}\n",
    "print(upper_dict)"
   ]
  },
  {
   "cell_type": "code",
   "execution_count": 2,
   "metadata": {
    "tags": [
     "outputPrepend",
     "outputPrepend",
     "outputPrepend",
     "outputPrepend",
     "outputPrepend",
     "outputPrepend",
     "outputPrepend",
     "outputPrepend",
     "outputPrepend",
     "outputPrepend",
     "outputPrepend",
     "outputPrepend",
     "outputPrepend",
     "outputPrepend",
     "outputPrepend",
     "outputPrepend",
     "outputPrepend",
     "outputPrepend",
     "outputPrepend",
     "outputPrepend",
     "outputPrepend"
    ]
   },
   "outputs": [
    {
     "output_type": "stream",
     "name": "stdout",
     "text": "Counter({'c': 3, 'b': 2.0, 'a': 1})\nCounter({'c': 6, 'b': 4.0, 'a': 2})\nCounter({'c': 9, 'b': 6.0, 'a': 3})\n"
    }
   ],
   "source": [
    "from collections import Counter\n",
    "total = Counter({})\n",
    "for key, value in upper_dict.items():\n",
    "    total = total + Counter(value)\n",
    "    print(total)\n",
    ""
   ]
  },
  {
   "cell_type": "code",
   "execution_count": 3,
   "metadata": {},
   "outputs": [
    {
     "output_type": "execute_result",
     "data": {
      "text/plain": "{'a': 3, 'b': 6.0, 'c': 9}"
     },
     "metadata": {},
     "execution_count": 3
    }
   ],
   "source": [
    "total = dict(total)\n",
    "total"
   ]
  },
  {
   "cell_type": "code",
   "execution_count": 4,
   "metadata": {},
   "outputs": [
    {
     "output_type": "execute_result",
     "data": {
      "text/plain": "{'d1': {'a': 1, 'b': 2.0, 'c': 3},\n 'd2': {'a': 1, 'b': 2.0, 'c': 3},\n 'd3': {'a': 1, 'b': 2.0, 'c': 3},\n 'all': {'a': 3, 'b': 6.0, 'c': 9}}"
     },
     "metadata": {},
     "execution_count": 4
    }
   ],
   "source": [
    "final_dict = upper_dict\n",
    "final_dict['all'] = total\n",
    "final_dict"
   ]
  },
  {
   "cell_type": "code",
   "execution_count": 5,
   "metadata": {},
   "outputs": [],
   "source": [
    "# This does not work if the number is negative "
   ]
  },
  {
   "cell_type": "markdown",
   "metadata": {},
   "source": [
    "### Timeit"
   ]
  },
  {
   "cell_type": "code",
   "execution_count": 6,
   "metadata": {
    "tags": [
     "outputPrepend",
     "outputPrepend",
     "outputPrepend",
     "outputPrepend",
     "outputPrepend",
     "outputPrepend",
     "outputPrepend",
     "outputPrepend",
     "outputPrepend",
     "outputPrepend",
     "outputPrepend",
     "outputPrepend",
     "outputPrepend",
     "outputPrepend",
     "outputPrepend",
     "outputPrepend",
     "outputPrepend",
     "outputPrepend",
     "outputPrepend",
     "outputPrepend"
    ]
   },
   "outputs": [
    {
     "output_type": "stream",
     "name": "stdout",
     "text": "unter({'c': 9, 'b': 6.0, 'a': 3})\nCounter({'c': 18, 'b': 12.0, 'a': 6})\nCounter({'c': 3, 'b': 2.0, 'a': 1})\nCounter({'c': 6, 'b': 4.0, 'a': 2})\nCounter({'c': 9, 'b': 6.0, 'a': 3})\nCounter({'c': 18, 'b': 12.0, 'a': 6})\nCounter({'c': 3, 'b': 2.0, 'a': 1})\nCounter({'c': 6, 'b': 4.0, 'a': 2})\nCounter({'c': 9, 'b': 6.0, 'a': 3})\nCounter({'c': 18, 'b': 12.0, 'a': 6})\nCounter({'c': 3, 'b': 2.0, 'a': 1})\nCounter({'c': 6, 'b': 4.0, 'a': 2})\nCounter({'c': 9, 'b': 6.0, 'a': 3})\nCounter({'c': 18, 'b': 12.0, 'a': 6})\nCounter({'c': 3, 'b': 2.0, 'a': 1})\nCounter({'c': 6, 'b': 4.0, 'a': 2})\nCounter({'c': 9, 'b': 6.0, 'a': 3})\nCounter({'c': 18, 'b': 12.0, 'a': 6})\nCounter({'c': 3, 'b': 2.0, 'a': 1})\nCounter({'c': 6, 'b': 4.0, 'a': 2})\nCounter({'c': 9, 'b': 6.0, 'a': 3})\nCounter({'c': 18, 'b': 12.0, 'a': 6})\nCounter({'c': 3, 'b': 2.0, 'a': 1})\nCounter({'c': 6, 'b': 4.0, 'a': 2})\nCounter({'c': 9, 'b': 6.0, 'a': 3})\nCounter({'c': 18, 'b': 12.0, 'a': 6})\nCounter({'c': 3, 'b': 2.0, 'a': 1})\nCounter({'c': 6, 'b': 4.0, 'a': 2})\nCounter({'c': 9, 'b': 6.0, 'a': 3})\nCounter({'c': 18, 'b': 12.0, 'a': 6})\nCounter({'c': 3, 'b': 2.0, 'a': 1})\nCounter({'c': 6, 'b': 4.0, 'a': 2})\nCounter({'c': 9, 'b': 6.0, 'a': 3})\nCounter({'c': 18, 'b': 12.0, 'a': 6})\nCounter({'c': 3, 'b': 2.0, 'a': 1})\nCounter({'c': 6, 'b': 4.0, 'a': 2})\nCounter({'c': 9, 'b': 6.0, 'a': 3})\nCounter({'c': 18, 'b': 12.0, 'a': 6})\nCounter({'c': 3, 'b': 2.0, 'a': 1})\nCounter({'c': 6, 'b': 4.0, 'a': 2})\nCounter({'c': 9, 'b': 6.0, 'a': 3})\nCounter({'c': 18, 'b': 12.0, 'a': 6})\nCounter({'c': 3, 'b': 2.0, 'a': 1})\nCounter({'c': 6, 'b': 4.0, 'a': 2})\nCounter({'c': 9, 'b': 6.0, 'a': 3})\nCounter({'c': 18, 'b': 12.0, 'a': 6})\nCounter({'c': 3, 'b': 2.0, 'a': 1})\nCounter({'c': 6, 'b': 4.0, 'a': 2})\nCounter({'c': 9, 'b': 6.0, 'a': 3})\nCounter({'c': 18, 'b': 12.0, 'a': 6})\nCounter({'c': 3, 'b': 2.0, 'a': 1})\nCounter({'c': 6, 'b': 4.0, 'a': 2})\nCounter({'c': 9, 'b': 6.0, 'a': 3})\nCounter({'c': 18, 'b': 12.0, 'a': 6})\nCounter({'c': 3, 'b': 2.0, 'a': 1})\nCounter({'c': 6, 'b': 4.0, 'a': 2})\nCounter({'c': 9, 'b': 6.0, 'a': 3})\nCounter({'c': 18, 'b': 12.0, 'a': 6})\nCounter({'c': 3, 'b': 2.0, 'a': 1})\nCounter({'c': 6, 'b': 4.0, 'a': 2})\nCounter({'c': 9, 'b': 6.0, 'a': 3})\nCounter({'c': 18, 'b': 12.0, 'a': 6})\nCounter({'c': 3, 'b': 2.0, 'a': 1})\nCounter({'c': 6, 'b': 4.0, 'a': 2})\nCounter({'c': 9, 'b': 6.0, 'a': 3})\nCounter({'c': 18, 'b': 12.0, 'a': 6})\nCounter({'c': 3, 'b': 2.0, 'a': 1})\nCounter({'c': 6, 'b': 4.0, 'a': 2})\nCounter({'c': 9, 'b': 6.0, 'a': 3})\nCounter({'c': 18, 'b': 12.0, 'a': 6})\nCounter({'c': 3, 'b': 2.0, 'a': 1})\nCounter({'c': 6, 'b': 4.0, 'a': 2})\nCounter({'c': 9, 'b': 6.0, 'a': 3})\nCounter({'c': 18, 'b': 12.0, 'a': 6})\nCounter({'c': 3, 'b': 2.0, 'a': 1})\nCounter({'c': 6, 'b': 4.0, 'a': 2})\nCounter({'c': 9, 'b': 6.0, 'a': 3})\nCounter({'c': 18, 'b': 12.0, 'a': 6})\nCounter({'c': 3, 'b': 2.0, 'a': 1})\nCounter({'c': 6, 'b': 4.0, 'a': 2})\nCounter({'c': 9, 'b': 6.0, 'a': 3})\nCounter({'c': 18, 'b': 12.0, 'a': 6})\nCounter({'c': 3, 'b': 2.0, 'a': 1})\nCounter({'c': 6, 'b': 4.0, 'a': 2})\nCounter({'c': 9, 'b': 6.0, 'a': 3})\nCounter({'c': 18, 'b': 12.0, 'a': 6})\nCounter({'c': 3, 'b': 2.0, 'a': 1})\nCounter({'c': 6, 'b': 4.0, 'a': 2})\nCounter({'c': 9, 'b': 6.0, 'a': 3})\nCounter({'c': 18, 'b': 12.0, 'a': 6})\nCounter({'c': 3, 'b': 2.0, 'a': 1})\nCounter({'c': 6, 'b': 4.0, 'a': 2})\nCounter({'c': 9, 'b': 6.0, 'a': 3})\nCounter({'c': 18, 'b': 12.0, 'a': 6})\nCounter({'c': 3, 'b': 2.0, 'a': 1})\nCounter({'c': 6, 'b': 4.0, 'a': 2})\nCounter({'c': 9, 'b': 6.0, 'a': 3})\nCounter({'c': 18, 'b': 12.0, 'a': 6})\nCounter({'c': 3, 'b': 2.0, 'a': 1})\nCounter({'c': 6, 'b': 4.0, 'a': 2})\nCounter({'c': 9, 'b': 6.0, 'a': 3})\nCounter({'c': 18, 'b': 12.0, 'a': 6})\nCounter({'c': 3, 'b': 2.0, 'a': 1})\nCounter({'c': 6, 'b': 4.0, 'a': 2})\nCounter({'c': 9, 'b': 6.0, 'a': 3})\nCounter({'c': 18, 'b': 12.0, 'a': 6})\nCounter({'c': 3, 'b': 2.0, 'a': 1})\nCounter({'c': 6, 'b': 4.0, 'a': 2})\nCounter({'c': 9, 'b': 6.0, 'a': 3})\nCounter({'c': 18, 'b': 12.0, 'a': 6})\nCounter({'c': 3, 'b': 2.0, 'a': 1})\nCounter({'c': 6, 'b': 4.0, 'a': 2})\nCounter({'c': 9, 'b': 6.0, 'a': 3})\nCounter({'c': 18, 'b': 12.0, 'a': 6})\nCounter({'c': 3, 'b': 2.0, 'a': 1})\nCounter({'c': 6, 'b': 4.0, 'a': 2})\nCounter({'c': 9, 'b': 6.0, 'a': 3})\nCounter({'c': 18, 'b': 12.0, 'a': 6})\nCounter({'c': 3, 'b': 2.0, 'a': 1})\nCounter({'c': 6, 'b': 4.0, 'a': 2})\nCounter({'c': 9, 'b': 6.0, 'a': 3})\nCounter({'c': 18, 'b': 12.0, 'a': 6})\nCounter({'c': 3, 'b': 2.0, 'a': 1})\nCounter({'c': 6, 'b': 4.0, 'a': 2})\nCounter({'c': 9, 'b': 6.0, 'a': 3})\nCounter({'c': 18, 'b': 12.0, 'a': 6})\nCounter({'c': 3, 'b': 2.0, 'a': 1})\nCounter({'c': 6, 'b': 4.0, 'a': 2})\nCounter({'c': 9, 'b': 6.0, 'a': 3})\nCounter({'c': 18, 'b': 12.0, 'a': 6})\nCounter({'c': 3, 'b': 2.0, 'a': 1})\nCounter({'c': 6, 'b': 4.0, 'a': 2})\nCounter({'c': 9, 'b': 6.0, 'a': 3})\nCounter({'c': 18, 'b': 12.0, 'a': 6})\nCounter({'c': 3, 'b': 2.0, 'a': 1})\nCounter({'c': 6, 'b': 4.0, 'a': 2})\nCounter({'c': 9, 'b': 6.0, 'a': 3})\nCounter({'c': 18, 'b': 12.0, 'a': 6})\nCounter({'c': 3, 'b': 2.0, 'a': 1})\nCounter({'c': 6, 'b': 4.0, 'a': 2})\nCounter({'c': 9, 'b': 6.0, 'a': 3})\nCounter({'c': 18, 'b': 12.0, 'a': 6})\nCounter({'c': 3, 'b': 2.0, 'a': 1})\nCounter({'c': 6, 'b': 4.0, 'a': 2})\nCounter({'c': 9, 'b': 6.0, 'a': 3})\nCounter({'c': 18, 'b': 12.0, 'a': 6})\nCounter({'c': 3, 'b': 2.0, 'a': 1})\nCounter({'c': 6, 'b': 4.0, 'a': 2})\nCounter({'c': 9, 'b': 6.0, 'a': 3})\nCounter({'c': 18, 'b': 12.0, 'a': 6})\nCounter({'c': 3, 'b': 2.0, 'a': 1})\nCounter({'c': 6, 'b': 4.0, 'a': 2})\nCounter({'c': 9, 'b': 6.0, 'a': 3})\nCounter({'c': 18, 'b': 12.0, 'a': 6})\nCounter({'c': 3, 'b': 2.0, 'a': 1})\nCounter({'c': 6, 'b': 4.0, 'a': 2})\nCounter({'c': 9, 'b': 6.0, 'a': 3})\nCounter({'c': 18, 'b': 12.0, 'a': 6})\nCounter({'c': 3, 'b': 2.0, 'a': 1})\nCounter({'c': 6, 'b': 4.0, 'a': 2})\nCounter({'c': 9, 'b': 6.0, 'a': 3})\nCounter({'c': 18, 'b': 12.0, 'a': 6})\nCounter({'c': 3, 'b': 2.0, 'a': 1})\nCounter({'c': 6, 'b': 4.0, 'a': 2})\nCounter({'c': 9, 'b': 6.0, 'a': 3})\nCounter({'c': 18, 'b': 12.0, 'a': 6})\nCounter({'c': 3, 'b': 2.0, 'a': 1})\nCounter({'c': 6, 'b': 4.0, 'a': 2})\nCounter({'c': 9, 'b': 6.0, 'a': 3})\nCounter({'c': 18, 'b': 12.0, 'a': 6})\nCounter({'c': 3, 'b': 2.0, 'a': 1})\nCounter({'c': 6, 'b': 4.0, 'a': 2})\nCounter({'c': 9, 'b': 6.0, 'a': 3})\nCounter({'c': 18, 'b': 12.0, 'a': 6})\nCounter({'c': 3, 'b': 2.0, 'a': 1})\nCounter({'c': 6, 'b': 4.0, 'a': 2})\nCounter({'c': 9, 'b': 6.0, 'a': 3})\nCounter({'c': 18, 'b': 12.0, 'a': 6})\nCounter({'c': 3, 'b': 2.0, 'a': 1})\nCounter({'c': 6, 'b': 4.0, 'a': 2})\nCounter({'c': 9, 'b': 6.0, 'a': 3})\nCounter({'c': 18, 'b': 12.0, 'a': 6})\nCounter({'c': 3, 'b': 2.0, 'a': 1})\nCounter({'c': 6, 'b': 4.0, 'a': 2})\nCounter({'c': 9, 'b': 6.0, 'a': 3})\nCounter({'c': 18, 'b': 12.0, 'a': 6})\nCounter({'c': 3, 'b': 2.0, 'a': 1})\nCounter({'c': 6, 'b': 4.0, 'a': 2})\nCounter({'c': 9, 'b': 6.0, 'a': 3})\nCounter({'c': 18, 'b': 12.0, 'a': 6})\nCounter({'c': 3, 'b': 2.0, 'a': 1})\nCounter({'c': 6, 'b': 4.0, 'a': 2})\nCounter({'c': 9, 'b': 6.0, 'a': 3})\nCounter({'c': 18, 'b': 12.0, 'a': 6})\nCounter({'c': 3, 'b': 2.0, 'a': 1})\nCounter({'c': 6, 'b': 4.0, 'a': 2})\nCounter({'c': 9, 'b': 6.0, 'a': 3})\nCounter({'c': 18, 'b': 12.0, 'a': 6})\nCounter({'c': 3, 'b': 2.0, 'a': 1})\nCounter({'c': 6, 'b': 4.0, 'a': 2})\nCounter({'c': 9, 'b': 6.0, 'a': 3})\nCounter({'c': 18, 'b': 12.0, 'a': 6})\nCounter({'c': 3, 'b': 2.0, 'a': 1})\nCounter({'c': 6, 'b': 4.0, 'a': 2})\nCounter({'c': 9, 'b': 6.0, 'a': 3})\nCounter({'c': 18, 'b': 12.0, 'a': 6})\nCounter({'c': 3, 'b': 2.0, 'a': 1})\nCounter({'c': 6, 'b': 4.0, 'a': 2})\nCounter({'c': 9, 'b': 6.0, 'a': 3})\nCounter({'c': 18, 'b': 12.0, 'a': 6})\nCounter({'c': 3, 'b': 2.0, 'a': 1})\nCounter({'c': 6, 'b': 4.0, 'a': 2})\nCounter({'c': 9, 'b': 6.0, 'a': 3})\nCounter({'c': 18, 'b': 12.0, 'a': 6})\nCounter({'c': 3, 'b': 2.0, 'a': 1})\nCounter({'c': 6, 'b': 4.0, 'a': 2})\nCounter({'c': 9, 'b': 6.0, 'a': 3})\nCounter({'c': 18, 'b': 12.0, 'a': 6})\nCounter({'c': 3, 'b': 2.0, 'a': 1})\nCounter({'c': 6, 'b': 4.0, 'a': 2})\nCounter({'c': 9, 'b': 6.0, 'a': 3})\nCounter({'c': 18, 'b': 12.0, 'a': 6})\nCounter({'c': 3, 'b': 2.0, 'a': 1})\nCounter({'c': 6, 'b': 4.0, 'a': 2})\nCounter({'c': 9, 'b': 6.0, 'a': 3})\nCounter({'c': 18, 'b': 12.0, 'a': 6})\nCounter({'c': 3, 'b': 2.0, 'a': 1})\nCounter({'c': 6, 'b': 4.0, 'a': 2})\nCounter({'c': 9, 'b': 6.0, 'a': 3})\nCounter({'c': 18, 'b': 12.0, 'a': 6})\nCounter({'c': 3, 'b': 2.0, 'a': 1})\nCounter({'c': 6, 'b': 4.0, 'a': 2})\nCounter({'c': 9, 'b': 6.0, 'a': 3})\nCounter({'c': 18, 'b': 12.0, 'a': 6})\nCounter({'c': 3, 'b': 2.0, 'a': 1})\nCounter({'c': 6, 'b': 4.0, 'a': 2})\nCounter({'c': 9, 'b': 6.0, 'a': 3})\nCounter({'c': 18, 'b': 12.0, 'a': 6})\nCounter({'c': 3, 'b': 2.0, 'a': 1})\nCounter({'c': 6, 'b': 4.0, 'a': 2})\nCounter({'c': 9, 'b': 6.0, 'a': 3})\nCounter({'c': 18, 'b': 12.0, 'a': 6})\nCounter({'c': 3, 'b': 2.0, 'a': 1})\nCounter({'c': 6, 'b': 4.0, 'a': 2})\nCounter({'c': 9, 'b': 6.0, 'a': 3})\nCounter({'c': 18, 'b': 12.0, 'a': 6})\nCounter({'c': 3, 'b': 2.0, 'a': 1})\nCounter({'c': 6, 'b': 4.0, 'a': 2})\nCounter({'c': 9, 'b': 6.0, 'a': 3})\nCounter({'c': 18, 'b': 12.0, 'a': 6})\nCounter({'c': 3, 'b': 2.0, 'a': 1})\nCounter({'c': 6, 'b': 4.0, 'a': 2})\nCounter({'c': 9, 'b': 6.0, 'a': 3})\nCounter({'c': 18, 'b': 12.0, 'a': 6})\nCounter({'c': 3, 'b': 2.0, 'a': 1})\nCounter({'c': 6, 'b': 4.0, 'a': 2})\nCounter({'c': 9, 'b': 6.0, 'a': 3})\nCounter({'c': 18, 'b': 12.0, 'a': 6})\nCounter({'c': 3, 'b': 2.0, 'a': 1})\nCounter({'c': 6, 'b': 4.0, 'a': 2})\nCounter({'c': 9, 'b': 6.0, 'a': 3})\nCounter({'c': 18, 'b': 12.0, 'a': 6})\nCounter({'c': 3, 'b': 2.0, 'a': 1})\nCounter({'c': 6, 'b': 4.0, 'a': 2})\nCounter({'c': 9, 'b': 6.0, 'a': 3})\nCounter({'c': 18, 'b': 12.0, 'a': 6})\nCounter({'c': 3, 'b': 2.0, 'a': 1})\nCounter({'c': 6, 'b': 4.0, 'a': 2})\nCounter({'c': 9, 'b': 6.0, 'a': 3})\nCounter({'c': 18, 'b': 12.0, 'a': 6})\nCounter({'c': 3, 'b': 2.0, 'a': 1})\nCounter({'c': 6, 'b': 4.0, 'a': 2})\nCounter({'c': 9, 'b': 6.0, 'a': 3})\nCounter({'c': 18, 'b': 12.0, 'a': 6})\nCounter({'c': 3, 'b': 2.0, 'a': 1})\nCounter({'c': 6, 'b': 4.0, 'a': 2})\nCounter({'c': 9, 'b': 6.0, 'a': 3})\nCounter({'c': 18, 'b': 12.0, 'a': 6})\nCounter({'c': 3, 'b': 2.0, 'a': 1})\nCounter({'c': 6, 'b': 4.0, 'a': 2})\nCounter({'c': 9, 'b': 6.0, 'a': 3})\nCounter({'c': 18, 'b': 12.0, 'a': 6})\nCounter({'c': 3, 'b': 2.0, 'a': 1})\nCounter({'c': 6, 'b': 4.0, 'a': 2})\nCounter({'c': 9, 'b': 6.0, 'a': 3})\nCounter({'c': 18, 'b': 12.0, 'a': 6})\nCounter({'c': 3, 'b': 2.0, 'a': 1})\nCounter({'c': 6, 'b': 4.0, 'a': 2})\nCounter({'c': 9, 'b': 6.0, 'a': 3})\nCounter({'c': 18, 'b': 12.0, 'a': 6})\nCounter({'c': 3, 'b': 2.0, 'a': 1})\nCounter({'c': 6, 'b': 4.0, 'a': 2})\nCounter({'c': 9, 'b': 6.0, 'a': 3})\nCounter({'c': 18, 'b': 12.0, 'a': 6})\nCounter({'c': 3, 'b': 2.0, 'a': 1})\nCounter({'c': 6, 'b': 4.0, 'a': 2})\nCounter({'c': 9, 'b': 6.0, 'a': 3})\nCounter({'c': 18, 'b': 12.0, 'a': 6})\nCounter({'c': 3, 'b': 2.0, 'a': 1})\nCounter({'c': 6, 'b': 4.0, 'a': 2})\nCounter({'c': 9, 'b': 6.0, 'a': 3})\nCounter({'c': 18, 'b': 12.0, 'a': 6})\nCounter({'c': 3, 'b': 2.0, 'a': 1})\nCounter({'c': 6, 'b': 4.0, 'a': 2})\nCounter({'c': 9, 'b': 6.0, 'a': 3})\nCounter({'c': 18, 'b': 12.0, 'a': 6})\nCounter({'c': 3, 'b': 2.0, 'a': 1})\nCounter({'c': 6, 'b': 4.0, 'a': 2})\nCounter({'c': 9, 'b': 6.0, 'a': 3})\nCounter({'c': 18, 'b': 12.0, 'a': 6})\nCounter({'c': 3, 'b': 2.0, 'a': 1})\nCounter({'c': 6, 'b': 4.0, 'a': 2})\nCounter({'c': 9, 'b': 6.0, 'a': 3})\nCounter({'c': 18, 'b': 12.0, 'a': 6})\nCounter({'c': 3, 'b': 2.0, 'a': 1})\nCounter({'c': 6, 'b': 4.0, 'a': 2})\nCounter({'c': 9, 'b': 6.0, 'a': 3})\nCounter({'c': 18, 'b': 12.0, 'a': 6})\nCounter({'c': 3, 'b': 2.0, 'a': 1})\nCounter({'c': 6, 'b': 4.0, 'a': 2})\nCounter({'c': 9, 'b': 6.0, 'a': 3})\nCounter({'c': 18, 'b': 12.0, 'a': 6})\nCounter({'c': 3, 'b': 2.0, 'a': 1})\nCounter({'c': 6, 'b': 4.0, 'a': 2})\nCounter({'c': 9, 'b': 6.0, 'a': 3})\nCounter({'c': 18, 'b': 12.0, 'a': 6})\nCounter({'c': 3, 'b': 2.0, 'a': 1})\nCounter({'c': 6, 'b': 4.0, 'a': 2})\nCounter({'c': 9, 'b': 6.0, 'a': 3})\nCounter({'c': 18, 'b': 12.0, 'a': 6})\nCounter({'c': 3, 'b': 2.0, 'a': 1})\nCounter({'c': 6, 'b': 4.0, 'a': 2})\nCounter({'c': 9, 'b': 6.0, 'a': 3})\nCounter({'c': 18, 'b': 12.0, 'a': 6})\nCounter({'c': 3, 'b': 2.0, 'a': 1})\nCounter({'c': 6, 'b': 4.0, 'a': 2})\nCounter({'c': 9, 'b': 6.0, 'a': 3})\nCounter({'c': 18, 'b': 12.0, 'a': 6})\nCounter({'c': 3, 'b': 2.0, 'a': 1})\nCounter({'c': 6, 'b': 4.0, 'a': 2})\nCounter({'c': 9, 'b': 6.0, 'a': 3})\nCounter({'c': 18, 'b': 12.0, 'a': 6})\nCounter({'c': 3, 'b': 2.0, 'a': 1})\nCounter({'c': 6, 'b': 4.0, 'a': 2})\nCounter({'c': 9, 'b': 6.0, 'a': 3})\nCounter({'c': 18, 'b': 12.0, 'a': 6})\nCounter({'c': 3, 'b': 2.0, 'a': 1})\nCounter({'c': 6, 'b': 4.0, 'a': 2})\nCounter({'c': 9, 'b': 6.0, 'a': 3})\nCounter({'c': 18, 'b': 12.0, 'a': 6})\nCounter({'c': 3, 'b': 2.0, 'a': 1})\nCounter({'c': 6, 'b': 4.0, 'a': 2})\nCounter({'c': 9, 'b': 6.0, 'a': 3})\nCounter({'c': 18, 'b': 12.0, 'a': 6})\nCounter({'c': 3, 'b': 2.0, 'a': 1})\nCounter({'c': 6, 'b': 4.0, 'a': 2})\nCounter({'c': 9, 'b': 6.0, 'a': 3})\nCounter({'c': 18, 'b': 12.0, 'a': 6})\nCounter({'c': 3, 'b': 2.0, 'a': 1})\nCounter({'c': 6, 'b': 4.0, 'a': 2})\nCounter({'c': 9, 'b': 6.0, 'a': 3})\nCounter({'c': 18, 'b': 12.0, 'a': 6})\nCounter({'c': 3, 'b': 2.0, 'a': 1})\nCounter({'c': 6, 'b': 4.0, 'a': 2})\nCounter({'c': 9, 'b': 6.0, 'a': 3})\nCounter({'c': 18, 'b': 12.0, 'a': 6})\nCounter({'c': 3, 'b': 2.0, 'a': 1})\nCounter({'c': 6, 'b': 4.0, 'a': 2})\nCounter({'c': 9, 'b': 6.0, 'a': 3})\nCounter({'c': 18, 'b': 12.0, 'a': 6})\nCounter({'c': 3, 'b': 2.0, 'a': 1})\nCounter({'c': 6, 'b': 4.0, 'a': 2})\nCounter({'c': 9, 'b': 6.0, 'a': 3})\nCounter({'c': 18, 'b': 12.0, 'a': 6})\nCounter({'c': 3, 'b': 2.0, 'a': 1})\nCounter({'c': 6, 'b': 4.0, 'a': 2})\nCounter({'c': 9, 'b': 6.0, 'a': 3})\nCounter({'c': 18, 'b': 12.0, 'a': 6})\nCounter({'c': 3, 'b': 2.0, 'a': 1})\nCounter({'c': 6, 'b': 4.0, 'a': 2})\nCounter({'c': 9, 'b': 6.0, 'a': 3})\nCounter({'c': 18, 'b': 12.0, 'a': 6})\nCounter({'c': 3, 'b': 2.0, 'a': 1})\nCounter({'c': 6, 'b': 4.0, 'a': 2})\nCounter({'c': 9, 'b': 6.0, 'a': 3})\nCounter({'c': 18, 'b': 12.0, 'a': 6})\nCounter({'c': 3, 'b': 2.0, 'a': 1})\nCounter({'c': 6, 'b': 4.0, 'a': 2})\nCounter({'c': 9, 'b': 6.0, 'a': 3})\nCounter({'c': 18, 'b': 12.0, 'a': 6})\nCounter({'c': 3, 'b': 2.0, 'a': 1})\nCounter({'c': 6, 'b': 4.0, 'a': 2})\nCounter({'c': 9, 'b': 6.0, 'a': 3})\nCounter({'c': 18, 'b': 12.0, 'a': 6})\nCounter({'c': 3, 'b': 2.0, 'a': 1})\nCounter({'c': 6, 'b': 4.0, 'a': 2})\nCounter({'c': 9, 'b': 6.0, 'a': 3})\nCounter({'c': 18, 'b': 12.0, 'a': 6})\nCounter({'c': 3, 'b': 2.0, 'a': 1})\nCounter({'c': 6, 'b': 4.0, 'a': 2})\nCounter({'c': 9, 'b': 6.0, 'a': 3})\nCounter({'c': 18, 'b': 12.0, 'a': 6})\nCounter({'c': 3, 'b': 2.0, 'a': 1})\nCounter({'c': 6, 'b': 4.0, 'a': 2})\nCounter({'c': 9, 'b': 6.0, 'a': 3})\nCounter({'c': 18, 'b': 12.0, 'a': 6})\nCounter({'c': 3, 'b': 2.0, 'a': 1})\nCounter({'c': 6, 'b': 4.0, 'a': 2})\nCounter({'c': 9, 'b': 6.0, 'a': 3})\nCounter({'c': 18, 'b': 12.0, 'a': 6})\nCounter({'c': 3, 'b': 2.0, 'a': 1})\nCounter({'c': 6, 'b': 4.0, 'a': 2})\nCounter({'c': 9, 'b': 6.0, 'a': 3})\nCounter({'c': 18, 'b': 12.0, 'a': 6})\nCounter({'c': 3, 'b': 2.0, 'a': 1})\nCounter({'c': 6, 'b': 4.0, 'a': 2})\nCounter({'c': 9, 'b': 6.0, 'a': 3})\nCounter({'c': 18, 'b': 12.0, 'a': 6})\nCounter({'c': 3, 'b': 2.0, 'a': 1})\nCounter({'c': 6, 'b': 4.0, 'a': 2})\nCounter({'c': 9, 'b': 6.0, 'a': 3})\nCounter({'c': 18, 'b': 12.0, 'a': 6})\nCounter({'c': 3, 'b': 2.0, 'a': 1})\nCounter({'c': 6, 'b': 4.0, 'a': 2})\nCounter({'c': 9, 'b': 6.0, 'a': 3})\nCounter({'c': 18, 'b': 12.0, 'a': 6})\nCounter({'c': 3, 'b': 2.0, 'a': 1})\nCounter({'c': 6, 'b': 4.0, 'a': 2})\nCounter({'c': 9, 'b': 6.0, 'a': 3})\nCounter({'c': 18, 'b': 12.0, 'a': 6})\nCounter({'c': 3, 'b': 2.0, 'a': 1})\nCounter({'c': 6, 'b': 4.0, 'a': 2})\nCounter({'c': 9, 'b': 6.0, 'a': 3})\nCounter({'c': 18, 'b': 12.0, 'a': 6})\nCounter({'c': 3, 'b': 2.0, 'a': 1})\nCounter({'c': 6, 'b': 4.0, 'a': 2})\nCounter({'c': 9, 'b': 6.0, 'a': 3})\nCounter({'c': 18, 'b': 12.0, 'a': 6})\nCounter({'c': 3, 'b': 2.0, 'a': 1})\nCounter({'c': 6, 'b': 4.0, 'a': 2})\nCounter({'c': 9, 'b': 6.0, 'a': 3})\nCounter({'c': 18, 'b': 12.0, 'a': 6})\nCounter({'c': 3, 'b': 2.0, 'a': 1})\nCounter({'c': 6, 'b': 4.0, 'a': 2})\nCounter({'c': 9, 'b': 6.0, 'a': 3})\nCounter({'c': 18, 'b': 12.0, 'a': 6})\nCounter({'c': 3, 'b': 2.0, 'a': 1})\nCounter({'c': 6, 'b': 4.0, 'a': 2})\nCounter({'c': 9, 'b': 6.0, 'a': 3})\nCounter({'c': 18, 'b': 12.0, 'a': 6})\nCounter({'c': 3, 'b': 2.0, 'a': 1})\nCounter({'c': 6, 'b': 4.0, 'a': 2})\nCounter({'c': 9, 'b': 6.0, 'a': 3})\nCounter({'c': 18, 'b': 12.0, 'a': 6})\nCounter({'c': 3, 'b': 2.0, 'a': 1})\nCounter({'c': 6, 'b': 4.0, 'a': 2})\nCounter({'c': 9, 'b': 6.0, 'a': 3})\nCounter({'c': 18, 'b': 12.0, 'a': 6})\nCounter({'c': 3, 'b': 2.0, 'a': 1})\nCounter({'c': 6, 'b': 4.0, 'a': 2})\nCounter({'c': 9, 'b': 6.0, 'a': 3})\nCounter({'c': 18, 'b': 12.0, 'a': 6})\nCounter({'c': 3, 'b': 2.0, 'a': 1})\nCounter({'c': 6, 'b': 4.0, 'a': 2})\nCounter({'c': 9, 'b': 6.0, 'a': 3})\nCounter({'c': 18, 'b': 12.0, 'a': 6})\nCounter({'c': 3, 'b': 2.0, 'a': 1})\nCounter({'c': 6, 'b': 4.0, 'a': 2})\nCounter({'c': 9, 'b': 6.0, 'a': 3})\nCounter({'c': 18, 'b': 12.0, 'a': 6})\nCounter({'c': 3, 'b': 2.0, 'a': 1})\nCounter({'c': 6, 'b': 4.0, 'a': 2})\nCounter({'c': 9, 'b': 6.0, 'a': 3})\nCounter({'c': 18, 'b': 12.0, 'a': 6})\nCounter({'c': 3, 'b': 2.0, 'a': 1})\nCounter({'c': 6, 'b': 4.0, 'a': 2})\nCounter({'c': 9, 'b': 6.0, 'a': 3})\nCounter({'c': 18, 'b': 12.0, 'a': 6})\nCounter({'c': 3, 'b': 2.0, 'a': 1})\nCounter({'c': 6, 'b': 4.0, 'a': 2})\nCounter({'c': 9, 'b': 6.0, 'a': 3})\nCounter({'c': 18, 'b': 12.0, 'a': 6})\nCounter({'c': 3, 'b': 2.0, 'a': 1})\nCounter({'c': 6, 'b': 4.0, 'a': 2})\nCounter({'c': 9, 'b': 6.0, 'a': 3})\nCounter({'c': 18, 'b': 12.0, 'a': 6})\nCounter({'c': 3, 'b': 2.0, 'a': 1})\nCounter({'c': 6, 'b': 4.0, 'a': 2})\nCounter({'c': 9, 'b': 6.0, 'a': 3})\nCounter({'c': 18, 'b': 12.0, 'a': 6})\nCounter({'c': 3, 'b': 2.0, 'a': 1})\nCounter({'c': 6, 'b': 4.0, 'a': 2})\nCounter({'c': 9, 'b': 6.0, 'a': 3})\nCounter({'c': 18, 'b': 12.0, 'a': 6})\nCounter({'c': 3, 'b': 2.0, 'a': 1})\nCounter({'c': 6, 'b': 4.0, 'a': 2})\nCounter({'c': 9, 'b': 6.0, 'a': 3})\nCounter({'c': 18, 'b': 12.0, 'a': 6})\nCounter({'c': 3, 'b': 2.0, 'a': 1})\nCounter({'c': 6, 'b': 4.0, 'a': 2})\nCounter({'c': 9, 'b': 6.0, 'a': 3})\nCounter({'c': 18, 'b': 12.0, 'a': 6})\nCounter({'c': 3, 'b': 2.0, 'a': 1})\nCounter({'c': 6, 'b': 4.0, 'a': 2})\nCounter({'c': 9, 'b': 6.0, 'a': 3})\nCounter({'c': 18, 'b': 12.0, 'a': 6})\nCounter({'c': 3, 'b': 2.0, 'a': 1})\nCounter({'c': 6, 'b': 4.0, 'a': 2})\nCounter({'c': 9, 'b': 6.0, 'a': 3})\nCounter({'c': 18, 'b': 12.0, 'a': 6})\nCounter({'c': 3, 'b': 2.0, 'a': 1})\nCounter({'c': 6, 'b': 4.0, 'a': 2})\nCounter({'c': 9, 'b': 6.0, 'a': 3})\nCounter({'c': 18, 'b': 12.0, 'a': 6})\nCounter({'c': 3, 'b': 2.0, 'a': 1})\nCounter({'c': 6, 'b': 4.0, 'a': 2})\nCounter({'c': 9, 'b': 6.0, 'a': 3})\nCounter({'c': 18, 'b': 12.0, 'a': 6})\nCounter({'c': 3, 'b': 2.0, 'a': 1})\nCounter({'c': 6, 'b': 4.0, 'a': 2})\nCounter({'c': 9, 'b': 6.0, 'a': 3})\nCounter({'c': 18, 'b': 12.0, 'a': 6})\nCounter({'c': 3, 'b': 2.0, 'a': 1})\nCounter({'c': 6, 'b': 4.0, 'a': 2})\nCounter({'c': 9, 'b': 6.0, 'a': 3})\nCounter({'c': 18, 'b': 12.0, 'a': 6})\nCounter({'c': 3, 'b': 2.0, 'a': 1})\nCounter({'c': 6, 'b': 4.0, 'a': 2})\nCounter({'c': 9, 'b': 6.0, 'a': 3})\nCounter({'c': 18, 'b': 12.0, 'a': 6})\nCounter({'c': 3, 'b': 2.0, 'a': 1})\nCounter({'c': 6, 'b': 4.0, 'a': 2})\nCounter({'c': 9, 'b': 6.0, 'a': 3})\nCounter({'c': 18, 'b': 12.0, 'a': 6})\nCounter({'c': 3, 'b': 2.0, 'a': 1})\nCounter({'c': 6, 'b': 4.0, 'a': 2})\nCounter({'c': 9, 'b': 6.0, 'a': 3})\nCounter({'c': 18, 'b': 12.0, 'a': 6})\nCounter({'c': 3, 'b': 2.0, 'a': 1})\nCounter({'c': 6, 'b': 4.0, 'a': 2})\nCounter({'c': 9, 'b': 6.0, 'a': 3})\nCounter({'c': 18, 'b': 12.0, 'a': 6})\nCounter({'c': 3, 'b': 2.0, 'a': 1})\nCounter({'c': 6, 'b': 4.0, 'a': 2})\nCounter({'c': 9, 'b': 6.0, 'a': 3})\nCounter({'c': 18, 'b': 12.0, 'a': 6})\n506 µs ± 13.1 µs per loop (mean ± std. dev. of 7 runs, 1000 loops each)\n"
    }
   ],
   "source": [
    "%%timeit\n",
    "total = Counter({})\n",
    "for key, value in upper_dict.items():\n",
    "    total = total + Counter(value)\n",
    "    print(total)\n",
    ""
   ]
  },
  {
   "cell_type": "markdown",
   "metadata": {},
   "source": [
    "## Options 2: Manual"
   ]
  },
  {
   "cell_type": "code",
   "execution_count": 7,
   "metadata": {},
   "outputs": [],
   "source": [
    "import numpy as np"
   ]
  },
  {
   "cell_type": "code",
   "execution_count": 58,
   "metadata": {},
   "outputs": [
    {
     "output_type": "stream",
     "name": "stdout",
     "text": "{'d1': {'a': 6, 'b': -2.0, 'c': -3, 'd': 4}, 'd2': {'a': 6, 'b': -2.0, 'c': -3, 'd': nan}, 'd3': {'a': 6, 'b': -2.0, 'c': -3, 'd': nan}}\n"
    }
   ],
   "source": [
    "sample = {\"a\":6, \"b\":-2.0, \"c\":-3, \"d\": np.NaN}\n",
    "sample2 = {\"a\":6, \"b\":-2.0, \"c\":-3, \"d\": 4}\n",
    "upper_dict = {\"d1\":sample2, \"d2\":sample, \"d3\":sample}\n",
    "print(upper_dict)"
   ]
  },
  {
   "cell_type": "code",
   "execution_count": 59,
   "metadata": {},
   "outputs": [
    {
     "output_type": "execute_result",
     "data": {
      "text/plain": "{'a': 18, 'b': -6.0, 'c': -9, 'd': nan}"
     },
     "metadata": {},
     "execution_count": 59
    }
   ],
   "source": [
    "\n",
    "def nested_dict_counter(upper_dict):\n",
    "    total = {}\n",
    "    counter = 0\n",
    "    for key, inner_dict in upper_dict.items():\n",
    "        for ikey, value in inner_dict.items():\n",
    "            if counter == 0:\n",
    "                total[ikey] = value\n",
    "            else:\n",
    "                total[ikey] = total[ikey] + value\n",
    "        counter=+1\n",
    "    return total\n",
    "\n",
    "nested_dict_counter(upper_dict)"
   ]
  },
  {
   "cell_type": "code",
   "execution_count": 60,
   "metadata": {},
   "outputs": [
    {
     "output_type": "stream",
     "name": "stdout",
     "text": "{}\n"
    }
   ],
   "source": [
    "print(total)"
   ]
  },
  {
   "cell_type": "markdown",
   "metadata": {},
   "source": [
    "### Timeit"
   ]
  },
  {
   "cell_type": "code",
   "execution_count": 61,
   "metadata": {},
   "outputs": [
    {
     "output_type": "stream",
     "name": "stdout",
     "text": "1.73 µs ± 3.53 ns per loop (mean ± std. dev. of 7 runs, 1000000 loops each)\n"
    }
   ],
   "source": [
    "%%timeit\n",
    "nested_dict_counter(upper_dict)\n",
    ""
   ]
  },
  {
   "cell_type": "markdown",
   "metadata": {},
   "source": [
    "### Dataframes with Numpy"
   ]
  },
  {
   "cell_type": "code",
   "execution_count": 62,
   "metadata": {},
   "outputs": [],
   "source": [
    "import pandas as pd"
   ]
  },
  {
   "cell_type": "code",
   "execution_count": 63,
   "metadata": {},
   "outputs": [
    {
     "output_type": "execute_result",
     "data": {
      "text/plain": "   kpi1  kpi2\na    23   NaN\nb     1   4.0",
      "text/html": "<div>\n<style scoped>\n    .dataframe tbody tr th:only-of-type {\n        vertical-align: middle;\n    }\n\n    .dataframe tbody tr th {\n        vertical-align: top;\n    }\n\n    .dataframe thead th {\n        text-align: right;\n    }\n</style>\n<table border=\"1\" class=\"dataframe\">\n  <thead>\n    <tr style=\"text-align: right;\">\n      <th></th>\n      <th>kpi1</th>\n      <th>kpi2</th>\n    </tr>\n  </thead>\n  <tbody>\n    <tr>\n      <th>a</th>\n      <td>23</td>\n      <td>NaN</td>\n    </tr>\n    <tr>\n      <th>b</th>\n      <td>1</td>\n      <td>4.0</td>\n    </tr>\n  </tbody>\n</table>\n</div>"
     },
     "metadata": {},
     "execution_count": 63
    }
   ],
   "source": [
    "df = pd.DataFrame(data=[[23, np.NaN],[1,4]],columns=['kpi1','kpi2'], index=['a','b'])\n",
    "df.head()"
   ]
  },
  {
   "cell_type": "code",
   "execution_count": 64,
   "metadata": {},
   "outputs": [
    {
     "output_type": "execute_result",
     "data": {
      "text/plain": "{'kpi1': {'a': 23, 'b': 1}, 'kpi2': {'a': nan, 'b': 4.0}}"
     },
     "metadata": {},
     "execution_count": 64
    }
   ],
   "source": [
    "df.to_dict()"
   ]
  },
  {
   "cell_type": "markdown",
   "metadata": {},
   "source": [
    "### DataFrame to Dict accounting for Numpy"
   ]
  },
  {
   "cell_type": "code",
   "execution_count": 66,
   "metadata": {},
   "outputs": [
    {
     "output_type": "execute_result",
     "data": {
      "text/plain": "{'a': 18, 'b': -6.0, 'c': -9, 'd': 4.0}"
     },
     "metadata": {},
     "execution_count": 66
    }
   ],
   "source": [
    "def nested_dict_counter(upper_dict):\n",
    "    total = {}\n",
    "    counter = 0\n",
    "    for key, inner_dict in upper_dict.items():\n",
    "        for ikey, value in inner_dict.items():\n",
    "            if counter == 0:\n",
    "                total[ikey] = value\n",
    "            else:\n",
    "                 # total[ikey] = total[ikey] + value\n",
    "                total[ikey] = np.nansum(np.dstack((total[ikey],value)),2)[0][0]\n",
    "        counter=+1\n",
    "    return total\n",
    "\n",
    "nested_dict_counter(upper_dict)"
   ]
  },
  {
   "cell_type": "code",
   "execution_count": 65,
   "metadata": {},
   "outputs": [
    {
     "output_type": "execute_result",
     "data": {
      "text/plain": "{'d1': {'a': 6, 'b': -2.0, 'c': -3, 'd': 4},\n 'd2': {'a': 6, 'b': -2.0, 'c': -3, 'd': nan},\n 'd3': {'a': 6, 'b': -2.0, 'c': -3, 'd': nan}}"
     },
     "metadata": {},
     "execution_count": 65
    }
   ],
   "source": [
    "\n",
    "upper_dict"
   ]
  },
  {
   "cell_type": "code",
   "execution_count": 67,
   "metadata": {},
   "outputs": [
    {
     "output_type": "stream",
     "name": "stdout",
     "text": "133 µs ± 1.64 µs per loop (mean ± std. dev. of 7 runs, 10000 loops each)\n"
    }
   ],
   "source": [
    "%%timeit\n",
    "nested_dict_counter(upper_dict)"
   ]
  },
  {
   "cell_type": "markdown",
   "metadata": {},
   "source": [
    "Author: Kavi Sekhon"
   ]
  },
  {
   "cell_type": "markdown",
   "metadata": {},
   "source": [
    "### Adding a Total Columns"
   ]
  },
  {
   "cell_type": "code",
   "execution_count": 68,
   "metadata": {},
   "outputs": [
    {
     "output_type": "execute_result",
     "data": {
      "text/plain": "{'d1': {'a': 6, 'b': -2.0, 'c': -3, 'd': 4},\n 'd2': {'a': 6, 'b': -2.0, 'c': -3, 'd': nan},\n 'd3': {'a': 6, 'b': -2.0, 'c': -3, 'd': nan},\n 'all': {'a': 18, 'b': -6.0, 'c': -9, 'd': 4.0}}"
     },
     "metadata": {},
     "execution_count": 68
    }
   ],
   "source": [
    "def add_total_dict(upper_dict):\n",
    "\n",
    "    def nested_dict_counter(upper_dict):\n",
    "        total = {}\n",
    "        counter = 0\n",
    "        for key, inner_dict in upper_dict.items():\n",
    "            for ikey, value in inner_dict.items():\n",
    "                if counter == 0:\n",
    "                    total[ikey] = value\n",
    "                else:\n",
    "                    # total[ikey] = total[ikey] + value\n",
    "                    total[ikey] = np.nansum(np.dstack((total[ikey],value)),2)[0][0]\n",
    "            counter=+1\n",
    "        return total\n",
    "\n",
    "    total = nested_dict_counter(upper_dict)\n",
    "    upper_dict['all'] = total\n",
    "    return upper_dict\n",
    "\n",
    "add_total_dict(upper_dict)"
   ]
  },
  {
   "cell_type": "code",
   "execution_count": 71,
   "metadata": {},
   "outputs": [
    {
     "output_type": "stream",
     "name": "stdout",
     "text": "220 µs ± 15.4 µs per loop (mean ± std. dev. of 7 runs, 1000 loops each)\n"
    }
   ],
   "source": [
    "%%timeit\n",
    "add_total_dict(upper_dict)\n",
    ""
   ]
  }
 ]
}