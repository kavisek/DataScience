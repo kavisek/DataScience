{
 "nbformat": 4,
 "nbformat_minor": 2,
 "metadata": {
  "language_info": {
   "name": "python",
   "codemirror_mode": {
    "name": "ipython",
    "version": 3
   },
   "version": "3.7.6-final"
  },
  "orig_nbformat": 2,
  "file_extension": ".py",
  "mimetype": "text/x-python",
  "name": "python",
  "npconvert_exporter": "python",
  "pygments_lexer": "ipython3",
  "version": 3,
  "kernelspec": {
   "name": "python38264bit24f6d74303a9400da4107efaa871adef",
   "display_name": "Python 3.8.2 64-bit"
  }
 },
 "cells": [
  {
   "cell_type": "markdown",
   "metadata": {},
   "source": [
    "# Adding Nested Dictionaries"
   ]
  },
  {
   "cell_type": "code",
   "execution_count": 22,
   "metadata": {},
   "outputs": [
    {
     "output_type": "stream",
     "name": "stdout",
     "text": "{'d1': {'a': 1, 'b': 2.0, 'c': 3}, 'd2': {'a': 1, 'b': 2.0, 'c': 3}, 'd3': {'a': 1, 'b': 2.0, 'c': 3}}\n"
    }
   ],
   "source": [
    "sample = {\"a\":1, \"b\":2.0, \"c\":3}\n",
    "upper_dict = {\"d1\":sample, \"d2\":sample, \"d3\":sample}\n",
    "print(upper_dict)"
   ]
  },
  {
   "cell_type": "code",
   "execution_count": 28,
   "metadata": {
    "tags": [
     "outputPrepend",
     "outputPrepend",
     "outputPrepend",
     "outputPrepend",
     "outputPrepend",
     "outputPrepend",
     "outputPrepend",
     "outputPrepend",
     "outputPrepend",
     "outputPrepend",
     "outputPrepend",
     "outputPrepend",
     "outputPrepend",
     "outputPrepend",
     "outputPrepend",
     "outputPrepend",
     "outputPrepend",
     "outputPrepend",
     "outputPrepend",
     "outputPrepend",
     "outputPrepend"
    ]
   },
   "outputs": [
    {
     "output_type": "stream",
     "name": "stdout",
     "text": "Counter({'c': 3, 'b': 2.0, 'a': 1})\nCounter({'c': 6, 'b': 4.0, 'a': 2})\nCounter({'c': 9, 'b': 6.0, 'a': 3})\nCounter({'c': 18, 'b': 12.0, 'a': 6})\n"
    }
   ],
   "source": [
    "from collections import Counter\n",
    "total = Counter({})\n",
    "for key, value in upper_dict.items():\n",
    "    total = total + Counter(value)\n",
    "    print(total)\n",
    ""
   ]
  },
  {
   "cell_type": "code",
   "execution_count": 25,
   "metadata": {},
   "outputs": [
    {
     "output_type": "execute_result",
     "data": {
      "text/plain": "{'a': 3, 'b': 6.0, 'c': 9}"
     },
     "metadata": {},
     "execution_count": 25
    }
   ],
   "source": [
    "total = dict(total)\n",
    "total"
   ]
  },
  {
   "cell_type": "code",
   "execution_count": 26,
   "metadata": {},
   "outputs": [
    {
     "output_type": "execute_result",
     "data": {
      "text/plain": "{'d1': {'a': 1, 'b': 2.0, 'c': 3},\n 'd2': {'a': 1, 'b': 2.0, 'c': 3},\n 'd3': {'a': 1, 'b': 2.0, 'c': 3},\n 'all': {'a': 3, 'b': 6.0, 'c': 9}}"
     },
     "metadata": {},
     "execution_count": 26
    }
   ],
   "source": [
    "final_dict = upper_dict\n",
    "final_dict['all'] = total\n",
    "final_dict"
   ]
  },
  {
   "cell_type": "code",
   "execution_count": 27,
   "metadata": {},
   "outputs": [],
   "source": [
    "# This does not work if the number is negative "
   ]
  },
  {
   "cell_type": "markdown",
   "metadata": {},
   "source": [
    "### Timeit"
   ]
  },
  {
   "cell_type": "code",
   "execution_count": 29,
   "metadata": {
    "tags": [
     "outputPrepend",
     "outputPrepend",
     "outputPrepend",
     "outputPrepend",
     "outputPrepend",
     "outputPrepend",
     "outputPrepend",
     "outputPrepend",
     "outputPrepend",
     "outputPrepend",
     "outputPrepend",
     "outputPrepend",
     "outputPrepend",
     "outputPrepend",
     "outputPrepend",
     "outputPrepend",
     "outputPrepend",
     "outputPrepend",
     "outputPrepend",
     "outputPrepend",
     "outputPrepend"
    ]
   },
   "outputs": [
    {
     "output_type": "stream",
     "name": "stdout",
     "text": "unter({'c': 9, 'b': 6.0, 'a': 3})\nCounter({'c': 18, 'b': 12.0, 'a': 6})\nCounter({'c': 3, 'b': 2.0, 'a': 1})\nCounter({'c': 6, 'b': 4.0, 'a': 2})\nCounter({'c': 9, 'b': 6.0, 'a': 3})\nCounter({'c': 18, 'b': 12.0, 'a': 6})\nCounter({'c': 3, 'b': 2.0, 'a': 1})\nCounter({'c': 6, 'b': 4.0, 'a': 2})\nCounter({'c': 9, 'b': 6.0, 'a': 3})\nCounter({'c': 18, 'b': 12.0, 'a': 6})\nCounter({'c': 3, 'b': 2.0, 'a': 1})\nCounter({'c': 6, 'b': 4.0, 'a': 2})\nCounter({'c': 9, 'b': 6.0, 'a': 3})\nCounter({'c': 18, 'b': 12.0, 'a': 6})\nCounter({'c': 3, 'b': 2.0, 'a': 1})\nCounter({'c': 6, 'b': 4.0, 'a': 2})\nCounter({'c': 9, 'b': 6.0, 'a': 3})\nCounter({'c': 18, 'b': 12.0, 'a': 6})\nCounter({'c': 3, 'b': 2.0, 'a': 1})\nCounter({'c': 6, 'b': 4.0, 'a': 2})\nCounter({'c': 9, 'b': 6.0, 'a': 3})\nCounter({'c': 18, 'b': 12.0, 'a': 6})\nCounter({'c': 3, 'b': 2.0, 'a': 1})\nCounter({'c': 6, 'b': 4.0, 'a': 2})\nCounter({'c': 9, 'b': 6.0, 'a': 3})\nCounter({'c': 18, 'b': 12.0, 'a': 6})\nCounter({'c': 3, 'b': 2.0, 'a': 1})\nCounter({'c': 6, 'b': 4.0, 'a': 2})\nCounter({'c': 9, 'b': 6.0, 'a': 3})\nCounter({'c': 18, 'b': 12.0, 'a': 6})\nCounter({'c': 3, 'b': 2.0, 'a': 1})\nCounter({'c': 6, 'b': 4.0, 'a': 2})\nCounter({'c': 9, 'b': 6.0, 'a': 3})\nCounter({'c': 18, 'b': 12.0, 'a': 6})\nCounter({'c': 3, 'b': 2.0, 'a': 1})\nCounter({'c': 6, 'b': 4.0, 'a': 2})\nCounter({'c': 9, 'b': 6.0, 'a': 3})\nCounter({'c': 18, 'b': 12.0, 'a': 6})\nCounter({'c': 3, 'b': 2.0, 'a': 1})\nCounter({'c': 6, 'b': 4.0, 'a': 2})\nCounter({'c': 9, 'b': 6.0, 'a': 3})\nCounter({'c': 18, 'b': 12.0, 'a': 6})\nCounter({'c': 3, 'b': 2.0, 'a': 1})\nCounter({'c': 6, 'b': 4.0, 'a': 2})\nCounter({'c': 9, 'b': 6.0, 'a': 3})\nCounter({'c': 18, 'b': 12.0, 'a': 6})\nCounter({'c': 3, 'b': 2.0, 'a': 1})\nCounter({'c': 6, 'b': 4.0, 'a': 2})\nCounter({'c': 9, 'b': 6.0, 'a': 3})\nCounter({'c': 18, 'b': 12.0, 'a': 6})\nCounter({'c': 3, 'b': 2.0, 'a': 1})\nCounter({'c': 6, 'b': 4.0, 'a': 2})\nCounter({'c': 9, 'b': 6.0, 'a': 3})\nCounter({'c': 18, 'b': 12.0, 'a': 6})\nCounter({'c': 3, 'b': 2.0, 'a': 1})\nCounter({'c': 6, 'b': 4.0, 'a': 2})\nCounter({'c': 9, 'b': 6.0, 'a': 3})\nCounter({'c': 18, 'b': 12.0, 'a': 6})\nCounter({'c': 3, 'b': 2.0, 'a': 1})\nCounter({'c': 6, 'b': 4.0, 'a': 2})\nCounter({'c': 9, 'b': 6.0, 'a': 3})\nCounter({'c': 18, 'b': 12.0, 'a': 6})\nCounter({'c': 3, 'b': 2.0, 'a': 1})\nCounter({'c': 6, 'b': 4.0, 'a': 2})\nCounter({'c': 9, 'b': 6.0, 'a': 3})\nCounter({'c': 18, 'b': 12.0, 'a': 6})\nCounter({'c': 3, 'b': 2.0, 'a': 1})\nCounter({'c': 6, 'b': 4.0, 'a': 2})\nCounter({'c': 9, 'b': 6.0, 'a': 3})\nCounter({'c': 18, 'b': 12.0, 'a': 6})\nCounter({'c': 3, 'b': 2.0, 'a': 1})\nCounter({'c': 6, 'b': 4.0, 'a': 2})\nCounter({'c': 9, 'b': 6.0, 'a': 3})\nCounter({'c': 18, 'b': 12.0, 'a': 6})\nCounter({'c': 3, 'b': 2.0, 'a': 1})\nCounter({'c': 6, 'b': 4.0, 'a': 2})\nCounter({'c': 9, 'b': 6.0, 'a': 3})\nCounter({'c': 18, 'b': 12.0, 'a': 6})\nCounter({'c': 3, 'b': 2.0, 'a': 1})\nCounter({'c': 6, 'b': 4.0, 'a': 2})\nCounter({'c': 9, 'b': 6.0, 'a': 3})\nCounter({'c': 18, 'b': 12.0, 'a': 6})\nCounter({'c': 3, 'b': 2.0, 'a': 1})\nCounter({'c': 6, 'b': 4.0, 'a': 2})\nCounter({'c': 9, 'b': 6.0, 'a': 3})\nCounter({'c': 18, 'b': 12.0, 'a': 6})\nCounter({'c': 3, 'b': 2.0, 'a': 1})\nCounter({'c': 6, 'b': 4.0, 'a': 2})\nCounter({'c': 9, 'b': 6.0, 'a': 3})\nCounter({'c': 18, 'b': 12.0, 'a': 6})\nCounter({'c': 3, 'b': 2.0, 'a': 1})\nCounter({'c': 6, 'b': 4.0, 'a': 2})\nCounter({'c': 9, 'b': 6.0, 'a': 3})\nCounter({'c': 18, 'b': 12.0, 'a': 6})\nCounter({'c': 3, 'b': 2.0, 'a': 1})\nCounter({'c': 6, 'b': 4.0, 'a': 2})\nCounter({'c': 9, 'b': 6.0, 'a': 3})\nCounter({'c': 18, 'b': 12.0, 'a': 6})\nCounter({'c': 3, 'b': 2.0, 'a': 1})\nCounter({'c': 6, 'b': 4.0, 'a': 2})\nCounter({'c': 9, 'b': 6.0, 'a': 3})\nCounter({'c': 18, 'b': 12.0, 'a': 6})\nCounter({'c': 3, 'b': 2.0, 'a': 1})\nCounter({'c': 6, 'b': 4.0, 'a': 2})\nCounter({'c': 9, 'b': 6.0, 'a': 3})\nCounter({'c': 18, 'b': 12.0, 'a': 6})\nCounter({'c': 3, 'b': 2.0, 'a': 1})\nCounter({'c': 6, 'b': 4.0, 'a': 2})\nCounter({'c': 9, 'b': 6.0, 'a': 3})\nCounter({'c': 18, 'b': 12.0, 'a': 6})\nCounter({'c': 3, 'b': 2.0, 'a': 1})\nCounter({'c': 6, 'b': 4.0, 'a': 2})\nCounter({'c': 9, 'b': 6.0, 'a': 3})\nCounter({'c': 18, 'b': 12.0, 'a': 6})\nCounter({'c': 3, 'b': 2.0, 'a': 1})\nCounter({'c': 6, 'b': 4.0, 'a': 2})\nCounter({'c': 9, 'b': 6.0, 'a': 3})\nCounter({'c': 18, 'b': 12.0, 'a': 6})\nCounter({'c': 3, 'b': 2.0, 'a': 1})\nCounter({'c': 6, 'b': 4.0, 'a': 2})\nCounter({'c': 9, 'b': 6.0, 'a': 3})\nCounter({'c': 18, 'b': 12.0, 'a': 6})\nCounter({'c': 3, 'b': 2.0, 'a': 1})\nCounter({'c': 6, 'b': 4.0, 'a': 2})\nCounter({'c': 9, 'b': 6.0, 'a': 3})\nCounter({'c': 18, 'b': 12.0, 'a': 6})\nCounter({'c': 3, 'b': 2.0, 'a': 1})\nCounter({'c': 6, 'b': 4.0, 'a': 2})\nCounter({'c': 9, 'b': 6.0, 'a': 3})\nCounter({'c': 18, 'b': 12.0, 'a': 6})\nCounter({'c': 3, 'b': 2.0, 'a': 1})\nCounter({'c': 6, 'b': 4.0, 'a': 2})\nCounter({'c': 9, 'b': 6.0, 'a': 3})\nCounter({'c': 18, 'b': 12.0, 'a': 6})\nCounter({'c': 3, 'b': 2.0, 'a': 1})\nCounter({'c': 6, 'b': 4.0, 'a': 2})\nCounter({'c': 9, 'b': 6.0, 'a': 3})\nCounter({'c': 18, 'b': 12.0, 'a': 6})\nCounter({'c': 3, 'b': 2.0, 'a': 1})\nCounter({'c': 6, 'b': 4.0, 'a': 2})\nCounter({'c': 9, 'b': 6.0, 'a': 3})\nCounter({'c': 18, 'b': 12.0, 'a': 6})\nCounter({'c': 3, 'b': 2.0, 'a': 1})\nCounter({'c': 6, 'b': 4.0, 'a': 2})\nCounter({'c': 9, 'b': 6.0, 'a': 3})\nCounter({'c': 18, 'b': 12.0, 'a': 6})\nCounter({'c': 3, 'b': 2.0, 'a': 1})\nCounter({'c': 6, 'b': 4.0, 'a': 2})\nCounter({'c': 9, 'b': 6.0, 'a': 3})\nCounter({'c': 18, 'b': 12.0, 'a': 6})\nCounter({'c': 3, 'b': 2.0, 'a': 1})\nCounter({'c': 6, 'b': 4.0, 'a': 2})\nCounter({'c': 9, 'b': 6.0, 'a': 3})\nCounter({'c': 18, 'b': 12.0, 'a': 6})\nCounter({'c': 3, 'b': 2.0, 'a': 1})\nCounter({'c': 6, 'b': 4.0, 'a': 2})\nCounter({'c': 9, 'b': 6.0, 'a': 3})\nCounter({'c': 18, 'b': 12.0, 'a': 6})\nCounter({'c': 3, 'b': 2.0, 'a': 1})\nCounter({'c': 6, 'b': 4.0, 'a': 2})\nCounter({'c': 9, 'b': 6.0, 'a': 3})\nCounter({'c': 18, 'b': 12.0, 'a': 6})\nCounter({'c': 3, 'b': 2.0, 'a': 1})\nCounter({'c': 6, 'b': 4.0, 'a': 2})\nCounter({'c': 9, 'b': 6.0, 'a': 3})\nCounter({'c': 18, 'b': 12.0, 'a': 6})\nCounter({'c': 3, 'b': 2.0, 'a': 1})\nCounter({'c': 6, 'b': 4.0, 'a': 2})\nCounter({'c': 9, 'b': 6.0, 'a': 3})\nCounter({'c': 18, 'b': 12.0, 'a': 6})\nCounter({'c': 3, 'b': 2.0, 'a': 1})\nCounter({'c': 6, 'b': 4.0, 'a': 2})\nCounter({'c': 9, 'b': 6.0, 'a': 3})\nCounter({'c': 18, 'b': 12.0, 'a': 6})\nCounter({'c': 3, 'b': 2.0, 'a': 1})\nCounter({'c': 6, 'b': 4.0, 'a': 2})\nCounter({'c': 9, 'b': 6.0, 'a': 3})\nCounter({'c': 18, 'b': 12.0, 'a': 6})\nCounter({'c': 3, 'b': 2.0, 'a': 1})\nCounter({'c': 6, 'b': 4.0, 'a': 2})\nCounter({'c': 9, 'b': 6.0, 'a': 3})\nCounter({'c': 18, 'b': 12.0, 'a': 6})\nCounter({'c': 3, 'b': 2.0, 'a': 1})\nCounter({'c': 6, 'b': 4.0, 'a': 2})\nCounter({'c': 9, 'b': 6.0, 'a': 3})\nCounter({'c': 18, 'b': 12.0, 'a': 6})\nCounter({'c': 3, 'b': 2.0, 'a': 1})\nCounter({'c': 6, 'b': 4.0, 'a': 2})\nCounter({'c': 9, 'b': 6.0, 'a': 3})\nCounter({'c': 18, 'b': 12.0, 'a': 6})\nCounter({'c': 3, 'b': 2.0, 'a': 1})\nCounter({'c': 6, 'b': 4.0, 'a': 2})\nCounter({'c': 9, 'b': 6.0, 'a': 3})\nCounter({'c': 18, 'b': 12.0, 'a': 6})\nCounter({'c': 3, 'b': 2.0, 'a': 1})\nCounter({'c': 6, 'b': 4.0, 'a': 2})\nCounter({'c': 9, 'b': 6.0, 'a': 3})\nCounter({'c': 18, 'b': 12.0, 'a': 6})\nCounter({'c': 3, 'b': 2.0, 'a': 1})\nCounter({'c': 6, 'b': 4.0, 'a': 2})\nCounter({'c': 9, 'b': 6.0, 'a': 3})\nCounter({'c': 18, 'b': 12.0, 'a': 6})\nCounter({'c': 3, 'b': 2.0, 'a': 1})\nCounter({'c': 6, 'b': 4.0, 'a': 2})\nCounter({'c': 9, 'b': 6.0, 'a': 3})\nCounter({'c': 18, 'b': 12.0, 'a': 6})\nCounter({'c': 3, 'b': 2.0, 'a': 1})\nCounter({'c': 6, 'b': 4.0, 'a': 2})\nCounter({'c': 9, 'b': 6.0, 'a': 3})\nCounter({'c': 18, 'b': 12.0, 'a': 6})\nCounter({'c': 3, 'b': 2.0, 'a': 1})\nCounter({'c': 6, 'b': 4.0, 'a': 2})\nCounter({'c': 9, 'b': 6.0, 'a': 3})\nCounter({'c': 18, 'b': 12.0, 'a': 6})\nCounter({'c': 3, 'b': 2.0, 'a': 1})\nCounter({'c': 6, 'b': 4.0, 'a': 2})\nCounter({'c': 9, 'b': 6.0, 'a': 3})\nCounter({'c': 18, 'b': 12.0, 'a': 6})\nCounter({'c': 3, 'b': 2.0, 'a': 1})\nCounter({'c': 6, 'b': 4.0, 'a': 2})\nCounter({'c': 9, 'b': 6.0, 'a': 3})\nCounter({'c': 18, 'b': 12.0, 'a': 6})\nCounter({'c': 3, 'b': 2.0, 'a': 1})\nCounter({'c': 6, 'b': 4.0, 'a': 2})\nCounter({'c': 9, 'b': 6.0, 'a': 3})\nCounter({'c': 18, 'b': 12.0, 'a': 6})\nCounter({'c': 3, 'b': 2.0, 'a': 1})\nCounter({'c': 6, 'b': 4.0, 'a': 2})\nCounter({'c': 9, 'b': 6.0, 'a': 3})\nCounter({'c': 18, 'b': 12.0, 'a': 6})\nCounter({'c': 3, 'b': 2.0, 'a': 1})\nCounter({'c': 6, 'b': 4.0, 'a': 2})\nCounter({'c': 9, 'b': 6.0, 'a': 3})\nCounter({'c': 18, 'b': 12.0, 'a': 6})\nCounter({'c': 3, 'b': 2.0, 'a': 1})\nCounter({'c': 6, 'b': 4.0, 'a': 2})\nCounter({'c': 9, 'b': 6.0, 'a': 3})\nCounter({'c': 18, 'b': 12.0, 'a': 6})\nCounter({'c': 3, 'b': 2.0, 'a': 1})\nCounter({'c': 6, 'b': 4.0, 'a': 2})\nCounter({'c': 9, 'b': 6.0, 'a': 3})\nCounter({'c': 18, 'b': 12.0, 'a': 6})\nCounter({'c': 3, 'b': 2.0, 'a': 1})\nCounter({'c': 6, 'b': 4.0, 'a': 2})\nCounter({'c': 9, 'b': 6.0, 'a': 3})\nCounter({'c': 18, 'b': 12.0, 'a': 6})\nCounter({'c': 3, 'b': 2.0, 'a': 1})\nCounter({'c': 6, 'b': 4.0, 'a': 2})\nCounter({'c': 9, 'b': 6.0, 'a': 3})\nCounter({'c': 18, 'b': 12.0, 'a': 6})\nCounter({'c': 3, 'b': 2.0, 'a': 1})\nCounter({'c': 6, 'b': 4.0, 'a': 2})\nCounter({'c': 9, 'b': 6.0, 'a': 3})\nCounter({'c': 18, 'b': 12.0, 'a': 6})\nCounter({'c': 3, 'b': 2.0, 'a': 1})\nCounter({'c': 6, 'b': 4.0, 'a': 2})\nCounter({'c': 9, 'b': 6.0, 'a': 3})\nCounter({'c': 18, 'b': 12.0, 'a': 6})\nCounter({'c': 3, 'b': 2.0, 'a': 1})\nCounter({'c': 6, 'b': 4.0, 'a': 2})\nCounter({'c': 9, 'b': 6.0, 'a': 3})\nCounter({'c': 18, 'b': 12.0, 'a': 6})\nCounter({'c': 3, 'b': 2.0, 'a': 1})\nCounter({'c': 6, 'b': 4.0, 'a': 2})\nCounter({'c': 9, 'b': 6.0, 'a': 3})\nCounter({'c': 18, 'b': 12.0, 'a': 6})\nCounter({'c': 3, 'b': 2.0, 'a': 1})\nCounter({'c': 6, 'b': 4.0, 'a': 2})\nCounter({'c': 9, 'b': 6.0, 'a': 3})\nCounter({'c': 18, 'b': 12.0, 'a': 6})\nCounter({'c': 3, 'b': 2.0, 'a': 1})\nCounter({'c': 6, 'b': 4.0, 'a': 2})\nCounter({'c': 9, 'b': 6.0, 'a': 3})\nCounter({'c': 18, 'b': 12.0, 'a': 6})\nCounter({'c': 3, 'b': 2.0, 'a': 1})\nCounter({'c': 6, 'b': 4.0, 'a': 2})\nCounter({'c': 9, 'b': 6.0, 'a': 3})\nCounter({'c': 18, 'b': 12.0, 'a': 6})\nCounter({'c': 3, 'b': 2.0, 'a': 1})\nCounter({'c': 6, 'b': 4.0, 'a': 2})\nCounter({'c': 9, 'b': 6.0, 'a': 3})\nCounter({'c': 18, 'b': 12.0, 'a': 6})\nCounter({'c': 3, 'b': 2.0, 'a': 1})\nCounter({'c': 6, 'b': 4.0, 'a': 2})\nCounter({'c': 9, 'b': 6.0, 'a': 3})\nCounter({'c': 18, 'b': 12.0, 'a': 6})\nCounter({'c': 3, 'b': 2.0, 'a': 1})\nCounter({'c': 6, 'b': 4.0, 'a': 2})\nCounter({'c': 9, 'b': 6.0, 'a': 3})\nCounter({'c': 18, 'b': 12.0, 'a': 6})\nCounter({'c': 3, 'b': 2.0, 'a': 1})\nCounter({'c': 6, 'b': 4.0, 'a': 2})\nCounter({'c': 9, 'b': 6.0, 'a': 3})\nCounter({'c': 18, 'b': 12.0, 'a': 6})\nCounter({'c': 3, 'b': 2.0, 'a': 1})\nCounter({'c': 6, 'b': 4.0, 'a': 2})\nCounter({'c': 9, 'b': 6.0, 'a': 3})\nCounter({'c': 18, 'b': 12.0, 'a': 6})\nCounter({'c': 3, 'b': 2.0, 'a': 1})\nCounter({'c': 6, 'b': 4.0, 'a': 2})\nCounter({'c': 9, 'b': 6.0, 'a': 3})\nCounter({'c': 18, 'b': 12.0, 'a': 6})\nCounter({'c': 3, 'b': 2.0, 'a': 1})\nCounter({'c': 6, 'b': 4.0, 'a': 2})\nCounter({'c': 9, 'b': 6.0, 'a': 3})\nCounter({'c': 18, 'b': 12.0, 'a': 6})\nCounter({'c': 3, 'b': 2.0, 'a': 1})\nCounter({'c': 6, 'b': 4.0, 'a': 2})\nCounter({'c': 9, 'b': 6.0, 'a': 3})\nCounter({'c': 18, 'b': 12.0, 'a': 6})\nCounter({'c': 3, 'b': 2.0, 'a': 1})\nCounter({'c': 6, 'b': 4.0, 'a': 2})\nCounter({'c': 9, 'b': 6.0, 'a': 3})\nCounter({'c': 18, 'b': 12.0, 'a': 6})\nCounter({'c': 3, 'b': 2.0, 'a': 1})\nCounter({'c': 6, 'b': 4.0, 'a': 2})\nCounter({'c': 9, 'b': 6.0, 'a': 3})\nCounter({'c': 18, 'b': 12.0, 'a': 6})\nCounter({'c': 3, 'b': 2.0, 'a': 1})\nCounter({'c': 6, 'b': 4.0, 'a': 2})\nCounter({'c': 9, 'b': 6.0, 'a': 3})\nCounter({'c': 18, 'b': 12.0, 'a': 6})\nCounter({'c': 3, 'b': 2.0, 'a': 1})\nCounter({'c': 6, 'b': 4.0, 'a': 2})\nCounter({'c': 9, 'b': 6.0, 'a': 3})\nCounter({'c': 18, 'b': 12.0, 'a': 6})\nCounter({'c': 3, 'b': 2.0, 'a': 1})\nCounter({'c': 6, 'b': 4.0, 'a': 2})\nCounter({'c': 9, 'b': 6.0, 'a': 3})\nCounter({'c': 18, 'b': 12.0, 'a': 6})\nCounter({'c': 3, 'b': 2.0, 'a': 1})\nCounter({'c': 6, 'b': 4.0, 'a': 2})\nCounter({'c': 9, 'b': 6.0, 'a': 3})\nCounter({'c': 18, 'b': 12.0, 'a': 6})\nCounter({'c': 3, 'b': 2.0, 'a': 1})\nCounter({'c': 6, 'b': 4.0, 'a': 2})\nCounter({'c': 9, 'b': 6.0, 'a': 3})\nCounter({'c': 18, 'b': 12.0, 'a': 6})\nCounter({'c': 3, 'b': 2.0, 'a': 1})\nCounter({'c': 6, 'b': 4.0, 'a': 2})\nCounter({'c': 9, 'b': 6.0, 'a': 3})\nCounter({'c': 18, 'b': 12.0, 'a': 6})\nCounter({'c': 3, 'b': 2.0, 'a': 1})\nCounter({'c': 6, 'b': 4.0, 'a': 2})\nCounter({'c': 9, 'b': 6.0, 'a': 3})\nCounter({'c': 18, 'b': 12.0, 'a': 6})\nCounter({'c': 3, 'b': 2.0, 'a': 1})\nCounter({'c': 6, 'b': 4.0, 'a': 2})\nCounter({'c': 9, 'b': 6.0, 'a': 3})\nCounter({'c': 18, 'b': 12.0, 'a': 6})\nCounter({'c': 3, 'b': 2.0, 'a': 1})\nCounter({'c': 6, 'b': 4.0, 'a': 2})\nCounter({'c': 9, 'b': 6.0, 'a': 3})\nCounter({'c': 18, 'b': 12.0, 'a': 6})\nCounter({'c': 3, 'b': 2.0, 'a': 1})\nCounter({'c': 6, 'b': 4.0, 'a': 2})\nCounter({'c': 9, 'b': 6.0, 'a': 3})\nCounter({'c': 18, 'b': 12.0, 'a': 6})\nCounter({'c': 3, 'b': 2.0, 'a': 1})\nCounter({'c': 6, 'b': 4.0, 'a': 2})\nCounter({'c': 9, 'b': 6.0, 'a': 3})\nCounter({'c': 18, 'b': 12.0, 'a': 6})\nCounter({'c': 3, 'b': 2.0, 'a': 1})\nCounter({'c': 6, 'b': 4.0, 'a': 2})\nCounter({'c': 9, 'b': 6.0, 'a': 3})\nCounter({'c': 18, 'b': 12.0, 'a': 6})\nCounter({'c': 3, 'b': 2.0, 'a': 1})\nCounter({'c': 6, 'b': 4.0, 'a': 2})\nCounter({'c': 9, 'b': 6.0, 'a': 3})\nCounter({'c': 18, 'b': 12.0, 'a': 6})\nCounter({'c': 3, 'b': 2.0, 'a': 1})\nCounter({'c': 6, 'b': 4.0, 'a': 2})\nCounter({'c': 9, 'b': 6.0, 'a': 3})\nCounter({'c': 18, 'b': 12.0, 'a': 6})\nCounter({'c': 3, 'b': 2.0, 'a': 1})\nCounter({'c': 6, 'b': 4.0, 'a': 2})\nCounter({'c': 9, 'b': 6.0, 'a': 3})\nCounter({'c': 18, 'b': 12.0, 'a': 6})\nCounter({'c': 3, 'b': 2.0, 'a': 1})\nCounter({'c': 6, 'b': 4.0, 'a': 2})\nCounter({'c': 9, 'b': 6.0, 'a': 3})\nCounter({'c': 18, 'b': 12.0, 'a': 6})\nCounter({'c': 3, 'b': 2.0, 'a': 1})\nCounter({'c': 6, 'b': 4.0, 'a': 2})\nCounter({'c': 9, 'b': 6.0, 'a': 3})\nCounter({'c': 18, 'b': 12.0, 'a': 6})\nCounter({'c': 3, 'b': 2.0, 'a': 1})\nCounter({'c': 6, 'b': 4.0, 'a': 2})\nCounter({'c': 9, 'b': 6.0, 'a': 3})\nCounter({'c': 18, 'b': 12.0, 'a': 6})\nCounter({'c': 3, 'b': 2.0, 'a': 1})\nCounter({'c': 6, 'b': 4.0, 'a': 2})\nCounter({'c': 9, 'b': 6.0, 'a': 3})\nCounter({'c': 18, 'b': 12.0, 'a': 6})\nCounter({'c': 3, 'b': 2.0, 'a': 1})\nCounter({'c': 6, 'b': 4.0, 'a': 2})\nCounter({'c': 9, 'b': 6.0, 'a': 3})\nCounter({'c': 18, 'b': 12.0, 'a': 6})\nCounter({'c': 3, 'b': 2.0, 'a': 1})\nCounter({'c': 6, 'b': 4.0, 'a': 2})\nCounter({'c': 9, 'b': 6.0, 'a': 3})\nCounter({'c': 18, 'b': 12.0, 'a': 6})\nCounter({'c': 3, 'b': 2.0, 'a': 1})\nCounter({'c': 6, 'b': 4.0, 'a': 2})\nCounter({'c': 9, 'b': 6.0, 'a': 3})\nCounter({'c': 18, 'b': 12.0, 'a': 6})\nCounter({'c': 3, 'b': 2.0, 'a': 1})\nCounter({'c': 6, 'b': 4.0, 'a': 2})\nCounter({'c': 9, 'b': 6.0, 'a': 3})\nCounter({'c': 18, 'b': 12.0, 'a': 6})\nCounter({'c': 3, 'b': 2.0, 'a': 1})\nCounter({'c': 6, 'b': 4.0, 'a': 2})\nCounter({'c': 9, 'b': 6.0, 'a': 3})\nCounter({'c': 18, 'b': 12.0, 'a': 6})\nCounter({'c': 3, 'b': 2.0, 'a': 1})\nCounter({'c': 6, 'b': 4.0, 'a': 2})\nCounter({'c': 9, 'b': 6.0, 'a': 3})\nCounter({'c': 18, 'b': 12.0, 'a': 6})\nCounter({'c': 3, 'b': 2.0, 'a': 1})\nCounter({'c': 6, 'b': 4.0, 'a': 2})\nCounter({'c': 9, 'b': 6.0, 'a': 3})\nCounter({'c': 18, 'b': 12.0, 'a': 6})\nCounter({'c': 3, 'b': 2.0, 'a': 1})\nCounter({'c': 6, 'b': 4.0, 'a': 2})\nCounter({'c': 9, 'b': 6.0, 'a': 3})\nCounter({'c': 18, 'b': 12.0, 'a': 6})\nCounter({'c': 3, 'b': 2.0, 'a': 1})\nCounter({'c': 6, 'b': 4.0, 'a': 2})\nCounter({'c': 9, 'b': 6.0, 'a': 3})\nCounter({'c': 18, 'b': 12.0, 'a': 6})\nCounter({'c': 3, 'b': 2.0, 'a': 1})\nCounter({'c': 6, 'b': 4.0, 'a': 2})\nCounter({'c': 9, 'b': 6.0, 'a': 3})\nCounter({'c': 18, 'b': 12.0, 'a': 6})\nCounter({'c': 3, 'b': 2.0, 'a': 1})\nCounter({'c': 6, 'b': 4.0, 'a': 2})\nCounter({'c': 9, 'b': 6.0, 'a': 3})\nCounter({'c': 18, 'b': 12.0, 'a': 6})\nCounter({'c': 3, 'b': 2.0, 'a': 1})\nCounter({'c': 6, 'b': 4.0, 'a': 2})\nCounter({'c': 9, 'b': 6.0, 'a': 3})\nCounter({'c': 18, 'b': 12.0, 'a': 6})\nCounter({'c': 3, 'b': 2.0, 'a': 1})\nCounter({'c': 6, 'b': 4.0, 'a': 2})\nCounter({'c': 9, 'b': 6.0, 'a': 3})\nCounter({'c': 18, 'b': 12.0, 'a': 6})\nCounter({'c': 3, 'b': 2.0, 'a': 1})\nCounter({'c': 6, 'b': 4.0, 'a': 2})\nCounter({'c': 9, 'b': 6.0, 'a': 3})\nCounter({'c': 18, 'b': 12.0, 'a': 6})\nCounter({'c': 3, 'b': 2.0, 'a': 1})\nCounter({'c': 6, 'b': 4.0, 'a': 2})\nCounter({'c': 9, 'b': 6.0, 'a': 3})\nCounter({'c': 18, 'b': 12.0, 'a': 6})\nCounter({'c': 3, 'b': 2.0, 'a': 1})\nCounter({'c': 6, 'b': 4.0, 'a': 2})\nCounter({'c': 9, 'b': 6.0, 'a': 3})\nCounter({'c': 18, 'b': 12.0, 'a': 6})\nCounter({'c': 3, 'b': 2.0, 'a': 1})\nCounter({'c': 6, 'b': 4.0, 'a': 2})\nCounter({'c': 9, 'b': 6.0, 'a': 3})\nCounter({'c': 18, 'b': 12.0, 'a': 6})\nCounter({'c': 3, 'b': 2.0, 'a': 1})\nCounter({'c': 6, 'b': 4.0, 'a': 2})\nCounter({'c': 9, 'b': 6.0, 'a': 3})\nCounter({'c': 18, 'b': 12.0, 'a': 6})\nCounter({'c': 3, 'b': 2.0, 'a': 1})\nCounter({'c': 6, 'b': 4.0, 'a': 2})\nCounter({'c': 9, 'b': 6.0, 'a': 3})\nCounter({'c': 18, 'b': 12.0, 'a': 6})\nCounter({'c': 3, 'b': 2.0, 'a': 1})\nCounter({'c': 6, 'b': 4.0, 'a': 2})\nCounter({'c': 9, 'b': 6.0, 'a': 3})\nCounter({'c': 18, 'b': 12.0, 'a': 6})\nCounter({'c': 3, 'b': 2.0, 'a': 1})\nCounter({'c': 6, 'b': 4.0, 'a': 2})\nCounter({'c': 9, 'b': 6.0, 'a': 3})\nCounter({'c': 18, 'b': 12.0, 'a': 6})\nCounter({'c': 3, 'b': 2.0, 'a': 1})\nCounter({'c': 6, 'b': 4.0, 'a': 2})\nCounter({'c': 9, 'b': 6.0, 'a': 3})\nCounter({'c': 18, 'b': 12.0, 'a': 6})\nCounter({'c': 3, 'b': 2.0, 'a': 1})\nCounter({'c': 6, 'b': 4.0, 'a': 2})\nCounter({'c': 9, 'b': 6.0, 'a': 3})\nCounter({'c': 18, 'b': 12.0, 'a': 6})\nCounter({'c': 3, 'b': 2.0, 'a': 1})\nCounter({'c': 6, 'b': 4.0, 'a': 2})\nCounter({'c': 9, 'b': 6.0, 'a': 3})\nCounter({'c': 18, 'b': 12.0, 'a': 6})\nCounter({'c': 3, 'b': 2.0, 'a': 1})\nCounter({'c': 6, 'b': 4.0, 'a': 2})\nCounter({'c': 9, 'b': 6.0, 'a': 3})\nCounter({'c': 18, 'b': 12.0, 'a': 6})\nCounter({'c': 3, 'b': 2.0, 'a': 1})\nCounter({'c': 6, 'b': 4.0, 'a': 2})\nCounter({'c': 9, 'b': 6.0, 'a': 3})\nCounter({'c': 18, 'b': 12.0, 'a': 6})\nCounter({'c': 3, 'b': 2.0, 'a': 1})\nCounter({'c': 6, 'b': 4.0, 'a': 2})\nCounter({'c': 9, 'b': 6.0, 'a': 3})\nCounter({'c': 18, 'b': 12.0, 'a': 6})\nCounter({'c': 3, 'b': 2.0, 'a': 1})\nCounter({'c': 6, 'b': 4.0, 'a': 2})\nCounter({'c': 9, 'b': 6.0, 'a': 3})\nCounter({'c': 18, 'b': 12.0, 'a': 6})\nCounter({'c': 3, 'b': 2.0, 'a': 1})\nCounter({'c': 6, 'b': 4.0, 'a': 2})\nCounter({'c': 9, 'b': 6.0, 'a': 3})\nCounter({'c': 18, 'b': 12.0, 'a': 6})\nCounter({'c': 3, 'b': 2.0, 'a': 1})\nCounter({'c': 6, 'b': 4.0, 'a': 2})\nCounter({'c': 9, 'b': 6.0, 'a': 3})\nCounter({'c': 18, 'b': 12.0, 'a': 6})\nCounter({'c': 3, 'b': 2.0, 'a': 1})\nCounter({'c': 6, 'b': 4.0, 'a': 2})\nCounter({'c': 9, 'b': 6.0, 'a': 3})\nCounter({'c': 18, 'b': 12.0, 'a': 6})\nCounter({'c': 3, 'b': 2.0, 'a': 1})\nCounter({'c': 6, 'b': 4.0, 'a': 2})\nCounter({'c': 9, 'b': 6.0, 'a': 3})\nCounter({'c': 18, 'b': 12.0, 'a': 6})\nCounter({'c': 3, 'b': 2.0, 'a': 1})\nCounter({'c': 6, 'b': 4.0, 'a': 2})\nCounter({'c': 9, 'b': 6.0, 'a': 3})\nCounter({'c': 18, 'b': 12.0, 'a': 6})\nCounter({'c': 3, 'b': 2.0, 'a': 1})\nCounter({'c': 6, 'b': 4.0, 'a': 2})\nCounter({'c': 9, 'b': 6.0, 'a': 3})\nCounter({'c': 18, 'b': 12.0, 'a': 6})\nCounter({'c': 3, 'b': 2.0, 'a': 1})\nCounter({'c': 6, 'b': 4.0, 'a': 2})\nCounter({'c': 9, 'b': 6.0, 'a': 3})\nCounter({'c': 18, 'b': 12.0, 'a': 6})\nCounter({'c': 3, 'b': 2.0, 'a': 1})\nCounter({'c': 6, 'b': 4.0, 'a': 2})\nCounter({'c': 9, 'b': 6.0, 'a': 3})\nCounter({'c': 18, 'b': 12.0, 'a': 6})\nCounter({'c': 3, 'b': 2.0, 'a': 1})\nCounter({'c': 6, 'b': 4.0, 'a': 2})\nCounter({'c': 9, 'b': 6.0, 'a': 3})\nCounter({'c': 18, 'b': 12.0, 'a': 6})\nCounter({'c': 3, 'b': 2.0, 'a': 1})\nCounter({'c': 6, 'b': 4.0, 'a': 2})\nCounter({'c': 9, 'b': 6.0, 'a': 3})\nCounter({'c': 18, 'b': 12.0, 'a': 6})\n531 µs ± 13.1 µs per loop (mean ± std. dev. of 7 runs, 1000 loops each)\n"
    }
   ],
   "source": [
    "%%timeit\n",
    "total = Counter({})\n",
    "for key, value in upper_dict.items():\n",
    "    total = total + Counter(value)\n",
    "    print(total)\n",
    ""
   ]
  },
  {
   "cell_type": "markdown",
   "metadata": {},
   "source": [
    "## Options 2: Manual"
   ]
  },
  {
   "cell_type": "code",
   "execution_count": 30,
   "metadata": {},
   "outputs": [
    {
     "output_type": "stream",
     "name": "stdout",
     "text": "{'d1': {'a': 6, 'b': -2.0, 'c': -3}, 'd2': {'a': 6, 'b': -2.0, 'c': -3}, 'd3': {'a': 6, 'b': -2.0, 'c': -3}}\n"
    }
   ],
   "source": [
    "sample = {\"a\":6, \"b\":-2.0, \"c\":-3}\n",
    "upper_dict = {\"d1\":sample, \"d2\":sample, \"d3\":sample}\n",
    "print(upper_dict)"
   ]
  },
  {
   "cell_type": "code",
   "execution_count": 31,
   "metadata": {},
   "outputs": [],
   "source": [
    "total = {}\n",
    "counter = 0\n",
    "for key, inner_dict in upper_dict.items():\n",
    "    for ikey, value in inner_dict.items():\n",
    "        if counter == 0:\n",
    "            total[ikey] = value\n",
    "        else:\n",
    "            total[ikey] = total[ikey] + value\n",
    "    counter=+1"
   ]
  },
  {
   "cell_type": "code",
   "execution_count": 32,
   "metadata": {},
   "outputs": [
    {
     "output_type": "stream",
     "name": "stdout",
     "text": "{'a': 18, 'b': -6.0, 'c': -9}\n"
    }
   ],
   "source": [
    "print(total)"
   ]
  },
  {
   "cell_type": "markdown",
   "metadata": {},
   "source": [
    "### Timeit"
   ]
  },
  {
   "cell_type": "code",
   "execution_count": 33,
   "metadata": {},
   "outputs": [
    {
     "output_type": "stream",
     "name": "stdout",
     "text": "1.4 µs ± 15.3 ns per loop (mean ± std. dev. of 7 runs, 1000000 loops each)\n"
    }
   ],
   "source": [
    "%%timeit\n",
    "total = {}\n",
    "counter = 0\n",
    "for key, inner_dict in upper_dict.items():\n",
    "    for ikey, value in inner_dict.items():\n",
    "        if counter == 0:\n",
    "            total[ikey] = value\n",
    "        else:\n",
    "            total[ikey] = total[ikey] + value\n",
    "    counter=+1"
   ]
  },
  {
   "cell_type": "markdown",
   "metadata": {},
   "source": [
    "The customer function was faster. Great!"
   ]
  }
 ]
}