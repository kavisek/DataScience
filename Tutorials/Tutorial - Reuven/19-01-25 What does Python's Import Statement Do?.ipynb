{
 "cells": [
  {
   "cell_type": "markdown",
   "metadata": {},
   "source": [
    "### What dose Pythonos \"Import\" Statement do?"
   ]
  },
  {
   "cell_type": "code",
   "execution_count": 4,
   "metadata": {},
   "outputs": [
    {
     "name": "stdout",
     "output_type": "stream",
     "text": [
      "Hello from mymod.py!\n"
     ]
    }
   ],
   "source": [
    "import mymod"
   ]
  },
  {
   "cell_type": "markdown",
   "metadata": {},
   "source": [
    "n a Python program, Python goes and looks for the \"mymod\" module. Where does it look? In the search path, which is defined in the variable sys.path. I'll probably talk about sys.path in a future newsletter, but suffice it to say that this is a list of strings (directory and filenames) through which Python searches, one by one, until it finds our module (or a package directory) or gives up, raising an ImportError.  The first element in sys.path is \"\" (i.e., the empty string), meaning that Python will first look in the current directory.\n",
    "\n",
    "Once Python has found our module file (in our case, a file named \"mymod.py\"), it ... well, what does it do? Most Python developers figure that it loads the definitions in that file. But there's not really a separate run-time phase in Python. And there's no way to define variables without an actual assignment taking place. Nor can we define functions without a \"def\" being executed.\n",
    "\n",
    "Which means that when Python \"loads\" a module, what it really does is execute the code in that module's file. Because the module's code is executing, line by line, at runtime we can say:"
   ]
  },
  {
   "cell_type": "code",
   "execution_count": 5,
   "metadata": {},
   "outputs": [],
   "source": [
    "if __name__ == '_main_':\n",
    "    print('Hello World')"
   ]
  },
  {
   "cell_type": "markdown",
   "metadata": {},
   "source": [
    "When I say \"import mymod\", then it (1) prints out a greeting, (2) defines the global variable x as an integer, (3) defines the global variable \"hello\" as a function that takes one argument.  \"import\" then defines a variable \"mymod\", through whose attributes (mymod.x and mymod.hello) we can get to our variable and function.\n",
    "\n",
    "What if I execute \"import mymod\" again? It would seem that nothing happens; nothing is printed out. And indeed, it's true that the module's contents aren't executed a second time. That's on purpose, to ensure that if A imports B and B imports A, that you won't end up with an infinite loop.\n",
    "\n",
    "As a general rule, this is a good thing. But what if you're developing some code, and you're using \"mymod\" in your work. Do you really have to exit from Python and re-enter in order to see the changes?\n",
    "\n",
    "No, thanks to the built-in \"reload\" function. \"reload\" takes a module parameter, and forces Python to actually re-execute all of the lines in the module. So you can say:\n",
    "\n"
   ]
  },
  {
   "cell_type": "code",
   "execution_count": 7,
   "metadata": {},
   "outputs": [
    {
     "name": "stdout",
     "output_type": "stream",
     "text": [
      "Hello from mymod.py!\n"
     ]
    },
    {
     "data": {
      "text/plain": [
       "<module 'mymod' from '/Users/kavi/Documents/Science/Tutorials/Tutorial - Reuven/mymod.py'>"
      ]
     },
     "execution_count": 7,
     "metadata": {},
     "output_type": "execute_result"
    }
   ],
   "source": [
    "from importlib import reload\n",
    "reload(mymod)"
   ]
  },
  {
   "cell_type": "markdown",
   "metadata": {},
   "source": [
    "and if there's a \"print\" statement, you'll see it executed."
   ]
  },
  {
   "cell_type": "markdown",
   "metadata": {},
   "source": [
    "There is at least one, somewhat excessive, way to ensure that a module is reloaded: The sys.modules variable describes all of the modules that Python has loaded until now. The keys are the module names, and the values are the module objects themselves. If you erase a key-value pair, then that module's name and definition are lost, and you can then run \"import\" -- which will work, as if you hadn't ever loaded it before:\n"
   ]
  },
  {
   "cell_type": "code",
   "execution_count": 10,
   "metadata": {},
   "outputs": [],
   "source": [
    "import mymod"
   ]
  },
  {
   "cell_type": "code",
   "execution_count": 11,
   "metadata": {},
   "outputs": [],
   "source": [
    "import mymod\n",
    "import sys\n",
    "del(sys.modules['mymod'])"
   ]
  },
  {
   "cell_type": "code",
   "execution_count": 12,
   "metadata": {},
   "outputs": [
    {
     "name": "stdout",
     "output_type": "stream",
     "text": [
      "Hello from mymod.py!\n"
     ]
    }
   ],
   "source": [
    "import mymod"
   ]
  },
  {
   "cell_type": "markdown",
   "metadata": {},
   "source": [
    "The thing is, \"as\" always works. If you use \"import mymod\" a second time, then the module-loading part will only work once, by checking to see if your module's name is in sys.modules. But it will always define the module name.  Thus:"
   ]
  },
  {
   "cell_type": "code",
   "execution_count": 13,
   "metadata": {},
   "outputs": [],
   "source": [
    "import mymod"
   ]
  },
  {
   "cell_type": "code",
   "execution_count": 14,
   "metadata": {},
   "outputs": [
    {
     "data": {
      "text/plain": [
       "<module 'mymod' from '/Users/kavi/Documents/Science/Tutorials/Tutorial - Reuven/mymod.py'>"
      ]
     },
     "execution_count": 14,
     "metadata": {},
     "output_type": "execute_result"
    }
   ],
   "source": [
    "mymod"
   ]
  },
  {
   "cell_type": "code",
   "execution_count": 15,
   "metadata": {},
   "outputs": [],
   "source": [
    "del(mymod)"
   ]
  },
  {
   "cell_type": "code",
   "execution_count": 16,
   "metadata": {},
   "outputs": [
    {
     "ename": "NameError",
     "evalue": "name 'mymod' is not defined",
     "output_type": "error",
     "traceback": [
      "\u001b[0;31m---------------------------------------------------------------------------\u001b[0m",
      "\u001b[0;31mNameError\u001b[0m                                 Traceback (most recent call last)",
      "\u001b[0;32m<ipython-input-16-d4946878f0ef>\u001b[0m in \u001b[0;36m<module>\u001b[0;34m()\u001b[0m\n\u001b[0;32m----> 1\u001b[0;31m \u001b[0mmymod\u001b[0m\u001b[0;34m\u001b[0m\u001b[0m\n\u001b[0m",
      "\u001b[0;31mNameError\u001b[0m: name 'mymod' is not defined"
     ]
    }
   ],
   "source": [
    "mymod"
   ]
  },
  {
   "cell_type": "code",
   "execution_count": 17,
   "metadata": {},
   "outputs": [],
   "source": [
    "import mymod"
   ]
  },
  {
   "cell_type": "code",
   "execution_count": 18,
   "metadata": {},
   "outputs": [
    {
     "data": {
      "text/plain": [
       "<module 'mymod' from '/Users/kavi/Documents/Science/Tutorials/Tutorial - Reuven/mymod.py'>"
      ]
     },
     "execution_count": 18,
     "metadata": {},
     "output_type": "execute_result"
    }
   ],
   "source": [
    "mymod"
   ]
  },
  {
   "cell_type": "markdown",
   "metadata": {},
   "source": [
    "As you can see in the above code, I first import \"mymod\". Two things happen: (1) \"print\" in mymod.py is executed, and (2) the \"mymod\" variable is defined, of type \"module\".\n",
    "\n",
    "I then erase the \"mymod\" variable name, and import it again. But as you can see, the \"print\" doesn't take place. That's because the module is already loaded into memory, cached in sys.modules. All that \"import\" needs to do is assign the variable \"mymod\" to the module object.\n",
    "\n",
    "Thus, \"import\" will always work -- if by \"work\" you mean that it'll always create the alias.  However, loading only occurs once, unless you remove the module first, something that shouldn't happen in most code.\n",
    "\n",
    "Next time, I'll expand on this, talking about the \"from X import Y\" syntax.\n"
   ]
  },
  {
   "cell_type": "code",
   "execution_count": null,
   "metadata": {},
   "outputs": [],
   "source": []
  }
 ],
 "metadata": {
  "kernelspec": {
   "display_name": "Python 3",
   "language": "python",
   "name": "python3"
  },
  "language_info": {
   "codemirror_mode": {
    "name": "ipython",
    "version": 3
   },
   "file_extension": ".py",
   "mimetype": "text/x-python",
   "name": "python",
   "nbconvert_exporter": "python",
   "pygments_lexer": "ipython3",
   "version": "3.6.5"
  }
 },
 "nbformat": 4,
 "nbformat_minor": 2
}
