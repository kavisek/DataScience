{
 "cells": [
  {
   "cell_type": "markdown",
   "metadata": {},
   "source": [
    "# Using from X Import Y in Python"
   ]
  },
  {
   "cell_type": "code",
   "execution_count": null,
   "metadata": {},
   "outputs": [],
   "source": [
    "from X import Y"
   ]
  },
  {
   "cell_type": "code",
   "execution_count": null,
   "metadata": {},
   "outputs": [],
   "source": [
    "import foobar"
   ]
  },
  {
   "cell_type": "code",
   "execution_count": null,
   "metadata": {},
   "outputs": [],
   "source": [
    "from foobar import hello"
   ]
  },
  {
   "cell_type": "code",
   "execution_count": null,
   "metadata": {},
   "outputs": [],
   "source": [
    "from foobar import hello, x"
   ]
  },
  {
   "cell_type": "markdown",
   "metadata": {},
   "source": [
    "Note that I keep saying, \"the current namespace.\" That's because \"import\", like \"def\", is a way to define a variable. When you use \"def\", you're both creating a function object and setting a variable (the function name) to point to that function object.  And when you use \"import\", you're both creating a module object, and setting a variable (the module name) to point to that module object.\n",
    "\n",
    "But all variables can be global or local -- and modules are no different.  For example:"
   ]
  },
  {
   "cell_type": "code",
   "execution_count": 3,
   "metadata": {},
   "outputs": [
    {
     "ename": "NameError",
     "evalue": "name 'os' is not defined",
     "output_type": "error",
     "traceback": [
      "\u001b[0;31m---------------------------------------------------------------------------\u001b[0m",
      "\u001b[0;31mNameError\u001b[0m                                 Traceback (most recent call last)",
      "\u001b[0;32m<ipython-input-3-15f5e96fdb7b>\u001b[0m in \u001b[0;36m<module>\u001b[0;34m()\u001b[0m\n\u001b[0;32m----> 1\u001b[0;31m \u001b[0mos\u001b[0m\u001b[0;34m\u001b[0m\u001b[0m\n\u001b[0m",
      "\u001b[0;31mNameError\u001b[0m: name 'os' is not defined"
     ]
    }
   ],
   "source": [
    "os"
   ]
  },
  {
   "cell_type": "code",
   "execution_count": 4,
   "metadata": {},
   "outputs": [
    {
     "name": "stdout",
     "output_type": "stream",
     "text": [
      "/\n"
     ]
    }
   ],
   "source": [
    "def foo():\n",
    "    import os\n",
    "    print(os.sep)\n",
    "foo()"
   ]
  },
  {
   "cell_type": "code",
   "execution_count": 5,
   "metadata": {},
   "outputs": [
    {
     "ename": "NameError",
     "evalue": "name 'os' is not defined",
     "output_type": "error",
     "traceback": [
      "\u001b[0;31m---------------------------------------------------------------------------\u001b[0m",
      "\u001b[0;31mNameError\u001b[0m                                 Traceback (most recent call last)",
      "\u001b[0;32m<ipython-input-5-15f5e96fdb7b>\u001b[0m in \u001b[0;36m<module>\u001b[0;34m()\u001b[0m\n\u001b[0;32m----> 1\u001b[0;31m \u001b[0mos\u001b[0m\u001b[0;34m\u001b[0m\u001b[0m\n\u001b[0m",
      "\u001b[0;31mNameError\u001b[0m: name 'os' is not defined"
     ]
    }
   ],
   "source": [
    "os"
   ]
  },
  {
   "cell_type": "markdown",
   "metadata": {},
   "source": [
    "In the above code, we start off with \"os\" not being defined as a variable.  In the function \"foo\", we import the module \"os\", giving us access to its contents. However, the variable \"os\" is local to the function \"foo\", meaning that when the function returns, the variable is no longer available.\n",
    "\n",
    "I should note that while you can use an \"import\" statement anywhere, it's pretty rare in my experience to have it anywhere but at the global scope.\n",
    "\n",
    "In the case of \"from-import\", the imported variables are defined inside of the current namespace.  Once again, it's pretty rare to use it anywhere outside of the global scope.\n",
    "\n",
    "One oddity of \"from-import\" is that the module itself isn't defined. For example:"
   ]
  },
  {
   "cell_type": "code",
   "execution_count": 6,
   "metadata": {},
   "outputs": [
    {
     "data": {
      "text/plain": [
       "'/'"
      ]
     },
     "execution_count": 6,
     "metadata": {},
     "output_type": "execute_result"
    }
   ],
   "source": [
    "from os import sep\n",
    "sep"
   ]
  },
  {
   "cell_type": "code",
   "execution_count": 7,
   "metadata": {},
   "outputs": [
    {
     "ename": "SyntaxError",
     "evalue": "invalid syntax (<ipython-input-7-b8dec49073b8>, line 1)",
     "output_type": "error",
     "traceback": [
      "\u001b[0;36m  File \u001b[0;32m\"<ipython-input-7-b8dec49073b8>\"\u001b[0;36m, line \u001b[0;32m1\u001b[0m\n\u001b[0;31m    or\u001b[0m\n\u001b[0m     ^\u001b[0m\n\u001b[0;31mSyntaxError\u001b[0m\u001b[0;31m:\u001b[0m invalid syntax\n"
     ]
    }
   ],
   "source": [
    "or"
   ]
  },
  {
   "cell_type": "markdown",
   "metadata": {},
   "source": [
    "You are interested in importing specific names from the module, rather than the entire module.\n",
    "\n",
    "This raises the question of what happens when you execute \"from-import\". Is the entire module loaded?  Or does Python somehow just pick through the module file, grabbing only the values that are of interest?\n",
    "\n",
    "We can check this; here is the same simple module that we defined last week:"
   ]
  },
  {
   "cell_type": "code",
   "execution_count": 8,
   "metadata": {},
   "outputs": [
    {
     "name": "stdout",
     "output_type": "stream",
     "text": [
      "Hello from mymod.py!\n"
     ]
    }
   ],
   "source": [
    "from mymod import x, hello"
   ]
  },
  {
   "cell_type": "markdown",
   "metadata": {},
   "source": [
    "then what does Python do? The answer is that, as with \"import\", it executes the entire file, top to bottom. The only difference is that the variables named in the \"from-import\" statement are then aliased in the current namespace, and the module's name is not defined."
   ]
  },
  {
   "cell_type": "markdown",
   "metadata": {},
   "source": [
    "The module is still available in sys.modules, which means that the second time that you import it, the \"print\" statement is no longer executed:"
   ]
  },
  {
   "cell_type": "code",
   "execution_count": 9,
   "metadata": {},
   "outputs": [],
   "source": [
    "from mymod import hello"
   ]
  },
  {
   "cell_type": "code",
   "execution_count": 10,
   "metadata": {},
   "outputs": [
    {
     "data": {
      "text/plain": [
       "100"
      ]
     },
     "execution_count": 10,
     "metadata": {},
     "output_type": "execute_result"
    }
   ],
   "source": [
    "x"
   ]
  },
  {
   "cell_type": "code",
   "execution_count": 11,
   "metadata": {},
   "outputs": [
    {
     "ename": "NameError",
     "evalue": "name 'mymod' is not defined",
     "output_type": "error",
     "traceback": [
      "\u001b[0;31m---------------------------------------------------------------------------\u001b[0m",
      "\u001b[0;31mNameError\u001b[0m                                 Traceback (most recent call last)",
      "\u001b[0;32m<ipython-input-11-3833b062f204>\u001b[0m in \u001b[0;36m<module>\u001b[0;34m()\u001b[0m\n\u001b[0;32m----> 1\u001b[0;31m \u001b[0mmymod\u001b[0m\u001b[0;34m.\u001b[0m\u001b[0mx\u001b[0m\u001b[0;34m\u001b[0m\u001b[0m\n\u001b[0m",
      "\u001b[0;31mNameError\u001b[0m: name 'mymod' is not defined"
     ]
    }
   ],
   "source": [
    "mymod.x"
   ]
  },
  {
   "cell_type": "code",
   "execution_count": 12,
   "metadata": {},
   "outputs": [
    {
     "data": {
      "text/plain": [
       "100"
      ]
     },
     "execution_count": 12,
     "metadata": {},
     "output_type": "execute_result"
    }
   ],
   "source": [
    "import sys\n",
    "sys.modules['mymod'].x"
   ]
  },
  {
   "cell_type": "code",
   "execution_count": 14,
   "metadata": {},
   "outputs": [
    {
     "data": {
      "text/plain": [
       "100"
      ]
     },
     "execution_count": 14,
     "metadata": {},
     "output_type": "execute_result"
    }
   ],
   "source": [
    "from mymod import x\n",
    "x"
   ]
  },
  {
   "cell_type": "markdown",
   "metadata": {},
   "source": [
    "In the above code, we first load the \"hello\" functino from \"mymod\".  When \"from-import\" is executing, \"print\" in the module executes. We then see that \"x\", which is also defined in mymod, hasn't been defined in the local namespace.\n",
    "\n",
    "However, was \"x\" defined in the module? We can use sys.modules, which stores all of the modules imported into Python, to answer this question. And as we see above, it was definitely defined.\n",
    "\n",
    "So: \"from-import\" loads the entire module, and puts the module in sys.modules. It then creates aliases to the specified names in the local namespace.\n",
    "\n",
    "And if you're using \"from-import\" because you want to save memory, or don't want to load an entire module, that's obviously bad news.\n",
    "\n",
    "Now, many people use the following syntax:\n",
    "    `from mymod import *`\n",
    "I want to say this very clearly: Don't do this in your production code.  If it helps you while you're development, then power to you, and feel free. But doing this in production code is asking for trouble.\n",
    "\n",
    "The reason is that \"from-import\", as we've seen, defines variables in the local namespace.  When you say \"from import *\", you're saying that it would be totally OK for the module's variables to overwrite the variables that you have defined in the current namespace. In other words, if I say\n",
    "    `from mymod import *`\n",
    "and I previously had a variable named \"x\", then the new value of \"x\" will be based on the module's value.  Imagine upgrading to a new version of the module, and not noticing that it has an \"x\" variable.  Oops!\n",
    "\n",
    "I thus strongly suggest that you avoid using \"from-import-*\".  That said, it has a few interesting properties:\n",
    "\n",
    "For starters, \"from-import\" ignores names that start with an underscore (_) character.  Thus, if mymod.py is:"
   ]
  },
  {
   "cell_type": "code",
   "execution_count": null,
   "metadata": {},
   "outputs": [],
   "source": []
  }
 ],
 "metadata": {
  "kernelspec": {
   "display_name": "Python 3",
   "language": "python",
   "name": "python3"
  },
  "language_info": {
   "codemirror_mode": {
    "name": "ipython",
    "version": 3
   },
   "file_extension": ".py",
   "mimetype": "text/x-python",
   "name": "python",
   "nbconvert_exporter": "python",
   "pygments_lexer": "ipython3",
   "version": "3.6.5"
  }
 },
 "nbformat": 4,
 "nbformat_minor": 2
}
