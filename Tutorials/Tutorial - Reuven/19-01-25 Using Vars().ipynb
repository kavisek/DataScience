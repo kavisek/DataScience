{
 "cells": [
  {
   "cell_type": "markdown",
   "metadata": {},
   "source": [
    "# Using Vars()"
   ]
  },
  {
   "cell_type": "code",
   "execution_count": 3,
   "metadata": {},
   "outputs": [],
   "source": [
    "x = 100\n",
    "\n",
    "def foo(y):\n",
    "    z = 300\n",
    "    _secret = 400\n",
    "    print(vars())"
   ]
  },
  {
   "cell_type": "code",
   "execution_count": 4,
   "metadata": {},
   "outputs": [
    {
     "name": "stdout",
     "output_type": "stream",
     "text": [
      "{'_secret': 400, 'z': 300, 'y': 200}\n"
     ]
    }
   ],
   "source": [
    "foo(200)"
   ]
  },
  {
   "cell_type": "code",
   "execution_count": 8,
   "metadata": {},
   "outputs": [],
   "source": [
    "# Of course, if you use the \"global\" declaration in your function, \n",
    "# then a variable will by definition be global, rather than local, and won't show up when we call vars():\n",
    "\n",
    "def foo(y):\n",
    "    global z\n",
    "    z = 300\n",
    "    _secret = 400\n",
    "    print(vars())"
   ]
  },
  {
   "cell_type": "code",
   "execution_count": 9,
   "metadata": {},
   "outputs": [
    {
     "name": "stdout",
     "output_type": "stream",
     "text": [
      "{'_secret': 400, 'y': 200}\n"
     ]
    }
   ],
   "source": [
    "foo(200)"
   ]
  },
  {
   "cell_type": "code",
   "execution_count": 13,
   "metadata": {},
   "outputs": [
    {
     "name": "stdout",
     "output_type": "stream",
     "text": [
      "{'_secret': 400, 'z': 300, 'y': 200}\n"
     ]
    }
   ],
   "source": [
    "# What if you call locals() -- or vars() -- from outside of a \n",
    "# function?  By definition, there are no local variables in Python \n",
    "# outside of a function. But instead of throwing an error, you get \n",
    "# the same result as from calling globals(), which returns a \n",
    "# dictionary of global variables:\n",
    "\n",
    "x = 100\n",
    "\n",
    "def foo(y):\n",
    "    z = 300\n",
    "    _secret = 400\n",
    "    print(vars())\n",
    "\n",
    "foo(200)\n"
   ]
  },
  {
   "cell_type": "code",
   "execution_count": 14,
   "metadata": {},
   "outputs": [
    {
     "name": "stdout",
     "output_type": "stream",
     "text": [
      "Global vars()\n",
      "\tIn = ['', '# Using Vars()', 'x = 100\\n\\ndef foo(y):\\n    z = 300\\n    _secret = . 4000\\n    print(vars())', 'x = 100\\n\\ndef foo(y):\\n    z = 300\\n    _secret = 400\\n    print(vars())', 'foo(200)', 'x = 100\\n\\ndef foo(y):\\n    global z\\n    z = 300\\n    _secret = 400\\n    print(vars())', '# Of course, if you use the \"global\" declaration in your function, \\n# then a variable will by definition be global, rather than local, and won\\'t show up when we call vars():\\n\\ndef foo(y):\\n    global z\\n    z = 300\\n    _secret = 400\\n    print(vars())', 'foo(200)', '# Of course, if you use the \"global\" declaration in your function, \\n# then a variable will by definition be global, rather than local, and won\\'t show up when we call vars():\\n\\ndef foo(y):\\n    global z\\n    z = 300\\n    _secret = 400\\n    print(vars())', 'foo(200)', 'x = 100\\n\\ndef foo(y):\\n    z = 300\\n    _secret = 400\\n    print(vars())\\n\\nfoo(200)', 'print(\"Global vars()\")\\nfor key, value in sorted(vars().items()):\\n    print(\"\\\\t{0} = {1}\".format(key, value))', \"class Thing(object):\\n    def __init__(self, a, b):\\n        self.a = a\\n        self.b = b\\n        self._secret = 'shh'\\n\\nt = Thing(100, 200)\\nprint(vars(t))\", '# What if you call locals() -- or vars() -- from outside of a \\n# function?  By definition, there are no local variables in Python \\n# outside of a function. But instead of throwing an error, you get \\n# the same result as from calling globals(), which returns a \\n# dictionary of global variables:\\n\\nx = 100\\n\\ndef foo(y):\\n    z = 300\\n    _secret = 400\\n    print(vars())\\n\\nfoo(200)', 'print(\"Global vars()\")\\nfor key, value in sorted(vars().items()):\\n    print(\"\\\\t{0} = {1}\".format(key, value))']\n",
      "\tOut = {}\n",
      "\tThing = <class '__main__.Thing'>\n",
      "\t_ = \n",
      "\t__ = \n",
      "\t___ = \n",
      "\t__builtin__ = <module 'builtins' (built-in)>\n",
      "\t__builtins__ = <module 'builtins' (built-in)>\n",
      "\t__doc__ = Automatically created module for IPython interactive environment\n",
      "\t__loader__ = None\n",
      "\t__name__ = __main__\n",
      "\t__package__ = None\n",
      "\t__spec__ = None\n",
      "\t_dh = ['/Users/kavi/Documents/Science/Tutorials/Tutorial - Reuven']\n",
      "\t_i = # What if you call locals() -- or vars() -- from outside of a \n",
      "# function?  By definition, there are no local variables in Python \n",
      "# outside of a function. But instead of throwing an error, you get \n",
      "# the same result as from calling globals(), which returns a \n",
      "# dictionary of global variables:\n",
      "\n",
      "x = 100\n",
      "\n",
      "def foo(y):\n",
      "    z = 300\n",
      "    _secret = 400\n",
      "    print(vars())\n",
      "\n",
      "foo(200)\n",
      "\t_i1 = # Using Vars()\n",
      "\t_i10 = x = 100\n",
      "\n",
      "def foo(y):\n",
      "    z = 300\n",
      "    _secret = 400\n",
      "    print(vars())\n",
      "\n",
      "foo(200)\n",
      "\t_i11 = print(\"Global vars()\")\n",
      "for key, value in sorted(vars().items()):\n",
      "    print(\"\\t{0} = {1}\".format(key, value))\n",
      "\t_i12 = class Thing(object):\n",
      "    def __init__(self, a, b):\n",
      "        self.a = a\n",
      "        self.b = b\n",
      "        self._secret = 'shh'\n",
      "\n",
      "t = Thing(100, 200)\n",
      "print(vars(t))\n",
      "\t_i13 = # What if you call locals() -- or vars() -- from outside of a \n",
      "# function?  By definition, there are no local variables in Python \n",
      "# outside of a function. But instead of throwing an error, you get \n",
      "# the same result as from calling globals(), which returns a \n",
      "# dictionary of global variables:\n",
      "\n",
      "x = 100\n",
      "\n",
      "def foo(y):\n",
      "    z = 300\n",
      "    _secret = 400\n",
      "    print(vars())\n",
      "\n",
      "foo(200)\n",
      "\t_i14 = print(\"Global vars()\")\n",
      "for key, value in sorted(vars().items()):\n",
      "    print(\"\\t{0} = {1}\".format(key, value))\n",
      "\t_i2 = x = 100\n",
      "\n",
      "def foo(y):\n",
      "    z = 300\n",
      "    _secret = . 4000\n",
      "    print(vars())\n",
      "\t_i3 = x = 100\n",
      "\n",
      "def foo(y):\n",
      "    z = 300\n",
      "    _secret = 400\n",
      "    print(vars())\n",
      "\t_i4 = foo(200)\n",
      "\t_i5 = x = 100\n",
      "\n",
      "def foo(y):\n",
      "    global z\n",
      "    z = 300\n",
      "    _secret = 400\n",
      "    print(vars())\n",
      "\t_i6 = # Of course, if you use the \"global\" declaration in your function, \n",
      "# then a variable will by definition be global, rather than local, and won't show up when we call vars():\n",
      "\n",
      "def foo(y):\n",
      "    global z\n",
      "    z = 300\n",
      "    _secret = 400\n",
      "    print(vars())\n",
      "\t_i7 = foo(200)\n",
      "\t_i8 = # Of course, if you use the \"global\" declaration in your function, \n",
      "# then a variable will by definition be global, rather than local, and won't show up when we call vars():\n",
      "\n",
      "def foo(y):\n",
      "    global z\n",
      "    z = 300\n",
      "    _secret = 400\n",
      "    print(vars())\n",
      "\t_i9 = foo(200)\n",
      "\t_ih = ['', '# Using Vars()', 'x = 100\\n\\ndef foo(y):\\n    z = 300\\n    _secret = . 4000\\n    print(vars())', 'x = 100\\n\\ndef foo(y):\\n    z = 300\\n    _secret = 400\\n    print(vars())', 'foo(200)', 'x = 100\\n\\ndef foo(y):\\n    global z\\n    z = 300\\n    _secret = 400\\n    print(vars())', '# Of course, if you use the \"global\" declaration in your function, \\n# then a variable will by definition be global, rather than local, and won\\'t show up when we call vars():\\n\\ndef foo(y):\\n    global z\\n    z = 300\\n    _secret = 400\\n    print(vars())', 'foo(200)', '# Of course, if you use the \"global\" declaration in your function, \\n# then a variable will by definition be global, rather than local, and won\\'t show up when we call vars():\\n\\ndef foo(y):\\n    global z\\n    z = 300\\n    _secret = 400\\n    print(vars())', 'foo(200)', 'x = 100\\n\\ndef foo(y):\\n    z = 300\\n    _secret = 400\\n    print(vars())\\n\\nfoo(200)', 'print(\"Global vars()\")\\nfor key, value in sorted(vars().items()):\\n    print(\"\\\\t{0} = {1}\".format(key, value))', \"class Thing(object):\\n    def __init__(self, a, b):\\n        self.a = a\\n        self.b = b\\n        self._secret = 'shh'\\n\\nt = Thing(100, 200)\\nprint(vars(t))\", '# What if you call locals() -- or vars() -- from outside of a \\n# function?  By definition, there are no local variables in Python \\n# outside of a function. But instead of throwing an error, you get \\n# the same result as from calling globals(), which returns a \\n# dictionary of global variables:\\n\\nx = 100\\n\\ndef foo(y):\\n    z = 300\\n    _secret = 400\\n    print(vars())\\n\\nfoo(200)', 'print(\"Global vars()\")\\nfor key, value in sorted(vars().items()):\\n    print(\"\\\\t{0} = {1}\".format(key, value))']\n",
      "\t_ii = class Thing(object):\n",
      "    def __init__(self, a, b):\n",
      "        self.a = a\n",
      "        self.b = b\n",
      "        self._secret = 'shh'\n",
      "\n",
      "t = Thing(100, 200)\n",
      "print(vars(t))\n",
      "\t_iii = print(\"Global vars()\")\n",
      "for key, value in sorted(vars().items()):\n",
      "    print(\"\\t{0} = {1}\".format(key, value))\n",
      "\t_oh = {}\n",
      "\texit = <IPython.core.autocall.ZMQExitAutocall object at 0x10f507cc0>\n",
      "\tfoo = <function foo at 0x10f611d90>\n",
      "\tget_ipython = <bound method InteractiveShell.get_ipython of <ipykernel.zmqshell.ZMQInteractiveShell object at 0x10f4bb710>>\n",
      "\tkey = z\n",
      "\tquit = <IPython.core.autocall.ZMQExitAutocall object at 0x10f507cc0>\n",
      "\tt = <__main__.Thing object at 0x10f604828>\n",
      "\tvalue = 300\n",
      "\tx = 100\n",
      "\tz = 300\n"
     ]
    }
   ],
   "source": [
    "print(\"Global vars()\")\n",
    "for key, value in sorted(vars().items()):\n",
    "    print(\"\\t{0} = {1}\".format(key, value))"
   ]
  },
  {
   "cell_type": "code",
   "execution_count": 15,
   "metadata": {},
   "outputs": [
    {
     "name": "stdout",
     "output_type": "stream",
     "text": [
      "{'a': 100, 'b': 200, '_secret': 'shh'}\n"
     ]
    }
   ],
   "source": [
    "# Then there's the third use of vars(), which shows us the attributes\n",
    "# we've defined on an object.  You can actually use this version of \n",
    "# vars() with any object, although in my experience it's most common \n",
    "# to use it when debugging objects you have defined yourself. For \n",
    "# example:\n",
    "\n",
    "class Thing(object):\n",
    "    def __init__(self, a, b):\n",
    "        self.a = a\n",
    "        self.b = b\n",
    "        self._secret = 'shh'\n",
    "\n",
    "t = Thing(100, 200)\n",
    "print(vars(t))\n"
   ]
  }
 ],
 "metadata": {
  "kernelspec": {
   "display_name": "Python 3",
   "language": "python",
   "name": "python3"
  },
  "language_info": {
   "codemirror_mode": {
    "name": "ipython",
    "version": 3
   },
   "file_extension": ".py",
   "mimetype": "text/x-python",
   "name": "python",
   "nbconvert_exporter": "python",
   "pygments_lexer": "ipython3",
   "version": "3.6.5"
  }
 },
 "nbformat": 4,
 "nbformat_minor": 2
}
