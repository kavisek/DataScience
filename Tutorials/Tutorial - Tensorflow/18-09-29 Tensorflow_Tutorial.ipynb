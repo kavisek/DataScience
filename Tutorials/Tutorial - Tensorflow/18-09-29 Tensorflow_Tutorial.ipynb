{
  "nbformat": 4,
  "nbformat_minor": 0,
  "metadata": {
    "colab": {
      "name": "Tensorflow Tutorial.ipynb",
      "version": "0.3.2",
      "provenance": []
    },
    "kernelspec": {
      "name": "python3",
      "display_name": "Python 3"
    }
  },
  "cells": [
    {
      "metadata": {
        "id": "3LResboHD8-i",
        "colab_type": "text"
      },
      "cell_type": "markdown",
      "source": [
        "# Tensorflow Tutorial\n"
      ]
    },
    {
      "metadata": {
        "id": "ZQPVzpeGEIy0",
        "colab_type": "code",
        "colab": {
          "base_uri": "https://localhost:8080/",
          "height": 221
        },
        "outputId": "828d24a8-df92-494e-8b9d-6f6281bdbfe7"
      },
      "cell_type": "code",
      "source": [
        "import tensorflow as tf\n",
        "mnist = tf.keras.datasets.mnist\n",
        "\n",
        "(x_train, y_train),(x_test, y_test) = mnist.load_data()\n",
        "x_train, x_test = x_train / 255.0, x_test / 255.0\n",
        "\n",
        "model = tf.keras.models.Sequential([\n",
        "  tf.keras.layers.Flatten(),\n",
        "  tf.keras.layers.Dense(512, activation=tf.nn.relu),\n",
        "  tf.keras.layers.Dropout(0.2),\n",
        "  tf.keras.layers.Dense(10, activation=tf.nn.softmax)\n",
        "])\n",
        "model.compile(optimizer='adam',\n",
        "              loss='sparse_categorical_crossentropy',\n",
        "              metrics=['accuracy'])\n",
        "\n",
        "model.fit(x_train, y_train, epochs=5)\n",
        "model.evaluate(x_test, y_test)\n"
      ],
      "execution_count": 125,
      "outputs": [
        {
          "output_type": "stream",
          "text": [
            "Epoch 1/5\n",
            "60000/60000 [==============================] - 17s 287us/step - loss: 0.2038 - acc: 0.9407\n",
            "Epoch 2/5\n",
            "60000/60000 [==============================] - 19s 313us/step - loss: 0.0789 - acc: 0.9760\n",
            "Epoch 3/5\n",
            "60000/60000 [==============================] - 17s 281us/step - loss: 0.0506 - acc: 0.9844\n",
            "Epoch 4/5\n",
            "60000/60000 [==============================] - 17s 279us/step - loss: 0.0370 - acc: 0.9881\n",
            "Epoch 5/5\n",
            "60000/60000 [==============================] - 17s 276us/step - loss: 0.0273 - acc: 0.9912\n",
            "10000/10000 [==============================] - 1s 112us/step\n"
          ],
          "name": "stdout"
        },
        {
          "output_type": "execute_result",
          "data": {
            "text/plain": [
              "[0.06298007403314114, 0.9814]"
            ]
          },
          "metadata": {
            "tags": []
          },
          "execution_count": 125
        }
      ]
    },
    {
      "metadata": {
        "id": "VHRDisprEt6V",
        "colab_type": "code",
        "colab": {
          "base_uri": "https://localhost:8080/",
          "height": 34
        },
        "outputId": "d4a415f9-1fb8-44e9-f617-a052c3fe4fd5"
      },
      "cell_type": "code",
      "source": [
        "x_train.shape, y_train.shape"
      ],
      "execution_count": 5,
      "outputs": [
        {
          "output_type": "execute_result",
          "data": {
            "text/plain": [
              "((60000, 28, 28), (60000,))"
            ]
          },
          "metadata": {
            "tags": []
          },
          "execution_count": 5
        }
      ]
    },
    {
      "metadata": {
        "id": "UJaMoprLFGZU",
        "colab_type": "code",
        "colab": {}
      },
      "cell_type": "code",
      "source": [
        "(x_train, y_train),(x_test, y_test) = mnist.load_data()"
      ],
      "execution_count": 0,
      "outputs": []
    },
    {
      "metadata": {
        "id": "mtDo378QFMTA",
        "colab_type": "code",
        "colab": {}
      },
      "cell_type": "code",
      "source": [
        "x_train, x_test = x_train / 255.0, x_test / 255.0"
      ],
      "execution_count": 0,
      "outputs": []
    },
    {
      "metadata": {
        "id": "WDpFZRQAFOvn",
        "colab_type": "code",
        "colab": {
          "base_uri": "https://localhost:8080/",
          "height": 34
        },
        "outputId": "00254f71-5933-46a6-9f81-067bd114b1d9"
      },
      "cell_type": "code",
      "source": [
        "x_train.shape, y_train.shape"
      ],
      "execution_count": 7,
      "outputs": [
        {
          "output_type": "execute_result",
          "data": {
            "text/plain": [
              "((60000, 28, 28), (60000,))"
            ]
          },
          "metadata": {
            "tags": []
          },
          "execution_count": 7
        }
      ]
    },
    {
      "metadata": {
        "id": "1oVyCD-9Fugr",
        "colab_type": "text"
      },
      "cell_type": "markdown",
      "source": [
        "# Basic Classification"
      ]
    },
    {
      "metadata": {
        "id": "xvPLGaCnF1vw",
        "colab_type": "code",
        "colab": {
          "base_uri": "https://localhost:8080/",
          "height": 34
        },
        "outputId": "32f8d14e-4d9f-43f9-90ac-1eed7b641bdc"
      },
      "cell_type": "code",
      "source": [
        "# TensorFlow and tf.keras\n",
        "import tensorflow as tf\n",
        "from tensorflow import keras\n",
        "\n",
        "# Helper libraries\n",
        "import numpy as np\n",
        "import matplotlib.pyplot as plt\n",
        "\n",
        "print(tf.__version__)"
      ],
      "execution_count": 8,
      "outputs": [
        {
          "output_type": "stream",
          "text": [
            "1.11.0-rc2\n"
          ],
          "name": "stdout"
        }
      ]
    },
    {
      "metadata": {
        "id": "xK3Ihu-IF6FS",
        "colab_type": "code",
        "colab": {
          "base_uri": "https://localhost:8080/",
          "height": 153
        },
        "outputId": "4637952f-1dba-420e-e8ab-bf97e837370e"
      },
      "cell_type": "code",
      "source": [
        "fashion_mnist = keras.datasets.fashion_mnist\n",
        "\n",
        "(train_images, train_labels), (test_images, test_labels) = fashion_mnist.load_data()"
      ],
      "execution_count": 9,
      "outputs": [
        {
          "output_type": "stream",
          "text": [
            "Downloading data from https://storage.googleapis.com/tensorflow/tf-keras-datasets/train-labels-idx1-ubyte.gz\n",
            "32768/29515 [=================================] - 0s 0us/step\n",
            "Downloading data from https://storage.googleapis.com/tensorflow/tf-keras-datasets/train-images-idx3-ubyte.gz\n",
            "26427392/26421880 [==============================] - 0s 0us/step\n",
            "Downloading data from https://storage.googleapis.com/tensorflow/tf-keras-datasets/t10k-labels-idx1-ubyte.gz\n",
            "8192/5148 [===============================================] - 0s 0us/step\n",
            "Downloading data from https://storage.googleapis.com/tensorflow/tf-keras-datasets/t10k-images-idx3-ubyte.gz\n",
            "4423680/4422102 [==============================] - 0s 0us/step\n"
          ],
          "name": "stdout"
        }
      ]
    },
    {
      "metadata": {
        "id": "znSVeaCWF9hu",
        "colab_type": "code",
        "colab": {}
      },
      "cell_type": "code",
      "source": [
        "class_names = ['T-shirt/top', 'Trouser', 'Pullover', 'Dress', 'Coat', \n",
        "               'Sandal', 'Shirt', 'Sneaker', 'Bag', 'Ankle boot']"
      ],
      "execution_count": 0,
      "outputs": []
    },
    {
      "metadata": {
        "id": "pBeoK_jQGBS2",
        "colab_type": "code",
        "colab": {
          "base_uri": "https://localhost:8080/",
          "height": 34
        },
        "outputId": "e4663a74-fe6b-4a14-f5a2-7c6caf5df909"
      },
      "cell_type": "code",
      "source": [
        "train_images.shape"
      ],
      "execution_count": 11,
      "outputs": [
        {
          "output_type": "execute_result",
          "data": {
            "text/plain": [
              "(60000, 28, 28)"
            ]
          },
          "metadata": {
            "tags": []
          },
          "execution_count": 11
        }
      ]
    },
    {
      "metadata": {
        "id": "EvKTbDozGC0v",
        "colab_type": "code",
        "colab": {
          "base_uri": "https://localhost:8080/",
          "height": 34
        },
        "outputId": "5a971489-b271-43c8-a43c-6670f6863a0d"
      },
      "cell_type": "code",
      "source": [
        "len(train_labels)"
      ],
      "execution_count": 13,
      "outputs": [
        {
          "output_type": "execute_result",
          "data": {
            "text/plain": [
              "60000"
            ]
          },
          "metadata": {
            "tags": []
          },
          "execution_count": 13
        }
      ]
    },
    {
      "metadata": {
        "id": "1gSVChrDGET2",
        "colab_type": "code",
        "colab": {
          "base_uri": "https://localhost:8080/",
          "height": 34
        },
        "outputId": "a1ba852e-c9b3-4ff4-b023-eaabb6f255e6"
      },
      "cell_type": "code",
      "source": [
        "train_labels"
      ],
      "execution_count": 14,
      "outputs": [
        {
          "output_type": "execute_result",
          "data": {
            "text/plain": [
              "array([9, 0, 0, ..., 3, 0, 5], dtype=uint8)"
            ]
          },
          "metadata": {
            "tags": []
          },
          "execution_count": 14
        }
      ]
    },
    {
      "metadata": {
        "id": "HDrcNiT7GIZ2",
        "colab_type": "code",
        "colab": {
          "base_uri": "https://localhost:8080/",
          "height": 34
        },
        "outputId": "bbb2e12f-673c-4fe6-b3a9-1d035650aed9"
      },
      "cell_type": "code",
      "source": [
        "test_images.shape"
      ],
      "execution_count": 15,
      "outputs": [
        {
          "output_type": "execute_result",
          "data": {
            "text/plain": [
              "(10000, 28, 28)"
            ]
          },
          "metadata": {
            "tags": []
          },
          "execution_count": 15
        }
      ]
    },
    {
      "metadata": {
        "id": "pjIdXOBvGKRQ",
        "colab_type": "code",
        "colab": {
          "base_uri": "https://localhost:8080/",
          "height": 34
        },
        "outputId": "2017c87c-eeac-43c5-fa69-e4cad4b3fa95"
      },
      "cell_type": "code",
      "source": [
        "len(test_labels)"
      ],
      "execution_count": 17,
      "outputs": [
        {
          "output_type": "execute_result",
          "data": {
            "text/plain": [
              "10000"
            ]
          },
          "metadata": {
            "tags": []
          },
          "execution_count": 17
        }
      ]
    },
    {
      "metadata": {
        "id": "JKrO1kO-GPgV",
        "colab_type": "code",
        "colab": {
          "base_uri": "https://localhost:8080/",
          "height": 347
        },
        "outputId": "70022fb9-2fc7-4646-fa16-5cdb7c96daba"
      },
      "cell_type": "code",
      "source": [
        "plt.figure()\n",
        "plt.imshow(train_images[0])\n",
        "plt.colorbar()\n",
        "plt.grid(False)"
      ],
      "execution_count": 18,
      "outputs": [
        {
          "output_type": "display_data",
          "data": {
            "image/png": "[encoded data removed]",
            "text/plain": [
              "<matplotlib.figure.Figure at 0x7ff6abc56240>"
            ]
          },
          "metadata": {
            "tags": []
          }
        }
      ]
    },
    {
      "metadata": {
        "id": "P7hj5WVqGQGs",
        "colab_type": "code",
        "colab": {}
      },
      "cell_type": "code",
      "source": [
        "train_images = train_images / 255.0"
      ],
      "execution_count": 0,
      "outputs": []
    },
    {
      "metadata": {
        "id": "uCxgn_-UGXI6",
        "colab_type": "code",
        "colab": {}
      },
      "cell_type": "code",
      "source": [
        "test_images = test_images / 255.0"
      ],
      "execution_count": 0,
      "outputs": []
    },
    {
      "metadata": {
        "id": "IX64W_0AGYTC",
        "colab_type": "code",
        "colab": {
          "base_uri": "https://localhost:8080/",
          "height": 589
        },
        "outputId": "4844da5f-c0b6-454e-9bbc-dcc6a5564cf4"
      },
      "cell_type": "code",
      "source": [
        "plt.figure(figsize=(10,10))\n",
        "for i in range(25):\n",
        "    plt.subplot(5,5,i+1)\n",
        "    plt.xticks([])\n",
        "    plt.yticks([])\n",
        "    plt.grid(False)\n",
        "    plt.imshow(train_images[i], cmap=plt.cm.binary)\n",
        "    plt.xlabel(class_names[train_labels[i]])"
      ],
      "execution_count": 21,
      "outputs": [
        {
          "output_type": "display_data",
          "data": {
            "image/png": "[encoded data removed]",
            "text/plain": [
              "<matplotlib.figure.Figure at 0x7ff69ce05320>"
            ]
          },
          "metadata": {
            "tags": []
          }
        }
      ]
    },
    {
      "metadata": {
        "id": "8RMN2ykEGZux",
        "colab_type": "code",
        "colab": {}
      },
      "cell_type": "code",
      "source": [
        "model = keras.Sequential([\n",
        "    keras.layers.Flatten(input_shape=(28, 28)),\n",
        "    keras.layers.Dense(128, activation=tf.nn.relu),\n",
        "    keras.layers.Dense(10, activation=tf.nn.softmax)\n",
        "])"
      ],
      "execution_count": 0,
      "outputs": []
    },
    {
      "metadata": {
        "id": "HwbOC-jEGgFY",
        "colab_type": "code",
        "colab": {}
      },
      "cell_type": "code",
      "source": [
        "model.compile(optimizer=tf.train.AdamOptimizer(), \n",
        "              loss='sparse_categorical_crossentropy',\n",
        "              metrics=['accuracy'])"
      ],
      "execution_count": 0,
      "outputs": []
    },
    {
      "metadata": {
        "id": "aIOmwca8Gi4H",
        "colab_type": "code",
        "colab": {
          "base_uri": "https://localhost:8080/",
          "height": 204
        },
        "outputId": "aa9b0e72-1167-4757-8121-cb4b327e04d1"
      },
      "cell_type": "code",
      "source": [
        "model.fit(train_images, train_labels, epochs=5)"
      ],
      "execution_count": 24,
      "outputs": [
        {
          "output_type": "stream",
          "text": [
            "Epoch 1/5\n",
            "60000/60000 [==============================] - 5s 76us/step - loss: 0.4959 - acc: 0.8266\n",
            "Epoch 2/5\n",
            "60000/60000 [==============================] - 4s 70us/step - loss: 0.3757 - acc: 0.8633\n",
            "Epoch 3/5\n",
            "60000/60000 [==============================] - 5s 77us/step - loss: 0.3356 - acc: 0.8774\n",
            "Epoch 4/5\n",
            "60000/60000 [==============================] - 5s 81us/step - loss: 0.3119 - acc: 0.8849\n",
            "Epoch 5/5\n",
            "60000/60000 [==============================] - 5s 76us/step - loss: 0.2944 - acc: 0.8921\n"
          ],
          "name": "stdout"
        },
        {
          "output_type": "execute_result",
          "data": {
            "text/plain": [
              "<tensorflow.python.keras.callbacks.History at 0x7ff6abc4dc88>"
            ]
          },
          "metadata": {
            "tags": []
          },
          "execution_count": 24
        }
      ]
    },
    {
      "metadata": {
        "id": "qeAkz9j-Gk5C",
        "colab_type": "code",
        "colab": {
          "base_uri": "https://localhost:8080/",
          "height": 34
        },
        "outputId": "189e85d7-42e0-4409-bce4-ce1ae595b38b"
      },
      "cell_type": "code",
      "source": [
        "test_loss, test_acc = model.evaluate(test_images, test_labels)"
      ],
      "execution_count": 27,
      "outputs": [
        {
          "output_type": "stream",
          "text": [
            "10000/10000 [==============================] - 0s 32us/step\n"
          ],
          "name": "stdout"
        }
      ]
    },
    {
      "metadata": {
        "id": "ybhi-mHpG85m",
        "colab_type": "code",
        "colab": {
          "base_uri": "https://localhost:8080/",
          "height": 34
        },
        "outputId": "006aa7f7-f83f-42d4-b489-b0ede803f9b1"
      },
      "cell_type": "code",
      "source": [
        "print('Test accuracy:', test_acc)"
      ],
      "execution_count": 28,
      "outputs": [
        {
          "output_type": "stream",
          "text": [
            "Test accuracy: 0.8775\n"
          ],
          "name": "stdout"
        }
      ]
    },
    {
      "metadata": {
        "id": "grVlGMOjHToH",
        "colab_type": "code",
        "colab": {}
      },
      "cell_type": "code",
      "source": [
        "predictions = model.predict(test_images)"
      ],
      "execution_count": 0,
      "outputs": []
    },
    {
      "metadata": {
        "id": "eDEYdzOMHWZ2",
        "colab_type": "code",
        "colab": {
          "base_uri": "https://localhost:8080/",
          "height": 68
        },
        "outputId": "17f2e90f-2d6b-4f2e-ba5b-a23d471c6c16"
      },
      "cell_type": "code",
      "source": [
        "predictions[0]"
      ],
      "execution_count": 30,
      "outputs": [
        {
          "output_type": "execute_result",
          "data": {
            "text/plain": [
              "array([1.19849728e-05, 2.62903200e-07, 1.18187465e-07, 8.89336107e-08,\n",
              "       4.40035046e-06, 1.37922252e-02, 4.50115266e-07, 9.40888599e-02,\n",
              "       5.26017793e-05, 8.92048955e-01], dtype=float32)"
            ]
          },
          "metadata": {
            "tags": []
          },
          "execution_count": 30
        }
      ]
    },
    {
      "metadata": {
        "id": "KEe5_UnGHYlG",
        "colab_type": "code",
        "colab": {
          "base_uri": "https://localhost:8080/",
          "height": 34
        },
        "outputId": "7b231cef-4544-46ee-ca49-a4eb58f72b59"
      },
      "cell_type": "code",
      "source": [
        "np.argmax(predictions[0])\n"
      ],
      "execution_count": 31,
      "outputs": [
        {
          "output_type": "execute_result",
          "data": {
            "text/plain": [
              "9"
            ]
          },
          "metadata": {
            "tags": []
          },
          "execution_count": 31
        }
      ]
    },
    {
      "metadata": {
        "id": "deSaNOmeHbPG",
        "colab_type": "code",
        "colab": {
          "base_uri": "https://localhost:8080/",
          "height": 34
        },
        "outputId": "6cea58be-0e18-4d7e-8655-3c3f10f3ebfd"
      },
      "cell_type": "code",
      "source": [
        "test_labels[0]"
      ],
      "execution_count": 32,
      "outputs": [
        {
          "output_type": "execute_result",
          "data": {
            "text/plain": [
              "9"
            ]
          },
          "metadata": {
            "tags": []
          },
          "execution_count": 32
        }
      ]
    },
    {
      "metadata": {
        "id": "D2ttBI0xHc-F",
        "colab_type": "code",
        "colab": {}
      },
      "cell_type": "code",
      "source": [
        "def plot_image(i, predictions_array, true_label, img):\n",
        "  predictions_array, true_label, img = predictions_array[i], true_label[i], img[i]\n",
        "  plt.grid(False)\n",
        "  plt.xticks([])\n",
        "  plt.yticks([])\n",
        "  \n",
        "  plt.imshow(img, cmap=plt.cm.binary)\n",
        "\n",
        "  predicted_label = np.argmax(predictions_array)\n",
        "  if predicted_label == true_label:\n",
        "    color = 'blue'\n",
        "  else:\n",
        "    color = 'red'\n",
        "  \n",
        "  plt.xlabel(\"{} {:2.0f}% ({})\".format(class_names[predicted_label],\n",
        "                                100*np.max(predictions_array),\n",
        "                                class_names[true_label]),\n",
        "                                color=color)\n",
        "\n",
        "def plot_value_array(i, predictions_array, true_label):\n",
        "  predictions_array, true_label = predictions_array[i], true_label[i]\n",
        "  plt.grid(False)\n",
        "  plt.xticks([])\n",
        "  plt.yticks([])\n",
        "  thisplot = plt.bar(range(10), predictions_array, color=\"#777777\")\n",
        "  plt.ylim([0, 1]) \n",
        "  predicted_label = np.argmax(predictions_array)\n",
        " \n",
        "  thisplot[predicted_label].set_color('red')\n",
        "  thisplot[true_label].set_color('blue')"
      ],
      "execution_count": 0,
      "outputs": []
    },
    {
      "metadata": {
        "id": "5XvTu8V1HqET",
        "colab_type": "code",
        "colab": {
          "base_uri": "https://localhost:8080/",
          "height": 203
        },
        "outputId": "f989214c-bf88-4d2a-8881-caeac513f7d2"
      },
      "cell_type": "code",
      "source": [
        "i = 0\n",
        "plt.figure(figsize=(6,3))\n",
        "plt.subplot(1,2,1)\n",
        "plot_image(i, predictions, test_labels, test_images)\n",
        "plt.subplot(1,2,2)\n",
        "plot_value_array(i, predictions,  test_labels)"
      ],
      "execution_count": 34,
      "outputs": [
        {
          "output_type": "display_data",
          "data": {
            "image/png": "[encoded data removed]",
            "text/plain": [
              "<matplotlib.figure.Figure at 0x7ff69a5a75c0>"
            ]
          },
          "metadata": {
            "tags": []
          }
        }
      ]
    },
    {
      "metadata": {
        "id": "MJGgglghHqcc",
        "colab_type": "code",
        "colab": {
          "base_uri": "https://localhost:8080/",
          "height": 203
        },
        "outputId": "93cfacdb-b545-4990-d6c8-555d718babc3"
      },
      "cell_type": "code",
      "source": [
        "i = 12\n",
        "plt.figure(figsize=(6,3))\n",
        "plt.subplot(1,2,1)\n",
        "plot_image(i, predictions, test_labels, test_images)\n",
        "plt.subplot(1,2,2)\n",
        "plot_value_array(i, predictions,  test_labels)"
      ],
      "execution_count": 35,
      "outputs": [
        {
          "output_type": "display_data",
          "data": {
            "image/png": "[encoded data removed]",
            "text/plain": [
              "<matplotlib.figure.Figure at 0x7ff699c73710>"
            ]
          },
          "metadata": {
            "tags": []
          }
        }
      ]
    },
    {
      "metadata": {
        "id": "6YJvNk-wHsZL",
        "colab_type": "code",
        "colab": {
          "base_uri": "https://localhost:8080/",
          "height": 589
        },
        "outputId": "215aa37f-cd9f-4612-e1bc-e77fb1e2ce5a"
      },
      "cell_type": "code",
      "source": [
        "# Plot the first X test images, their predicted label, and the true label\n",
        "# Color correct predictions in blue, incorrect predictions in red\n",
        "num_rows = 5\n",
        "num_cols = 3\n",
        "num_images = num_rows*num_cols\n",
        "plt.figure(figsize=(2*2*num_cols, 2*num_rows))\n",
        "for i in range(num_images):\n",
        "  plt.subplot(num_rows, 2*num_cols, 2*i+1)\n",
        "  plot_image(i, predictions, test_labels, test_images)\n",
        "  plt.subplot(num_rows, 2*num_cols, 2*i+2)\n",
        "  plot_value_array(i, predictions, test_labels)"
      ],
      "execution_count": 36,
      "outputs": [
        {
          "output_type": "display_data",
          "data": {
            "image/png": "[encoded data removed]",
            "text/plain": [
              "<matplotlib.figure.Figure at 0x7ff69a5aed68>"
            ]
          },
          "metadata": {
            "tags": []
          }
        }
      ]
    },
    {
      "metadata": {
        "id": "MVhfSnWoHuYz",
        "colab_type": "code",
        "colab": {
          "base_uri": "https://localhost:8080/",
          "height": 34
        },
        "outputId": "fd4ff2f2-8137-4df8-d999-d59b3940212c"
      },
      "cell_type": "code",
      "source": [
        "# Grab an image from the test dataset\n",
        "img = test_images[0]\n",
        "\n",
        "print(img.shape)"
      ],
      "execution_count": 37,
      "outputs": [
        {
          "output_type": "stream",
          "text": [
            "(28, 28)\n"
          ],
          "name": "stdout"
        }
      ]
    },
    {
      "metadata": {
        "id": "3TvuNfeYHyqZ",
        "colab_type": "code",
        "colab": {
          "base_uri": "https://localhost:8080/",
          "height": 34
        },
        "outputId": "9800296b-1102-448f-93db-56eb12781dce"
      },
      "cell_type": "code",
      "source": [
        "# Add the image to a batch where it's the only member.\n",
        "img = (np.expand_dims(img,0))\n",
        "\n",
        "print(img.shape)\n"
      ],
      "execution_count": 38,
      "outputs": [
        {
          "output_type": "stream",
          "text": [
            "(1, 28, 28)\n"
          ],
          "name": "stdout"
        }
      ]
    },
    {
      "metadata": {
        "id": "VyTE3Ub8H1GZ",
        "colab_type": "code",
        "colab": {
          "base_uri": "https://localhost:8080/",
          "height": 51
        },
        "outputId": "48fb303f-f69c-4325-e08d-1fa98c9b4aa7"
      },
      "cell_type": "code",
      "source": [
        "predictions_single = model.predict(img)\n",
        "\n",
        "print(predictions_single)"
      ],
      "execution_count": 39,
      "outputs": [
        {
          "output_type": "stream",
          "text": [
            "[[1.1984971e-05 2.6290317e-07 1.1818768e-07 8.8933433e-08 4.4003500e-06\n",
            "  1.3792236e-02 4.5011475e-07 9.4088934e-02 5.2601772e-05 8.9204884e-01]]\n"
          ],
          "name": "stdout"
        }
      ]
    },
    {
      "metadata": {
        "id": "7PxNuWZpH22a",
        "colab_type": "code",
        "colab": {
          "base_uri": "https://localhost:8080/",
          "height": 377
        },
        "outputId": "da0704b6-24b3-49ed-912b-bb57b7c6bd85"
      },
      "cell_type": "code",
      "source": [
        "plot_value_array(0, predictions_single, test_labels)\n",
        "_ = plt.xticks(range(10), class_names, rotation=45)"
      ],
      "execution_count": 40,
      "outputs": [
        {
          "output_type": "display_data",
          "data": {
            "image/png": "[encoded data removed]",
            "text/plain": [
              "<matplotlib.figure.Figure at 0x7ff699c9a048>"
            ]
          },
          "metadata": {
            "tags": []
          }
        }
      ]
    },
    {
      "metadata": {
        "id": "78erWDs3H42i",
        "colab_type": "code",
        "colab": {
          "base_uri": "https://localhost:8080/",
          "height": 34
        },
        "outputId": "dd436544-0fd0-4d67-c90f-9a46cdb65a8e"
      },
      "cell_type": "code",
      "source": [
        "np.argmax(predictions_single[0])"
      ],
      "execution_count": 41,
      "outputs": [
        {
          "output_type": "execute_result",
          "data": {
            "text/plain": [
              "9"
            ]
          },
          "metadata": {
            "tags": []
          },
          "execution_count": 41
        }
      ]
    },
    {
      "metadata": {
        "id": "eIRI2DRnH8en",
        "colab_type": "code",
        "colab": {}
      },
      "cell_type": "code",
      "source": [
        ""
      ],
      "execution_count": 0,
      "outputs": []
    },
    {
      "metadata": {
        "id": "4nLTzP3cIGIc",
        "colab_type": "text"
      },
      "cell_type": "markdown",
      "source": [
        "IMDB Test Classification"
      ]
    },
    {
      "metadata": {
        "id": "Mx3tZ-wDIJge",
        "colab_type": "code",
        "colab": {
          "base_uri": "https://localhost:8080/",
          "height": 34
        },
        "outputId": "ceade797-aa46-462f-d23b-4b68aaab4fcb"
      },
      "cell_type": "code",
      "source": [
        "import tensorflow as tf\n",
        "from tensorflow import keras\n",
        "\n",
        "import numpy as np\n",
        "\n",
        "print(tf.__version__)\n"
      ],
      "execution_count": 42,
      "outputs": [
        {
          "output_type": "stream",
          "text": [
            "1.11.0-rc2\n"
          ],
          "name": "stdout"
        }
      ]
    },
    {
      "metadata": {
        "id": "-89fMIO6IOH9",
        "colab_type": "code",
        "colab": {
          "base_uri": "https://localhost:8080/",
          "height": 51
        },
        "outputId": "9b31d9b7-9d12-4223-a26f-6bffdf08c353"
      },
      "cell_type": "code",
      "source": [
        "imdb = keras.datasets.imdb\n",
        "\n",
        "(train_data, train_labels), (test_data, test_labels) = imdb.load_data(num_words=10000)"
      ],
      "execution_count": 43,
      "outputs": [
        {
          "output_type": "stream",
          "text": [
            "Downloading data from https://storage.googleapis.com/tensorflow/tf-keras-datasets/imdb.npz\n",
            "17465344/17464789 [==============================] - 0s 0us/step\n"
          ],
          "name": "stdout"
        }
      ]
    },
    {
      "metadata": {
        "id": "QUoz5Z9PITHp",
        "colab_type": "code",
        "colab": {
          "base_uri": "https://localhost:8080/",
          "height": 34
        },
        "outputId": "435a5bba-8a1a-40ac-97ff-96d7eef1d095"
      },
      "cell_type": "code",
      "source": [
        "len(train_data[0])"
      ],
      "execution_count": 46,
      "outputs": [
        {
          "output_type": "execute_result",
          "data": {
            "text/plain": [
              "218"
            ]
          },
          "metadata": {
            "tags": []
          },
          "execution_count": 46
        }
      ]
    },
    {
      "metadata": {
        "id": "g1oEhtywIQFN",
        "colab_type": "code",
        "colab": {
          "base_uri": "https://localhost:8080/",
          "height": 34
        },
        "outputId": "f5e186f4-ee9f-496e-90b6-067ebd5e8dc4"
      },
      "cell_type": "code",
      "source": [
        "print(\"Training entries: {}, labels: {}\".format(len(train_data), len(train_labels)))"
      ],
      "execution_count": 44,
      "outputs": [
        {
          "output_type": "stream",
          "text": [
            "Training entries: 25000, labels: 25000\n"
          ],
          "name": "stdout"
        }
      ]
    },
    {
      "metadata": {
        "id": "fYagyJqIIV4l",
        "colab_type": "code",
        "colab": {
          "base_uri": "https://localhost:8080/",
          "height": 54
        },
        "outputId": "a6f96247-f1a3-4c77-d023-aac4c13ff42b"
      },
      "cell_type": "code",
      "source": [
        "print(train_data[0])"
      ],
      "execution_count": 47,
      "outputs": [
        {
          "output_type": "stream",
          "text": [
            "[1, 14, 22, 16, 43, 530, 973, 1622, 1385, 65, 458, 4468, 66, 3941, 4, 173, 36, 256, 5, 25, 100, 43, 838, 112, 50, 670, 2, 9, 35, 480, 284, 5, 150, 4, 172, 112, 167, 2, 336, 385, 39, 4, 172, 4536, 1111, 17, 546, 38, 13, 447, 4, 192, 50, 16, 6, 147, 2025, 19, 14, 22, 4, 1920, 4613, 469, 4, 22, 71, 87, 12, 16, 43, 530, 38, 76, 15, 13, 1247, 4, 22, 17, 515, 17, 12, 16, 626, 18, 2, 5, 62, 386, 12, 8, 316, 8, 106, 5, 4, 2223, 5244, 16, 480, 66, 3785, 33, 4, 130, 12, 16, 38, 619, 5, 25, 124, 51, 36, 135, 48, 25, 1415, 33, 6, 22, 12, 215, 28, 77, 52, 5, 14, 407, 16, 82, 2, 8, 4, 107, 117, 5952, 15, 256, 4, 2, 7, 3766, 5, 723, 36, 71, 43, 530, 476, 26, 400, 317, 46, 7, 4, 2, 1029, 13, 104, 88, 4, 381, 15, 297, 98, 32, 2071, 56, 26, 141, 6, 194, 7486, 18, 4, 226, 22, 21, 134, 476, 26, 480, 5, 144, 30, 5535, 18, 51, 36, 28, 224, 92, 25, 104, 4, 226, 65, 16, 38, 1334, 88, 12, 16, 283, 5, 16, 4472, 113, 103, 32, 15, 16, 5345, 19, 178, 32]\n"
          ],
          "name": "stdout"
        }
      ]
    },
    {
      "metadata": {
        "id": "YRrtcpRCIelC",
        "colab_type": "code",
        "colab": {
          "base_uri": "https://localhost:8080/",
          "height": 34
        },
        "outputId": "fbb3f144-4720-42a9-9192-7d13530de98d"
      },
      "cell_type": "code",
      "source": [
        "len(train_data[0]), len(train_data[1])"
      ],
      "execution_count": 48,
      "outputs": [
        {
          "output_type": "execute_result",
          "data": {
            "text/plain": [
              "(218, 189)"
            ]
          },
          "metadata": {
            "tags": []
          },
          "execution_count": 48
        }
      ]
    },
    {
      "metadata": {
        "id": "W2Bnel-DIgSz",
        "colab_type": "code",
        "colab": {
          "base_uri": "https://localhost:8080/",
          "height": 51
        },
        "outputId": "9a5319e9-51a5-44a4-b7b3-ab0d282dfe43"
      },
      "cell_type": "code",
      "source": [
        "# A dictionary mapping words to an integer index\n",
        "word_index = imdb.get_word_index()\n",
        "\n",
        "# The first indices are reserved\n",
        "word_index = {k:(v+3) for k,v in word_index.items()} \n",
        "word_index[\"<PAD>\"] = 0\n",
        "word_index[\"<START>\"] = 1\n",
        "word_index[\"<UNK>\"] = 2  # unknown\n",
        "word_index[\"<UNUSED>\"] = 3\n",
        "\n",
        "reverse_word_index = dict([(value, key) for (key, value) in word_index.items()])\n",
        "\n",
        "def decode_review(text):\n",
        "    return ' '.join([reverse_word_index.get(i, '?') for i in text])"
      ],
      "execution_count": 49,
      "outputs": [
        {
          "output_type": "stream",
          "text": [
            "Downloading data from https://storage.googleapis.com/tensorflow/tf-keras-datasets/imdb_word_index.json\n",
            "1646592/1641221 [==============================] - 0s 0us/step\n"
          ],
          "name": "stdout"
        }
      ]
    },
    {
      "metadata": {
        "id": "QoQhd9OPIm2d",
        "colab_type": "code",
        "colab": {
          "base_uri": "https://localhost:8080/",
          "height": 17034
        },
        "outputId": "850593df-f7cd-4531-bc64-3b3e4cb47856"
      },
      "cell_type": "code",
      "source": [
        "word_index"
      ],
      "execution_count": 50,
      "outputs": [
        {
          "output_type": "execute_result",
          "data": {
            "text/plain": [
              "{'fawn': 34704,\n",
              " 'tsukino': 52009,\n",
              " 'nunnery': 52010,\n",
              " 'sonja': 16819,\n",
              " 'vani': 63954,\n",
              " 'woods': 1411,\n",
              " 'spiders': 16118,\n",
              " 'hanging': 2348,\n",
              " 'woody': 2292,\n",
              " 'trawling': 52011,\n",
              " \"hold's\": 52012,\n",
              " 'comically': 11310,\n",
              " 'localized': 40833,\n",
              " 'disobeying': 30571,\n",
              " \"'royale\": 52013,\n",
              " \"harpo's\": 40834,\n",
              " 'canet': 52014,\n",
              " 'aileen': 19316,\n",
              " 'acurately': 52015,\n",
              " \"diplomat's\": 52016,\n",
              " 'rickman': 25245,\n",
              " 'arranged': 6749,\n",
              " 'rumbustious': 52017,\n",
              " 'familiarness': 52018,\n",
              " \"spider'\": 52019,\n",
              " 'hahahah': 68807,\n",
              " \"wood'\": 52020,\n",
              " 'transvestism': 40836,\n",
              " \"hangin'\": 34705,\n",
              " 'bringing': 2341,\n",
              " 'seamier': 40837,\n",
              " 'wooded': 34706,\n",
              " 'bravora': 52021,\n",
              " 'grueling': 16820,\n",
              " 'wooden': 1639,\n",
              " 'wednesday': 16821,\n",
              " \"'prix\": 52022,\n",
              " 'altagracia': 34707,\n",
              " 'circuitry': 52023,\n",
              " 'crotch': 11588,\n",
              " 'busybody': 57769,\n",
              " \"tart'n'tangy\": 52024,\n",
              " 'burgade': 14132,\n",
              " 'thrace': 52026,\n",
              " \"tom's\": 11041,\n",
              " 'snuggles': 52028,\n",
              " 'francesco': 29117,\n",
              " 'complainers': 52030,\n",
              " 'templarios': 52128,\n",
              " '272': 40838,\n",
              " '273': 52031,\n",
              " 'zaniacs': 52133,\n",
              " '275': 34709,\n",
              " 'consenting': 27634,\n",
              " 'snuggled': 40839,\n",
              " 'inanimate': 15495,\n",
              " 'uality': 52033,\n",
              " 'bronte': 11929,\n",
              " 'errors': 4013,\n",
              " 'dialogs': 3233,\n",
              " \"yomada's\": 52034,\n",
              " \"madman's\": 34710,\n",
              " 'dialoge': 30588,\n",
              " 'usenet': 52036,\n",
              " 'videodrome': 40840,\n",
              " \"kid'\": 26341,\n",
              " 'pawed': 52037,\n",
              " \"'girlfriend'\": 30572,\n",
              " \"'pleasure\": 52038,\n",
              " \"'reloaded'\": 52039,\n",
              " \"kazakos'\": 40842,\n",
              " 'rocque': 52040,\n",
              " 'mailings': 52041,\n",
              " 'brainwashed': 11930,\n",
              " 'mcanally': 16822,\n",
              " \"tom''\": 52042,\n",
              " 'kurupt': 25246,\n",
              " 'affiliated': 21908,\n",
              " 'babaganoosh': 52043,\n",
              " \"noe's\": 40843,\n",
              " 'quart': 40844,\n",
              " 'kids': 362,\n",
              " 'uplifting': 5037,\n",
              " 'controversy': 7096,\n",
              " 'kida': 21909,\n",
              " 'kidd': 23382,\n",
              " \"error'\": 52044,\n",
              " 'neurologist': 52045,\n",
              " 'spotty': 18513,\n",
              " 'cobblers': 30573,\n",
              " 'projection': 9881,\n",
              " 'fastforwarding': 40845,\n",
              " 'sters': 52046,\n",
              " \"eggar's\": 52047,\n",
              " 'etherything': 52048,\n",
              " 'gateshead': 40846,\n",
              " 'airball': 34711,\n",
              " 'unsinkable': 25247,\n",
              " 'stern': 7183,\n",
              " \"cervi's\": 52049,\n",
              " 'dnd': 40847,\n",
              " 'dna': 11589,\n",
              " 'insecurity': 20601,\n",
              " \"'reboot'\": 52050,\n",
              " 'trelkovsky': 11040,\n",
              " 'jaekel': 52051,\n",
              " 'sidebars': 52052,\n",
              " \"sforza's\": 52053,\n",
              " 'distortions': 17636,\n",
              " 'mutinies': 52054,\n",
              " 'sermons': 30605,\n",
              " '7ft': 40849,\n",
              " 'boobage': 52055,\n",
              " \"o'bannon's\": 52056,\n",
              " 'populations': 23383,\n",
              " 'chulak': 52057,\n",
              " 'mesmerize': 27636,\n",
              " 'quinnell': 52058,\n",
              " 'yahoo': 10310,\n",
              " 'meteorologist': 52060,\n",
              " 'beswick': 42580,\n",
              " 'boorman': 15496,\n",
              " 'voicework': 40850,\n",
              " \"ster'\": 52061,\n",
              " 'blustering': 22925,\n",
              " 'hj': 52062,\n",
              " 'intake': 27637,\n",
              " 'morally': 5624,\n",
              " 'jumbling': 40852,\n",
              " 'bowersock': 52063,\n",
              " \"'porky's'\": 52064,\n",
              " 'gershon': 16824,\n",
              " 'ludicrosity': 40853,\n",
              " 'coprophilia': 52065,\n",
              " 'expressively': 40854,\n",
              " \"india's\": 19503,\n",
              " \"post's\": 34713,\n",
              " 'wana': 52066,\n",
              " 'wang': 5286,\n",
              " 'wand': 30574,\n",
              " 'wane': 25248,\n",
              " 'edgeways': 52324,\n",
              " 'titanium': 34714,\n",
              " 'pinta': 40855,\n",
              " 'want': 181,\n",
              " 'pinto': 30575,\n",
              " 'whoopdedoodles': 52068,\n",
              " 'tchaikovsky': 21911,\n",
              " 'travel': 2106,\n",
              " \"'victory'\": 52069,\n",
              " 'copious': 11931,\n",
              " 'gouge': 22436,\n",
              " \"chapters'\": 52070,\n",
              " 'barbra': 6705,\n",
              " 'uselessness': 30576,\n",
              " \"wan'\": 52071,\n",
              " 'assimilated': 27638,\n",
              " 'petiot': 16119,\n",
              " 'most\\x85and': 52072,\n",
              " 'dinosaurs': 3933,\n",
              " 'wrong': 355,\n",
              " 'seda': 52073,\n",
              " 'stollen': 52074,\n",
              " 'sentencing': 34715,\n",
              " 'ouroboros': 40856,\n",
              " 'assimilates': 40857,\n",
              " 'colorfully': 40858,\n",
              " 'glenne': 27639,\n",
              " 'dongen': 52075,\n",
              " 'subplots': 4763,\n",
              " 'kiloton': 52076,\n",
              " 'chandon': 23384,\n",
              " \"effect'\": 34716,\n",
              " 'snugly': 27640,\n",
              " 'kuei': 40859,\n",
              " 'welcomed': 9095,\n",
              " 'dishonor': 30074,\n",
              " 'concurrence': 52078,\n",
              " 'stoicism': 23385,\n",
              " \"guys'\": 14899,\n",
              " \"beroemd'\": 52080,\n",
              " 'butcher': 6706,\n",
              " \"melfi's\": 40860,\n",
              " 'aargh': 30626,\n",
              " 'playhouse': 20602,\n",
              " 'wickedly': 11311,\n",
              " 'fit': 1183,\n",
              " 'labratory': 52081,\n",
              " 'lifeline': 40862,\n",
              " 'screaming': 1930,\n",
              " 'fix': 4290,\n",
              " 'cineliterate': 52082,\n",
              " 'fic': 52083,\n",
              " 'fia': 52084,\n",
              " 'fig': 34717,\n",
              " 'fmvs': 52085,\n",
              " 'fie': 52086,\n",
              " 'reentered': 52087,\n",
              " 'fin': 30577,\n",
              " 'doctresses': 52088,\n",
              " 'fil': 52089,\n",
              " 'zucker': 12609,\n",
              " 'ached': 31934,\n",
              " 'counsil': 52091,\n",
              " 'paterfamilias': 52092,\n",
              " 'songwriter': 13888,\n",
              " 'shivam': 34718,\n",
              " 'hurting': 9657,\n",
              " 'effects': 302,\n",
              " 'slauther': 52093,\n",
              " \"'flame'\": 52094,\n",
              " 'sommerset': 52095,\n",
              " 'interwhined': 52096,\n",
              " 'whacking': 27641,\n",
              " 'bartok': 52097,\n",
              " 'barton': 8778,\n",
              " 'frewer': 21912,\n",
              " \"fi'\": 52098,\n",
              " 'ingrid': 6195,\n",
              " 'stribor': 30578,\n",
              " 'approporiately': 52099,\n",
              " 'wobblyhand': 52100,\n",
              " 'tantalisingly': 52101,\n",
              " 'ankylosaurus': 52102,\n",
              " 'parasites': 17637,\n",
              " 'childen': 52103,\n",
              " \"jenkins'\": 52104,\n",
              " 'metafiction': 52105,\n",
              " 'golem': 17638,\n",
              " 'indiscretion': 40863,\n",
              " \"reeves'\": 23386,\n",
              " \"inamorata's\": 57784,\n",
              " 'brittannica': 52107,\n",
              " 'adapt': 7919,\n",
              " \"russo's\": 30579,\n",
              " 'guitarists': 48249,\n",
              " 'abbott': 10556,\n",
              " 'abbots': 40864,\n",
              " 'lanisha': 17652,\n",
              " 'magickal': 40866,\n",
              " 'mattter': 52108,\n",
              " \"'willy\": 52109,\n",
              " 'pumpkins': 34719,\n",
              " 'stuntpeople': 52110,\n",
              " 'estimate': 30580,\n",
              " 'ugghhh': 40867,\n",
              " 'gameplay': 11312,\n",
              " \"wern't\": 52111,\n",
              " \"n'sync\": 40868,\n",
              " 'sickeningly': 16120,\n",
              " 'chiara': 40869,\n",
              " 'disturbed': 4014,\n",
              " 'portmanteau': 40870,\n",
              " 'ineffectively': 52112,\n",
              " \"duchonvey's\": 82146,\n",
              " \"nasty'\": 37522,\n",
              " 'purpose': 1288,\n",
              " 'lazers': 52115,\n",
              " 'lightened': 28108,\n",
              " 'kaliganj': 52116,\n",
              " 'popularism': 52117,\n",
              " \"damme's\": 18514,\n",
              " 'stylistics': 30581,\n",
              " 'mindgaming': 52118,\n",
              " 'spoilerish': 46452,\n",
              " \"'corny'\": 52120,\n",
              " 'boerner': 34721,\n",
              " 'olds': 6795,\n",
              " 'bakelite': 52121,\n",
              " 'renovated': 27642,\n",
              " 'forrester': 27643,\n",
              " \"lumiere's\": 52122,\n",
              " 'gaskets': 52027,\n",
              " 'needed': 887,\n",
              " 'smight': 34722,\n",
              " 'master': 1300,\n",
              " \"edie's\": 25908,\n",
              " 'seeber': 40871,\n",
              " 'hiya': 52123,\n",
              " 'fuzziness': 52124,\n",
              " 'genesis': 14900,\n",
              " 'rewards': 12610,\n",
              " 'enthrall': 30582,\n",
              " \"'about\": 40872,\n",
              " \"recollection's\": 52125,\n",
              " 'mutilated': 11042,\n",
              " 'fatherlands': 52126,\n",
              " \"fischer's\": 52127,\n",
              " 'positively': 5402,\n",
              " '270': 34708,\n",
              " 'ahmed': 34723,\n",
              " 'zatoichi': 9839,\n",
              " 'bannister': 13889,\n",
              " 'anniversaries': 52130,\n",
              " \"helm's\": 30583,\n",
              " \"'work'\": 52131,\n",
              " 'exclaimed': 34724,\n",
              " \"'unfunny'\": 52132,\n",
              " '274': 52032,\n",
              " 'feeling': 547,\n",
              " \"wanda's\": 52134,\n",
              " 'dolan': 33269,\n",
              " '278': 52136,\n",
              " 'peacoat': 52137,\n",
              " 'brawny': 40873,\n",
              " 'mishra': 40874,\n",
              " 'worlders': 40875,\n",
              " 'protags': 52138,\n",
              " 'skullcap': 52139,\n",
              " 'dastagir': 57599,\n",
              " 'affairs': 5625,\n",
              " 'wholesome': 7802,\n",
              " 'hymen': 52140,\n",
              " 'paramedics': 25249,\n",
              " 'unpersons': 52141,\n",
              " 'heavyarms': 52142,\n",
              " 'affaire': 52143,\n",
              " 'coulisses': 52144,\n",
              " 'hymer': 40876,\n",
              " 'kremlin': 52145,\n",
              " 'shipments': 30584,\n",
              " 'pixilated': 52146,\n",
              " \"'00s\": 30585,\n",
              " 'diminishing': 18515,\n",
              " 'cinematic': 1360,\n",
              " 'resonates': 14901,\n",
              " 'simplify': 40877,\n",
              " \"nature'\": 40878,\n",
              " 'temptresses': 40879,\n",
              " 'reverence': 16825,\n",
              " 'resonated': 19505,\n",
              " 'dailey': 34725,\n",
              " '2\\x85': 52147,\n",
              " 'treize': 27644,\n",
              " 'majo': 52148,\n",
              " 'kiya': 21913,\n",
              " 'woolnough': 52149,\n",
              " 'thanatos': 39800,\n",
              " 'sandoval': 35734,\n",
              " 'dorama': 40882,\n",
              " \"o'shaughnessy\": 52150,\n",
              " 'tech': 4991,\n",
              " 'fugitives': 32021,\n",
              " 'teck': 30586,\n",
              " \"'e'\": 76128,\n",
              " 'doesn’t': 40884,\n",
              " 'purged': 52152,\n",
              " 'saying': 660,\n",
              " \"martians'\": 41098,\n",
              " 'norliss': 23421,\n",
              " 'dickey': 27645,\n",
              " 'dicker': 52155,\n",
              " \"'sependipity\": 52156,\n",
              " 'padded': 8425,\n",
              " 'ordell': 57795,\n",
              " \"sturges'\": 40885,\n",
              " 'independentcritics': 52157,\n",
              " 'tempted': 5748,\n",
              " \"atkinson's\": 34727,\n",
              " 'hounded': 25250,\n",
              " 'apace': 52158,\n",
              " 'clicked': 15497,\n",
              " \"'humor'\": 30587,\n",
              " \"martino's\": 17180,\n",
              " \"'supporting\": 52159,\n",
              " 'warmongering': 52035,\n",
              " \"zemeckis's\": 34728,\n",
              " 'lube': 21914,\n",
              " 'shocky': 52160,\n",
              " 'plate': 7479,\n",
              " 'plata': 40886,\n",
              " 'sturgess': 40887,\n",
              " \"nerds'\": 40888,\n",
              " 'plato': 20603,\n",
              " 'plath': 34729,\n",
              " 'platt': 40889,\n",
              " 'mcnab': 52162,\n",
              " 'clumsiness': 27646,\n",
              " 'altogether': 3902,\n",
              " 'massacring': 42587,\n",
              " 'bicenntinial': 52163,\n",
              " 'skaal': 40890,\n",
              " 'droning': 14363,\n",
              " 'lds': 8779,\n",
              " 'jaguar': 21915,\n",
              " \"cale's\": 34730,\n",
              " 'nicely': 1780,\n",
              " 'mummy': 4591,\n",
              " \"lot's\": 18516,\n",
              " 'patch': 10089,\n",
              " 'kerkhof': 50205,\n",
              " \"leader's\": 52164,\n",
              " \"'movie\": 27647,\n",
              " 'uncomfirmed': 52165,\n",
              " 'heirloom': 40891,\n",
              " 'wrangle': 47363,\n",
              " 'emotion\\x85': 52166,\n",
              " \"'stargate'\": 52167,\n",
              " 'pinoy': 40892,\n",
              " 'conchatta': 40893,\n",
              " 'broeke': 41131,\n",
              " 'advisedly': 40894,\n",
              " \"barker's\": 17639,\n",
              " 'descours': 52169,\n",
              " 'lots': 775,\n",
              " 'lotr': 9262,\n",
              " 'irs': 9882,\n",
              " 'lott': 52170,\n",
              " 'xvi': 40895,\n",
              " 'irk': 34731,\n",
              " 'irl': 52171,\n",
              " 'ira': 6890,\n",
              " 'belzer': 21916,\n",
              " 'irc': 52172,\n",
              " 'ire': 27648,\n",
              " 'requisites': 40896,\n",
              " 'discipline': 7696,\n",
              " 'lyoko': 52964,\n",
              " 'extend': 11313,\n",
              " 'nature': 876,\n",
              " \"'dickie'\": 52173,\n",
              " 'optimist': 40897,\n",
              " 'lapping': 30589,\n",
              " 'superficial': 3903,\n",
              " 'vestment': 52174,\n",
              " 'extent': 2826,\n",
              " 'tendons': 52175,\n",
              " \"heller's\": 52176,\n",
              " 'quagmires': 52177,\n",
              " 'miyako': 52178,\n",
              " 'moocow': 20604,\n",
              " \"coles'\": 52179,\n",
              " 'lookit': 40898,\n",
              " 'ravenously': 52180,\n",
              " 'levitating': 40899,\n",
              " 'perfunctorily': 52181,\n",
              " 'lookin': 30590,\n",
              " \"lot'\": 40901,\n",
              " 'lookie': 52182,\n",
              " 'fearlessly': 34873,\n",
              " 'libyan': 52184,\n",
              " 'fondles': 40902,\n",
              " 'gopher': 35717,\n",
              " 'wearying': 40904,\n",
              " \"nz's\": 52185,\n",
              " 'minuses': 27649,\n",
              " 'puposelessly': 52186,\n",
              " 'shandling': 52187,\n",
              " 'decapitates': 31271,\n",
              " 'humming': 11932,\n",
              " \"'nother\": 40905,\n",
              " 'smackdown': 21917,\n",
              " 'underdone': 30591,\n",
              " 'frf': 40906,\n",
              " 'triviality': 52188,\n",
              " 'fro': 25251,\n",
              " 'bothers': 8780,\n",
              " \"'kensington\": 52189,\n",
              " 'much': 76,\n",
              " 'muco': 34733,\n",
              " 'wiseguy': 22618,\n",
              " \"richie's\": 27651,\n",
              " 'tonino': 40907,\n",
              " 'unleavened': 52190,\n",
              " 'fry': 11590,\n",
              " \"'tv'\": 40908,\n",
              " 'toning': 40909,\n",
              " 'obese': 14364,\n",
              " 'sensationalized': 30592,\n",
              " 'spiv': 40910,\n",
              " 'spit': 6262,\n",
              " 'arkin': 7367,\n",
              " 'charleton': 21918,\n",
              " 'jeon': 16826,\n",
              " 'boardroom': 21919,\n",
              " 'doubts': 4992,\n",
              " 'spin': 3087,\n",
              " 'hepo': 53086,\n",
              " 'wildcat': 27652,\n",
              " 'venoms': 10587,\n",
              " 'misconstrues': 52194,\n",
              " 'mesmerising': 18517,\n",
              " 'misconstrued': 40911,\n",
              " 'rescinds': 52195,\n",
              " 'prostrate': 52196,\n",
              " 'majid': 40912,\n",
              " 'climbed': 16482,\n",
              " 'canoeing': 34734,\n",
              " 'majin': 52198,\n",
              " 'animie': 57807,\n",
              " 'sylke': 40913,\n",
              " 'conditioned': 14902,\n",
              " 'waddell': 40914,\n",
              " '3\\x85': 52199,\n",
              " 'hyperdrive': 41191,\n",
              " 'conditioner': 34735,\n",
              " 'bricklayer': 53156,\n",
              " 'hong': 2579,\n",
              " 'memoriam': 52201,\n",
              " 'inventively': 30595,\n",
              " \"levant's\": 25252,\n",
              " 'portobello': 20641,\n",
              " 'remand': 52203,\n",
              " 'mummified': 19507,\n",
              " 'honk': 27653,\n",
              " 'spews': 19508,\n",
              " 'visitations': 40915,\n",
              " 'mummifies': 52204,\n",
              " 'cavanaugh': 25253,\n",
              " 'zeon': 23388,\n",
              " \"jungle's\": 40916,\n",
              " 'viertel': 34736,\n",
              " 'frenchmen': 27654,\n",
              " 'torpedoes': 52205,\n",
              " 'schlessinger': 52206,\n",
              " 'torpedoed': 34737,\n",
              " 'blister': 69879,\n",
              " 'cinefest': 52207,\n",
              " 'furlough': 34738,\n",
              " 'mainsequence': 52208,\n",
              " 'mentors': 40917,\n",
              " 'academic': 9097,\n",
              " 'stillness': 20605,\n",
              " 'academia': 40918,\n",
              " 'lonelier': 52209,\n",
              " 'nibby': 52210,\n",
              " \"losers'\": 52211,\n",
              " 'cineastes': 40919,\n",
              " 'corporate': 4452,\n",
              " 'massaging': 40920,\n",
              " 'bellow': 30596,\n",
              " 'absurdities': 19509,\n",
              " 'expetations': 53244,\n",
              " 'nyfiken': 40921,\n",
              " 'mehras': 75641,\n",
              " 'lasse': 52212,\n",
              " 'visability': 52213,\n",
              " 'militarily': 33949,\n",
              " \"elder'\": 52214,\n",
              " 'gainsbourg': 19026,\n",
              " 'hah': 20606,\n",
              " 'hai': 13423,\n",
              " 'haj': 34739,\n",
              " 'hak': 25254,\n",
              " 'hal': 4314,\n",
              " 'ham': 4895,\n",
              " 'duffer': 53262,\n",
              " 'haa': 52216,\n",
              " 'had': 69,\n",
              " 'advancement': 11933,\n",
              " 'hag': 16828,\n",
              " \"hand'\": 25255,\n",
              " 'hay': 13424,\n",
              " 'mcnamara': 20607,\n",
              " \"mozart's\": 52217,\n",
              " 'duffel': 30734,\n",
              " 'haq': 30597,\n",
              " 'har': 13890,\n",
              " 'has': 47,\n",
              " 'hat': 2404,\n",
              " 'hav': 40922,\n",
              " 'haw': 30598,\n",
              " 'figtings': 52218,\n",
              " 'elders': 15498,\n",
              " 'underpanted': 52219,\n",
              " 'pninson': 52220,\n",
              " 'unequivocally': 27655,\n",
              " \"barbara's\": 23676,\n",
              " \"bello'\": 52222,\n",
              " 'indicative': 13000,\n",
              " 'yawnfest': 40923,\n",
              " 'hexploitation': 52223,\n",
              " \"loder's\": 52224,\n",
              " 'sleuthing': 27656,\n",
              " \"justin's\": 32625,\n",
              " \"'ball\": 52225,\n",
              " \"'summer\": 52226,\n",
              " \"'demons'\": 34938,\n",
              " \"mormon's\": 52228,\n",
              " \"laughton's\": 34740,\n",
              " 'debell': 52229,\n",
              " 'shipyard': 39727,\n",
              " 'unabashedly': 30600,\n",
              " 'disks': 40404,\n",
              " 'crowd': 2293,\n",
              " 'crowe': 10090,\n",
              " \"vancouver's\": 56437,\n",
              " 'mosques': 34741,\n",
              " 'crown': 6630,\n",
              " 'culpas': 52230,\n",
              " 'crows': 27657,\n",
              " 'surrell': 53347,\n",
              " 'flowless': 52232,\n",
              " 'sheirk': 52233,\n",
              " \"'three\": 40926,\n",
              " \"peterson'\": 52234,\n",
              " 'ooverall': 52235,\n",
              " 'perchance': 40927,\n",
              " 'bottom': 1324,\n",
              " 'chabert': 53366,\n",
              " 'sneha': 52236,\n",
              " 'inhuman': 13891,\n",
              " 'ichii': 52237,\n",
              " 'ursla': 52238,\n",
              " 'completly': 30601,\n",
              " 'moviedom': 40928,\n",
              " 'raddick': 52239,\n",
              " 'brundage': 51998,\n",
              " 'brigades': 40929,\n",
              " 'starring': 1184,\n",
              " \"'goal'\": 52240,\n",
              " 'caskets': 52241,\n",
              " 'willcock': 52242,\n",
              " \"threesome's\": 52243,\n",
              " \"mosque'\": 52244,\n",
              " \"cover's\": 52245,\n",
              " 'spaceships': 17640,\n",
              " 'anomalous': 40930,\n",
              " 'ptsd': 27658,\n",
              " 'shirdan': 52246,\n",
              " 'obscenity': 21965,\n",
              " 'lemmings': 30602,\n",
              " 'duccio': 30603,\n",
              " \"levene's\": 52247,\n",
              " \"'gorby'\": 52248,\n",
              " \"teenager's\": 25258,\n",
              " 'marshall': 5343,\n",
              " 'honeymoon': 9098,\n",
              " 'shoots': 3234,\n",
              " 'despised': 12261,\n",
              " 'okabasho': 52249,\n",
              " 'fabric': 8292,\n",
              " 'cannavale': 18518,\n",
              " 'raped': 3540,\n",
              " \"tutt's\": 52250,\n",
              " 'grasping': 17641,\n",
              " 'despises': 18519,\n",
              " \"thief's\": 40931,\n",
              " 'rapes': 8929,\n",
              " 'raper': 52251,\n",
              " \"eyre'\": 27659,\n",
              " 'walchek': 52252,\n",
              " \"elmo's\": 23389,\n",
              " 'perfumes': 40932,\n",
              " 'spurting': 21921,\n",
              " \"exposition'\\x85\": 52253,\n",
              " 'denoting': 52254,\n",
              " 'thesaurus': 34743,\n",
              " \"shoot'\": 40933,\n",
              " 'bonejack': 49762,\n",
              " 'simpsonian': 52256,\n",
              " 'hebetude': 30604,\n",
              " \"hallow's\": 34744,\n",
              " 'desperation\\x85': 52257,\n",
              " 'incinerator': 34745,\n",
              " 'congratulations': 10311,\n",
              " 'humbled': 52258,\n",
              " \"else's\": 5927,\n",
              " 'trelkovski': 40848,\n",
              " \"rape'\": 52259,\n",
              " \"'chapters'\": 59389,\n",
              " '1600s': 52260,\n",
              " 'martian': 7256,\n",
              " 'nicest': 25259,\n",
              " 'eyred': 52262,\n",
              " 'passenger': 9460,\n",
              " 'disgrace': 6044,\n",
              " 'moderne': 52263,\n",
              " 'barrymore': 5123,\n",
              " 'yankovich': 52264,\n",
              " 'moderns': 40934,\n",
              " 'studliest': 52265,\n",
              " 'bedsheet': 52266,\n",
              " 'decapitation': 14903,\n",
              " 'slurring': 52267,\n",
              " \"'nunsploitation'\": 52268,\n",
              " \"'character'\": 34746,\n",
              " 'cambodia': 9883,\n",
              " 'rebelious': 52269,\n",
              " 'pasadena': 27660,\n",
              " 'crowne': 40935,\n",
              " \"'bedchamber\": 52270,\n",
              " 'conjectural': 52271,\n",
              " 'appologize': 52272,\n",
              " 'halfassing': 52273,\n",
              " 'paycheque': 57819,\n",
              " 'palms': 20609,\n",
              " \"'islands\": 52274,\n",
              " 'hawked': 40936,\n",
              " 'palme': 21922,\n",
              " 'conservatively': 40937,\n",
              " 'larp': 64010,\n",
              " 'palma': 5561,\n",
              " 'smelling': 21923,\n",
              " 'aragorn': 13001,\n",
              " 'hawker': 52275,\n",
              " 'hawkes': 52276,\n",
              " 'explosions': 3978,\n",
              " 'loren': 8062,\n",
              " \"pyle's\": 52277,\n",
              " 'shootout': 6707,\n",
              " \"mike's\": 18520,\n",
              " \"driscoll's\": 52278,\n",
              " 'cogsworth': 40938,\n",
              " \"britian's\": 52279,\n",
              " 'childs': 34747,\n",
              " \"portrait's\": 52280,\n",
              " 'chain': 3629,\n",
              " 'whoever': 2500,\n",
              " 'puttered': 52281,\n",
              " 'childe': 52282,\n",
              " 'maywether': 52283,\n",
              " 'chair': 3039,\n",
              " \"rance's\": 52284,\n",
              " 'machu': 34748,\n",
              " 'ballet': 4520,\n",
              " 'grapples': 34749,\n",
              " 'summerize': 76155,\n",
              " 'freelance': 30606,\n",
              " \"andrea's\": 52286,\n",
              " '\\x91very': 52287,\n",
              " 'coolidge': 45882,\n",
              " 'mache': 18521,\n",
              " 'balled': 52288,\n",
              " 'grappled': 40940,\n",
              " 'macha': 18522,\n",
              " 'underlining': 21924,\n",
              " 'macho': 5626,\n",
              " 'oversight': 19510,\n",
              " 'machi': 25260,\n",
              " 'verbally': 11314,\n",
              " 'tenacious': 21925,\n",
              " 'windshields': 40941,\n",
              " 'paychecks': 18560,\n",
              " 'jerk': 3399,\n",
              " \"good'\": 11934,\n",
              " 'prancer': 34751,\n",
              " 'prances': 21926,\n",
              " 'olympus': 52289,\n",
              " 'lark': 21927,\n",
              " 'embark': 10788,\n",
              " 'gloomy': 7368,\n",
              " 'jehaan': 52290,\n",
              " 'turaqui': 52291,\n",
              " \"child'\": 20610,\n",
              " 'locked': 2897,\n",
              " 'pranced': 52292,\n",
              " 'exact': 2591,\n",
              " 'unattuned': 52293,\n",
              " 'minute': 786,\n",
              " 'skewed': 16121,\n",
              " 'hodgins': 40943,\n",
              " 'skewer': 34752,\n",
              " 'think\\x85': 52294,\n",
              " 'rosenstein': 38768,\n",
              " 'helmit': 52295,\n",
              " 'wrestlemanias': 34753,\n",
              " 'hindered': 16829,\n",
              " \"martha's\": 30607,\n",
              " 'cheree': 52296,\n",
              " \"pluckin'\": 52297,\n",
              " 'ogles': 40944,\n",
              " 'heavyweight': 11935,\n",
              " 'aada': 82193,\n",
              " 'chopping': 11315,\n",
              " 'strongboy': 61537,\n",
              " 'hegemonic': 41345,\n",
              " 'adorns': 40945,\n",
              " 'xxth': 41349,\n",
              " 'nobuhiro': 34754,\n",
              " 'capitães': 52301,\n",
              " 'kavogianni': 52302,\n",
              " 'antwerp': 13425,\n",
              " 'celebrated': 6541,\n",
              " 'roarke': 52303,\n",
              " 'baggins': 40946,\n",
              " 'cheeseburgers': 31273,\n",
              " 'matras': 52304,\n",
              " \"nineties'\": 52305,\n",
              " \"'craig'\": 52306,\n",
              " 'celebrates': 13002,\n",
              " 'unintentionally': 3386,\n",
              " 'drafted': 14365,\n",
              " 'climby': 52307,\n",
              " '303': 52308,\n",
              " 'oldies': 18523,\n",
              " 'climbs': 9099,\n",
              " 'honour': 9658,\n",
              " 'plucking': 34755,\n",
              " '305': 30077,\n",
              " 'address': 5517,\n",
              " 'menjou': 40947,\n",
              " \"'freak'\": 42595,\n",
              " 'dwindling': 19511,\n",
              " 'benson': 9461,\n",
              " 'white’s': 52310,\n",
              " 'shamelessness': 40948,\n",
              " 'impacted': 21928,\n",
              " 'upatz': 52311,\n",
              " 'cusack': 3843,\n",
              " \"flavia's\": 37570,\n",
              " 'effette': 52312,\n",
              " 'influx': 34756,\n",
              " 'boooooooo': 52313,\n",
              " 'dimitrova': 52314,\n",
              " 'houseman': 13426,\n",
              " 'bigas': 25262,\n",
              " 'boylen': 52315,\n",
              " 'phillipenes': 52316,\n",
              " 'fakery': 40949,\n",
              " \"grandpa's\": 27661,\n",
              " 'darnell': 27662,\n",
              " 'undergone': 19512,\n",
              " 'handbags': 52318,\n",
              " 'perished': 21929,\n",
              " 'pooped': 37781,\n",
              " 'vigour': 27663,\n",
              " 'opposed': 3630,\n",
              " 'etude': 52319,\n",
              " \"caine's\": 11802,\n",
              " 'doozers': 52320,\n",
              " 'photojournals': 34757,\n",
              " 'perishes': 52321,\n",
              " 'constrains': 34758,\n",
              " 'migenes': 40951,\n",
              " 'consoled': 30608,\n",
              " 'alastair': 16830,\n",
              " 'wvs': 52322,\n",
              " 'ooooooh': 52323,\n",
              " 'approving': 34759,\n",
              " 'consoles': 40952,\n",
              " 'disparagement': 52067,\n",
              " 'futureistic': 52325,\n",
              " 'rebounding': 52326,\n",
              " \"'date\": 52327,\n",
              " 'gregoire': 52328,\n",
              " 'rutherford': 21930,\n",
              " 'americanised': 34760,\n",
              " 'novikov': 82199,\n",
              " 'following': 1045,\n",
              " 'munroe': 34761,\n",
              " \"morita'\": 52329,\n",
              " 'christenssen': 52330,\n",
              " 'oatmeal': 23109,\n",
              " 'fossey': 25263,\n",
              " 'livered': 40953,\n",
              " 'listens': 13003,\n",
              " \"'marci\": 76167,\n",
              " \"otis's\": 52333,\n",
              " 'thanking': 23390,\n",
              " 'maude': 16022,\n",
              " 'extensions': 34762,\n",
              " 'ameteurish': 52335,\n",
              " \"commender's\": 52336,\n",
              " 'agricultural': 27664,\n",
              " 'convincingly': 4521,\n",
              " 'fueled': 17642,\n",
              " 'mahattan': 54017,\n",
              " \"paris's\": 40955,\n",
              " 'vulkan': 52339,\n",
              " 'stapes': 52340,\n",
              " 'odysessy': 52341,\n",
              " 'harmon': 12262,\n",
              " 'surfing': 4255,\n",
              " 'halloran': 23497,\n",
              " 'unbelieveably': 49583,\n",
              " \"'offed'\": 52342,\n",
              " 'quadrant': 30610,\n",
              " 'inhabiting': 19513,\n",
              " 'nebbish': 34763,\n",
              " 'forebears': 40956,\n",
              " 'skirmish': 34764,\n",
              " 'ocassionally': 52343,\n",
              " \"'resist\": 52344,\n",
              " 'impactful': 21931,\n",
              " 'spicier': 52345,\n",
              " 'touristy': 40957,\n",
              " \"'football'\": 52346,\n",
              " 'webpage': 40958,\n",
              " 'exurbia': 52348,\n",
              " 'jucier': 52349,\n",
              " 'professors': 14904,\n",
              " 'structuring': 34765,\n",
              " 'jig': 30611,\n",
              " 'overlord': 40959,\n",
              " 'disconnect': 25264,\n",
              " 'sniffle': 82204,\n",
              " 'slimeball': 40960,\n",
              " 'jia': 40961,\n",
              " 'milked': 16831,\n",
              " 'banjoes': 40962,\n",
              " 'jim': 1240,\n",
              " 'workforces': 52351,\n",
              " 'jip': 52352,\n",
              " 'rotweiller': 52353,\n",
              " 'mundaneness': 34766,\n",
              " \"'ninja'\": 52354,\n",
              " \"dead'\": 11043,\n",
              " \"cipriani's\": 40963,\n",
              " 'modestly': 20611,\n",
              " \"professor'\": 52355,\n",
              " 'shacked': 40964,\n",
              " 'bashful': 34767,\n",
              " 'sorter': 23391,\n",
              " 'overpowering': 16123,\n",
              " 'workmanlike': 18524,\n",
              " 'henpecked': 27665,\n",
              " 'sorted': 18525,\n",
              " \"jōb's\": 52357,\n",
              " \"'always\": 52358,\n",
              " \"'baptists\": 34768,\n",
              " 'dreamcatchers': 52359,\n",
              " \"'silence'\": 52360,\n",
              " 'hickory': 21932,\n",
              " 'fun\\x97yet': 52361,\n",
              " 'breakumentary': 52362,\n",
              " 'didn': 15499,\n",
              " 'didi': 52363,\n",
              " 'pealing': 52364,\n",
              " 'dispite': 40965,\n",
              " \"italy's\": 25265,\n",
              " 'instability': 21933,\n",
              " 'quarter': 6542,\n",
              " 'quartet': 12611,\n",
              " 'padmé': 52365,\n",
              " \"'bleedmedry\": 52366,\n",
              " 'pahalniuk': 52367,\n",
              " 'honduras': 52368,\n",
              " 'bursting': 10789,\n",
              " \"pablo's\": 41468,\n",
              " 'irremediably': 52370,\n",
              " 'presages': 40966,\n",
              " 'bowlegged': 57835,\n",
              " 'dalip': 65186,\n",
              " 'entering': 6263,\n",
              " 'newsradio': 76175,\n",
              " 'presaged': 54153,\n",
              " \"giallo's\": 27666,\n",
              " 'bouyant': 40967,\n",
              " 'amerterish': 52371,\n",
              " 'rajni': 18526,\n",
              " 'leeves': 30613,\n",
              " 'macauley': 34770,\n",
              " 'seriously': 615,\n",
              " 'sugercoma': 52372,\n",
              " 'grimstead': 52373,\n",
              " \"'fairy'\": 52374,\n",
              " 'zenda': 30614,\n",
              " \"'twins'\": 52375,\n",
              " 'realisation': 17643,\n",
              " 'highsmith': 27667,\n",
              " 'raunchy': 7820,\n",
              " 'incentives': 40968,\n",
              " 'flatson': 52377,\n",
              " 'snooker': 35100,\n",
              " 'crazies': 16832,\n",
              " 'crazier': 14905,\n",
              " 'grandma': 7097,\n",
              " 'napunsaktha': 52378,\n",
              " 'workmanship': 30615,\n",
              " 'reisner': 52379,\n",
              " \"sanford's\": 61309,\n",
              " '\\x91doña': 52380,\n",
              " 'modest': 6111,\n",
              " \"everything's\": 19156,\n",
              " 'hamer': 40969,\n",
              " \"couldn't'\": 52382,\n",
              " 'quibble': 13004,\n",
              " 'socking': 52383,\n",
              " 'tingler': 21934,\n",
              " 'gutman': 52384,\n",
              " 'lachlan': 40970,\n",
              " 'tableaus': 52385,\n",
              " 'headbanger': 52386,\n",
              " 'spoken': 2850,\n",
              " 'cerebrally': 34771,\n",
              " \"'road\": 23493,\n",
              " 'tableaux': 21935,\n",
              " \"proust's\": 40971,\n",
              " 'periodical': 40972,\n",
              " \"shoveller's\": 52388,\n",
              " 'tamara': 25266,\n",
              " 'affords': 17644,\n",
              " 'concert': 3252,\n",
              " \"yara's\": 87958,\n",
              " 'someome': 52389,\n",
              " 'lingering': 8427,\n",
              " \"abraham's\": 41514,\n",
              " 'beesley': 34772,\n",
              " 'cherbourg': 34773,\n",
              " 'kagan': 28627,\n",
              " 'snatch': 9100,\n",
              " \"miyazaki's\": 9263,\n",
              " 'absorbs': 25267,\n",
              " \"koltai's\": 40973,\n",
              " 'tingled': 64030,\n",
              " 'crossroads': 19514,\n",
              " 'rehab': 16124,\n",
              " 'falworth': 52392,\n",
              " 'sequals': 52393,\n",
              " ...}"
            ]
          },
          "metadata": {
            "tags": []
          },
          "execution_count": 50
        }
      ]
    },
    {
      "metadata": {
        "id": "FJ-JG5N_I3FS",
        "colab_type": "code",
        "colab": {
          "base_uri": "https://localhost:8080/",
          "height": 54
        },
        "outputId": "dd000c17-2a5d-48e2-e122-30129cec9889"
      },
      "cell_type": "code",
      "source": [
        "decode_review(train_data[0])"
      ],
      "execution_count": 51,
      "outputs": [
        {
          "output_type": "execute_result",
          "data": {
            "text/plain": [
              "\"<START> this film was just brilliant casting location scenery story direction everyone's really suited the part they played and you could just imagine being there robert <UNK> is an amazing actor and now the same being director <UNK> father came from the same scottish island as myself so i loved the fact there was a real connection with this film the witty remarks throughout the film were great it was just brilliant so much that i bought the film as soon as it was released for <UNK> and would recommend it to everyone to watch and the fly fishing was amazing really cried at the end it was so sad and you know what they say if you cry at a film it must have been good and this definitely was also <UNK> to the two little boy's that played the <UNK> of norman and paul they were just brilliant children are often left out of the <UNK> list i think because the stars that play them all grown up are such a big profile for the whole film but these children are amazing and should be praised for what they have done don't you think the whole story was so lovely because it was true and was someone's life after all that was shared with us all\""
            ]
          },
          "metadata": {
            "tags": []
          },
          "execution_count": 51
        }
      ]
    },
    {
      "metadata": {
        "id": "9yvFr7xgJL2x",
        "colab_type": "code",
        "colab": {}
      },
      "cell_type": "code",
      "source": [
        "train_data = keras.preprocessing.sequence.pad_sequences(train_data,\n",
        "                                                        value=word_index[\"<PAD>\"],\n",
        "                                                        padding='post',\n",
        "                                                        maxlen=256)\n",
        "\n",
        "test_data = keras.preprocessing.sequence.pad_sequences(test_data,\n",
        "                                                       value=word_index[\"<PAD>\"],\n",
        "                                                       padding='post',\n",
        "                                                       maxlen=256)\n"
      ],
      "execution_count": 0,
      "outputs": []
    },
    {
      "metadata": {
        "id": "bQR0axBBJOnQ",
        "colab_type": "code",
        "colab": {
          "base_uri": "https://localhost:8080/",
          "height": 34
        },
        "outputId": "d59cbb58-6506-4dbb-de32-3c0c41dcff5a"
      },
      "cell_type": "code",
      "source": [
        "len(train_data[0]), len(train_data[1])"
      ],
      "execution_count": 53,
      "outputs": [
        {
          "output_type": "execute_result",
          "data": {
            "text/plain": [
              "(256, 256)"
            ]
          },
          "metadata": {
            "tags": []
          },
          "execution_count": 53
        }
      ]
    },
    {
      "metadata": {
        "id": "3pePQgkGJRya",
        "colab_type": "code",
        "colab": {
          "base_uri": "https://localhost:8080/",
          "height": 340
        },
        "outputId": "70f6b8a2-73ee-4eea-840e-0849b46fe637"
      },
      "cell_type": "code",
      "source": [
        "print(train_data[0])"
      ],
      "execution_count": 54,
      "outputs": [
        {
          "output_type": "stream",
          "text": [
            "[   1   14   22   16   43  530  973 1622 1385   65  458 4468   66 3941\n",
            "    4  173   36  256    5   25  100   43  838  112   50  670    2    9\n",
            "   35  480  284    5  150    4  172  112  167    2  336  385   39    4\n",
            "  172 4536 1111   17  546   38   13  447    4  192   50   16    6  147\n",
            " 2025   19   14   22    4 1920 4613  469    4   22   71   87   12   16\n",
            "   43  530   38   76   15   13 1247    4   22   17  515   17   12   16\n",
            "  626   18    2    5   62  386   12    8  316    8  106    5    4 2223\n",
            " 5244   16  480   66 3785   33    4  130   12   16   38  619    5   25\n",
            "  124   51   36  135   48   25 1415   33    6   22   12  215   28   77\n",
            "   52    5   14  407   16   82    2    8    4  107  117 5952   15  256\n",
            "    4    2    7 3766    5  723   36   71   43  530  476   26  400  317\n",
            "   46    7    4    2 1029   13  104   88    4  381   15  297   98   32\n",
            " 2071   56   26  141    6  194 7486   18    4  226   22   21  134  476\n",
            "   26  480    5  144   30 5535   18   51   36   28  224   92   25  104\n",
            "    4  226   65   16   38 1334   88   12   16  283    5   16 4472  113\n",
            "  103   32   15   16 5345   19  178   32    0    0    0    0    0    0\n",
            "    0    0    0    0    0    0    0    0    0    0    0    0    0    0\n",
            "    0    0    0    0    0    0    0    0    0    0    0    0    0    0\n",
            "    0    0    0    0]\n"
          ],
          "name": "stdout"
        }
      ]
    },
    {
      "metadata": {
        "id": "yDI7_AlfJUCz",
        "colab_type": "code",
        "colab": {
          "base_uri": "https://localhost:8080/",
          "height": 272
        },
        "outputId": "bf03cc45-9060-474b-f43e-0703c2c9c20e"
      },
      "cell_type": "code",
      "source": [
        "# input shape is the vocabulary count used for the movie reviews (10,000 words)\n",
        "vocab_size = 10000\n",
        "\n",
        "model = keras.Sequential()\n",
        "model.add(keras.layers.Embedding(vocab_size, 16))\n",
        "model.add(keras.layers.GlobalAveragePooling1D())\n",
        "model.add(keras.layers.Dense(16, activation=tf.nn.relu))\n",
        "model.add(keras.layers.Dense(1, activation=tf.nn.sigmoid))\n",
        "\n",
        "model.summary()"
      ],
      "execution_count": 55,
      "outputs": [
        {
          "output_type": "stream",
          "text": [
            "_________________________________________________________________\n",
            "Layer (type)                 Output Shape              Param #   \n",
            "=================================================================\n",
            "embedding (Embedding)        (None, None, 16)          160000    \n",
            "_________________________________________________________________\n",
            "global_average_pooling1d (Gl (None, 16)                0         \n",
            "_________________________________________________________________\n",
            "dense_4 (Dense)              (None, 16)                272       \n",
            "_________________________________________________________________\n",
            "dense_5 (Dense)              (None, 1)                 17        \n",
            "=================================================================\n",
            "Total params: 160,289\n",
            "Trainable params: 160,289\n",
            "Non-trainable params: 0\n",
            "_________________________________________________________________\n"
          ],
          "name": "stdout"
        }
      ]
    },
    {
      "metadata": {
        "id": "P8LmTlgpJZa6",
        "colab_type": "code",
        "colab": {}
      },
      "cell_type": "code",
      "source": [
        "model.compile(optimizer=tf.train.AdamOptimizer(),\n",
        "              loss='binary_crossentropy',\n",
        "              metrics=['accuracy'])"
      ],
      "execution_count": 0,
      "outputs": []
    },
    {
      "metadata": {
        "id": "CENZZCfFJi9V",
        "colab_type": "code",
        "colab": {}
      },
      "cell_type": "code",
      "source": [
        "x_val = train_data[:10000]\n",
        "partial_x_train = train_data[10000:]\n",
        "\n",
        "y_val = train_labels[:10000]\n",
        "partial_y_train = train_labels[10000:]"
      ],
      "execution_count": 0,
      "outputs": []
    },
    {
      "metadata": {
        "id": "tbaoYi2vJqFn",
        "colab_type": "code",
        "colab": {
          "base_uri": "https://localhost:8080/",
          "height": 1394
        },
        "outputId": "ef951efb-ba1f-4833-d252-8e4100b5d087"
      },
      "cell_type": "code",
      "source": [
        "history = model.fit(partial_x_train,\n",
        "                    partial_y_train,\n",
        "                    epochs=40,\n",
        "                    batch_size=512,\n",
        "                    validation_data=(x_val, y_val),\n",
        "                    verbose=1)"
      ],
      "execution_count": 58,
      "outputs": [
        {
          "output_type": "stream",
          "text": [
            "Train on 15000 samples, validate on 10000 samples\n",
            "Epoch 1/40\n",
            "15000/15000 [==============================] - 1s 75us/step - loss: 0.6906 - acc: 0.6231 - val_loss: 0.6872 - val_acc: 0.6695\n",
            "Epoch 2/40\n",
            "15000/15000 [==============================] - 1s 61us/step - loss: 0.6810 - acc: 0.7381 - val_loss: 0.6749 - val_acc: 0.7367\n",
            "Epoch 3/40\n",
            "15000/15000 [==============================] - 1s 59us/step - loss: 0.6633 - acc: 0.7652 - val_loss: 0.6539 - val_acc: 0.7601\n",
            "Epoch 4/40\n",
            "15000/15000 [==============================] - 1s 59us/step - loss: 0.6353 - acc: 0.7761 - val_loss: 0.6245 - val_acc: 0.7769\n",
            "Epoch 5/40\n",
            "15000/15000 [==============================] - 1s 60us/step - loss: 0.5981 - acc: 0.8031 - val_loss: 0.5865 - val_acc: 0.7940\n",
            "Epoch 6/40\n",
            "15000/15000 [==============================] - 1s 58us/step - loss: 0.5546 - acc: 0.8225 - val_loss: 0.5457 - val_acc: 0.8087\n",
            "Epoch 7/40\n",
            "15000/15000 [==============================] - 1s 58us/step - loss: 0.5085 - acc: 0.8389 - val_loss: 0.5044 - val_acc: 0.8240\n",
            "Epoch 8/40\n",
            "15000/15000 [==============================] - 1s 57us/step - loss: 0.4639 - acc: 0.8545 - val_loss: 0.4662 - val_acc: 0.8378\n",
            "Epoch 9/40\n",
            "15000/15000 [==============================] - 1s 56us/step - loss: 0.4238 - acc: 0.8644 - val_loss: 0.4329 - val_acc: 0.8457\n",
            "Epoch 10/40\n",
            "15000/15000 [==============================] - 1s 58us/step - loss: 0.3881 - acc: 0.8777 - val_loss: 0.4052 - val_acc: 0.8521\n",
            "Epoch 11/40\n",
            "15000/15000 [==============================] - 1s 57us/step - loss: 0.3582 - acc: 0.8839 - val_loss: 0.3844 - val_acc: 0.8584\n",
            "Epoch 12/40\n",
            "15000/15000 [==============================] - 1s 56us/step - loss: 0.3330 - acc: 0.8904 - val_loss: 0.3636 - val_acc: 0.8649\n",
            "Epoch 13/40\n",
            "15000/15000 [==============================] - 1s 57us/step - loss: 0.3100 - acc: 0.8980 - val_loss: 0.3491 - val_acc: 0.8691\n",
            "Epoch 14/40\n",
            "15000/15000 [==============================] - 1s 58us/step - loss: 0.2909 - acc: 0.9032 - val_loss: 0.3360 - val_acc: 0.8722\n",
            "Epoch 15/40\n",
            "15000/15000 [==============================] - 1s 58us/step - loss: 0.2741 - acc: 0.9069 - val_loss: 0.3258 - val_acc: 0.8752\n",
            "Epoch 16/40\n",
            "15000/15000 [==============================] - 1s 58us/step - loss: 0.2597 - acc: 0.9111 - val_loss: 0.3173 - val_acc: 0.8767\n",
            "Epoch 17/40\n",
            "15000/15000 [==============================] - 1s 58us/step - loss: 0.2457 - acc: 0.9175 - val_loss: 0.3103 - val_acc: 0.8779\n",
            "Epoch 18/40\n",
            "15000/15000 [==============================] - 1s 58us/step - loss: 0.2335 - acc: 0.9213 - val_loss: 0.3044 - val_acc: 0.8807\n",
            "Epoch 19/40\n",
            "15000/15000 [==============================] - 1s 57us/step - loss: 0.2222 - acc: 0.9246 - val_loss: 0.2997 - val_acc: 0.8820\n",
            "Epoch 20/40\n",
            "15000/15000 [==============================] - 1s 57us/step - loss: 0.2122 - acc: 0.9279 - val_loss: 0.2957 - val_acc: 0.8822\n",
            "Epoch 21/40\n",
            "15000/15000 [==============================] - 1s 57us/step - loss: 0.2024 - acc: 0.9319 - val_loss: 0.2924 - val_acc: 0.8829\n",
            "Epoch 22/40\n",
            "15000/15000 [==============================] - 1s 57us/step - loss: 0.1935 - acc: 0.9363 - val_loss: 0.2903 - val_acc: 0.8833\n",
            "Epoch 23/40\n",
            "15000/15000 [==============================] - 1s 58us/step - loss: 0.1854 - acc: 0.9387 - val_loss: 0.2886 - val_acc: 0.8837\n",
            "Epoch 24/40\n",
            "15000/15000 [==============================] - 1s 60us/step - loss: 0.1772 - acc: 0.9435 - val_loss: 0.2865 - val_acc: 0.8841\n",
            "Epoch 25/40\n",
            "15000/15000 [==============================] - 1s 60us/step - loss: 0.1701 - acc: 0.9463 - val_loss: 0.2855 - val_acc: 0.8853\n",
            "Epoch 26/40\n",
            "15000/15000 [==============================] - 1s 60us/step - loss: 0.1629 - acc: 0.9488 - val_loss: 0.2851 - val_acc: 0.8854\n",
            "Epoch 27/40\n",
            "15000/15000 [==============================] - 1s 61us/step - loss: 0.1569 - acc: 0.9519 - val_loss: 0.2854 - val_acc: 0.8845\n",
            "Epoch 28/40\n",
            "15000/15000 [==============================] - 1s 60us/step - loss: 0.1506 - acc: 0.9547 - val_loss: 0.2848 - val_acc: 0.8865\n",
            "Epoch 29/40\n",
            "15000/15000 [==============================] - 1s 59us/step - loss: 0.1448 - acc: 0.9561 - val_loss: 0.2851 - val_acc: 0.8863\n",
            "Epoch 30/40\n",
            "15000/15000 [==============================] - 1s 60us/step - loss: 0.1397 - acc: 0.9584 - val_loss: 0.2861 - val_acc: 0.8864\n",
            "Epoch 31/40\n",
            "15000/15000 [==============================] - 1s 60us/step - loss: 0.1337 - acc: 0.9607 - val_loss: 0.2872 - val_acc: 0.8860\n",
            "Epoch 32/40\n",
            "15000/15000 [==============================] - 1s 60us/step - loss: 0.1290 - acc: 0.9629 - val_loss: 0.2886 - val_acc: 0.8862\n",
            "Epoch 33/40\n",
            "15000/15000 [==============================] - 1s 59us/step - loss: 0.1236 - acc: 0.9658 - val_loss: 0.2902 - val_acc: 0.8853\n",
            "Epoch 34/40\n",
            "15000/15000 [==============================] - 1s 60us/step - loss: 0.1191 - acc: 0.9673 - val_loss: 0.2923 - val_acc: 0.8853\n",
            "Epoch 35/40\n",
            "15000/15000 [==============================] - 1s 61us/step - loss: 0.1151 - acc: 0.9681 - val_loss: 0.2938 - val_acc: 0.8853\n",
            "Epoch 36/40\n",
            "15000/15000 [==============================] - 1s 60us/step - loss: 0.1102 - acc: 0.9703 - val_loss: 0.2964 - val_acc: 0.8848\n",
            "Epoch 37/40\n",
            "15000/15000 [==============================] - 1s 60us/step - loss: 0.1063 - acc: 0.9711 - val_loss: 0.2990 - val_acc: 0.8849\n",
            "Epoch 38/40\n",
            "15000/15000 [==============================] - 1s 60us/step - loss: 0.1029 - acc: 0.9721 - val_loss: 0.3014 - val_acc: 0.8845\n",
            "Epoch 39/40\n",
            "15000/15000 [==============================] - 1s 59us/step - loss: 0.0986 - acc: 0.9735 - val_loss: 0.3036 - val_acc: 0.8847\n",
            "Epoch 40/40\n",
            "15000/15000 [==============================] - 1s 59us/step - loss: 0.0949 - acc: 0.9758 - val_loss: 0.3068 - val_acc: 0.8831\n"
          ],
          "name": "stdout"
        }
      ]
    },
    {
      "metadata": {
        "id": "VwUXXfkJJ6Vf",
        "colab_type": "code",
        "colab": {
          "base_uri": "https://localhost:8080/",
          "height": 51
        },
        "outputId": "eb8d9ae1-ffe1-447e-d49f-97c9b0d7064f"
      },
      "cell_type": "code",
      "source": [
        "results = model.evaluate(test_data, test_labels)\n",
        "\n",
        "print(results)"
      ],
      "execution_count": 59,
      "outputs": [
        {
          "output_type": "stream",
          "text": [
            "25000/25000 [==============================] - 1s 38us/step\n",
            "[0.3268502438783646, 0.87244]\n"
          ],
          "name": "stdout"
        }
      ]
    },
    {
      "metadata": {
        "id": "umkFBdSXJ_vY",
        "colab_type": "text"
      },
      "cell_type": "markdown",
      "source": [
        "And let's see how the model performs. Two values will be returned. Loss (a number which represents our error, lower values are better), and accuracy. This fairly naive approach achieves an accuracy of about 87%. With more advanced approaches, the model should get closer to 95%"
      ]
    },
    {
      "metadata": {
        "id": "6kOjkyL_KAWk",
        "colab_type": "code",
        "colab": {
          "base_uri": "https://localhost:8080/",
          "height": 34
        },
        "outputId": "43d2208d-376d-4865-f1af-bc200544561e"
      },
      "cell_type": "code",
      "source": [
        "history_dict = history.history\n",
        "history_dict.keys()"
      ],
      "execution_count": 62,
      "outputs": [
        {
          "output_type": "execute_result",
          "data": {
            "text/plain": [
              "dict_keys(['val_loss', 'val_acc', 'loss', 'acc'])"
            ]
          },
          "metadata": {
            "tags": []
          },
          "execution_count": 62
        }
      ]
    },
    {
      "metadata": {
        "id": "waLBU-_yKL6q",
        "colab_type": "code",
        "colab": {
          "base_uri": "https://localhost:8080/",
          "height": 376
        },
        "outputId": "afb661a5-f2cb-4536-ccd6-60e4c172e141"
      },
      "cell_type": "code",
      "source": [
        "import matplotlib.pyplot as plt\n",
        "\n",
        "acc = history.history['acc']\n",
        "val_acc = history.history['val_acc']\n",
        "loss = history.history['loss']\n",
        "val_loss = history.history['val_loss']\n",
        "\n",
        "epochs = range(1, len(acc) + 1)\n",
        "\n",
        "# \"bo\" is for \"blue dot\"\n",
        "plt.plot(epochs, loss, 'bo', label='Training loss')\n",
        "# b is for \"solid blue line\"\n",
        "plt.plot(epochs, val_loss, 'b', label='Validation loss')\n",
        "plt.title('Training and validation loss')\n",
        "plt.xlabel('Epochs')\n",
        "plt.ylabel('Loss')\n",
        "plt.legend()\n",
        "\n",
        "plt.show()"
      ],
      "execution_count": 63,
      "outputs": [
        {
          "output_type": "display_data",
          "data": {
            "image/png": "[encoded data removed]",
            "text/plain": [
              "<matplotlib.figure.Figure at 0x7ff69a9a0128>"
            ]
          },
          "metadata": {
            "tags": []
          }
        }
      ]
    },
    {
      "metadata": {
        "id": "3Om3rHLPKOR4",
        "colab_type": "code",
        "colab": {
          "base_uri": "https://localhost:8080/",
          "height": 376
        },
        "outputId": "4708de50-117f-4738-a82e-f62968a4b1aa"
      },
      "cell_type": "code",
      "source": [
        "plt.clf()   # clear figure\n",
        "acc_values = history_dict['acc']\n",
        "val_acc_values = history_dict['val_acc']\n",
        "\n",
        "plt.plot(epochs, acc, 'bo', label='Training acc')\n",
        "plt.plot(epochs, val_acc, 'b', label='Validation acc')\n",
        "plt.title('Training and validation accuracy')\n",
        "plt.xlabel('Epochs')\n",
        "plt.ylabel('Accuracy')\n",
        "plt.legend()\n",
        "\n",
        "plt.show()"
      ],
      "execution_count": 64,
      "outputs": [
        {
          "output_type": "display_data",
          "data": {
            "image/png": "[encoded data removed]",
            "text/plain": [
              "<matplotlib.figure.Figure at 0x7ff699a84ba8>"
            ]
          },
          "metadata": {
            "tags": []
          }
        }
      ]
    },
    {
      "metadata": {
        "id": "5pYmI5nzKi84",
        "colab_type": "code",
        "colab": {}
      },
      "cell_type": "code",
      "source": [
        ""
      ],
      "execution_count": 0,
      "outputs": []
    },
    {
      "metadata": {
        "id": "fCmGY7w9K7KK",
        "colab_type": "text"
      },
      "cell_type": "markdown",
      "source": [
        "### Regression Problem"
      ]
    },
    {
      "metadata": {
        "id": "C7Fr8_OhK-IY",
        "colab_type": "code",
        "colab": {
          "base_uri": "https://localhost:8080/",
          "height": 34
        },
        "outputId": "e68e7303-48c1-4166-c45d-3aa469d8a3ac"
      },
      "cell_type": "code",
      "source": [
        "from __future__ import absolute_import, division, print_function\n",
        "\n",
        "import tensorflow as tf\n",
        "from tensorflow import keras\n",
        "\n",
        "import numpy as np\n",
        "\n",
        "print(tf.__version__)"
      ],
      "execution_count": 66,
      "outputs": [
        {
          "output_type": "stream",
          "text": [
            "1.11.0-rc2\n"
          ],
          "name": "stdout"
        }
      ]
    },
    {
      "metadata": {
        "id": "zv7IpCT7K-gQ",
        "colab_type": "code",
        "colab": {
          "base_uri": "https://localhost:8080/",
          "height": 51
        },
        "outputId": "4da74bba-3d9b-438e-dcc0-8acd537f064c"
      },
      "cell_type": "code",
      "source": [
        "boston_housing = keras.datasets.boston_housing\n",
        "\n",
        "(train_data, train_labels), (test_data, test_labels) = boston_housing.load_data()\n",
        "\n",
        "# Shuffle the training set\n",
        "order = np.argsort(np.random.random(train_labels.shape))\n",
        "train_data = train_data[order]\n",
        "train_labels = train_labels[order]"
      ],
      "execution_count": 68,
      "outputs": [
        {
          "output_type": "stream",
          "text": [
            "Downloading data from https://storage.googleapis.com/tensorflow/tf-keras-datasets/boston_housing.npz\n",
            "57344/57026 [==============================] - 0s 0us/step\n"
          ],
          "name": "stdout"
        }
      ]
    },
    {
      "metadata": {
        "id": "RcJOzJbNLJYA",
        "colab_type": "code",
        "colab": {
          "base_uri": "https://localhost:8080/",
          "height": 51
        },
        "outputId": "25c77481-f9be-4c6e-b959-c669b0df3112"
      },
      "cell_type": "code",
      "source": [
        "print(\"Training set: {}\".format(train_data.shape))  # 404 examples, 13 features\n",
        "print(\"Testing set:  {}\".format(test_data.shape))   # 102 examples, 13 features"
      ],
      "execution_count": 69,
      "outputs": [
        {
          "output_type": "stream",
          "text": [
            "Training set: (404, 13)\n",
            "Testing set:  (102, 13)\n"
          ],
          "name": "stdout"
        }
      ]
    },
    {
      "metadata": {
        "id": "r51gYghhLQFt",
        "colab_type": "code",
        "colab": {
          "base_uri": "https://localhost:8080/",
          "height": 68
        },
        "outputId": "3c6ba94a-b8be-4949-d43a-3c230cf7412c"
      },
      "cell_type": "code",
      "source": [
        "print(train_data[0])  # Display sample features, notice the different scales"
      ],
      "execution_count": 70,
      "outputs": [
        {
          "output_type": "stream",
          "text": [
            "[7.8750e-02 4.5000e+01 3.4400e+00 0.0000e+00 4.3700e-01 6.7820e+00\n",
            " 4.1100e+01 3.7886e+00 5.0000e+00 3.9800e+02 1.5200e+01 3.9387e+02\n",
            " 6.6800e+00]\n"
          ],
          "name": "stdout"
        }
      ]
    },
    {
      "metadata": {
        "id": "oVlqcqN3LS7V",
        "colab_type": "code",
        "colab": {
          "base_uri": "https://localhost:8080/",
          "height": 204
        },
        "outputId": "275f0897-e5d3-481f-ed0a-ba933b73255e"
      },
      "cell_type": "code",
      "source": [
        "import pandas as pd\n",
        "\n",
        "column_names = ['CRIM', 'ZN', 'INDUS', 'CHAS', 'NOX', 'RM', 'AGE', 'DIS', 'RAD',\n",
        "                'TAX', 'PTRATIO', 'B', 'LSTAT']\n",
        "\n",
        "df = pd.DataFrame(train_data, columns=column_names)\n",
        "df.head()"
      ],
      "execution_count": 76,
      "outputs": [
        {
          "output_type": "execute_result",
          "data": {
            "text/html": [
              "<div>\n",
              "<style scoped>\n",
              "    .dataframe tbody tr th:only-of-type {\n",
              "        vertical-align: middle;\n",
              "    }\n",
              "\n",
              "    .dataframe tbody tr th {\n",
              "        vertical-align: top;\n",
              "    }\n",
              "\n",
              "    .dataframe thead th {\n",
              "        text-align: right;\n",
              "    }\n",
              "</style>\n",
              "<table border=\"1\" class=\"dataframe\">\n",
              "  <thead>\n",
              "    <tr style=\"text-align: right;\">\n",
              "      <th></th>\n",
              "      <th>CRIM</th>\n",
              "      <th>ZN</th>\n",
              "      <th>INDUS</th>\n",
              "      <th>CHAS</th>\n",
              "      <th>NOX</th>\n",
              "      <th>RM</th>\n",
              "      <th>AGE</th>\n",
              "      <th>DIS</th>\n",
              "      <th>RAD</th>\n",
              "      <th>TAX</th>\n",
              "      <th>PTRATIO</th>\n",
              "      <th>B</th>\n",
              "      <th>LSTAT</th>\n",
              "    </tr>\n",
              "  </thead>\n",
              "  <tbody>\n",
              "    <tr>\n",
              "      <th>0</th>\n",
              "      <td>-0.397253</td>\n",
              "      <td>1.412057</td>\n",
              "      <td>-1.126646</td>\n",
              "      <td>-0.256833</td>\n",
              "      <td>-1.027385</td>\n",
              "      <td>0.726354</td>\n",
              "      <td>-1.000164</td>\n",
              "      <td>0.023834</td>\n",
              "      <td>-0.511142</td>\n",
              "      <td>-0.047533</td>\n",
              "      <td>-1.490674</td>\n",
              "      <td>0.415841</td>\n",
              "      <td>-0.836487</td>\n",
              "    </tr>\n",
              "    <tr>\n",
              "      <th>1</th>\n",
              "      <td>0.087846</td>\n",
              "      <td>-0.483615</td>\n",
              "      <td>1.028326</td>\n",
              "      <td>-0.256833</td>\n",
              "      <td>1.371293</td>\n",
              "      <td>-3.817250</td>\n",
              "      <td>0.676891</td>\n",
              "      <td>-1.049006</td>\n",
              "      <td>1.675886</td>\n",
              "      <td>1.565287</td>\n",
              "      <td>0.784476</td>\n",
              "      <td>-0.000885</td>\n",
              "      <td>-0.775760</td>\n",
              "    </tr>\n",
              "    <tr>\n",
              "      <th>2</th>\n",
              "      <td>-0.395379</td>\n",
              "      <td>1.201427</td>\n",
              "      <td>-0.690066</td>\n",
              "      <td>-0.256833</td>\n",
              "      <td>-0.942023</td>\n",
              "      <td>0.827918</td>\n",
              "      <td>-0.939245</td>\n",
              "      <td>0.259915</td>\n",
              "      <td>-0.626249</td>\n",
              "      <td>-0.914123</td>\n",
              "      <td>-0.398602</td>\n",
              "      <td>0.448077</td>\n",
              "      <td>-1.347144</td>\n",
              "    </tr>\n",
              "    <tr>\n",
              "      <th>3</th>\n",
              "      <td>-0.403759</td>\n",
              "      <td>3.097099</td>\n",
              "      <td>-1.022279</td>\n",
              "      <td>-0.256833</td>\n",
              "      <td>-1.095675</td>\n",
              "      <td>0.351129</td>\n",
              "      <td>-1.480347</td>\n",
              "      <td>2.364762</td>\n",
              "      <td>-0.626249</td>\n",
              "      <td>-0.330379</td>\n",
              "      <td>-0.262093</td>\n",
              "      <td>0.400521</td>\n",
              "      <td>-0.880652</td>\n",
              "    </tr>\n",
              "    <tr>\n",
              "      <th>4</th>\n",
              "      <td>-0.348692</td>\n",
              "      <td>-0.483615</td>\n",
              "      <td>-0.720935</td>\n",
              "      <td>-0.256833</td>\n",
              "      <td>-0.455458</td>\n",
              "      <td>3.467186</td>\n",
              "      <td>0.501302</td>\n",
              "      <td>-0.417158</td>\n",
              "      <td>-0.165822</td>\n",
              "      <td>-0.595170</td>\n",
              "      <td>-0.489608</td>\n",
              "      <td>0.289557</td>\n",
              "      <td>-1.119419</td>\n",
              "    </tr>\n",
              "  </tbody>\n",
              "</table>\n",
              "</div>"
            ],
            "text/plain": [
              "       CRIM        ZN     INDUS      CHAS       NOX        RM       AGE  \\\n",
              "0 -0.397253  1.412057 -1.126646 -0.256833 -1.027385  0.726354 -1.000164   \n",
              "1  0.087846 -0.483615  1.028326 -0.256833  1.371293 -3.817250  0.676891   \n",
              "2 -0.395379  1.201427 -0.690066 -0.256833 -0.942023  0.827918 -0.939245   \n",
              "3 -0.403759  3.097099 -1.022279 -0.256833 -1.095675  0.351129 -1.480347   \n",
              "4 -0.348692 -0.483615 -0.720935 -0.256833 -0.455458  3.467186  0.501302   \n",
              "\n",
              "        DIS       RAD       TAX   PTRATIO         B     LSTAT  \n",
              "0  0.023834 -0.511142 -0.047533 -1.490674  0.415841 -0.836487  \n",
              "1 -1.049006  1.675886  1.565287  0.784476 -0.000885 -0.775760  \n",
              "2  0.259915 -0.626249 -0.914123 -0.398602  0.448077 -1.347144  \n",
              "3  2.364762 -0.626249 -0.330379 -0.262093  0.400521 -0.880652  \n",
              "4 -0.417158 -0.165822 -0.595170 -0.489608  0.289557 -1.119419  "
            ]
          },
          "metadata": {
            "tags": []
          },
          "execution_count": 76
        }
      ]
    },
    {
      "metadata": {
        "id": "VSPOZEACLyRn",
        "colab_type": "code",
        "colab": {
          "base_uri": "https://localhost:8080/",
          "height": 34
        },
        "outputId": "d93d900a-6380-4018-b755-f56323975298"
      },
      "cell_type": "code",
      "source": [
        "train_data.shape"
      ],
      "execution_count": 77,
      "outputs": [
        {
          "output_type": "execute_result",
          "data": {
            "text/plain": [
              "(404, 13)"
            ]
          },
          "metadata": {
            "tags": []
          },
          "execution_count": 77
        }
      ]
    },
    {
      "metadata": {
        "id": "JuGzkRIALVjN",
        "colab_type": "code",
        "colab": {
          "base_uri": "https://localhost:8080/",
          "height": 34
        },
        "outputId": "114f2496-0d5f-405f-81db-ddae1ce9e572"
      },
      "cell_type": "code",
      "source": [
        "print(train_labels[0:10])  # Display first 10 entries"
      ],
      "execution_count": 72,
      "outputs": [
        {
          "output_type": "stream",
          "text": [
            "[32.  27.5 32.  23.1 50.  20.6 22.6 36.2 21.8 19.5]\n"
          ],
          "name": "stdout"
        }
      ]
    },
    {
      "metadata": {
        "id": "je913rHQLYjD",
        "colab_type": "code",
        "colab": {
          "base_uri": "https://localhost:8080/",
          "height": 68
        },
        "outputId": "c104b61c-1011-4173-e8a3-96d5816b6d4c"
      },
      "cell_type": "code",
      "source": [
        "# Test data is *not* used when calculating the mean and std\n",
        "\n",
        "mean = train_data.mean(axis=0)\n",
        "std = train_data.std(axis=0)\n",
        "train_data = (train_data - mean) / std\n",
        "test_data = (test_data - mean) / std\n",
        "\n",
        "print(train_data[0])  # First training sample, normalized"
      ],
      "execution_count": 73,
      "outputs": [
        {
          "output_type": "stream",
          "text": [
            "[-0.39725269  1.41205707 -1.12664623 -0.25683275 -1.027385    0.72635358\n",
            " -1.00016413  0.02383449 -0.51114231 -0.04753316 -1.49067405  0.41584124\n",
            " -0.83648691]\n"
          ],
          "name": "stdout"
        }
      ]
    },
    {
      "metadata": {
        "id": "6pWu-C5eLbzk",
        "colab_type": "code",
        "colab": {
          "base_uri": "https://localhost:8080/",
          "height": 238
        },
        "outputId": "6e5d9729-994c-43e7-a293-c609da1e1c8a"
      },
      "cell_type": "code",
      "source": [
        "def build_model():\n",
        "  model = keras.Sequential([\n",
        "    keras.layers.Dense(64, activation=tf.nn.relu,\n",
        "                       input_shape=(train_data.shape[1],)),\n",
        "    keras.layers.Dense(64, activation=tf.nn.relu),\n",
        "    keras.layers.Dense(1)\n",
        "  ])\n",
        "\n",
        "  optimizer = tf.train.RMSPropOptimizer(0.001)\n",
        "\n",
        "  model.compile(loss='mse',\n",
        "                optimizer=optimizer,\n",
        "                metrics=['mae'])\n",
        "  return model\n",
        "\n",
        "model = build_model()\n",
        "model.summary()"
      ],
      "execution_count": 74,
      "outputs": [
        {
          "output_type": "stream",
          "text": [
            "_________________________________________________________________\n",
            "Layer (type)                 Output Shape              Param #   \n",
            "=================================================================\n",
            "dense_6 (Dense)              (None, 64)                896       \n",
            "_________________________________________________________________\n",
            "dense_7 (Dense)              (None, 64)                4160      \n",
            "_________________________________________________________________\n",
            "dense_8 (Dense)              (None, 1)                 65        \n",
            "=================================================================\n",
            "Total params: 5,121\n",
            "Trainable params: 5,121\n",
            "Non-trainable params: 0\n",
            "_________________________________________________________________\n"
          ],
          "name": "stdout"
        }
      ]
    },
    {
      "metadata": {
        "id": "Y8Ibj6qjLi36",
        "colab_type": "code",
        "colab": {
          "base_uri": "https://localhost:8080/",
          "height": 119
        },
        "outputId": "17e1b3a1-fec4-4e6b-deb0-6e7c0214077b"
      },
      "cell_type": "code",
      "source": [
        "# Display training progress by printing a single dot for each completed epoch\n",
        "class PrintDot(keras.callbacks.Callback):\n",
        "  def on_epoch_end(self, epoch, logs):\n",
        "    if epoch % 100 == 0: print('')\n",
        "    print('.', end='')\n",
        "\n",
        "EPOCHS = 500\n",
        "\n",
        "# Store training stats\n",
        "history = model.fit(train_data, train_labels, epochs=EPOCHS,\n",
        "                    validation_split=0.2, verbose=0,\n",
        "                    callbacks=[PrintDot()])"
      ],
      "execution_count": 75,
      "outputs": [
        {
          "output_type": "stream",
          "text": [
            "\n",
            "....................................................................................................\n",
            "....................................................................................................\n",
            "....................................................................................................\n",
            "....................................................................................................\n",
            "...................................................................................................."
          ],
          "name": "stdout"
        }
      ]
    },
    {
      "metadata": {
        "id": "gwleH40aLm6T",
        "colab_type": "code",
        "colab": {
          "base_uri": "https://localhost:8080/",
          "height": 365
        },
        "outputId": "64ed30c2-d38d-4084-92b8-013fb13a37ca"
      },
      "cell_type": "code",
      "source": [
        "import matplotlib.pyplot as plt\n",
        "\n",
        "\n",
        "def plot_history(history):\n",
        "  plt.figure()\n",
        "  plt.xlabel('Epoch')\n",
        "  plt.ylabel('Mean Abs Error [1000$]')\n",
        "  plt.plot(history.epoch, np.array(history.history['mean_absolute_error']),\n",
        "           label='Train Loss')\n",
        "  plt.plot(history.epoch, np.array(history.history['val_mean_absolute_error']),\n",
        "           label = 'Val loss')\n",
        "  plt.legend()\n",
        "  plt.ylim([0, 5])\n",
        "\n",
        "plot_history(history)"
      ],
      "execution_count": 78,
      "outputs": [
        {
          "output_type": "display_data",
          "data": {
            "image/png": "[encoded data removed]",
            "text/plain": [
              "<matplotlib.figure.Figure at 0x7ff68a314780>"
            ]
          },
          "metadata": {
            "tags": []
          }
        }
      ]
    },
    {
      "metadata": {
        "id": "pe4xWzGfL3R3",
        "colab_type": "code",
        "colab": {
          "base_uri": "https://localhost:8080/",
          "height": 416
        },
        "outputId": "c988c540-e73c-400f-e570-8a722d182dbb"
      },
      "cell_type": "code",
      "source": [
        "model = build_model()\n",
        "\n",
        "# The patience parameter is the amount of epochs to check for improvement\n",
        "early_stop = keras.callbacks.EarlyStopping(monitor='val_loss', patience=20)\n",
        "\n",
        "history = model.fit(train_data, train_labels, epochs=EPOCHS,\n",
        "                    validation_split=0.2, verbose=0,\n",
        "                    callbacks=[early_stop, PrintDot()])\n",
        "\n",
        "plot_history(history)"
      ],
      "execution_count": 79,
      "outputs": [
        {
          "output_type": "stream",
          "text": [
            "\n",
            "....................................................................................................\n",
            "........................................."
          ],
          "name": "stdout"
        },
        {
          "output_type": "display_data",
          "data": {
            "image/png": "[encoded data removed]",
            "text/plain": [
              "<matplotlib.figure.Figure at 0x7ff68cda04a8>"
            ]
          },
          "metadata": {
            "tags": []
          }
        }
      ]
    },
    {
      "metadata": {
        "id": "Sx2JAbiKMS3P",
        "colab_type": "code",
        "colab": {
          "base_uri": "https://localhost:8080/",
          "height": 34
        },
        "outputId": "a1a2dd71-6d15-4d24-857e-3a3fb92bd66b"
      },
      "cell_type": "code",
      "source": [
        "[loss, mae] = model.evaluate(test_data, test_labels, verbose=0)\n",
        "\n",
        "print(\"Testing set Mean Abs Error: ${:7.2f}\".format(mae * 1000))"
      ],
      "execution_count": 80,
      "outputs": [
        {
          "output_type": "stream",
          "text": [
            "Testing set Mean Abs Error: $2905.03\n"
          ],
          "name": "stdout"
        }
      ]
    },
    {
      "metadata": {
        "id": "7Dhqw_ivMeSA",
        "colab_type": "code",
        "colab": {
          "base_uri": "https://localhost:8080/",
          "height": 361
        },
        "outputId": "285d8b12-d717-44f7-fa22-c5be21b820f4"
      },
      "cell_type": "code",
      "source": [
        "test_predictions = model.predict(test_data).flatten()\n",
        "\n",
        "plt.scatter(test_labels, test_predictions)\n",
        "plt.xlabel('True Values [1000$]')\n",
        "plt.ylabel('Predictions [1000$]')\n",
        "plt.axis('equal')\n",
        "plt.xlim(plt.xlim())\n",
        "plt.ylim(plt.ylim())\n",
        "_ = plt.plot([-100, 100], [-100, 100])"
      ],
      "execution_count": 81,
      "outputs": [
        {
          "output_type": "display_data",
          "data": {
            "image/png": "[encoded data removed]",
            "text/plain": [
              "<matplotlib.figure.Figure at 0x7ff68a315e80>"
            ]
          },
          "metadata": {
            "tags": []
          }
        }
      ]
    },
    {
      "metadata": {
        "id": "0UCDQjljMjgv",
        "colab_type": "code",
        "colab": {
          "base_uri": "https://localhost:8080/",
          "height": 361
        },
        "outputId": "d0d340ce-0618-44f0-973b-391a1aadf5a8"
      },
      "cell_type": "code",
      "source": [
        "error = test_predictions - test_labels\n",
        "plt.hist(error, bins = 50)\n",
        "plt.xlabel(\"Prediction Error [1000$]\")\n",
        "_ = plt.ylabel(\"Count\")"
      ],
      "execution_count": 82,
      "outputs": [
        {
          "output_type": "display_data",
          "data": {
            "image/png": "[encoded data removed]",
            "text/plain": [
              "<matplotlib.figure.Figure at 0x7ff699becf28>"
            ]
          },
          "metadata": {
            "tags": []
          }
        }
      ]
    },
    {
      "metadata": {
        "id": "gd1UDEvxOCs3",
        "colab_type": "text"
      },
      "cell_type": "markdown",
      "source": [
        "### Overfitting and Dropout"
      ]
    },
    {
      "metadata": {
        "id": "thIeV0dTMokL",
        "colab_type": "code",
        "colab": {
          "base_uri": "https://localhost:8080/",
          "height": 34
        },
        "outputId": "7813159e-9333-497a-843c-535a9adf4770"
      },
      "cell_type": "code",
      "source": [
        "import tensorflow as tf\n",
        "from tensorflow import keras\n",
        "\n",
        "import numpy as np\n",
        "import matplotlib.pyplot as plt\n",
        "\n",
        "print(tf.__version__)"
      ],
      "execution_count": 91,
      "outputs": [
        {
          "output_type": "stream",
          "text": [
            "1.11.0-rc2\n"
          ],
          "name": "stdout"
        }
      ]
    },
    {
      "metadata": {
        "id": "cIabn0h4N_lI",
        "colab_type": "code",
        "colab": {}
      },
      "cell_type": "code",
      "source": [
        "NUM_WORDS = 10000\n",
        "\n",
        "(train_data, train_labels), (test_data, test_labels) = keras.datasets.imdb.load_data(num_words=NUM_WORDS)\n",
        "\n",
        "def multi_hot_sequences(sequences, dimension):\n",
        "    # Create an all-zero matrix of shape (len(sequences), dimension)\n",
        "    results = np.zeros((len(sequences), dimension))\n",
        "    for i, word_indices in enumerate(sequences):\n",
        "        results[i, word_indices] = 1.0  # set specific indices of results[i] to 1s\n",
        "    return results\n",
        "\n",
        "\n",
        "train_data = multi_hot_sequences(train_data, dimension=NUM_WORDS)\n",
        "test_data = multi_hot_sequences(test_data, dimension=NUM_WORDS)"
      ],
      "execution_count": 0,
      "outputs": []
    },
    {
      "metadata": {
        "id": "3RzOjuV6ObUg",
        "colab_type": "code",
        "colab": {
          "base_uri": "https://localhost:8080/",
          "height": 364
        },
        "outputId": "18b5a195-0db1-48f9-a431-8362dc39517f"
      },
      "cell_type": "code",
      "source": [
        "plt.plot(train_data[0])"
      ],
      "execution_count": 93,
      "outputs": [
        {
          "output_type": "execute_result",
          "data": {
            "text/plain": [
              "[<matplotlib.lines.Line2D at 0x7ff699bd69b0>]"
            ]
          },
          "metadata": {
            "tags": []
          },
          "execution_count": 93
        },
        {
          "output_type": "display_data",
          "data": {
            "image/png": "[encoded data removed]",
            "text/plain": [
              "<matplotlib.figure.Figure at 0x7ff69a99dc18>"
            ]
          },
          "metadata": {
            "tags": []
          }
        }
      ]
    },
    {
      "metadata": {
        "id": "ogz8R3amOvZ1",
        "colab_type": "code",
        "colab": {}
      },
      "cell_type": "code",
      "source": [
        ""
      ],
      "execution_count": 0,
      "outputs": []
    },
    {
      "metadata": {
        "id": "O237eRT6Pz-V",
        "colab_type": "text"
      },
      "cell_type": "markdown",
      "source": [
        "The simplest way to prevent overfitting is to reduce the size of the model, i.e. the number of learnable parameters in the model (which is determined by the number of layers and the number of units per layer). In deep learning, the number of learnable parameters in a model is often referred to as the model's \"capacity\". Intuitively, a model with more parameters will have more \"memorization capacity\" and therefore will be able to easily learn a perfect dictionary-like mapping between training samples and their targets, a mapping without any generalization power, but this would be useless when making predictions on previously unseen data.\n",
        "\n",
        "Always keep this in mind: deep learning models tend to be good at fitting to the training data, but the real challenge is generalization, not fitting.\n",
        "\n",
        "On the other hand, if the network has limited memorization resources, it will not be able to learn the mapping as easily. To minimize its loss, it will have to learn compressed representations that have more predictive power. At the same time, if you make your model too small, it will have difficulty fitting to the training data. There is a balance between \"too much capacity\" and \"not enough capacity\".\n",
        "\n",
        "Unfortunately, there is no magical formula to determine the right size or architecture of your model (in terms of the number of layers, or what the right size for each layer). You will have to experiment using a series of different architectures.\n",
        "\n",
        "To find an appropriate model size, it's best to start with relatively few layers and parameters, then begin increasing the size of the layers or adding new layers until you see diminishing returns on the validation loss. Let's try this on our movie review classification network.\n",
        "\n",
        "We'll create a simple model using only Dense layers as a baseline, then create smaller and larger versions, and compare them."
      ]
    },
    {
      "metadata": {
        "id": "7Y_mfe1EP0ao",
        "colab_type": "code",
        "colab": {
          "base_uri": "https://localhost:8080/",
          "height": 238
        },
        "outputId": "be4f1690-2d77-4c05-cace-b999eec9a539"
      },
      "cell_type": "code",
      "source": [
        "baseline_model = keras.Sequential([\n",
        "    # `input_shape` is only required here so that `.summary` works. \n",
        "    keras.layers.Dense(16, activation=tf.nn.relu, input_shape=(NUM_WORDS,)),\n",
        "    keras.layers.Dense(16, activation=tf.nn.relu),\n",
        "    keras.layers.Dense(1, activation=tf.nn.sigmoid)\n",
        "])\n",
        "\n",
        "baseline_model.compile(optimizer='adam',\n",
        "                       loss='binary_crossentropy',\n",
        "                       metrics=['accuracy', 'binary_crossentropy'])\n",
        "\n",
        "baseline_model.summary()"
      ],
      "execution_count": 94,
      "outputs": [
        {
          "output_type": "stream",
          "text": [
            "_________________________________________________________________\n",
            "Layer (type)                 Output Shape              Param #   \n",
            "=================================================================\n",
            "dense_24 (Dense)             (None, 16)                160016    \n",
            "_________________________________________________________________\n",
            "dense_25 (Dense)             (None, 16)                272       \n",
            "_________________________________________________________________\n",
            "dense_26 (Dense)             (None, 1)                 17        \n",
            "=================================================================\n",
            "Total params: 160,305\n",
            "Trainable params: 160,305\n",
            "Non-trainable params: 0\n",
            "_________________________________________________________________\n"
          ],
          "name": "stdout"
        }
      ]
    },
    {
      "metadata": {
        "id": "509eiU7iP94U",
        "colab_type": "code",
        "colab": {
          "base_uri": "https://localhost:8080/",
          "height": 714
        },
        "outputId": "84c3a7d3-1ee2-4d78-be82-340dfd09be49"
      },
      "cell_type": "code",
      "source": [
        "baseline_history = baseline_model.fit(train_data,\n",
        "                                      train_labels,\n",
        "                                      epochs=20,\n",
        "                                      batch_size=512,\n",
        "                                      validation_data=(test_data, test_labels),\n",
        "                                      verbose=2)"
      ],
      "execution_count": 95,
      "outputs": [
        {
          "output_type": "stream",
          "text": [
            "Train on 25000 samples, validate on 25000 samples\n",
            "Epoch 1/20\n",
            " - 5s - loss: 0.4764 - acc: 0.7886 - binary_crossentropy: 0.4764 - val_loss: 0.3229 - val_acc: 0.8802 - val_binary_crossentropy: 0.3229\n",
            "Epoch 2/20\n",
            " - 4s - loss: 0.2361 - acc: 0.9144 - binary_crossentropy: 0.2361 - val_loss: 0.2841 - val_acc: 0.8888 - val_binary_crossentropy: 0.2841\n",
            "Epoch 3/20\n",
            " - 4s - loss: 0.1698 - acc: 0.9418 - binary_crossentropy: 0.1698 - val_loss: 0.2954 - val_acc: 0.8837 - val_binary_crossentropy: 0.2954\n",
            "Epoch 4/20\n",
            " - 4s - loss: 0.1328 - acc: 0.9562 - binary_crossentropy: 0.1328 - val_loss: 0.3250 - val_acc: 0.8768 - val_binary_crossentropy: 0.3250\n",
            "Epoch 5/20\n",
            " - 4s - loss: 0.1079 - acc: 0.9652 - binary_crossentropy: 0.1079 - val_loss: 0.3567 - val_acc: 0.8716 - val_binary_crossentropy: 0.3567\n",
            "Epoch 6/20\n",
            " - 4s - loss: 0.0841 - acc: 0.9752 - binary_crossentropy: 0.0841 - val_loss: 0.3920 - val_acc: 0.8675 - val_binary_crossentropy: 0.3920\n",
            "Epoch 7/20\n",
            " - 4s - loss: 0.0639 - acc: 0.9839 - binary_crossentropy: 0.0639 - val_loss: 0.4467 - val_acc: 0.8614 - val_binary_crossentropy: 0.4467\n",
            "Epoch 8/20\n",
            " - 4s - loss: 0.0488 - acc: 0.9892 - binary_crossentropy: 0.0488 - val_loss: 0.4698 - val_acc: 0.8633 - val_binary_crossentropy: 0.4698\n",
            "Epoch 9/20\n",
            " - 4s - loss: 0.0358 - acc: 0.9942 - binary_crossentropy: 0.0358 - val_loss: 0.5101 - val_acc: 0.8612 - val_binary_crossentropy: 0.5101\n",
            "Epoch 10/20\n",
            " - 4s - loss: 0.0264 - acc: 0.9961 - binary_crossentropy: 0.0264 - val_loss: 0.5545 - val_acc: 0.8586 - val_binary_crossentropy: 0.5545\n",
            "Epoch 11/20\n",
            " - 4s - loss: 0.0196 - acc: 0.9982 - binary_crossentropy: 0.0196 - val_loss: 0.5889 - val_acc: 0.8589 - val_binary_crossentropy: 0.5889\n",
            "Epoch 12/20\n",
            " - 4s - loss: 0.0146 - acc: 0.9990 - binary_crossentropy: 0.0146 - val_loss: 0.6276 - val_acc: 0.8566 - val_binary_crossentropy: 0.6276\n",
            "Epoch 13/20\n",
            " - 4s - loss: 0.0111 - acc: 0.9995 - binary_crossentropy: 0.0111 - val_loss: 0.6535 - val_acc: 0.8568 - val_binary_crossentropy: 0.6535\n",
            "Epoch 14/20\n",
            " - 4s - loss: 0.0087 - acc: 0.9995 - binary_crossentropy: 0.0087 - val_loss: 0.6833 - val_acc: 0.8562 - val_binary_crossentropy: 0.6833\n",
            "Epoch 15/20\n",
            " - 4s - loss: 0.0068 - acc: 0.9996 - binary_crossentropy: 0.0068 - val_loss: 0.7066 - val_acc: 0.8566 - val_binary_crossentropy: 0.7066\n",
            "Epoch 16/20\n",
            " - 4s - loss: 0.0054 - acc: 0.9997 - binary_crossentropy: 0.0054 - val_loss: 0.7306 - val_acc: 0.8555 - val_binary_crossentropy: 0.7306\n",
            "Epoch 17/20\n",
            " - 4s - loss: 0.0043 - acc: 0.9998 - binary_crossentropy: 0.0043 - val_loss: 0.7496 - val_acc: 0.8559 - val_binary_crossentropy: 0.7496\n",
            "Epoch 18/20\n",
            " - 4s - loss: 0.0036 - acc: 0.9999 - binary_crossentropy: 0.0036 - val_loss: 0.7745 - val_acc: 0.8555 - val_binary_crossentropy: 0.7745\n",
            "Epoch 19/20\n",
            " - 4s - loss: 0.0029 - acc: 1.0000 - binary_crossentropy: 0.0029 - val_loss: 0.7894 - val_acc: 0.8555 - val_binary_crossentropy: 0.7894\n",
            "Epoch 20/20\n",
            " - 4s - loss: 0.0024 - acc: 1.0000 - binary_crossentropy: 0.0024 - val_loss: 0.8123 - val_acc: 0.8549 - val_binary_crossentropy: 0.8123\n"
          ],
          "name": "stdout"
        }
      ]
    },
    {
      "metadata": {
        "id": "jBMBVpEVQB4c",
        "colab_type": "code",
        "colab": {
          "base_uri": "https://localhost:8080/",
          "height": 238
        },
        "outputId": "3732ebb7-f349-440c-86d8-54bf2ea4c18f"
      },
      "cell_type": "code",
      "source": [
        "smaller_model = keras.Sequential([\n",
        "    keras.layers.Dense(4, activation=tf.nn.relu, input_shape=(NUM_WORDS,)),\n",
        "    keras.layers.Dense(4, activation=tf.nn.relu),\n",
        "    keras.layers.Dense(1, activation=tf.nn.sigmoid)\n",
        "])\n",
        "\n",
        "smaller_model.compile(optimizer='adam',\n",
        "                loss='binary_crossentropy',\n",
        "                metrics=['accuracy', 'binary_crossentropy'])\n",
        "\n",
        "smaller_model.summary()"
      ],
      "execution_count": 96,
      "outputs": [
        {
          "output_type": "stream",
          "text": [
            "_________________________________________________________________\n",
            "Layer (type)                 Output Shape              Param #   \n",
            "=================================================================\n",
            "dense_27 (Dense)             (None, 4)                 40004     \n",
            "_________________________________________________________________\n",
            "dense_28 (Dense)             (None, 4)                 20        \n",
            "_________________________________________________________________\n",
            "dense_29 (Dense)             (None, 1)                 5         \n",
            "=================================================================\n",
            "Total params: 40,029\n",
            "Trainable params: 40,029\n",
            "Non-trainable params: 0\n",
            "_________________________________________________________________\n"
          ],
          "name": "stdout"
        }
      ]
    },
    {
      "metadata": {
        "id": "yzNSsJwiQVRn",
        "colab_type": "code",
        "colab": {
          "base_uri": "https://localhost:8080/",
          "height": 714
        },
        "outputId": "24362bc4-7b22-4a6d-e1b2-9e4d398a94e1"
      },
      "cell_type": "code",
      "source": [
        "smaller_history = smaller_model.fit(train_data,\n",
        "                                    train_labels,\n",
        "                                    epochs=20,\n",
        "                                    batch_size=512,\n",
        "                                    validation_data=(test_data, test_labels),\n",
        "                                    verbose=2)"
      ],
      "execution_count": 97,
      "outputs": [
        {
          "output_type": "stream",
          "text": [
            "Train on 25000 samples, validate on 25000 samples\n",
            "Epoch 1/20\n",
            " - 4s - loss: 0.5817 - acc: 0.7784 - binary_crossentropy: 0.5817 - val_loss: 0.4808 - val_acc: 0.8513 - val_binary_crossentropy: 0.4808\n",
            "Epoch 2/20\n",
            " - 4s - loss: 0.3843 - acc: 0.8830 - binary_crossentropy: 0.3843 - val_loss: 0.3592 - val_acc: 0.8732 - val_binary_crossentropy: 0.3592\n",
            "Epoch 3/20\n",
            " - 4s - loss: 0.2828 - acc: 0.9084 - binary_crossentropy: 0.2828 - val_loss: 0.3076 - val_acc: 0.8846 - val_binary_crossentropy: 0.3076\n",
            "Epoch 4/20\n",
            " - 4s - loss: 0.2293 - acc: 0.9230 - binary_crossentropy: 0.2293 - val_loss: 0.2891 - val_acc: 0.8879 - val_binary_crossentropy: 0.2891\n",
            "Epoch 5/20\n",
            " - 4s - loss: 0.1961 - acc: 0.9347 - binary_crossentropy: 0.1961 - val_loss: 0.2855 - val_acc: 0.8861 - val_binary_crossentropy: 0.2855\n",
            "Epoch 6/20\n",
            " - 4s - loss: 0.1718 - acc: 0.9428 - binary_crossentropy: 0.1718 - val_loss: 0.2846 - val_acc: 0.8880 - val_binary_crossentropy: 0.2846\n",
            "Epoch 7/20\n",
            " - 3s - loss: 0.1528 - acc: 0.9505 - binary_crossentropy: 0.1528 - val_loss: 0.2907 - val_acc: 0.8861 - val_binary_crossentropy: 0.2907\n",
            "Epoch 8/20\n",
            " - 3s - loss: 0.1375 - acc: 0.9556 - binary_crossentropy: 0.1375 - val_loss: 0.2994 - val_acc: 0.8834 - val_binary_crossentropy: 0.2994\n",
            "Epoch 9/20\n",
            " - 3s - loss: 0.1252 - acc: 0.9595 - binary_crossentropy: 0.1252 - val_loss: 0.3110 - val_acc: 0.8802 - val_binary_crossentropy: 0.3110\n",
            "Epoch 10/20\n",
            " - 3s - loss: 0.1133 - acc: 0.9646 - binary_crossentropy: 0.1133 - val_loss: 0.3237 - val_acc: 0.8772 - val_binary_crossentropy: 0.3237\n",
            "Epoch 11/20\n",
            " - 3s - loss: 0.1035 - acc: 0.9690 - binary_crossentropy: 0.1035 - val_loss: 0.3366 - val_acc: 0.8754 - val_binary_crossentropy: 0.3366\n",
            "Epoch 12/20\n",
            " - 3s - loss: 0.0940 - acc: 0.9720 - binary_crossentropy: 0.0940 - val_loss: 0.3532 - val_acc: 0.8717 - val_binary_crossentropy: 0.3532\n",
            "Epoch 13/20\n",
            " - 3s - loss: 0.0858 - acc: 0.9760 - binary_crossentropy: 0.0858 - val_loss: 0.3673 - val_acc: 0.8713 - val_binary_crossentropy: 0.3673\n",
            "Epoch 14/20\n",
            " - 3s - loss: 0.0786 - acc: 0.9790 - binary_crossentropy: 0.0786 - val_loss: 0.3845 - val_acc: 0.8686 - val_binary_crossentropy: 0.3845\n",
            "Epoch 15/20\n",
            " - 3s - loss: 0.0715 - acc: 0.9824 - binary_crossentropy: 0.0715 - val_loss: 0.4010 - val_acc: 0.8690 - val_binary_crossentropy: 0.4010\n",
            "Epoch 16/20\n",
            " - 3s - loss: 0.0651 - acc: 0.9847 - binary_crossentropy: 0.0651 - val_loss: 0.4196 - val_acc: 0.8670 - val_binary_crossentropy: 0.4196\n",
            "Epoch 17/20\n",
            " - 3s - loss: 0.0592 - acc: 0.9866 - binary_crossentropy: 0.0592 - val_loss: 0.4377 - val_acc: 0.8650 - val_binary_crossentropy: 0.4377\n",
            "Epoch 18/20\n",
            " - 3s - loss: 0.0534 - acc: 0.9892 - binary_crossentropy: 0.0534 - val_loss: 0.4603 - val_acc: 0.8614 - val_binary_crossentropy: 0.4603\n",
            "Epoch 19/20\n",
            " - 3s - loss: 0.0484 - acc: 0.9909 - binary_crossentropy: 0.0484 - val_loss: 0.4780 - val_acc: 0.8626 - val_binary_crossentropy: 0.4780\n",
            "Epoch 20/20\n",
            " - 3s - loss: 0.0437 - acc: 0.9918 - binary_crossentropy: 0.0437 - val_loss: 0.4996 - val_acc: 0.8616 - val_binary_crossentropy: 0.4996\n"
          ],
          "name": "stdout"
        }
      ]
    },
    {
      "metadata": {
        "id": "AyxJtxAdQYi7",
        "colab_type": "code",
        "colab": {
          "base_uri": "https://localhost:8080/",
          "height": 238
        },
        "outputId": "6875c766-c66a-40ae-ef2f-5ffce8845ee1"
      },
      "cell_type": "code",
      "source": [
        "# Create a bigger model\n",
        "bigger_model = keras.models.Sequential([\n",
        "    keras.layers.Dense(512, activation=tf.nn.relu, input_shape=(NUM_WORDS,)),\n",
        "    keras.layers.Dense(512, activation=tf.nn.relu),\n",
        "    keras.layers.Dense(1, activation=tf.nn.sigmoid)\n",
        "])\n",
        "\n",
        "bigger_model.compile(optimizer='adam',\n",
        "                     loss='binary_crossentropy',\n",
        "                     metrics=['accuracy','binary_crossentropy'])\n",
        "\n",
        "bigger_model.summary()"
      ],
      "execution_count": 98,
      "outputs": [
        {
          "output_type": "stream",
          "text": [
            "_________________________________________________________________\n",
            "Layer (type)                 Output Shape              Param #   \n",
            "=================================================================\n",
            "dense_30 (Dense)             (None, 512)               5120512   \n",
            "_________________________________________________________________\n",
            "dense_31 (Dense)             (None, 512)               262656    \n",
            "_________________________________________________________________\n",
            "dense_32 (Dense)             (None, 1)                 513       \n",
            "=================================================================\n",
            "Total params: 5,383,681\n",
            "Trainable params: 5,383,681\n",
            "Non-trainable params: 0\n",
            "_________________________________________________________________\n"
          ],
          "name": "stdout"
        }
      ]
    },
    {
      "metadata": {
        "id": "AMsiy-Z4RFmV",
        "colab_type": "code",
        "colab": {
          "base_uri": "https://localhost:8080/",
          "height": 714
        },
        "outputId": "9363607d-e572-4f50-883f-89ab7926cb79"
      },
      "cell_type": "code",
      "source": [
        "bigger_history = bigger_model.fit(train_data, train_labels,\n",
        "                                  epochs=20,\n",
        "                                  batch_size=512,\n",
        "                                  validation_data=(test_data, test_labels),\n",
        "                                  verbose=2)"
      ],
      "execution_count": 99,
      "outputs": [
        {
          "output_type": "stream",
          "text": [
            "Train on 25000 samples, validate on 25000 samples\n",
            "Epoch 1/20\n",
            " - 20s - loss: 0.3447 - acc: 0.8536 - binary_crossentropy: 0.3447 - val_loss: 0.2965 - val_acc: 0.8791 - val_binary_crossentropy: 0.2965\n",
            "Epoch 2/20\n",
            " - 19s - loss: 0.1359 - acc: 0.9510 - binary_crossentropy: 0.1359 - val_loss: 0.3674 - val_acc: 0.8614 - val_binary_crossentropy: 0.3674\n",
            "Epoch 3/20\n",
            " - 19s - loss: 0.0426 - acc: 0.9879 - binary_crossentropy: 0.0426 - val_loss: 0.4401 - val_acc: 0.8681 - val_binary_crossentropy: 0.4401\n",
            "Epoch 4/20\n",
            " - 19s - loss: 0.0060 - acc: 0.9993 - binary_crossentropy: 0.0060 - val_loss: 0.6263 - val_acc: 0.8692 - val_binary_crossentropy: 0.6263\n",
            "Epoch 5/20\n",
            " - 18s - loss: 7.1997e-04 - acc: 1.0000 - binary_crossentropy: 7.1997e-04 - val_loss: 0.7160 - val_acc: 0.8678 - val_binary_crossentropy: 0.7160\n",
            "Epoch 6/20\n",
            " - 18s - loss: 7.3008e-04 - acc: 1.0000 - binary_crossentropy: 7.3008e-04 - val_loss: 0.7422 - val_acc: 0.8694 - val_binary_crossentropy: 0.7422\n",
            "Epoch 7/20\n",
            " - 18s - loss: 1.2880e-04 - acc: 1.0000 - binary_crossentropy: 1.2880e-04 - val_loss: 0.7679 - val_acc: 0.8694 - val_binary_crossentropy: 0.7679\n",
            "Epoch 8/20\n",
            " - 18s - loss: 8.7412e-05 - acc: 1.0000 - binary_crossentropy: 8.7412e-05 - val_loss: 0.7908 - val_acc: 0.8694 - val_binary_crossentropy: 0.7908\n",
            "Epoch 9/20\n",
            " - 19s - loss: 6.4809e-05 - acc: 1.0000 - binary_crossentropy: 6.4809e-05 - val_loss: 0.8099 - val_acc: 0.8699 - val_binary_crossentropy: 0.8099\n",
            "Epoch 10/20\n",
            " - 19s - loss: 5.0408e-05 - acc: 1.0000 - binary_crossentropy: 5.0408e-05 - val_loss: 0.8251 - val_acc: 0.8698 - val_binary_crossentropy: 0.8251\n",
            "Epoch 11/20\n",
            " - 19s - loss: 4.0443e-05 - acc: 1.0000 - binary_crossentropy: 4.0443e-05 - val_loss: 0.8385 - val_acc: 0.8701 - val_binary_crossentropy: 0.8385\n",
            "Epoch 12/20\n",
            " - 19s - loss: 3.3122e-05 - acc: 1.0000 - binary_crossentropy: 3.3122e-05 - val_loss: 0.8506 - val_acc: 0.8704 - val_binary_crossentropy: 0.8506\n",
            "Epoch 13/20\n",
            " - 19s - loss: 2.7663e-05 - acc: 1.0000 - binary_crossentropy: 2.7663e-05 - val_loss: 0.8610 - val_acc: 0.8704 - val_binary_crossentropy: 0.8610\n",
            "Epoch 14/20\n",
            " - 18s - loss: 2.3453e-05 - acc: 1.0000 - binary_crossentropy: 2.3453e-05 - val_loss: 0.8711 - val_acc: 0.8706 - val_binary_crossentropy: 0.8711\n",
            "Epoch 15/20\n",
            " - 18s - loss: 2.0091e-05 - acc: 1.0000 - binary_crossentropy: 2.0091e-05 - val_loss: 0.8801 - val_acc: 0.8706 - val_binary_crossentropy: 0.8801\n",
            "Epoch 16/20\n",
            " - 18s - loss: 1.7405e-05 - acc: 1.0000 - binary_crossentropy: 1.7405e-05 - val_loss: 0.8878 - val_acc: 0.8706 - val_binary_crossentropy: 0.8878\n",
            "Epoch 17/20\n",
            " - 19s - loss: 1.5199e-05 - acc: 1.0000 - binary_crossentropy: 1.5199e-05 - val_loss: 0.8968 - val_acc: 0.8706 - val_binary_crossentropy: 0.8968\n",
            "Epoch 18/20\n",
            " - 19s - loss: 1.3394e-05 - acc: 1.0000 - binary_crossentropy: 1.3394e-05 - val_loss: 0.9035 - val_acc: 0.8708 - val_binary_crossentropy: 0.9035\n",
            "Epoch 19/20\n",
            " - 19s - loss: 1.1859e-05 - acc: 1.0000 - binary_crossentropy: 1.1859e-05 - val_loss: 0.9102 - val_acc: 0.8709 - val_binary_crossentropy: 0.9102\n",
            "Epoch 20/20\n",
            " - 18s - loss: 1.0587e-05 - acc: 1.0000 - binary_crossentropy: 1.0587e-05 - val_loss: 0.9175 - val_acc: 0.8707 - val_binary_crossentropy: 0.9175\n"
          ],
          "name": "stdout"
        }
      ]
    },
    {
      "metadata": {
        "id": "qx7XcWl4RIwC",
        "colab_type": "code",
        "colab": {
          "base_uri": "https://localhost:8080/",
          "height": 606
        },
        "outputId": "3ab7c96c-08ca-468b-88ab-207ca49e37d3"
      },
      "cell_type": "code",
      "source": [
        "def plot_history(histories, key='binary_crossentropy'):\n",
        "  plt.figure(figsize=(16,10))\n",
        "    \n",
        "  for name, history in histories:\n",
        "    val = plt.plot(history.epoch, history.history['val_'+key],\n",
        "                   '--', label=name.title()+' Val')\n",
        "    plt.plot(history.epoch, history.history[key], color=val[0].get_color(),\n",
        "             label=name.title()+' Train')\n",
        "\n",
        "  plt.xlabel('Epochs')\n",
        "  plt.ylabel(key.replace('_',' ').title())\n",
        "  plt.legend()\n",
        "\n",
        "  plt.xlim([0,max(history.epoch)])\n",
        "\n",
        "\n",
        "plot_history([('baseline', baseline_history),\n",
        "              ('smaller', smaller_history),\n",
        "              ('bigger', bigger_history)])"
      ],
      "execution_count": 100,
      "outputs": [
        {
          "output_type": "display_data",
          "data": {
            "image/png": "[encoded data removed]",
            "text/plain": [
              "<matplotlib.figure.Figure at 0x7ff68b903fd0>"
            ]
          },
          "metadata": {
            "tags": []
          }
        }
      ]
    },
    {
      "metadata": {
        "id": "sixW3pEaRRDn",
        "colab_type": "code",
        "colab": {
          "base_uri": "https://localhost:8080/",
          "height": 714
        },
        "outputId": "16f82952-8978-4003-cf58-79daca25bb1b"
      },
      "cell_type": "code",
      "source": [
        "l2_model = keras.models.Sequential([\n",
        "    keras.layers.Dense(16, kernel_regularizer=keras.regularizers.l2(0.001),\n",
        "                       activation=tf.nn.relu, input_shape=(NUM_WORDS,)),\n",
        "    keras.layers.Dense(16, kernel_regularizer=keras.regularizers.l2(0.001),\n",
        "                       activation=tf.nn.relu),\n",
        "    keras.layers.Dense(1, activation=tf.nn.sigmoid)\n",
        "])\n",
        "\n",
        "l2_model.compile(optimizer='adam',\n",
        "                 loss='binary_crossentropy',\n",
        "                 metrics=['accuracy', 'binary_crossentropy'])\n",
        "\n",
        "l2_model_history = l2_model.fit(train_data, train_labels,\n",
        "                                epochs=20,\n",
        "                                batch_size=512,\n",
        "                                validation_data=(test_data, test_labels),\n",
        "                                verbose=2)"
      ],
      "execution_count": 101,
      "outputs": [
        {
          "output_type": "stream",
          "text": [
            "Train on 25000 samples, validate on 25000 samples\n",
            "Epoch 1/20\n",
            " - 5s - loss: 0.5344 - acc: 0.8008 - binary_crossentropy: 0.4959 - val_loss: 0.3884 - val_acc: 0.8762 - val_binary_crossentropy: 0.3488\n",
            "Epoch 2/20\n",
            " - 4s - loss: 0.3088 - acc: 0.9074 - binary_crossentropy: 0.2649 - val_loss: 0.3336 - val_acc: 0.8882 - val_binary_crossentropy: 0.2863\n",
            "Epoch 3/20\n",
            " - 4s - loss: 0.2554 - acc: 0.9274 - binary_crossentropy: 0.2056 - val_loss: 0.3345 - val_acc: 0.8862 - val_binary_crossentropy: 0.2827\n",
            "Epoch 4/20\n",
            " - 4s - loss: 0.2292 - acc: 0.9400 - binary_crossentropy: 0.1758 - val_loss: 0.3455 - val_acc: 0.8830 - val_binary_crossentropy: 0.2910\n",
            "Epoch 5/20\n",
            " - 4s - loss: 0.2151 - acc: 0.9460 - binary_crossentropy: 0.1590 - val_loss: 0.3590 - val_acc: 0.8792 - val_binary_crossentropy: 0.3020\n",
            "Epoch 6/20\n",
            " - 4s - loss: 0.2013 - acc: 0.9516 - binary_crossentropy: 0.1435 - val_loss: 0.3729 - val_acc: 0.8770 - val_binary_crossentropy: 0.3147\n",
            "Epoch 7/20\n",
            " - 4s - loss: 0.1930 - acc: 0.9552 - binary_crossentropy: 0.1338 - val_loss: 0.3903 - val_acc: 0.8726 - val_binary_crossentropy: 0.3303\n",
            "Epoch 8/20\n",
            " - 4s - loss: 0.1836 - acc: 0.9596 - binary_crossentropy: 0.1229 - val_loss: 0.4015 - val_acc: 0.8713 - val_binary_crossentropy: 0.3406\n",
            "Epoch 9/20\n",
            " - 4s - loss: 0.1765 - acc: 0.9615 - binary_crossentropy: 0.1151 - val_loss: 0.4192 - val_acc: 0.8696 - val_binary_crossentropy: 0.3572\n",
            "Epoch 10/20\n",
            " - 4s - loss: 0.1741 - acc: 0.9631 - binary_crossentropy: 0.1114 - val_loss: 0.4412 - val_acc: 0.8651 - val_binary_crossentropy: 0.3780\n",
            "Epoch 11/20\n",
            " - 4s - loss: 0.1674 - acc: 0.9649 - binary_crossentropy: 0.1037 - val_loss: 0.4470 - val_acc: 0.8660 - val_binary_crossentropy: 0.3827\n",
            "Epoch 12/20\n",
            " - 4s - loss: 0.1635 - acc: 0.9668 - binary_crossentropy: 0.0990 - val_loss: 0.4712 - val_acc: 0.8612 - val_binary_crossentropy: 0.4061\n",
            "Epoch 13/20\n",
            " - 4s - loss: 0.1622 - acc: 0.9680 - binary_crossentropy: 0.0962 - val_loss: 0.4756 - val_acc: 0.8636 - val_binary_crossentropy: 0.4092\n",
            "Epoch 14/20\n",
            " - 4s - loss: 0.1522 - acc: 0.9734 - binary_crossentropy: 0.0857 - val_loss: 0.4852 - val_acc: 0.8593 - val_binary_crossentropy: 0.4189\n",
            "Epoch 15/20\n",
            " - 4s - loss: 0.1452 - acc: 0.9770 - binary_crossentropy: 0.0789 - val_loss: 0.4983 - val_acc: 0.8618 - val_binary_crossentropy: 0.4319\n",
            "Epoch 16/20\n",
            " - 4s - loss: 0.1418 - acc: 0.9783 - binary_crossentropy: 0.0750 - val_loss: 0.5118 - val_acc: 0.8579 - val_binary_crossentropy: 0.4448\n",
            "Epoch 17/20\n",
            " - 4s - loss: 0.1388 - acc: 0.9792 - binary_crossentropy: 0.0717 - val_loss: 0.5205 - val_acc: 0.8582 - val_binary_crossentropy: 0.4529\n",
            "Epoch 18/20\n",
            " - 4s - loss: 0.1362 - acc: 0.9805 - binary_crossentropy: 0.0683 - val_loss: 0.5372 - val_acc: 0.8569 - val_binary_crossentropy: 0.4688\n",
            "Epoch 19/20\n",
            " - 4s - loss: 0.1321 - acc: 0.9824 - binary_crossentropy: 0.0636 - val_loss: 0.5442 - val_acc: 0.8585 - val_binary_crossentropy: 0.4756\n",
            "Epoch 20/20\n",
            " - 4s - loss: 0.1286 - acc: 0.9840 - binary_crossentropy: 0.0597 - val_loss: 0.5585 - val_acc: 0.8556 - val_binary_crossentropy: 0.4893\n"
          ],
          "name": "stdout"
        }
      ]
    },
    {
      "metadata": {
        "id": "f6Y1GHFnSmVF",
        "colab_type": "code",
        "colab": {
          "base_uri": "https://localhost:8080/",
          "height": 606
        },
        "outputId": "ba1a5715-9a94-4cc9-9137-c8339e24e9b5"
      },
      "cell_type": "code",
      "source": [
        "plot_history([('baseline', baseline_history),\n",
        "              ('l2', l2_model_history)])"
      ],
      "execution_count": 102,
      "outputs": [
        {
          "output_type": "display_data",
          "data": {
            "image/png": "[encoded data removed]",
            "text/plain": [
              "<matplotlib.figure.Figure at 0x7ff68b903080>"
            ]
          },
          "metadata": {
            "tags": []
          }
        }
      ]
    },
    {
      "metadata": {
        "id": "yE2QryZ7S2Th",
        "colab_type": "code",
        "colab": {
          "base_uri": "https://localhost:8080/",
          "height": 714
        },
        "outputId": "791f12c0-cfb1-462d-cc57-49b0bc2c500c"
      },
      "cell_type": "code",
      "source": [
        "dpt_model = keras.models.Sequential([\n",
        "    keras.layers.Dense(16, activation=tf.nn.relu, input_shape=(NUM_WORDS,)),\n",
        "    keras.layers.Dropout(0.5),\n",
        "    keras.layers.Dense(16, activation=tf.nn.relu),\n",
        "    keras.layers.Dropout(0.5),\n",
        "    keras.layers.Dense(1, activation=tf.nn.sigmoid)\n",
        "])\n",
        "\n",
        "dpt_model.compile(optimizer='adam',\n",
        "                  loss='binary_crossentropy',\n",
        "                  metrics=['accuracy','binary_crossentropy'])\n",
        "\n",
        "dpt_model_history = dpt_model.fit(train_data, train_labels,\n",
        "                                  epochs=20,\n",
        "                                  batch_size=512,\n",
        "                                  validation_data=(test_data, test_labels),\n",
        "                                  verbose=2)"
      ],
      "execution_count": 103,
      "outputs": [
        {
          "output_type": "stream",
          "text": [
            "Train on 25000 samples, validate on 25000 samples\n",
            "Epoch 1/20\n",
            " - 5s - loss: 0.6212 - acc: 0.6511 - binary_crossentropy: 0.6212 - val_loss: 0.4924 - val_acc: 0.8519 - val_binary_crossentropy: 0.4924\n",
            "Epoch 2/20\n",
            " - 4s - loss: 0.4600 - acc: 0.8040 - binary_crossentropy: 0.4600 - val_loss: 0.3456 - val_acc: 0.8790 - val_binary_crossentropy: 0.3456\n",
            "Epoch 3/20\n",
            " - 4s - loss: 0.3599 - acc: 0.8623 - binary_crossentropy: 0.3599 - val_loss: 0.2929 - val_acc: 0.8878 - val_binary_crossentropy: 0.2929\n",
            "Epoch 4/20\n",
            " - 4s - loss: 0.2962 - acc: 0.8946 - binary_crossentropy: 0.2962 - val_loss: 0.2738 - val_acc: 0.8889 - val_binary_crossentropy: 0.2738\n",
            "Epoch 5/20\n",
            " - 4s - loss: 0.2496 - acc: 0.9130 - binary_crossentropy: 0.2496 - val_loss: 0.2733 - val_acc: 0.8893 - val_binary_crossentropy: 0.2733\n",
            "Epoch 6/20\n",
            " - 4s - loss: 0.2193 - acc: 0.9250 - binary_crossentropy: 0.2193 - val_loss: 0.2860 - val_acc: 0.8869 - val_binary_crossentropy: 0.2860\n",
            "Epoch 7/20\n",
            " - 4s - loss: 0.1900 - acc: 0.9344 - binary_crossentropy: 0.1900 - val_loss: 0.3083 - val_acc: 0.8835 - val_binary_crossentropy: 0.3083\n",
            "Epoch 8/20\n",
            " - 4s - loss: 0.1720 - acc: 0.9416 - binary_crossentropy: 0.1720 - val_loss: 0.3178 - val_acc: 0.8838 - val_binary_crossentropy: 0.3178\n",
            "Epoch 9/20\n",
            " - 4s - loss: 0.1565 - acc: 0.9459 - binary_crossentropy: 0.1565 - val_loss: 0.3318 - val_acc: 0.8820 - val_binary_crossentropy: 0.3318\n",
            "Epoch 10/20\n",
            " - 4s - loss: 0.1390 - acc: 0.9523 - binary_crossentropy: 0.1390 - val_loss: 0.3452 - val_acc: 0.8820 - val_binary_crossentropy: 0.3452\n",
            "Epoch 11/20\n",
            " - 4s - loss: 0.1274 - acc: 0.9548 - binary_crossentropy: 0.1274 - val_loss: 0.3675 - val_acc: 0.8810 - val_binary_crossentropy: 0.3675\n",
            "Epoch 12/20\n",
            " - 4s - loss: 0.1180 - acc: 0.9563 - binary_crossentropy: 0.1180 - val_loss: 0.3932 - val_acc: 0.8799 - val_binary_crossentropy: 0.3932\n",
            "Epoch 13/20\n",
            " - 4s - loss: 0.1077 - acc: 0.9606 - binary_crossentropy: 0.1077 - val_loss: 0.4132 - val_acc: 0.8792 - val_binary_crossentropy: 0.4132\n",
            "Epoch 14/20\n",
            " - 4s - loss: 0.1011 - acc: 0.9625 - binary_crossentropy: 0.1011 - val_loss: 0.4314 - val_acc: 0.8770 - val_binary_crossentropy: 0.4314\n",
            "Epoch 15/20\n",
            " - 4s - loss: 0.0982 - acc: 0.9622 - binary_crossentropy: 0.0982 - val_loss: 0.4657 - val_acc: 0.8765 - val_binary_crossentropy: 0.4657\n",
            "Epoch 16/20\n",
            " - 4s - loss: 0.0892 - acc: 0.9658 - binary_crossentropy: 0.0892 - val_loss: 0.4539 - val_acc: 0.8783 - val_binary_crossentropy: 0.4539\n",
            "Epoch 17/20\n",
            " - 4s - loss: 0.0857 - acc: 0.9664 - binary_crossentropy: 0.0857 - val_loss: 0.4871 - val_acc: 0.8772 - val_binary_crossentropy: 0.4871\n",
            "Epoch 18/20\n",
            " - 4s - loss: 0.0838 - acc: 0.9660 - binary_crossentropy: 0.0838 - val_loss: 0.5376 - val_acc: 0.8762 - val_binary_crossentropy: 0.5376\n",
            "Epoch 19/20\n",
            " - 4s - loss: 0.0810 - acc: 0.9678 - binary_crossentropy: 0.0810 - val_loss: 0.5189 - val_acc: 0.8767 - val_binary_crossentropy: 0.5189\n",
            "Epoch 20/20\n",
            " - 4s - loss: 0.0758 - acc: 0.9696 - binary_crossentropy: 0.0758 - val_loss: 0.5421 - val_acc: 0.8754 - val_binary_crossentropy: 0.5421\n"
          ],
          "name": "stdout"
        }
      ]
    },
    {
      "metadata": {
        "id": "r-yo1lZFSnK5",
        "colab_type": "code",
        "colab": {}
      },
      "cell_type": "code",
      "source": [
        "plot_history([('baseline', baseline_history),\n",
        "              ('dropout', dpt_model_history)])"
      ],
      "execution_count": 0,
      "outputs": []
    },
    {
      "metadata": {
        "id": "zllD1HQUTO6B",
        "colab_type": "code",
        "colab": {}
      },
      "cell_type": "code",
      "source": [
        "!pip install -q h5py pyyaml "
      ],
      "execution_count": 0,
      "outputs": []
    },
    {
      "metadata": {
        "id": "lZ5YoTjyTQ1n",
        "colab_type": "code",
        "colab": {
          "base_uri": "https://localhost:8080/",
          "height": 34
        },
        "outputId": "08331884-3f9e-43fd-a800-41f558e8dab3"
      },
      "cell_type": "code",
      "source": [
        "from __future__ import absolute_import, division, print_function\n",
        "\n",
        "import os\n",
        "\n",
        "import tensorflow as tf\n",
        "from tensorflow import keras\n",
        "\n",
        "tf.__version__"
      ],
      "execution_count": 105,
      "outputs": [
        {
          "output_type": "execute_result",
          "data": {
            "text/plain": [
              "'1.11.0-rc2'"
            ]
          },
          "metadata": {
            "tags": []
          },
          "execution_count": 105
        }
      ]
    },
    {
      "metadata": {
        "id": "woqSMvHMTYhw",
        "colab_type": "code",
        "colab": {}
      },
      "cell_type": "code",
      "source": [
        "(train_images, train_labels), (test_images, test_labels) = tf.keras.datasets.mnist.load_data()\n",
        "\n",
        "train_labels = train_labels[:1000]\n",
        "test_labels = test_labels[:1000]\n",
        "\n",
        "train_images = train_images[:1000].reshape(-1, 28 * 28) / 255.0\n",
        "test_images = test_images[:1000].reshape(-1, 28 * 28) / 255.0"
      ],
      "execution_count": 0,
      "outputs": []
    },
    {
      "metadata": {
        "id": "UtT7G-87Tamk",
        "colab_type": "code",
        "colab": {
          "base_uri": "https://localhost:8080/",
          "height": 238
        },
        "outputId": "06f71c93-96fc-45f2-e5c4-d826542c4991"
      },
      "cell_type": "code",
      "source": [
        "# Returns a short sequential model\n",
        "def create_model():\n",
        "  model = tf.keras.models.Sequential([\n",
        "    keras.layers.Dense(512, activation=tf.nn.relu, input_shape=(784,)),\n",
        "    keras.layers.Dropout(0.2),\n",
        "    keras.layers.Dense(10, activation=tf.nn.softmax)\n",
        "  ])\n",
        "  \n",
        "  model.compile(optimizer=tf.keras.optimizers.Adam(), \n",
        "                loss=tf.keras.losses.sparse_categorical_crossentropy,\n",
        "                metrics=['accuracy'])\n",
        "  \n",
        "  return model\n",
        "\n",
        "\n",
        "# Create a basic model instance\n",
        "model = create_model()\n",
        "model.summary()"
      ],
      "execution_count": 107,
      "outputs": [
        {
          "output_type": "stream",
          "text": [
            "_________________________________________________________________\n",
            "Layer (type)                 Output Shape              Param #   \n",
            "=================================================================\n",
            "dense_39 (Dense)             (None, 512)               401920    \n",
            "_________________________________________________________________\n",
            "dropout_3 (Dropout)          (None, 512)               0         \n",
            "_________________________________________________________________\n",
            "dense_40 (Dense)             (None, 10)                5130      \n",
            "=================================================================\n",
            "Total params: 407,050\n",
            "Trainable params: 407,050\n",
            "Non-trainable params: 0\n",
            "_________________________________________________________________\n"
          ],
          "name": "stdout"
        }
      ]
    },
    {
      "metadata": {
        "id": "FqZDEIbiTdMO",
        "colab_type": "code",
        "colab": {
          "base_uri": "https://localhost:8080/",
          "height": 1261
        },
        "outputId": "84e26428-1a83-4031-94cd-3cf310e4d077"
      },
      "cell_type": "code",
      "source": [
        "checkpoint_path = \"training_2/cp.ckpt\"\n",
        "checkpoint_dir = os.path.dirname(checkpoint_path)\n",
        "\n",
        "# Create checkpoint callback\n",
        "cp_callback = tf.keras.callbacks.ModelCheckpoint(checkpoint_path, \n",
        "                                                 save_weights_only=True,\n",
        "                                                 verbose=1)\n",
        "\n",
        "model = create_model()\n",
        "\n",
        "model.fit(train_images, train_labels,  epochs = 10, \n",
        "          validation_data = (test_images,test_labels),\n",
        "          callbacks = [cp_callback])  # pass callback to training"
      ],
      "execution_count": 114,
      "outputs": [
        {
          "output_type": "stream",
          "text": [
            "Train on 1000 samples, validate on 1000 samples\n",
            "Epoch 1/10\n",
            " 832/1000 [=======================>......] - ETA: 0s - loss: 1.2960 - acc: 0.6166\n",
            "Epoch 00001: saving model to training_2/cp.ckpt\n",
            "WARNING:tensorflow:This model was compiled with a Keras optimizer (<tensorflow.python.keras.optimizers.Adam object at 0x7ff68be3fc88>) but is being saved in TensorFlow format with `save_weights`. The model's weights will be saved, but unlike with TensorFlow optimizers in the TensorFlow format the optimizer's state will not be saved.\n",
            "\n",
            "Consider using a TensorFlow optimizer from `tf.train`.\n",
            "1000/1000 [==============================] - 2s 2ms/step - loss: 1.1798 - acc: 0.6540 - val_loss: 0.7056 - val_acc: 0.7800\n",
            "Epoch 2/10\n",
            " 832/1000 [=======================>......] - ETA: 0s - loss: 0.4311 - acc: 0.8798\n",
            "Epoch 00002: saving model to training_2/cp.ckpt\n",
            "WARNING:tensorflow:This model was compiled with a Keras optimizer (<tensorflow.python.keras.optimizers.Adam object at 0x7ff68be3fc88>) but is being saved in TensorFlow format with `save_weights`. The model's weights will be saved, but unlike with TensorFlow optimizers in the TensorFlow format the optimizer's state will not be saved.\n",
            "\n",
            "Consider using a TensorFlow optimizer from `tf.train`.\n",
            "1000/1000 [==============================] - 0s 361us/step - loss: 0.4254 - acc: 0.8800 - val_loss: 0.5360 - val_acc: 0.8330\n",
            "Epoch 3/10\n",
            " 864/1000 [========================>.....] - ETA: 0s - loss: 0.2872 - acc: 0.9236\n",
            "Epoch 00003: saving model to training_2/cp.ckpt\n",
            "WARNING:tensorflow:This model was compiled with a Keras optimizer (<tensorflow.python.keras.optimizers.Adam object at 0x7ff68be3fc88>) but is being saved in TensorFlow format with `save_weights`. The model's weights will be saved, but unlike with TensorFlow optimizers in the TensorFlow format the optimizer's state will not be saved.\n",
            "\n",
            "Consider using a TensorFlow optimizer from `tf.train`.\n",
            "1000/1000 [==============================] - 0s 336us/step - loss: 0.2888 - acc: 0.9240 - val_loss: 0.4645 - val_acc: 0.8520\n",
            "Epoch 4/10\n",
            " 896/1000 [=========================>....] - ETA: 0s - loss: 0.2120 - acc: 0.9464\n",
            "Epoch 00004: saving model to training_2/cp.ckpt\n",
            "WARNING:tensorflow:This model was compiled with a Keras optimizer (<tensorflow.python.keras.optimizers.Adam object at 0x7ff68be3fc88>) but is being saved in TensorFlow format with `save_weights`. The model's weights will be saved, but unlike with TensorFlow optimizers in the TensorFlow format the optimizer's state will not be saved.\n",
            "\n",
            "Consider using a TensorFlow optimizer from `tf.train`.\n",
            "1000/1000 [==============================] - 0s 332us/step - loss: 0.2080 - acc: 0.9490 - val_loss: 0.4754 - val_acc: 0.8490\n",
            "Epoch 5/10\n",
            " 864/1000 [========================>.....] - ETA: 0s - loss: 0.1709 - acc: 0.9595\n",
            "Epoch 00005: saving model to training_2/cp.ckpt\n",
            "WARNING:tensorflow:This model was compiled with a Keras optimizer (<tensorflow.python.keras.optimizers.Adam object at 0x7ff68be3fc88>) but is being saved in TensorFlow format with `save_weights`. The model's weights will be saved, but unlike with TensorFlow optimizers in the TensorFlow format the optimizer's state will not be saved.\n",
            "\n",
            "Consider using a TensorFlow optimizer from `tf.train`.\n",
            "1000/1000 [==============================] - 0s 332us/step - loss: 0.1664 - acc: 0.9600 - val_loss: 0.4336 - val_acc: 0.8590\n",
            "Epoch 6/10\n",
            " 832/1000 [=======================>......] - ETA: 0s - loss: 0.1165 - acc: 0.9772\n",
            "Epoch 00006: saving model to training_2/cp.ckpt\n",
            "WARNING:tensorflow:This model was compiled with a Keras optimizer (<tensorflow.python.keras.optimizers.Adam object at 0x7ff68be3fc88>) but is being saved in TensorFlow format with `save_weights`. The model's weights will be saved, but unlike with TensorFlow optimizers in the TensorFlow format the optimizer's state will not be saved.\n",
            "\n",
            "Consider using a TensorFlow optimizer from `tf.train`.\n",
            "1000/1000 [==============================] - 0s 331us/step - loss: 0.1236 - acc: 0.9730 - val_loss: 0.4164 - val_acc: 0.8650\n",
            "Epoch 7/10\n",
            " 896/1000 [=========================>....] - ETA: 0s - loss: 0.0959 - acc: 0.9833\n",
            "Epoch 00007: saving model to training_2/cp.ckpt\n",
            "WARNING:tensorflow:This model was compiled with a Keras optimizer (<tensorflow.python.keras.optimizers.Adam object at 0x7ff68be3fc88>) but is being saved in TensorFlow format with `save_weights`. The model's weights will be saved, but unlike with TensorFlow optimizers in the TensorFlow format the optimizer's state will not be saved.\n",
            "\n",
            "Consider using a TensorFlow optimizer from `tf.train`.\n",
            "1000/1000 [==============================] - 0s 328us/step - loss: 0.0919 - acc: 0.9850 - val_loss: 0.4266 - val_acc: 0.8670\n",
            "Epoch 8/10\n",
            " 864/1000 [========================>.....] - ETA: 0s - loss: 0.0620 - acc: 0.9942\n",
            "Epoch 00008: saving model to training_2/cp.ckpt\n",
            "WARNING:tensorflow:This model was compiled with a Keras optimizer (<tensorflow.python.keras.optimizers.Adam object at 0x7ff68be3fc88>) but is being saved in TensorFlow format with `save_weights`. The model's weights will be saved, but unlike with TensorFlow optimizers in the TensorFlow format the optimizer's state will not be saved.\n",
            "\n",
            "Consider using a TensorFlow optimizer from `tf.train`.\n",
            "1000/1000 [==============================] - 0s 342us/step - loss: 0.0637 - acc: 0.9940 - val_loss: 0.4417 - val_acc: 0.8570\n",
            "Epoch 9/10\n",
            " 896/1000 [=========================>....] - ETA: 0s - loss: 0.0507 - acc: 0.9967\n",
            "Epoch 00009: saving model to training_2/cp.ckpt\n",
            "WARNING:tensorflow:This model was compiled with a Keras optimizer (<tensorflow.python.keras.optimizers.Adam object at 0x7ff68be3fc88>) but is being saved in TensorFlow format with `save_weights`. The model's weights will be saved, but unlike with TensorFlow optimizers in the TensorFlow format the optimizer's state will not be saved.\n",
            "\n",
            "Consider using a TensorFlow optimizer from `tf.train`.\n",
            "1000/1000 [==============================] - 0s 329us/step - loss: 0.0503 - acc: 0.9970 - val_loss: 0.4059 - val_acc: 0.8710\n",
            "Epoch 10/10\n",
            " 928/1000 [==========================>...] - ETA: 0s - loss: 0.0403 - acc: 0.9968\n",
            "Epoch 00010: saving model to training_2/cp.ckpt\n",
            "WARNING:tensorflow:This model was compiled with a Keras optimizer (<tensorflow.python.keras.optimizers.Adam object at 0x7ff68be3fc88>) but is being saved in TensorFlow format with `save_weights`. The model's weights will be saved, but unlike with TensorFlow optimizers in the TensorFlow format the optimizer's state will not be saved.\n",
            "\n",
            "Consider using a TensorFlow optimizer from `tf.train`.\n",
            "1000/1000 [==============================] - 0s 323us/step - loss: 0.0394 - acc: 0.9970 - val_loss: 0.4160 - val_acc: 0.8660\n"
          ],
          "name": "stdout"
        },
        {
          "output_type": "execute_result",
          "data": {
            "text/plain": [
              "<tensorflow.python.keras.callbacks.History at 0x7ff68927afd0>"
            ]
          },
          "metadata": {
            "tags": []
          },
          "execution_count": 114
        }
      ]
    },
    {
      "metadata": {
        "id": "YvPns0yMToQI",
        "colab_type": "code",
        "colab": {
          "base_uri": "https://localhost:8080/",
          "height": 34
        },
        "outputId": "8b584883-a487-43dd-afc4-2365940590a7"
      },
      "cell_type": "code",
      "source": [
        "!ls {checkpoint_dir}"
      ],
      "execution_count": 115,
      "outputs": [
        {
          "output_type": "stream",
          "text": [
            "checkpoint  cp.ckpt.data-00000-of-00001  cp.ckpt.index\n"
          ],
          "name": "stdout"
        }
      ]
    },
    {
      "metadata": {
        "id": "3pigWuZ6UO_U",
        "colab_type": "code",
        "colab": {
          "base_uri": "https://localhost:8080/",
          "height": 51
        },
        "outputId": "81b2add7-4097-45e4-cfec-e409d6b8d7f9"
      },
      "cell_type": "code",
      "source": [
        "model = create_model()\n",
        "\n",
        "loss, acc = model.evaluate(test_images, test_labels)\n",
        "print(\"Untrained model, accuracy: {:5.2f}%\".format(100*acc))"
      ],
      "execution_count": 113,
      "outputs": [
        {
          "output_type": "stream",
          "text": [
            "1000/1000 [==============================] - 1s 893us/step\n",
            "Untrained model, accuracy:  8.90%\n"
          ],
          "name": "stdout"
        }
      ]
    },
    {
      "metadata": {
        "id": "m6t9jESBUiHn",
        "colab_type": "code",
        "colab": {
          "base_uri": "https://localhost:8080/",
          "height": 34
        },
        "outputId": "b7ce48f8-21f2-402b-a936-98db3c19eb1f"
      },
      "cell_type": "code",
      "source": [
        "!ls"
      ],
      "execution_count": 116,
      "outputs": [
        {
          "output_type": "stream",
          "text": [
            "sample_data  training_1  training_2\n"
          ],
          "name": "stdout"
        }
      ]
    },
    {
      "metadata": {
        "id": "IwDa2F7KU1dl",
        "colab_type": "code",
        "colab": {
          "base_uri": "https://localhost:8080/",
          "height": 34
        },
        "outputId": "9e4fb000-113d-4005-b845-e0789250b6d3"
      },
      "cell_type": "code",
      "source": [
        "!pwd"
      ],
      "execution_count": 117,
      "outputs": [
        {
          "output_type": "stream",
          "text": [
            "/content\n"
          ],
          "name": "stdout"
        }
      ]
    },
    {
      "metadata": {
        "id": "WrjFJvScU4SR",
        "colab_type": "code",
        "colab": {
          "base_uri": "https://localhost:8080/",
          "height": 51
        },
        "outputId": "9fa55c39-8dc9-44f8-c13c-ffa02e1ff5d6"
      },
      "cell_type": "code",
      "source": [
        "model.load_weights(checkpoint_path)\n",
        "loss,acc = model.evaluate(test_images, test_labels)\n",
        "print(\"Restored model, accuracy: {:5.2f}%\".format(100*acc))"
      ],
      "execution_count": 118,
      "outputs": [
        {
          "output_type": "stream",
          "text": [
            "1000/1000 [==============================] - 0s 67us/step\n",
            "Restored model, accuracy: 86.60%\n"
          ],
          "name": "stdout"
        }
      ]
    },
    {
      "metadata": {
        "id": "6xM21APIVI0p",
        "colab_type": "text"
      },
      "cell_type": "markdown",
      "source": [
        "**Checkpoint callback options**\n",
        "\n",
        "The callback provides several options to give the resulting checkpoints unique names, and adjust the checkpointing frequency.\n",
        "\n",
        "Train a new model, and save uniquely named checkpoints once every 5-epochs"
      ]
    },
    {
      "metadata": {
        "id": "yHhfoO6VVBLM",
        "colab_type": "code",
        "colab": {
          "base_uri": "https://localhost:8080/",
          "height": 904
        },
        "outputId": "6d83e233-e2d3-4de3-e322-b03f09c7856f"
      },
      "cell_type": "code",
      "source": [
        "# include the epoch in the file name. (uses `str.format`)\n",
        "checkpoint_path = \"training_2/cp-{epoch:04d}.ckpt\"\n",
        "checkpoint_dir = os.path.dirname(checkpoint_path)\n",
        "\n",
        "cp_callback = tf.keras.callbacks.ModelCheckpoint(\n",
        "    checkpoint_path, verbose=1, save_weights_only=True,\n",
        "    # Save weights, every 5-epochs.\n",
        "    period=5)\n",
        "\n",
        "model = create_model()\n",
        "model.fit(train_images, train_labels,\n",
        "          epochs = 50, callbacks = [cp_callback],\n",
        "          validation_data = (test_images,test_labels),\n",
        "          verbose=0)"
      ],
      "execution_count": 119,
      "outputs": [
        {
          "output_type": "stream",
          "text": [
            "\n",
            "Epoch 00005: saving model to training_2/cp-0005.ckpt\n",
            "WARNING:tensorflow:This model was compiled with a Keras optimizer (<tensorflow.python.keras.optimizers.Adam object at 0x7ff68e03d2e8>) but is being saved in TensorFlow format with `save_weights`. The model's weights will be saved, but unlike with TensorFlow optimizers in the TensorFlow format the optimizer's state will not be saved.\n",
            "\n",
            "Consider using a TensorFlow optimizer from `tf.train`.\n",
            "\n",
            "Epoch 00010: saving model to training_2/cp-0010.ckpt\n",
            "WARNING:tensorflow:This model was compiled with a Keras optimizer (<tensorflow.python.keras.optimizers.Adam object at 0x7ff68e03d2e8>) but is being saved in TensorFlow format with `save_weights`. The model's weights will be saved, but unlike with TensorFlow optimizers in the TensorFlow format the optimizer's state will not be saved.\n",
            "\n",
            "Consider using a TensorFlow optimizer from `tf.train`.\n",
            "\n",
            "Epoch 00015: saving model to training_2/cp-0015.ckpt\n",
            "WARNING:tensorflow:This model was compiled with a Keras optimizer (<tensorflow.python.keras.optimizers.Adam object at 0x7ff68e03d2e8>) but is being saved in TensorFlow format with `save_weights`. The model's weights will be saved, but unlike with TensorFlow optimizers in the TensorFlow format the optimizer's state will not be saved.\n",
            "\n",
            "Consider using a TensorFlow optimizer from `tf.train`.\n",
            "\n",
            "Epoch 00020: saving model to training_2/cp-0020.ckpt\n",
            "WARNING:tensorflow:This model was compiled with a Keras optimizer (<tensorflow.python.keras.optimizers.Adam object at 0x7ff68e03d2e8>) but is being saved in TensorFlow format with `save_weights`. The model's weights will be saved, but unlike with TensorFlow optimizers in the TensorFlow format the optimizer's state will not be saved.\n",
            "\n",
            "Consider using a TensorFlow optimizer from `tf.train`.\n",
            "\n",
            "Epoch 00025: saving model to training_2/cp-0025.ckpt\n",
            "WARNING:tensorflow:This model was compiled with a Keras optimizer (<tensorflow.python.keras.optimizers.Adam object at 0x7ff68e03d2e8>) but is being saved in TensorFlow format with `save_weights`. The model's weights will be saved, but unlike with TensorFlow optimizers in the TensorFlow format the optimizer's state will not be saved.\n",
            "\n",
            "Consider using a TensorFlow optimizer from `tf.train`.\n",
            "\n",
            "Epoch 00030: saving model to training_2/cp-0030.ckpt\n",
            "WARNING:tensorflow:This model was compiled with a Keras optimizer (<tensorflow.python.keras.optimizers.Adam object at 0x7ff68e03d2e8>) but is being saved in TensorFlow format with `save_weights`. The model's weights will be saved, but unlike with TensorFlow optimizers in the TensorFlow format the optimizer's state will not be saved.\n",
            "\n",
            "Consider using a TensorFlow optimizer from `tf.train`.\n",
            "\n",
            "Epoch 00035: saving model to training_2/cp-0035.ckpt\n",
            "WARNING:tensorflow:This model was compiled with a Keras optimizer (<tensorflow.python.keras.optimizers.Adam object at 0x7ff68e03d2e8>) but is being saved in TensorFlow format with `save_weights`. The model's weights will be saved, but unlike with TensorFlow optimizers in the TensorFlow format the optimizer's state will not be saved.\n",
            "\n",
            "Consider using a TensorFlow optimizer from `tf.train`.\n",
            "\n",
            "Epoch 00040: saving model to training_2/cp-0040.ckpt\n",
            "WARNING:tensorflow:This model was compiled with a Keras optimizer (<tensorflow.python.keras.optimizers.Adam object at 0x7ff68e03d2e8>) but is being saved in TensorFlow format with `save_weights`. The model's weights will be saved, but unlike with TensorFlow optimizers in the TensorFlow format the optimizer's state will not be saved.\n",
            "\n",
            "Consider using a TensorFlow optimizer from `tf.train`.\n",
            "\n",
            "Epoch 00045: saving model to training_2/cp-0045.ckpt\n",
            "WARNING:tensorflow:This model was compiled with a Keras optimizer (<tensorflow.python.keras.optimizers.Adam object at 0x7ff68e03d2e8>) but is being saved in TensorFlow format with `save_weights`. The model's weights will be saved, but unlike with TensorFlow optimizers in the TensorFlow format the optimizer's state will not be saved.\n",
            "\n",
            "Consider using a TensorFlow optimizer from `tf.train`.\n",
            "\n",
            "Epoch 00050: saving model to training_2/cp-0050.ckpt\n",
            "WARNING:tensorflow:This model was compiled with a Keras optimizer (<tensorflow.python.keras.optimizers.Adam object at 0x7ff68e03d2e8>) but is being saved in TensorFlow format with `save_weights`. The model's weights will be saved, but unlike with TensorFlow optimizers in the TensorFlow format the optimizer's state will not be saved.\n",
            "\n",
            "Consider using a TensorFlow optimizer from `tf.train`.\n"
          ],
          "name": "stdout"
        },
        {
          "output_type": "execute_result",
          "data": {
            "text/plain": [
              "<tensorflow.python.keras.callbacks.History at 0x7ff68be3f630>"
            ]
          },
          "metadata": {
            "tags": []
          },
          "execution_count": 119
        }
      ]
    },
    {
      "metadata": {
        "id": "I9nsi0AfWMHw",
        "colab_type": "code",
        "colab": {
          "base_uri": "https://localhost:8080/",
          "height": 187
        },
        "outputId": "2b398223-6303-4c2c-bfc5-bb8f2936e646"
      },
      "cell_type": "code",
      "source": [
        "model = create_model()\n",
        "\n",
        "model.fit(train_images, train_labels, epochs=5)\n",
        "\n",
        "# Save entire model to a HDF5 file\n",
        "model.save('my_model.h5')"
      ],
      "execution_count": 120,
      "outputs": [
        {
          "output_type": "stream",
          "text": [
            "Epoch 1/5\n",
            "1000/1000 [==============================] - 1s 1ms/step - loss: 1.1940 - acc: 0.6330\n",
            "Epoch 2/5\n",
            "1000/1000 [==============================] - 0s 297us/step - loss: 0.4367 - acc: 0.8770\n",
            "Epoch 3/5\n",
            "1000/1000 [==============================] - 0s 275us/step - loss: 0.2949 - acc: 0.9270\n",
            "Epoch 4/5\n",
            "1000/1000 [==============================] - 0s 255us/step - loss: 0.2113 - acc: 0.9520\n",
            "Epoch 5/5\n",
            "1000/1000 [==============================] - 0s 253us/step - loss: 0.1598 - acc: 0.9680\n"
          ],
          "name": "stdout"
        }
      ]
    },
    {
      "metadata": {
        "id": "BE6d9tq9pX64",
        "colab_type": "code",
        "colab": {
          "base_uri": "https://localhost:8080/",
          "height": 238
        },
        "outputId": "af78a2af-c1ed-4ac8-83ee-e1ededed5d04"
      },
      "cell_type": "code",
      "source": [
        "# Recreate the exact same model, including weights and optimizer.\n",
        "new_model = keras.models.load_model('my_model.h5')\n",
        "new_model.summary()"
      ],
      "execution_count": 121,
      "outputs": [
        {
          "output_type": "stream",
          "text": [
            "_________________________________________________________________\n",
            "Layer (type)                 Output Shape              Param #   \n",
            "=================================================================\n",
            "dense_55 (Dense)             (None, 512)               401920    \n",
            "_________________________________________________________________\n",
            "dropout_11 (Dropout)         (None, 512)               0         \n",
            "_________________________________________________________________\n",
            "dense_56 (Dense)             (None, 10)                5130      \n",
            "=================================================================\n",
            "Total params: 407,050\n",
            "Trainable params: 407,050\n",
            "Non-trainable params: 0\n",
            "_________________________________________________________________\n"
          ],
          "name": "stdout"
        }
      ]
    },
    {
      "metadata": {
        "id": "1CcX0tvJpcMe",
        "colab_type": "code",
        "colab": {
          "base_uri": "https://localhost:8080/",
          "height": 51
        },
        "outputId": "fe75319a-ac7d-4eb3-c3d6-9959aef1b3ac"
      },
      "cell_type": "code",
      "source": [
        "loss, acc = new_model.evaluate(test_images, test_labels)\n",
        "print(\"Restored model, accuracy: {:5.2f}%\".format(100*acc))"
      ],
      "execution_count": 122,
      "outputs": [
        {
          "output_type": "stream",
          "text": [
            "1000/1000 [==============================] - 1s 525us/step\n",
            "Restored model, accuracy: 85.00%\n"
          ],
          "name": "stdout"
        }
      ]
    },
    {
      "metadata": {
        "id": "OnSZ1sqOpfJ_",
        "colab_type": "code",
        "colab": {}
      },
      "cell_type": "code",
      "source": [
        "# "
      ],
      "execution_count": 0,
      "outputs": []
    },
    {
      "metadata": {
        "id": "sVm5gLIMp-M6",
        "colab_type": "code",
        "colab": {}
      },
      "cell_type": "code",
      "source": [
        ""
      ],
      "execution_count": 0,
      "outputs": []
    }
  ]
}