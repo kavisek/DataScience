{
 "cells": [
  {
   "cell_type": "markdown",
   "metadata": {},
   "source": [
    "### Direct Access Digital Technical Test\n",
    "\n",
    "Goal: Here is a data dump of some mock data. Want I am looking for is this to be presented in a clean manner of how you see fit. Please include these metrics. \n",
    "\n",
    "- Cost Per Lead\n",
    "- Avg CPC\n",
    "- Click Through Rate\n",
    "- Conversion Rate\n",
    "- And please include an analysis of what the data is showing and how we may look to speak to said data or base changes off it.\n",
    "\n",
    "- This needs to be back in my email no later than Tuesday, December 18th. This should be ample time to compile everything."
   ]
  },
  {
   "cell_type": "markdown",
   "metadata": {},
   "source": [
    "### Import Preliminaries"
   ]
  },
  {
   "cell_type": "code",
   "execution_count": 7,
   "metadata": {
    "ExecuteTime": {
     "end_time": "2018-12-15T17:25:32.159542Z",
     "start_time": "2018-12-15T17:25:32.128985Z"
    }
   },
   "outputs": [],
   "source": [
    "# Import generic data science packages and configurations\n",
    "%matplotlib inline\n",
    "%config InlineBackend.figure_format='retina'\n",
    "\n",
    "# Import modules\n",
    "import itertools\n",
    "import matplotlib.pyplot as plt\n",
    "import matplotlib.gridspec as gridspec\n",
    "import matplotlib as mpl\n",
    "import numpy as np\n",
    "import pandas as pd \n",
    "import seaborn as sns\n",
    "import warnings\n",
    "\n",
    "# Set pandas options\n",
    "pd.set_option('max_columns',1000)\n",
    "pd.set_option('max_rows',30)\n",
    "pd.set_option('display.float_format', lambda x: '%.3f' % x)\n",
    "\n",
    "# Set plotting options\n",
    "mpl.rcParams['figure.figsize'] = (8.0, 7.0)\n",
    "\n",
    "# Ignore Warnings\n",
    "warnings.filterwarnings('ignore')"
   ]
  },
  {
   "cell_type": "markdown",
   "metadata": {},
   "source": [
    "### Import Data"
   ]
  },
  {
   "cell_type": "code",
   "execution_count": 22,
   "metadata": {
    "ExecuteTime": {
     "end_time": "2018-12-15T17:33:03.112620Z",
     "start_time": "2018-12-15T17:33:03.052667Z"
    }
   },
   "outputs": [
    {
     "data": {
      "text/html": [
       "<div>\n",
       "<style scoped>\n",
       "    .dataframe tbody tr th:only-of-type {\n",
       "        vertical-align: middle;\n",
       "    }\n",
       "\n",
       "    .dataframe tbody tr th {\n",
       "        vertical-align: top;\n",
       "    }\n",
       "\n",
       "    .dataframe thead th {\n",
       "        text-align: right;\n",
       "    }\n",
       "</style>\n",
       "<table border=\"1\" class=\"dataframe\">\n",
       "  <thead>\n",
       "    <tr style=\"text-align: right;\">\n",
       "      <th></th>\n",
       "      <th>Row Type</th>\n",
       "      <th>Status</th>\n",
       "      <th>From</th>\n",
       "      <th>Engine</th>\n",
       "      <th>Account</th>\n",
       "      <th>Campaign</th>\n",
       "      <th>Daily budget</th>\n",
       "      <th>Clicks</th>\n",
       "      <th>Impr</th>\n",
       "      <th>Cost</th>\n",
       "      <th>CTR</th>\n",
       "      <th>Avg CPC</th>\n",
       "      <th>Avg pos</th>\n",
       "      <th>Lead Start Total</th>\n",
       "      <th>Lead TY Total</th>\n",
       "      <th>LeadSheetStart(M)</th>\n",
       "      <th>LeadSheetTY(M)</th>\n",
       "      <th>LocatorStart(M)</th>\n",
       "      <th>LocatorTY(M)</th>\n",
       "      <th>LAppStart(M)</th>\n",
       "      <th>LAppTY(M)</th>\n",
       "      <th>OnlineAppBookStart(M)</th>\n",
       "      <th>OnlineAppBookTY(M)</th>\n",
       "      <th>OnlineAppBookBonusTY(M)</th>\n",
       "      <th>LAppBonusTY(M)</th>\n",
       "      <th>Search impr share</th>\n",
       "      <th>Search lost IS (budget)</th>\n",
       "      <th>Quality score (avg)</th>\n",
       "      <th>Ad rotation</th>\n",
       "      <th>Language</th>\n",
       "      <th>Country</th>\n",
       "      <th>Effective country</th>\n",
       "      <th>Network</th>\n",
       "      <th>Device</th>\n",
       "      <th>Effective device</th>\n",
       "      <th>Delivery method</th>\n",
       "      <th>Desktop bid adjustment %</th>\n",
       "      <th>Tablet bid adjustment %</th>\n",
       "      <th>Effective engine bid strategy name</th>\n",
       "    </tr>\n",
       "  </thead>\n",
       "  <tbody>\n",
       "    <tr>\n",
       "      <th>787</th>\n",
       "      <td>campaign</td>\n",
       "      <td>Active</td>\n",
       "      <td>2016-12-19</td>\n",
       "      <td>Google AdWords</td>\n",
       "      <td>Account 1</td>\n",
       "      <td>Campaign 3</td>\n",
       "      <td>50.000</td>\n",
       "      <td>53</td>\n",
       "      <td>168</td>\n",
       "      <td>33.80</td>\n",
       "      <td>31.55%</td>\n",
       "      <td>0.640</td>\n",
       "      <td>1.100</td>\n",
       "      <td>14</td>\n",
       "      <td>4</td>\n",
       "      <td>9</td>\n",
       "      <td>4</td>\n",
       "      <td>3</td>\n",
       "      <td>0</td>\n",
       "      <td>0</td>\n",
       "      <td>0</td>\n",
       "      <td>2</td>\n",
       "      <td>0</td>\n",
       "      <td>0</td>\n",
       "      <td>0</td>\n",
       "      <td>1.000</td>\n",
       "      <td>0.000</td>\n",
       "      <td>9.700</td>\n",
       "      <td>Conversion optimize</td>\n",
       "      <td>fr</td>\n",
       "      <td>CA</td>\n",
       "      <td>CA</td>\n",
       "      <td>Search and Search Partners</td>\n",
       "      <td>Mobile | Pc | Tablet</td>\n",
       "      <td>Mobile | Pc | Tablet</td>\n",
       "      <td>Standard</td>\n",
       "      <td>0%</td>\n",
       "      <td>0%</td>\n",
       "      <td>(Target CPA)</td>\n",
       "    </tr>\n",
       "    <tr>\n",
       "      <th>201</th>\n",
       "      <td>campaign</td>\n",
       "      <td>Active</td>\n",
       "      <td>2017-04-03</td>\n",
       "      <td>Bing Ads</td>\n",
       "      <td>Account 1</td>\n",
       "      <td>Campaign 2</td>\n",
       "      <td>6.430</td>\n",
       "      <td>74</td>\n",
       "      <td>214</td>\n",
       "      <td>46.26</td>\n",
       "      <td>34.58%</td>\n",
       "      <td>0.630</td>\n",
       "      <td>1.630</td>\n",
       "      <td>5</td>\n",
       "      <td>2</td>\n",
       "      <td>2</td>\n",
       "      <td>0</td>\n",
       "      <td>0</td>\n",
       "      <td>0</td>\n",
       "      <td>0</td>\n",
       "      <td>0</td>\n",
       "      <td>3</td>\n",
       "      <td>2</td>\n",
       "      <td>0</td>\n",
       "      <td>0</td>\n",
       "      <td>1.000</td>\n",
       "      <td>0.000</td>\n",
       "      <td>8.620</td>\n",
       "      <td>NaN</td>\n",
       "      <td>NaN</td>\n",
       "      <td>CA</td>\n",
       "      <td>CA</td>\n",
       "      <td>NaN</td>\n",
       "      <td>NaN</td>\n",
       "      <td>NaN</td>\n",
       "      <td>NaN</td>\n",
       "      <td>NaN</td>\n",
       "      <td>NaN</td>\n",
       "      <td>NaN</td>\n",
       "    </tr>\n",
       "    <tr>\n",
       "      <th>877</th>\n",
       "      <td>campaign</td>\n",
       "      <td>Active</td>\n",
       "      <td>2017-06-05</td>\n",
       "      <td>Google AdWords</td>\n",
       "      <td>Account 1</td>\n",
       "      <td>Campaign 4</td>\n",
       "      <td>5.000</td>\n",
       "      <td>3</td>\n",
       "      <td>6</td>\n",
       "      <td>6.03</td>\n",
       "      <td>50.00%</td>\n",
       "      <td>2.010</td>\n",
       "      <td>1.000</td>\n",
       "      <td>0</td>\n",
       "      <td>0</td>\n",
       "      <td>0</td>\n",
       "      <td>0</td>\n",
       "      <td>0</td>\n",
       "      <td>0</td>\n",
       "      <td>0</td>\n",
       "      <td>0</td>\n",
       "      <td>0</td>\n",
       "      <td>0</td>\n",
       "      <td>0</td>\n",
       "      <td>0</td>\n",
       "      <td>1.000</td>\n",
       "      <td>0.000</td>\n",
       "      <td>10.000</td>\n",
       "      <td>Conversion optimize</td>\n",
       "      <td>en</td>\n",
       "      <td>CA</td>\n",
       "      <td>CA</td>\n",
       "      <td>Search and Search Partners</td>\n",
       "      <td>Mobile | Pc | Tablet</td>\n",
       "      <td>Mobile | Pc | Tablet</td>\n",
       "      <td>Standard</td>\n",
       "      <td>0%</td>\n",
       "      <td>0%</td>\n",
       "      <td>(manual)</td>\n",
       "    </tr>\n",
       "    <tr>\n",
       "      <th>917</th>\n",
       "      <td>campaign</td>\n",
       "      <td>Active</td>\n",
       "      <td>2017-06-12</td>\n",
       "      <td>Google AdWords</td>\n",
       "      <td>Account 1</td>\n",
       "      <td>Campaign 6</td>\n",
       "      <td>5.000</td>\n",
       "      <td>0</td>\n",
       "      <td>1</td>\n",
       "      <td>0.00</td>\n",
       "      <td>0.00%</td>\n",
       "      <td>nan</td>\n",
       "      <td>1.000</td>\n",
       "      <td>0</td>\n",
       "      <td>0</td>\n",
       "      <td>0</td>\n",
       "      <td>0</td>\n",
       "      <td>0</td>\n",
       "      <td>0</td>\n",
       "      <td>0</td>\n",
       "      <td>0</td>\n",
       "      <td>0</td>\n",
       "      <td>0</td>\n",
       "      <td>0</td>\n",
       "      <td>0</td>\n",
       "      <td>1.000</td>\n",
       "      <td>0.000</td>\n",
       "      <td>nan</td>\n",
       "      <td>Conversion optimize</td>\n",
       "      <td>fr</td>\n",
       "      <td>CA</td>\n",
       "      <td>CA</td>\n",
       "      <td>Search and Search Partners</td>\n",
       "      <td>Mobile | Pc | Tablet</td>\n",
       "      <td>Mobile | Pc | Tablet</td>\n",
       "      <td>Accelerated</td>\n",
       "      <td>0%</td>\n",
       "      <td>0%</td>\n",
       "      <td>(manual)</td>\n",
       "    </tr>\n",
       "    <tr>\n",
       "      <th>668</th>\n",
       "      <td>campaign</td>\n",
       "      <td>Active</td>\n",
       "      <td>2016-12-19</td>\n",
       "      <td>Google AdWords</td>\n",
       "      <td>Account 1</td>\n",
       "      <td>Campaign 5</td>\n",
       "      <td>220.000</td>\n",
       "      <td>668</td>\n",
       "      <td>1928</td>\n",
       "      <td>731.77</td>\n",
       "      <td>34.65%</td>\n",
       "      <td>1.100</td>\n",
       "      <td>1.020</td>\n",
       "      <td>58</td>\n",
       "      <td>8</td>\n",
       "      <td>32</td>\n",
       "      <td>6</td>\n",
       "      <td>0</td>\n",
       "      <td>0</td>\n",
       "      <td>2</td>\n",
       "      <td>0</td>\n",
       "      <td>24</td>\n",
       "      <td>2</td>\n",
       "      <td>0</td>\n",
       "      <td>1</td>\n",
       "      <td>0.990</td>\n",
       "      <td>0.000</td>\n",
       "      <td>9.060</td>\n",
       "      <td>Conversion optimize</td>\n",
       "      <td>en</td>\n",
       "      <td>CA</td>\n",
       "      <td>CA</td>\n",
       "      <td>Search and Search Partners</td>\n",
       "      <td>Mobile | Pc | Tablet</td>\n",
       "      <td>Mobile | Pc | Tablet</td>\n",
       "      <td>Accelerated</td>\n",
       "      <td>0%</td>\n",
       "      <td>0%</td>\n",
       "      <td>(Target CPA)</td>\n",
       "    </tr>\n",
       "  </tbody>\n",
       "</table>\n",
       "</div>"
      ],
      "text/plain": [
       "     Row Type  Status        From          Engine    Account    Campaign  \\\n",
       "787  campaign  Active  2016-12-19  Google AdWords  Account 1  Campaign 3   \n",
       "201  campaign  Active  2017-04-03        Bing Ads  Account 1  Campaign 2   \n",
       "877  campaign  Active  2017-06-05  Google AdWords  Account 1  Campaign 4   \n",
       "917  campaign  Active  2017-06-12  Google AdWords  Account 1  Campaign 6   \n",
       "668  campaign  Active  2016-12-19  Google AdWords  Account 1  Campaign 5   \n",
       "\n",
       "     Daily budget  Clicks  Impr     Cost     CTR  Avg CPC  Avg pos  \\\n",
       "787        50.000      53   168   33.80   31.55%    0.640    1.100   \n",
       "201         6.430      74   214   46.26   34.58%    0.630    1.630   \n",
       "877         5.000       3     6    6.03   50.00%    2.010    1.000   \n",
       "917         5.000       0     1    0.00    0.00%      nan    1.000   \n",
       "668       220.000     668  1928  731.77   34.65%    1.100    1.020   \n",
       "\n",
       "     Lead Start Total  Lead TY Total  LeadSheetStart(M)  LeadSheetTY(M)  \\\n",
       "787                14              4                  9               4   \n",
       "201                 5              2                  2               0   \n",
       "877                 0              0                  0               0   \n",
       "917                 0              0                  0               0   \n",
       "668                58              8                 32               6   \n",
       "\n",
       "     LocatorStart(M)  LocatorTY(M)  LAppStart(M)  LAppTY(M)  \\\n",
       "787                3             0             0          0   \n",
       "201                0             0             0          0   \n",
       "877                0             0             0          0   \n",
       "917                0             0             0          0   \n",
       "668                0             0             2          0   \n",
       "\n",
       "     OnlineAppBookStart(M)  OnlineAppBookTY(M)  OnlineAppBookBonusTY(M)  \\\n",
       "787                      2                   0                        0   \n",
       "201                      3                   2                        0   \n",
       "877                      0                   0                        0   \n",
       "917                      0                   0                        0   \n",
       "668                     24                   2                        0   \n",
       "\n",
       "     LAppBonusTY(M)   Search impr share  Search lost IS (budget)  \\\n",
       "787                0              1.000                    0.000   \n",
       "201                0              1.000                    0.000   \n",
       "877                0              1.000                    0.000   \n",
       "917                0              1.000                    0.000   \n",
       "668                1              0.990                    0.000   \n",
       "\n",
       "     Quality score (avg)          Ad rotation Language Country  \\\n",
       "787                9.700  Conversion optimize       fr      CA   \n",
       "201                8.620                  NaN      NaN      CA   \n",
       "877               10.000  Conversion optimize       en      CA   \n",
       "917                  nan  Conversion optimize       fr      CA   \n",
       "668                9.060  Conversion optimize       en      CA   \n",
       "\n",
       "    Effective country                     Network                Device  \\\n",
       "787                CA  Search and Search Partners  Mobile | Pc | Tablet   \n",
       "201                CA                         NaN                   NaN   \n",
       "877                CA  Search and Search Partners  Mobile | Pc | Tablet   \n",
       "917                CA  Search and Search Partners  Mobile | Pc | Tablet   \n",
       "668                CA  Search and Search Partners  Mobile | Pc | Tablet   \n",
       "\n",
       "         Effective device Delivery method Desktop bid adjustment %  \\\n",
       "787  Mobile | Pc | Tablet        Standard                       0%   \n",
       "201                   NaN             NaN                      NaN   \n",
       "877  Mobile | Pc | Tablet        Standard                       0%   \n",
       "917  Mobile | Pc | Tablet     Accelerated                       0%   \n",
       "668  Mobile | Pc | Tablet     Accelerated                       0%   \n",
       "\n",
       "    Tablet bid adjustment % Effective engine bid strategy name  \n",
       "787                      0%                       (Target CPA)  \n",
       "201                     NaN                                NaN  \n",
       "877                      0%                           (manual)  \n",
       "917                      0%                           (manual)  \n",
       "668                      0%                       (Target CPA)  "
      ]
     },
     "execution_count": 22,
     "metadata": {},
     "output_type": "execute_result"
    }
   ],
   "source": [
    "# Sheet 1 and 2 \n",
    "sheet_1 = pd.read_csv('Data/sheet1.csv')\n",
    "sheet_2 = pd.read_csv('Data/sheet2.csv')\n",
    "\n",
    "# View Sheet 1 Data Sample\n",
    "sheet_1.sample(5)"
   ]
  },
  {
   "cell_type": "code",
   "execution_count": 53,
   "metadata": {
    "ExecuteTime": {
     "end_time": "2018-12-15T17:58:00.958280Z",
     "start_time": "2018-12-15T17:58:00.946900Z"
    }
   },
   "outputs": [
    {
     "data": {
      "text/html": [
       "<div>\n",
       "<style scoped>\n",
       "    .dataframe tbody tr th:only-of-type {\n",
       "        vertical-align: middle;\n",
       "    }\n",
       "\n",
       "    .dataframe tbody tr th {\n",
       "        vertical-align: top;\n",
       "    }\n",
       "\n",
       "    .dataframe thead th {\n",
       "        text-align: right;\n",
       "    }\n",
       "</style>\n",
       "<table border=\"1\" class=\"dataframe\">\n",
       "  <thead>\n",
       "    <tr style=\"text-align: right;\">\n",
       "      <th></th>\n",
       "      <th>Brand - Rates - EDB CS (EN)</th>\n",
       "      <th>Campaign 1</th>\n",
       "    </tr>\n",
       "  </thead>\n",
       "  <tbody>\n",
       "    <tr>\n",
       "      <th>2</th>\n",
       "      <td>Brand - Homebuyers - First Time (EN)</td>\n",
       "      <td>Campaign 4</td>\n",
       "    </tr>\n",
       "    <tr>\n",
       "      <th>8</th>\n",
       "      <td>Brand - Mortgage (EN)</td>\n",
       "      <td>Campaign 10</td>\n",
       "    </tr>\n",
       "    <tr>\n",
       "      <th>12</th>\n",
       "      <td>Brand - Mortgage - EDB CS (EN)</td>\n",
       "      <td>Campaign 14</td>\n",
       "    </tr>\n",
       "    <tr>\n",
       "      <th>6</th>\n",
       "      <td>Brand - Rates - EDB CS (FR)</td>\n",
       "      <td>Campaign 8</td>\n",
       "    </tr>\n",
       "    <tr>\n",
       "      <th>7</th>\n",
       "      <td>Brand - Calculator (FR)</td>\n",
       "      <td>Campaign 9</td>\n",
       "    </tr>\n",
       "  </tbody>\n",
       "</table>\n",
       "</div>"
      ],
      "text/plain": [
       "             Brand - Rates - EDB CS (EN)   Campaign 1\n",
       "2   Brand - Homebuyers - First Time (EN)   Campaign 4\n",
       "8                  Brand - Mortgage (EN)  Campaign 10\n",
       "12        Brand - Mortgage - EDB CS (EN)  Campaign 14\n",
       "6            Brand - Rates - EDB CS (FR)   Campaign 8\n",
       "7                Brand - Calculator (FR)   Campaign 9"
      ]
     },
     "execution_count": 53,
     "metadata": {},
     "output_type": "execute_result"
    }
   ],
   "source": [
    "# View Sheet 2 Data Sample\n",
    "sheet_2.sample(5)"
   ]
  },
  {
   "cell_type": "code",
   "execution_count": 25,
   "metadata": {
    "ExecuteTime": {
     "end_time": "2018-12-15T17:35:33.724753Z",
     "start_time": "2018-12-15T17:35:33.719900Z"
    }
   },
   "outputs": [
    {
     "name": "stdout",
     "output_type": "stream",
     "text": [
      "Sheet 1 Data Shape (1287, 39)\n",
      "Shee 2 Data Shape (19, 2)\n"
     ]
    }
   ],
   "source": [
    "print('Sheet 1 Data Shape', sheet_1.shape)\n",
    "print('Shee 2 Data Shape', sheet_2.shape)"
   ]
  },
  {
   "cell_type": "code",
   "execution_count": 30,
   "metadata": {
    "ExecuteTime": {
     "end_time": "2018-12-15T17:37:08.034270Z",
     "start_time": "2018-12-15T17:37:08.029128Z"
    }
   },
   "outputs": [
    {
     "name": "stdout",
     "output_type": "stream",
     "text": [
      "Number of Unique Campaigns: 19\n",
      "Number of Brand Campaigns: 19\n"
     ]
    }
   ],
   "source": [
    "# Sheet 2 values counts\n",
    "print('Number of Unique Campaigns:', sheet_2['Campaign 1'].nunique())\n",
    "print('Number of Brand Campaigns:', sheet_2['Brand - Rates - EDB CS (EN)'].nunique())"
   ]
  },
  {
   "cell_type": "markdown",
   "metadata": {
    "ExecuteTime": {
     "end_time": "2018-12-15T17:36:47.358159Z",
     "start_time": "2018-12-15T17:36:47.352223Z"
    }
   },
   "source": [
    "Sheet 2 seems to just be a mapping table that map campaigns to individual brangs"
   ]
  },
  {
   "cell_type": "code",
   "execution_count": 33,
   "metadata": {
    "ExecuteTime": {
     "end_time": "2018-12-15T17:52:49.062569Z",
     "start_time": "2018-12-15T17:52:49.045128Z"
    }
   },
   "outputs": [
    {
     "name": "stdout",
     "output_type": "stream",
     "text": [
      "<class 'pandas.core.frame.DataFrame'>\n",
      "RangeIndex: 1287 entries, 0 to 1286\n",
      "Data columns (total 39 columns):\n",
      "Row Type                              1287 non-null object\n",
      "Status                                1287 non-null object\n",
      "From                                  1287 non-null object\n",
      "Engine                                1287 non-null object\n",
      "Account                               1287 non-null object\n",
      "Campaign                              1287 non-null object\n",
      "Daily budget                          1287 non-null float64\n",
      "Clicks                                1287 non-null int64\n",
      "Impr                                  1287 non-null int64\n",
      "Cost                                  1287 non-null object\n",
      "CTR                                   774 non-null object\n",
      "Avg CPC                               741 non-null float64\n",
      "Avg pos                               774 non-null float64\n",
      "Lead Start Total                      1287 non-null int64\n",
      "Lead TY Total                         1287 non-null int64\n",
      "LeadSheetStart(M)                     1287 non-null int64\n",
      "LeadSheetTY(M)                        1287 non-null int64\n",
      "LocatorStart(M)                       1287 non-null int64\n",
      "LocatorTY(M)                          1287 non-null int64\n",
      "LAppStart(M)                          1287 non-null int64\n",
      "LAppTY(M)                             1287 non-null int64\n",
      "OnlineAppBookStart(M)                 1287 non-null int64\n",
      "OnlineAppBookTY(M)                    1287 non-null int64\n",
      "OnlineAppBookBonusTY(M)               1287 non-null int64\n",
      "LAppBonusTY(M)                        1287 non-null int64\n",
      "Search impr share                     774 non-null float64\n",
      "Search lost IS (budget)               774 non-null float64\n",
      "Quality score (avg)                   760 non-null float64\n",
      "Ad rotation                           780 non-null object\n",
      "Language                              780 non-null object\n",
      "Country                               1287 non-null object\n",
      "Effective country                     1287 non-null object\n",
      "Network                               780 non-null object\n",
      "Device                                780 non-null object\n",
      "Effective device                      780 non-null object\n",
      "Delivery method                       780 non-null object\n",
      "Desktop bid adjustment %              819 non-null object\n",
      "Tablet bid adjustment %               819 non-null object\n",
      "Effective engine bid strategy name    780 non-null object\n",
      "dtypes: float64(6), int64(14), object(19)\n",
      "memory usage: 392.2+ KB\n"
     ]
    }
   ],
   "source": [
    "# Sheet 1 Data Type Notes\n",
    "sheet_1.info()"
   ]
  },
  {
   "cell_type": "code",
   "execution_count": 35,
   "metadata": {
    "ExecuteTime": {
     "end_time": "2018-12-15T17:54:25.416986Z",
     "start_time": "2018-12-15T17:54:25.287122Z"
    }
   },
   "outputs": [
    {
     "data": {
      "text/html": [
       "<div>\n",
       "<style scoped>\n",
       "    .dataframe tbody tr th:only-of-type {\n",
       "        vertical-align: middle;\n",
       "    }\n",
       "\n",
       "    .dataframe tbody tr th {\n",
       "        vertical-align: top;\n",
       "    }\n",
       "\n",
       "    .dataframe thead th {\n",
       "        text-align: right;\n",
       "    }\n",
       "</style>\n",
       "<table border=\"1\" class=\"dataframe\">\n",
       "  <thead>\n",
       "    <tr style=\"text-align: right;\">\n",
       "      <th></th>\n",
       "      <th>Daily budget</th>\n",
       "      <th>Clicks</th>\n",
       "      <th>Impr</th>\n",
       "      <th>Avg CPC</th>\n",
       "      <th>Avg pos</th>\n",
       "      <th>Lead Start Total</th>\n",
       "      <th>Lead TY Total</th>\n",
       "      <th>LeadSheetStart(M)</th>\n",
       "      <th>LeadSheetTY(M)</th>\n",
       "      <th>LocatorStart(M)</th>\n",
       "      <th>LocatorTY(M)</th>\n",
       "      <th>LAppStart(M)</th>\n",
       "      <th>LAppTY(M)</th>\n",
       "      <th>OnlineAppBookStart(M)</th>\n",
       "      <th>OnlineAppBookTY(M)</th>\n",
       "      <th>OnlineAppBookBonusTY(M)</th>\n",
       "      <th>LAppBonusTY(M)</th>\n",
       "      <th>Search impr share</th>\n",
       "      <th>Search lost IS (budget)</th>\n",
       "      <th>Quality score (avg)</th>\n",
       "    </tr>\n",
       "  </thead>\n",
       "  <tbody>\n",
       "    <tr>\n",
       "      <th>count</th>\n",
       "      <td>1287.000</td>\n",
       "      <td>1287.000</td>\n",
       "      <td>1287.000</td>\n",
       "      <td>741.000</td>\n",
       "      <td>774.000</td>\n",
       "      <td>1287.000</td>\n",
       "      <td>1287.000</td>\n",
       "      <td>1287.000</td>\n",
       "      <td>1287.000</td>\n",
       "      <td>1287.000</td>\n",
       "      <td>1287.000</td>\n",
       "      <td>1287.000</td>\n",
       "      <td>1287.000</td>\n",
       "      <td>1287.000</td>\n",
       "      <td>1287.000</td>\n",
       "      <td>1287.000</td>\n",
       "      <td>1287.000</td>\n",
       "      <td>774.000</td>\n",
       "      <td>774.000</td>\n",
       "      <td>760.000</td>\n",
       "    </tr>\n",
       "    <tr>\n",
       "      <th>mean</th>\n",
       "      <td>36.356</td>\n",
       "      <td>131.911</td>\n",
       "      <td>328.068</td>\n",
       "      <td>0.993</td>\n",
       "      <td>1.119</td>\n",
       "      <td>11.419</td>\n",
       "      <td>2.761</td>\n",
       "      <td>6.432</td>\n",
       "      <td>1.891</td>\n",
       "      <td>0.249</td>\n",
       "      <td>0.117</td>\n",
       "      <td>1.395</td>\n",
       "      <td>0.018</td>\n",
       "      <td>3.343</td>\n",
       "      <td>0.735</td>\n",
       "      <td>0.101</td>\n",
       "      <td>0.057</td>\n",
       "      <td>0.992</td>\n",
       "      <td>0.001</td>\n",
       "      <td>9.590</td>\n",
       "    </tr>\n",
       "    <tr>\n",
       "      <th>std</th>\n",
       "      <td>70.538</td>\n",
       "      <td>382.413</td>\n",
       "      <td>868.934</td>\n",
       "      <td>0.977</td>\n",
       "      <td>0.196</td>\n",
       "      <td>29.320</td>\n",
       "      <td>7.879</td>\n",
       "      <td>17.018</td>\n",
       "      <td>5.660</td>\n",
       "      <td>1.295</td>\n",
       "      <td>0.785</td>\n",
       "      <td>4.273</td>\n",
       "      <td>0.144</td>\n",
       "      <td>9.504</td>\n",
       "      <td>2.213</td>\n",
       "      <td>0.449</td>\n",
       "      <td>0.297</td>\n",
       "      <td>0.022</td>\n",
       "      <td>0.012</td>\n",
       "      <td>0.496</td>\n",
       "    </tr>\n",
       "    <tr>\n",
       "      <th>min</th>\n",
       "      <td>1.000</td>\n",
       "      <td>0.000</td>\n",
       "      <td>0.000</td>\n",
       "      <td>0.020</td>\n",
       "      <td>1.000</td>\n",
       "      <td>0.000</td>\n",
       "      <td>0.000</td>\n",
       "      <td>0.000</td>\n",
       "      <td>0.000</td>\n",
       "      <td>0.000</td>\n",
       "      <td>0.000</td>\n",
       "      <td>0.000</td>\n",
       "      <td>0.000</td>\n",
       "      <td>0.000</td>\n",
       "      <td>0.000</td>\n",
       "      <td>0.000</td>\n",
       "      <td>0.000</td>\n",
       "      <td>0.720</td>\n",
       "      <td>0.000</td>\n",
       "      <td>6.000</td>\n",
       "    </tr>\n",
       "    <tr>\n",
       "      <th>25%</th>\n",
       "      <td>5.000</td>\n",
       "      <td>0.000</td>\n",
       "      <td>0.000</td>\n",
       "      <td>0.400</td>\n",
       "      <td>1.000</td>\n",
       "      <td>0.000</td>\n",
       "      <td>0.000</td>\n",
       "      <td>0.000</td>\n",
       "      <td>0.000</td>\n",
       "      <td>0.000</td>\n",
       "      <td>0.000</td>\n",
       "      <td>0.000</td>\n",
       "      <td>0.000</td>\n",
       "      <td>0.000</td>\n",
       "      <td>0.000</td>\n",
       "      <td>0.000</td>\n",
       "      <td>0.000</td>\n",
       "      <td>1.000</td>\n",
       "      <td>0.000</td>\n",
       "      <td>9.300</td>\n",
       "    </tr>\n",
       "    <tr>\n",
       "      <th>50%</th>\n",
       "      <td>11.000</td>\n",
       "      <td>3.000</td>\n",
       "      <td>10.000</td>\n",
       "      <td>0.680</td>\n",
       "      <td>1.040</td>\n",
       "      <td>0.000</td>\n",
       "      <td>0.000</td>\n",
       "      <td>0.000</td>\n",
       "      <td>0.000</td>\n",
       "      <td>0.000</td>\n",
       "      <td>0.000</td>\n",
       "      <td>0.000</td>\n",
       "      <td>0.000</td>\n",
       "      <td>0.000</td>\n",
       "      <td>0.000</td>\n",
       "      <td>0.000</td>\n",
       "      <td>0.000</td>\n",
       "      <td>1.000</td>\n",
       "      <td>0.000</td>\n",
       "      <td>9.790</td>\n",
       "    </tr>\n",
       "    <tr>\n",
       "      <th>75%</th>\n",
       "      <td>20.000</td>\n",
       "      <td>53.000</td>\n",
       "      <td>167.500</td>\n",
       "      <td>1.170</td>\n",
       "      <td>1.140</td>\n",
       "      <td>5.000</td>\n",
       "      <td>1.000</td>\n",
       "      <td>3.000</td>\n",
       "      <td>0.000</td>\n",
       "      <td>0.000</td>\n",
       "      <td>0.000</td>\n",
       "      <td>0.000</td>\n",
       "      <td>0.000</td>\n",
       "      <td>1.000</td>\n",
       "      <td>0.000</td>\n",
       "      <td>0.000</td>\n",
       "      <td>0.000</td>\n",
       "      <td>1.000</td>\n",
       "      <td>0.000</td>\n",
       "      <td>9.990</td>\n",
       "    </tr>\n",
       "    <tr>\n",
       "      <th>max</th>\n",
       "      <td>300.000</td>\n",
       "      <td>3950.000</td>\n",
       "      <td>10273.000</td>\n",
       "      <td>6.600</td>\n",
       "      <td>3.000</td>\n",
       "      <td>175.000</td>\n",
       "      <td>64.000</td>\n",
       "      <td>140.000</td>\n",
       "      <td>50.000</td>\n",
       "      <td>18.000</td>\n",
       "      <td>16.000</td>\n",
       "      <td>44.000</td>\n",
       "      <td>2.000</td>\n",
       "      <td>74.000</td>\n",
       "      <td>22.000</td>\n",
       "      <td>5.000</td>\n",
       "      <td>4.000</td>\n",
       "      <td>1.000</td>\n",
       "      <td>0.280</td>\n",
       "      <td>10.000</td>\n",
       "    </tr>\n",
       "  </tbody>\n",
       "</table>\n",
       "</div>"
      ],
      "text/plain": [
       "       Daily budget   Clicks      Impr  Avg CPC  Avg pos  Lead Start Total  \\\n",
       "count      1287.000 1287.000  1287.000  741.000  774.000          1287.000   \n",
       "mean         36.356  131.911   328.068    0.993    1.119            11.419   \n",
       "std          70.538  382.413   868.934    0.977    0.196            29.320   \n",
       "min           1.000    0.000     0.000    0.020    1.000             0.000   \n",
       "25%           5.000    0.000     0.000    0.400    1.000             0.000   \n",
       "50%          11.000    3.000    10.000    0.680    1.040             0.000   \n",
       "75%          20.000   53.000   167.500    1.170    1.140             5.000   \n",
       "max         300.000 3950.000 10273.000    6.600    3.000           175.000   \n",
       "\n",
       "       Lead TY Total  LeadSheetStart(M)  LeadSheetTY(M)  LocatorStart(M)  \\\n",
       "count       1287.000           1287.000        1287.000         1287.000   \n",
       "mean           2.761              6.432           1.891            0.249   \n",
       "std            7.879             17.018           5.660            1.295   \n",
       "min            0.000              0.000           0.000            0.000   \n",
       "25%            0.000              0.000           0.000            0.000   \n",
       "50%            0.000              0.000           0.000            0.000   \n",
       "75%            1.000              3.000           0.000            0.000   \n",
       "max           64.000            140.000          50.000           18.000   \n",
       "\n",
       "       LocatorTY(M)  LAppStart(M)  LAppTY(M)  OnlineAppBookStart(M)  \\\n",
       "count      1287.000      1287.000   1287.000               1287.000   \n",
       "mean          0.117         1.395      0.018                  3.343   \n",
       "std           0.785         4.273      0.144                  9.504   \n",
       "min           0.000         0.000      0.000                  0.000   \n",
       "25%           0.000         0.000      0.000                  0.000   \n",
       "50%           0.000         0.000      0.000                  0.000   \n",
       "75%           0.000         0.000      0.000                  1.000   \n",
       "max          16.000        44.000      2.000                 74.000   \n",
       "\n",
       "       OnlineAppBookTY(M)  OnlineAppBookBonusTY(M)  LAppBonusTY(M)   \\\n",
       "count            1287.000                 1287.000         1287.000   \n",
       "mean                0.735                    0.101            0.057   \n",
       "std                 2.213                    0.449            0.297   \n",
       "min                 0.000                    0.000            0.000   \n",
       "25%                 0.000                    0.000            0.000   \n",
       "50%                 0.000                    0.000            0.000   \n",
       "75%                 0.000                    0.000            0.000   \n",
       "max                22.000                    5.000            4.000   \n",
       "\n",
       "       Search impr share  Search lost IS (budget)  Quality score (avg)  \n",
       "count            774.000                  774.000              760.000  \n",
       "mean               0.992                    0.001                9.590  \n",
       "std                0.022                    0.012                0.496  \n",
       "min                0.720                    0.000                6.000  \n",
       "25%                1.000                    0.000                9.300  \n",
       "50%                1.000                    0.000                9.790  \n",
       "75%                1.000                    0.000                9.990  \n",
       "max                1.000                    0.280               10.000  "
      ]
     },
     "execution_count": 35,
     "metadata": {},
     "output_type": "execute_result"
    }
   ],
   "source": [
    "# Sheet 2\n",
    "sheet_1.describe()"
   ]
  },
  {
   "cell_type": "markdown",
   "metadata": {},
   "source": [
    "### Sheet 1 Dimensions"
   ]
  },
  {
   "cell_type": "code",
   "execution_count": 55,
   "metadata": {
    "ExecuteTime": {
     "end_time": "2018-12-15T18:06:51.991350Z",
     "start_time": "2018-12-15T18:06:51.959677Z"
    }
   },
   "outputs": [
    {
     "data": {
      "text/html": [
       "<div>\n",
       "<style scoped>\n",
       "    .dataframe tbody tr th:only-of-type {\n",
       "        vertical-align: middle;\n",
       "    }\n",
       "\n",
       "    .dataframe tbody tr th {\n",
       "        vertical-align: top;\n",
       "    }\n",
       "\n",
       "    .dataframe thead th {\n",
       "        text-align: right;\n",
       "    }\n",
       "</style>\n",
       "<table border=\"1\" class=\"dataframe\">\n",
       "  <thead>\n",
       "    <tr style=\"text-align: right;\">\n",
       "      <th></th>\n",
       "      <th>Row Type</th>\n",
       "      <th>Status</th>\n",
       "      <th>From</th>\n",
       "      <th>Engine</th>\n",
       "      <th>Account</th>\n",
       "      <th>Campaign</th>\n",
       "      <th>Daily budget</th>\n",
       "      <th>Clicks</th>\n",
       "      <th>Impr</th>\n",
       "      <th>Cost</th>\n",
       "      <th>CTR</th>\n",
       "      <th>Avg CPC</th>\n",
       "      <th>Avg pos</th>\n",
       "      <th>Lead Start Total</th>\n",
       "      <th>Lead TY Total</th>\n",
       "      <th>LeadSheetStart(M)</th>\n",
       "      <th>LeadSheetTY(M)</th>\n",
       "      <th>LocatorStart(M)</th>\n",
       "      <th>LocatorTY(M)</th>\n",
       "      <th>LAppStart(M)</th>\n",
       "      <th>LAppTY(M)</th>\n",
       "      <th>OnlineAppBookStart(M)</th>\n",
       "      <th>OnlineAppBookTY(M)</th>\n",
       "      <th>OnlineAppBookBonusTY(M)</th>\n",
       "      <th>LAppBonusTY(M)</th>\n",
       "      <th>Search impr share</th>\n",
       "      <th>Search lost IS (budget)</th>\n",
       "      <th>Quality score (avg)</th>\n",
       "      <th>Ad rotation</th>\n",
       "      <th>Language</th>\n",
       "      <th>Country</th>\n",
       "      <th>Effective country</th>\n",
       "      <th>Network</th>\n",
       "      <th>Device</th>\n",
       "      <th>Effective device</th>\n",
       "      <th>Delivery method</th>\n",
       "      <th>Desktop bid adjustment %</th>\n",
       "      <th>Tablet bid adjustment %</th>\n",
       "      <th>Effective engine bid strategy name</th>\n",
       "    </tr>\n",
       "  </thead>\n",
       "  <tbody>\n",
       "    <tr>\n",
       "      <th>0</th>\n",
       "      <td>campaign</td>\n",
       "      <td>Active</td>\n",
       "      <td>2017-05-08</td>\n",
       "      <td>Google AdWords</td>\n",
       "      <td>Account 1</td>\n",
       "      <td>Campaign 1</td>\n",
       "      <td>11.000</td>\n",
       "      <td>46</td>\n",
       "      <td>124</td>\n",
       "      <td>46.02</td>\n",
       "      <td>37.10%</td>\n",
       "      <td>1.000</td>\n",
       "      <td>1.060</td>\n",
       "      <td>5</td>\n",
       "      <td>0</td>\n",
       "      <td>1</td>\n",
       "      <td>0</td>\n",
       "      <td>0</td>\n",
       "      <td>0</td>\n",
       "      <td>3</td>\n",
       "      <td>0</td>\n",
       "      <td>1</td>\n",
       "      <td>0</td>\n",
       "      <td>0</td>\n",
       "      <td>0</td>\n",
       "      <td>0.930</td>\n",
       "      <td>0.000</td>\n",
       "      <td>9.230</td>\n",
       "      <td>Conversion optimize</td>\n",
       "      <td>en</td>\n",
       "      <td>CA</td>\n",
       "      <td>CA</td>\n",
       "      <td>Search and Search Partners</td>\n",
       "      <td>Mobile | Pc | Tablet</td>\n",
       "      <td>Mobile | Pc | Tablet</td>\n",
       "      <td>Accelerated</td>\n",
       "      <td>0%</td>\n",
       "      <td>0%</td>\n",
       "      <td>(Target CPA)</td>\n",
       "    </tr>\n",
       "    <tr>\n",
       "      <th>1</th>\n",
       "      <td>campaign</td>\n",
       "      <td>Active</td>\n",
       "      <td>2017-05-22</td>\n",
       "      <td>Google AdWords</td>\n",
       "      <td>Account 1</td>\n",
       "      <td>Campaign 2</td>\n",
       "      <td>240.000</td>\n",
       "      <td>2082</td>\n",
       "      <td>3242</td>\n",
       "      <td>1,362.01</td>\n",
       "      <td>64.22%</td>\n",
       "      <td>0.650</td>\n",
       "      <td>1.050</td>\n",
       "      <td>111</td>\n",
       "      <td>23</td>\n",
       "      <td>63</td>\n",
       "      <td>18</td>\n",
       "      <td>0</td>\n",
       "      <td>0</td>\n",
       "      <td>10</td>\n",
       "      <td>0</td>\n",
       "      <td>38</td>\n",
       "      <td>5</td>\n",
       "      <td>1</td>\n",
       "      <td>0</td>\n",
       "      <td>1.000</td>\n",
       "      <td>0.000</td>\n",
       "      <td>10.000</td>\n",
       "      <td>Conversion optimize</td>\n",
       "      <td>en</td>\n",
       "      <td>CA</td>\n",
       "      <td>CA</td>\n",
       "      <td>Search and Search Partners</td>\n",
       "      <td>Mobile | Pc | Tablet</td>\n",
       "      <td>Mobile | Pc | Tablet</td>\n",
       "      <td>Accelerated</td>\n",
       "      <td>0%</td>\n",
       "      <td>0%</td>\n",
       "      <td>(Target CPA)</td>\n",
       "    </tr>\n",
       "    <tr>\n",
       "      <th>2</th>\n",
       "      <td>campaign</td>\n",
       "      <td>Active</td>\n",
       "      <td>2017-04-10</td>\n",
       "      <td>Bing Ads</td>\n",
       "      <td>Account 1</td>\n",
       "      <td>Campaign 3</td>\n",
       "      <td>5.000</td>\n",
       "      <td>5</td>\n",
       "      <td>18</td>\n",
       "      <td>2.37</td>\n",
       "      <td>27.78%</td>\n",
       "      <td>0.470</td>\n",
       "      <td>1.060</td>\n",
       "      <td>1</td>\n",
       "      <td>0</td>\n",
       "      <td>0</td>\n",
       "      <td>0</td>\n",
       "      <td>0</td>\n",
       "      <td>0</td>\n",
       "      <td>1</td>\n",
       "      <td>0</td>\n",
       "      <td>0</td>\n",
       "      <td>0</td>\n",
       "      <td>0</td>\n",
       "      <td>0</td>\n",
       "      <td>1.000</td>\n",
       "      <td>0.000</td>\n",
       "      <td>9.220</td>\n",
       "      <td>NaN</td>\n",
       "      <td>NaN</td>\n",
       "      <td>CA</td>\n",
       "      <td>CA</td>\n",
       "      <td>NaN</td>\n",
       "      <td>NaN</td>\n",
       "      <td>NaN</td>\n",
       "      <td>NaN</td>\n",
       "      <td>NaN</td>\n",
       "      <td>NaN</td>\n",
       "      <td>NaN</td>\n",
       "    </tr>\n",
       "  </tbody>\n",
       "</table>\n",
       "</div>"
      ],
      "text/plain": [
       "   Row Type  Status        From          Engine    Account    Campaign  \\\n",
       "0  campaign  Active  2017-05-08  Google AdWords  Account 1  Campaign 1   \n",
       "1  campaign  Active  2017-05-22  Google AdWords  Account 1  Campaign 2   \n",
       "2  campaign  Active  2017-04-10        Bing Ads  Account 1  Campaign 3   \n",
       "\n",
       "   Daily budget  Clicks  Impr       Cost     CTR  Avg CPC  Avg pos  \\\n",
       "0        11.000      46   124     46.02   37.10%    1.000    1.060   \n",
       "1       240.000    2082  3242  1,362.01   64.22%    0.650    1.050   \n",
       "2         5.000       5    18      2.37   27.78%    0.470    1.060   \n",
       "\n",
       "   Lead Start Total  Lead TY Total  LeadSheetStart(M)  LeadSheetTY(M)  \\\n",
       "0                 5              0                  1               0   \n",
       "1               111             23                 63              18   \n",
       "2                 1              0                  0               0   \n",
       "\n",
       "   LocatorStart(M)  LocatorTY(M)  LAppStart(M)  LAppTY(M)  \\\n",
       "0                0             0             3          0   \n",
       "1                0             0            10          0   \n",
       "2                0             0             1          0   \n",
       "\n",
       "   OnlineAppBookStart(M)  OnlineAppBookTY(M)  OnlineAppBookBonusTY(M)  \\\n",
       "0                      1                   0                        0   \n",
       "1                     38                   5                        1   \n",
       "2                      0                   0                        0   \n",
       "\n",
       "   LAppBonusTY(M)   Search impr share  Search lost IS (budget)  \\\n",
       "0                0              0.930                    0.000   \n",
       "1                0              1.000                    0.000   \n",
       "2                0              1.000                    0.000   \n",
       "\n",
       "   Quality score (avg)          Ad rotation Language Country  \\\n",
       "0                9.230  Conversion optimize       en      CA   \n",
       "1               10.000  Conversion optimize       en      CA   \n",
       "2                9.220                  NaN      NaN      CA   \n",
       "\n",
       "  Effective country                     Network                Device  \\\n",
       "0                CA  Search and Search Partners  Mobile | Pc | Tablet   \n",
       "1                CA  Search and Search Partners  Mobile | Pc | Tablet   \n",
       "2                CA                         NaN                   NaN   \n",
       "\n",
       "       Effective device Delivery method Desktop bid adjustment %  \\\n",
       "0  Mobile | Pc | Tablet     Accelerated                       0%   \n",
       "1  Mobile | Pc | Tablet     Accelerated                       0%   \n",
       "2                   NaN             NaN                      NaN   \n",
       "\n",
       "  Tablet bid adjustment % Effective engine bid strategy name  \n",
       "0                      0%                       (Target CPA)  \n",
       "1                      0%                       (Target CPA)  \n",
       "2                     NaN                                NaN  "
      ]
     },
     "execution_count": 55,
     "metadata": {},
     "output_type": "execute_result"
    }
   ],
   "source": [
    "# View sheet 1 data\n",
    "sheet_1.head(3)"
   ]
  },
  {
   "cell_type": "code",
   "execution_count": 56,
   "metadata": {
    "ExecuteTime": {
     "end_time": "2018-12-15T18:07:15.756990Z",
     "start_time": "2018-12-15T18:07:15.748241Z"
    }
   },
   "outputs": [
    {
     "data": {
      "text/plain": [
       "Active    1053\n",
       "Paused     234\n",
       "Name: Status, dtype: int64"
      ]
     },
     "execution_count": 56,
     "metadata": {},
     "output_type": "execute_result"
    }
   ],
   "source": [
    "# Status value counts\n",
    "sheet_1.Status.value_counts()"
   ]
  },
  {
   "cell_type": "code",
   "execution_count": 57,
   "metadata": {
    "ExecuteTime": {
     "end_time": "2018-12-15T18:07:50.175533Z",
     "start_time": "2018-12-15T18:07:50.168147Z"
    }
   },
   "outputs": [
    {
     "data": {
      "text/plain": [
       "Google AdWords    780\n",
       "Bing Ads          507\n",
       "Name: Engine, dtype: int64"
      ]
     },
     "execution_count": 57,
     "metadata": {},
     "output_type": "execute_result"
    }
   ],
   "source": [
    "# Engine Value Counts\n",
    "sheet_1.Engine.value_counts()"
   ]
  },
  {
   "cell_type": "code",
   "execution_count": 60,
   "metadata": {
    "ExecuteTime": {
     "end_time": "2018-12-15T18:12:16.194265Z",
     "start_time": "2018-12-15T18:12:16.185860Z"
    }
   },
   "outputs": [
    {
     "data": {
      "text/plain": [
       "Conversion optimize    702\n",
       "Optimize                78\n",
       "Name: Ad rotation, dtype: int64"
      ]
     },
     "execution_count": 60,
     "metadata": {},
     "output_type": "execute_result"
    }
   ],
   "source": [
    "# View Ad Rotation Dimension\n",
    "sheet_1['Ad rotation'].value_counts()"
   ]
  },
  {
   "cell_type": "code",
   "execution_count": 61,
   "metadata": {
    "ExecuteTime": {
     "end_time": "2018-12-15T18:12:43.379626Z",
     "start_time": "2018-12-15T18:12:43.371833Z"
    }
   },
   "outputs": [
    {
     "data": {
      "text/plain": [
       "Mobile | Pc | Tablet    780\n",
       "Name: Device, dtype: int64"
      ]
     },
     "execution_count": 61,
     "metadata": {},
     "output_type": "execute_result"
    }
   ],
   "source": [
    "# View Devite Demension\n",
    "sheet_1['Device'].value_counts()"
   ]
  },
  {
   "cell_type": "code",
   "execution_count": 63,
   "metadata": {
    "ExecuteTime": {
     "end_time": "2018-12-15T18:13:33.916840Z",
     "start_time": "2018-12-15T18:13:33.908174Z"
    }
   },
   "outputs": [
    {
     "data": {
      "text/plain": [
       "Mobile | Pc | Tablet    780\n",
       "Name: Effective device, dtype: int64"
      ]
     },
     "execution_count": 63,
     "metadata": {},
     "output_type": "execute_result"
    }
   ],
   "source": [
    "# View Effective Device Dimension\n",
    "sheet_1['Effective device'].value_counts()"
   ]
  },
  {
   "cell_type": "code",
   "execution_count": 65,
   "metadata": {
    "ExecuteTime": {
     "end_time": "2018-12-15T18:14:05.581728Z",
     "start_time": "2018-12-15T18:14:05.574309Z"
    }
   },
   "outputs": [
    {
     "data": {
      "text/plain": [
       "Accelerated    507\n",
       "Standard       273\n",
       "Name: Delivery method, dtype: int64"
      ]
     },
     "execution_count": 65,
     "metadata": {},
     "output_type": "execute_result"
    }
   ],
   "source": [
    "# View Delivery Method Dimension\n",
    "sheet_1['Delivery method'].value_counts()"
   ]
  },
  {
   "cell_type": "code",
   "execution_count": 66,
   "metadata": {
    "ExecuteTime": {
     "end_time": "2018-12-15T18:16:04.675537Z",
     "start_time": "2018-12-15T18:16:04.666613Z"
    }
   },
   "outputs": [
    {
     "data": {
      "text/plain": [
       "Search and Search Partners    780\n",
       "Name: Network, dtype: int64"
      ]
     },
     "execution_count": 66,
     "metadata": {},
     "output_type": "execute_result"
    }
   ],
   "source": [
    "# View Delivery Method Dimension\n",
    "sheet_1['Network'].value_counts()"
   ]
  },
  {
   "cell_type": "code",
   "execution_count": 67,
   "metadata": {
    "ExecuteTime": {
     "end_time": "2018-12-15T18:16:58.316121Z",
     "start_time": "2018-12-15T18:16:58.308291Z"
    }
   },
   "outputs": [
    {
     "data": {
      "text/plain": [
       "(Target CPA)    390\n",
       "(manual)        390\n",
       "Name: Effective engine bid strategy name, dtype: int64"
      ]
     },
     "execution_count": 67,
     "metadata": {},
     "output_type": "execute_result"
    }
   ],
   "source": [
    "# View Delivery Method Dimension\n",
    "sheet_1['Effective engine bid strategy name'].value_counts()"
   ]
  },
  {
   "cell_type": "code",
   "execution_count": 41,
   "metadata": {
    "ExecuteTime": {
     "end_time": "2018-12-15T17:57:33.326466Z",
     "start_time": "2018-12-15T17:57:33.319877Z"
    }
   },
   "outputs": [
    {
     "name": "stdout",
     "output_type": "stream",
     "text": [
      "Number of Unique Accounts: 1\n"
     ]
    }
   ],
   "source": [
    "# Unique Value Counts in the Data\n",
    "print('Number of Unique Accounts:', sheet_1.Account.nunique())"
   ]
  },
  {
   "cell_type": "markdown",
   "metadata": {},
   "source": [
    "#### Sheet Feautes Meanings\n",
    "\n",
    "- Average CPC\n",
    "- Average pos\n",
    "- Lead Start Total\n",
    "- Lead TY Total\n",
    "- LedSheetStart(M)\n",
    "- LeadSheetTY(M)\n",
    "- Locatro"
   ]
  },
  {
   "cell_type": "markdown",
   "metadata": {},
   "source": [
    "### Scientific Notes\n",
    "\n",
    "-\n",
    "\n",
    "Author: Kavi Sekhon"
   ]
  }
 ],
 "metadata": {
  "kernelspec": {
   "display_name": "Python 3",
   "language": "python",
   "name": "python3"
  },
  "language_info": {
   "codemirror_mode": {
    "name": "ipython",
    "version": 3
   },
   "file_extension": ".py",
   "mimetype": "text/x-python",
   "name": "python",
   "nbconvert_exporter": "python",
   "pygments_lexer": "ipython3",
   "version": "3.6.6"
  }
 },
 "nbformat": 4,
 "nbformat_minor": 2
}
