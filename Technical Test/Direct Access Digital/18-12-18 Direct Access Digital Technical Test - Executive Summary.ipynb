{
 "cells": [
  {
   "cell_type": "markdown",
   "metadata": {},
   "source": [
    "### <center>Direct Access Digital Technical Test</center>\n",
    "\n",
    "### Executive Summary\n",
    "\n",
    "Hi Chris, I have gone through the data your dumped and completed some descriptive analysis on it. The dataset is an aggregation of campaign instances and their corresponding for one of Direct Access Digital's Account.\n",
    "\n",
    "This account currently averages a click-through rate of 0.40, an average cost per click of 0.96 cents with an average cost per lead of $11.11 . A key feature of this dataset is the fact it is highly skewed. Out of 20 campaigns, the client has organized three huge campaigns that heavy skew is average.  Since these campaigns are the largest, I am also assuming these three campaigns they are Direct Access Digital's cash cow. \n",
    "\n",
    "![Images](Images/campaignx.jpg)\n",
    "\n",
    "Out of the three campaigns I found only one Campaign 10 called \"Brand - Mortgage (EN)\" to be concerning. This campaign average a higher Cost per Click, and lower Click-through rate, while having a sizeable daily budget allocated to it. Even after looking at the Campaign at the Instance level I found that only 1 gradual spike against the general poor performance of the campaign. As this campaign is currently active, I would recommend diving a bit deep internally into this campaign.\n",
    "\n",
    "![Images](Images/campaign10x.jpg)\n",
    "\n",
    "Finally I would like to make some brief comments on the data for this client:\n",
    "\n",
    "- \"Target CPA\" outperforms \"Manual\" For \"Effective engine bid strategy name\" (suprise!)\n",
    "- French campaigns are cheaper then English\n",
    "- There is litte data on the \"Optimize\" Ad rotation option to make a fair conclusion for this feature\n",
    "\n",
    "I have a summary of my work below. Feel free to glance over my code for further review. Note that the following cells do not contain any additional premises but are presenting aggregated data and plots for validation."
   ]
  },
  {
   "cell_type": "markdown",
   "metadata": {},
   "source": [
    "## <center> Technical/Coding Proof </center>\n",
    "\n",
    "### Assumptions\n",
    "\n",
    "- For this problem I only looked at Active Campaigns\n",
    "- Assuming \"conversion rate\" in Chris's email mean to click to lead conversion since we already have a click through rate\n",
    "- The dataset contains a \"From\" columns and a campaign  columns which only contains a single value; \"Account 1\". Based on the numerical features of the dataset such as Avg CPC, Cost, and Clicks. I am assuming that each numerical feauter is an aggregated value between the \"From\" datetime stamp and the next record in the timeline.\n",
    "- Assuming that Lead Start Total is the Total Amount of leads from the campaign as further feature documentation on dataset and domain knowledge is unavailable. I am probably wrong here since I lack the domain expertise behind this feature/column."
   ]
  },
  {
   "cell_type": "markdown",
   "metadata": {},
   "source": [
    "### Import Preliminaries"
   ]
  },
  {
   "cell_type": "code",
   "execution_count": 3,
   "metadata": {
    "ExecuteTime": {
     "end_time": "2018-12-22T06:21:45.427847Z",
     "start_time": "2018-12-22T06:21:45.401906Z"
    }
   },
   "outputs": [],
   "source": [
    "# Import generic data science packages and configurations\n",
    "%matplotlib inline\n",
    "%config InlineBackend.figure_format='retina'\n",
    "\n",
    "# Import modules\n",
    "import itertools\n",
    "import matplotlib.pyplot as plt\n",
    "import matplotlib.gridspec as gridspec\n",
    "import matplotlib as mpl\n",
    "import numpy as np\n",
    "import pandas as pd \n",
    "import seaborn as sns\n",
    "import warnings\n",
    "\n",
    "# Set pandas options\n",
    "pd.set_option('max_columns',1000)\n",
    "pd.set_option('max_rows',30)\n",
    "pd.set_option('display.float_format', lambda x: '%.3f' % x)\n",
    "\n",
    "# Set plotting options\n",
    "mpl.rcParams['figure.figsize'] = (15.0, 5.0)\n",
    "\n",
    "# Ignore Warnings\n",
    "warnings.filterwarnings('ignore')"
   ]
  },
  {
   "cell_type": "markdown",
   "metadata": {},
   "source": [
    "### Import Data"
   ]
  },
  {
   "cell_type": "code",
   "execution_count": 4,
   "metadata": {
    "ExecuteTime": {
     "end_time": "2018-12-22T06:21:45.991837Z",
     "start_time": "2018-12-22T06:21:45.861452Z"
    }
   },
   "outputs": [],
   "source": [
    "# Import and Join data\n",
    "sheet_1 = pd.read_csv('Data/sheet1.csv')\n",
    "sheet_2 = pd.read_csv('Data/sheet2.csv', names=['Name','Campaign'])\n",
    "sheet_1 = sheet_1[sheet_1['Status'] == 'Active']\n",
    "sheet_1['Cost'] = sheet_1['Cost'].str.replace(',','').astype(float)\n",
    "data = pd.merge(sheet_1, sheet_2, how='left', on='Campaign')"
   ]
  },
  {
   "cell_type": "markdown",
   "metadata": {
    "ExecuteTime": {
     "end_time": "2018-12-18T05:20:51.497775Z",
     "start_time": "2018-12-18T05:20:51.494978Z"
    }
   },
   "source": [
    "### Summary Stastics"
   ]
  },
  {
   "cell_type": "code",
   "execution_count": 5,
   "metadata": {
    "ExecuteTime": {
     "end_time": "2018-12-22T06:21:47.877635Z",
     "start_time": "2018-12-22T06:21:47.863655Z"
    },
    "scrolled": true
   },
   "outputs": [
    {
     "name": "stdout",
     "output_type": "stream",
     "text": [
      "--------------- Summary Statistics ---------------\n",
      "Average Click Through Rate: 0.4020861014203395\n",
      "Average Cost Per Click: 0.9621572126995346\n",
      "Average Campaign POS: 9.590486842105255\n",
      "Average Cost Per Lead: 11.114958492106695\n"
     ]
    }
   ],
   "source": [
    "# Print the summary statistics metrics across all our campaigns\n",
    "print('-'*15, \"Summary Statistics\",'-'*15)\n",
    "print('Average Click Through Rate:', data['Clicks'].sum() / data['Impr'].sum())\n",
    "print('Average Cost Per Click:', data['Cost'].sum() / data['Clicks'].sum())\n",
    "print('Average Campaign POS:',data['Quality score (avg)'].mean())\n",
    "print('Average Cost Per Lead:',data['Cost'].sum() / data['Lead Start Total'].sum())"
   ]
  },
  {
   "cell_type": "markdown",
   "metadata": {},
   "source": [
    "### Daily Bugdet"
   ]
  },
  {
   "cell_type": "code",
   "execution_count": 4,
   "metadata": {
    "ExecuteTime": {
     "end_time": "2018-12-18T06:50:51.364475Z",
     "start_time": "2018-12-18T06:50:51.339707Z"
    }
   },
   "outputs": [
    {
     "data": {
      "text/html": [
       "<div>\n",
       "<style scoped>\n",
       "    .dataframe tbody tr th:only-of-type {\n",
       "        vertical-align: middle;\n",
       "    }\n",
       "\n",
       "    .dataframe tbody tr th {\n",
       "        vertical-align: top;\n",
       "    }\n",
       "\n",
       "    .dataframe thead th {\n",
       "        text-align: right;\n",
       "    }\n",
       "</style>\n",
       "<table border=\"1\" class=\"dataframe\">\n",
       "  <thead>\n",
       "    <tr style=\"text-align: right;\">\n",
       "      <th></th>\n",
       "      <th></th>\n",
       "      <th>Daily budget</th>\n",
       "    </tr>\n",
       "    <tr>\n",
       "      <th>Campaign</th>\n",
       "      <th>Name</th>\n",
       "      <th></th>\n",
       "    </tr>\n",
       "  </thead>\n",
       "  <tbody>\n",
       "    <tr>\n",
       "      <th>Campaign 1</th>\n",
       "      <th>Brand - Rates - EDB CS (EN)</th>\n",
       "      <td>11.000</td>\n",
       "    </tr>\n",
       "    <tr>\n",
       "      <th>Campaign 10</th>\n",
       "      <th>Brand - Mortgage (EN)</th>\n",
       "      <td>152.525</td>\n",
       "    </tr>\n",
       "    <tr>\n",
       "      <th>Campaign 11</th>\n",
       "      <th>Brand - Homebuyers - First Time - EDB CS (EN)</th>\n",
       "      <td>5.000</td>\n",
       "    </tr>\n",
       "    <tr>\n",
       "      <th>Campaign 12</th>\n",
       "      <th>Brand - Homebuyers - First Time (FR)</th>\n",
       "      <td>5.000</td>\n",
       "    </tr>\n",
       "    <tr>\n",
       "      <th>Campaign 13</th>\n",
       "      <th>Brand - Rates (FR)</th>\n",
       "      <td>11.000</td>\n",
       "    </tr>\n",
       "    <tr>\n",
       "      <th>Campaign 14</th>\n",
       "      <th>Brand - Mortgage - EDB CS (EN)</th>\n",
       "      <td>50.000</td>\n",
       "    </tr>\n",
       "    <tr>\n",
       "      <th>Campaign 15</th>\n",
       "      <th>Brand - Mortgage - EDB CS (FR)</th>\n",
       "      <td>5.000</td>\n",
       "    </tr>\n",
       "    <tr>\n",
       "      <th>Campaign 16</th>\n",
       "      <th>Brand - Promotions - EDB CS (EN)</th>\n",
       "      <td>5.000</td>\n",
       "    </tr>\n",
       "    <tr>\n",
       "      <th>Campaign 17</th>\n",
       "      <th>Brand - Promotions - EDB CS (FR)</th>\n",
       "      <td>5.000</td>\n",
       "    </tr>\n",
       "    <tr>\n",
       "      <th>Campaign 18</th>\n",
       "      <th>Brand - Promotions (EN)</th>\n",
       "      <td>30.000</td>\n",
       "    </tr>\n",
       "    <tr>\n",
       "      <th>Campaign 19</th>\n",
       "      <th>Brand - Calculator - EDB CS (EN)</th>\n",
       "      <td>29.000</td>\n",
       "    </tr>\n",
       "    <tr>\n",
       "      <th>Campaign 2</th>\n",
       "      <th>Brand - Calculator (EN)</th>\n",
       "      <td>123.215</td>\n",
       "    </tr>\n",
       "    <tr>\n",
       "      <th>Campaign 20</th>\n",
       "      <th>Brand - Promotions (FR)</th>\n",
       "      <td>5.000</td>\n",
       "    </tr>\n",
       "    <tr>\n",
       "      <th>Campaign 3</th>\n",
       "      <th>Brand - Mortgage (FR)</th>\n",
       "      <td>27.500</td>\n",
       "    </tr>\n",
       "    <tr>\n",
       "      <th>Campaign 4</th>\n",
       "      <th>Brand - Homebuyers - First Time (EN)</th>\n",
       "      <td>3.000</td>\n",
       "    </tr>\n",
       "    <tr>\n",
       "      <th>Campaign 5</th>\n",
       "      <th>Brand - Rates (EN)</th>\n",
       "      <td>118.640</td>\n",
       "    </tr>\n",
       "    <tr>\n",
       "      <th>Campaign 6</th>\n",
       "      <th>Brand - Homebuyers - First Time - EDB CS (FR)</th>\n",
       "      <td>5.000</td>\n",
       "    </tr>\n",
       "    <tr>\n",
       "      <th>Campaign 7</th>\n",
       "      <th>Brand - Calculator - EDB CS (FR)</th>\n",
       "      <td>5.000</td>\n",
       "    </tr>\n",
       "    <tr>\n",
       "      <th>Campaign 8</th>\n",
       "      <th>Brand - Rates - EDB CS (FR)</th>\n",
       "      <td>5.000</td>\n",
       "    </tr>\n",
       "    <tr>\n",
       "      <th>Campaign 9</th>\n",
       "      <th>Brand - Calculator (FR)</th>\n",
       "      <td>21.500</td>\n",
       "    </tr>\n",
       "  </tbody>\n",
       "</table>\n",
       "</div>"
      ],
      "text/plain": [
       "                                                           Daily budget\n",
       "Campaign    Name                                                       \n",
       "Campaign 1  Brand - Rates - EDB CS (EN)                          11.000\n",
       "Campaign 10 Brand - Mortgage (EN)                               152.525\n",
       "Campaign 11 Brand - Homebuyers - First Time - EDB CS (EN)         5.000\n",
       "Campaign 12 Brand - Homebuyers - First Time (FR)                  5.000\n",
       "Campaign 13 Brand - Rates (FR)                                   11.000\n",
       "Campaign 14 Brand - Mortgage - EDB CS (EN)                       50.000\n",
       "Campaign 15 Brand - Mortgage - EDB CS (FR)                        5.000\n",
       "Campaign 16 Brand - Promotions - EDB CS (EN)                      5.000\n",
       "Campaign 17 Brand - Promotions - EDB CS (FR)                      5.000\n",
       "Campaign 18 Brand - Promotions (EN)                              30.000\n",
       "Campaign 19 Brand - Calculator - EDB CS (EN)                     29.000\n",
       "Campaign 2  Brand - Calculator (EN)                             123.215\n",
       "Campaign 20 Brand - Promotions (FR)                               5.000\n",
       "Campaign 3  Brand - Mortgage (FR)                                27.500\n",
       "Campaign 4  Brand - Homebuyers - First Time (EN)                  3.000\n",
       "Campaign 5  Brand - Rates (EN)                                  118.640\n",
       "Campaign 6  Brand - Homebuyers - First Time - EDB CS (FR)         5.000\n",
       "Campaign 7  Brand - Calculator - EDB CS (FR)                      5.000\n",
       "Campaign 8  Brand - Rates - EDB CS (FR)                           5.000\n",
       "Campaign 9  Brand - Calculator (FR)                              21.500"
      ]
     },
     "execution_count": 4,
     "metadata": {},
     "output_type": "execute_result"
    }
   ],
   "source": [
    "# View the mean daily budget for each campaign\n",
    "data.groupby(['Campaign','Name'])[['Daily budget']].mean()"
   ]
  },
  {
   "cell_type": "markdown",
   "metadata": {},
   "source": [
    "### Bing vs Google Adwords"
   ]
  },
  {
   "cell_type": "code",
   "execution_count": 5,
   "metadata": {
    "ExecuteTime": {
     "end_time": "2018-12-18T06:50:52.474799Z",
     "start_time": "2018-12-18T06:50:52.439806Z"
    }
   },
   "outputs": [
    {
     "data": {
      "text/html": [
       "<div>\n",
       "<style scoped>\n",
       "    .dataframe tbody tr th:only-of-type {\n",
       "        vertical-align: middle;\n",
       "    }\n",
       "\n",
       "    .dataframe tbody tr th {\n",
       "        vertical-align: top;\n",
       "    }\n",
       "\n",
       "    .dataframe thead th {\n",
       "        text-align: right;\n",
       "    }\n",
       "</style>\n",
       "<table border=\"1\" class=\"dataframe\">\n",
       "  <thead>\n",
       "    <tr style=\"text-align: right;\">\n",
       "      <th></th>\n",
       "      <th>Clicks</th>\n",
       "      <th>Impr</th>\n",
       "      <th>Cost</th>\n",
       "      <th>Lead Start Total</th>\n",
       "      <th>Click Through Rate</th>\n",
       "      <th>Cost Per Click</th>\n",
       "      <th>Average Cost Per Lead</th>\n",
       "      <th>Click to Lead Conversion</th>\n",
       "    </tr>\n",
       "    <tr>\n",
       "      <th>Engine</th>\n",
       "      <th></th>\n",
       "      <th></th>\n",
       "      <th></th>\n",
       "      <th></th>\n",
       "      <th></th>\n",
       "      <th></th>\n",
       "      <th></th>\n",
       "      <th></th>\n",
       "    </tr>\n",
       "  </thead>\n",
       "  <tbody>\n",
       "    <tr>\n",
       "      <th>Bing Ads</th>\n",
       "      <td>7761</td>\n",
       "      <td>22551</td>\n",
       "      <td>4604.850</td>\n",
       "      <td>588</td>\n",
       "      <td>0.344</td>\n",
       "      <td>0.593</td>\n",
       "      <td>7.831</td>\n",
       "      <td>0.076</td>\n",
       "    </tr>\n",
       "    <tr>\n",
       "      <th>Google AdWords</th>\n",
       "      <td>162009</td>\n",
       "      <td>399672</td>\n",
       "      <td>158740.580</td>\n",
       "      <td>14108</td>\n",
       "      <td>0.405</td>\n",
       "      <td>0.980</td>\n",
       "      <td>11.252</td>\n",
       "      <td>0.087</td>\n",
       "    </tr>\n",
       "  </tbody>\n",
       "</table>\n",
       "</div>"
      ],
      "text/plain": [
       "                Clicks    Impr       Cost  Lead Start Total  \\\n",
       "Engine                                                        \n",
       "Bing Ads          7761   22551   4604.850               588   \n",
       "Google AdWords  162009  399672 158740.580             14108   \n",
       "\n",
       "                Click Through Rate  Cost Per Click  Average Cost Per Lead  \\\n",
       "Engine                                                                      \n",
       "Bing Ads                     0.344           0.593                  7.831   \n",
       "Google AdWords               0.405           0.980                 11.252   \n",
       "\n",
       "                Click to Lead Conversion  \n",
       "Engine                                    \n",
       "Bing Ads                           0.076  \n",
       "Google AdWords                     0.087  "
      ]
     },
     "execution_count": 5,
     "metadata": {},
     "output_type": "execute_result"
    }
   ],
   "source": [
    "# View the Summary statistics by search engine\n",
    "search_engine = data.groupby(['Engine'])[['Clicks','Impr','Cost','Lead Start Total']].sum()\n",
    "search_engine['Click Through Rate'] = search_engine['Clicks'] / search_engine['Impr']\n",
    "search_engine['Cost Per Click'] = search_engine['Cost'] / search_engine['Clicks']\n",
    "search_engine['Average Cost Per Lead'] = search_engine['Cost'] / search_engine['Lead Start Total']\n",
    "search_engine['Click to Lead Conversion'] = search_engine['Lead Start Total'] / search_engine['Clicks']\n",
    "search_engine"
   ]
  },
  {
   "cell_type": "code",
   "execution_count": 6,
   "metadata": {
    "ExecuteTime": {
     "end_time": "2018-12-18T06:50:53.009967Z",
     "start_time": "2018-12-18T06:50:53.000305Z"
    }
   },
   "outputs": [
    {
     "data": {
      "text/plain": [
       "Engine\n",
       "Bing Ads          273\n",
       "Google AdWords    780\n",
       "Name: Status, dtype: int64"
      ]
     },
     "execution_count": 6,
     "metadata": {},
     "output_type": "execute_result"
    }
   ],
   "source": [
    "# Number of times a seach engine was used across all instances of a campaign\n",
    "search_engine = data.groupby(['Engine'])['Status'].count()\n",
    "search_engine"
   ]
  },
  {
   "cell_type": "markdown",
   "metadata": {},
   "source": [
    "#### Overall Campaign Performance"
   ]
  },
  {
   "cell_type": "code",
   "execution_count": 7,
   "metadata": {
    "ExecuteTime": {
     "end_time": "2018-12-18T06:50:54.394826Z",
     "start_time": "2018-12-18T06:50:53.727880Z"
    }
   },
   "outputs": [
    {
     "data": {
      "image/png": "[encoded data removed]",
      "text/plain": [
       "<Figure size 1080x360 with 1 Axes>"
      ]
     },
     "metadata": {
      "image/png": {
       "height": 376,
       "width": 914
      },
      "needs_background": "light"
     },
     "output_type": "display_data"
    }
   ],
   "source": [
    "# Plot Campiang  Performance in a Barplot\n",
    "mpl.rcParams['figure.figsize'] = (15.0, 5.0)\n",
    "campaigns = data.groupby(['Campaign'])[['Clicks','Impr','Cost','Lead Start Total']].sum()\n",
    "campaigns[['Lead Start Total','Clicks','Impr',]].plot(kind='bar',  color=['pink','#959499','#CD6027',],\n",
    "                                                edgecolor='black')\n",
    "plt.title('Number of Impressin, Clicks, and Leads')\n",
    "plt.ylabel('Frequency')\n",
    "plt.xticks(rotation=45)\n",
    "\n",
    "# Save Plot\n",
    "plt.savefig('Images/campaigns.jpg');"
   ]
  },
  {
   "cell_type": "markdown",
   "metadata": {},
   "source": [
    "Originally, I wanted to use Campaign names in the plot above. But some of the campaign names we just too long for myu python plot this time. Secondly, Let's say we want to take a deeper look into the data. Lets have a look at the underlying data."
   ]
  },
  {
   "cell_type": "code",
   "execution_count": 8,
   "metadata": {
    "ExecuteTime": {
     "end_time": "2018-12-18T06:50:55.537200Z",
     "start_time": "2018-12-18T06:50:55.494965Z"
    }
   },
   "outputs": [
    {
     "data": {
      "text/html": [
       "<div>\n",
       "<style scoped>\n",
       "    .dataframe tbody tr th:only-of-type {\n",
       "        vertical-align: middle;\n",
       "    }\n",
       "\n",
       "    .dataframe tbody tr th {\n",
       "        vertical-align: top;\n",
       "    }\n",
       "\n",
       "    .dataframe thead th {\n",
       "        text-align: right;\n",
       "    }\n",
       "</style>\n",
       "<table border=\"1\" class=\"dataframe\">\n",
       "  <thead>\n",
       "    <tr style=\"text-align: right;\">\n",
       "      <th></th>\n",
       "      <th>Clicks</th>\n",
       "      <th>Impr</th>\n",
       "      <th>Cost</th>\n",
       "      <th>Lead Start Total</th>\n",
       "      <th>Click Through Rate</th>\n",
       "      <th>Cost Per Click</th>\n",
       "      <th>Average Cost Per Lead</th>\n",
       "      <th>Click to Lead Conversion</th>\n",
       "    </tr>\n",
       "    <tr>\n",
       "      <th>Campaign</th>\n",
       "      <th></th>\n",
       "      <th></th>\n",
       "      <th></th>\n",
       "      <th></th>\n",
       "      <th></th>\n",
       "      <th></th>\n",
       "      <th></th>\n",
       "      <th></th>\n",
       "    </tr>\n",
       "  </thead>\n",
       "  <tbody>\n",
       "    <tr>\n",
       "      <th>Campaign 1</th>\n",
       "      <td>1283</td>\n",
       "      <td>3988</td>\n",
       "      <td>1339.710</td>\n",
       "      <td>113</td>\n",
       "      <td>0.322</td>\n",
       "      <td>1.044</td>\n",
       "      <td>11.856</td>\n",
       "      <td>0.088</td>\n",
       "    </tr>\n",
       "    <tr>\n",
       "      <th>Campaign 10</th>\n",
       "      <td>18538</td>\n",
       "      <td>99477</td>\n",
       "      <td>48965.640</td>\n",
       "      <td>4365</td>\n",
       "      <td>0.186</td>\n",
       "      <td>2.641</td>\n",
       "      <td>11.218</td>\n",
       "      <td>0.235</td>\n",
       "    </tr>\n",
       "    <tr>\n",
       "      <th>Campaign 11</th>\n",
       "      <td>20</td>\n",
       "      <td>37</td>\n",
       "      <td>38.020</td>\n",
       "      <td>2</td>\n",
       "      <td>0.541</td>\n",
       "      <td>1.901</td>\n",
       "      <td>19.010</td>\n",
       "      <td>0.100</td>\n",
       "    </tr>\n",
       "    <tr>\n",
       "      <th>Campaign 12</th>\n",
       "      <td>7</td>\n",
       "      <td>9</td>\n",
       "      <td>2.350</td>\n",
       "      <td>0</td>\n",
       "      <td>0.778</td>\n",
       "      <td>0.336</td>\n",
       "      <td>inf</td>\n",
       "      <td>0.000</td>\n",
       "    </tr>\n",
       "    <tr>\n",
       "      <th>Campaign 13</th>\n",
       "      <td>8651</td>\n",
       "      <td>15995</td>\n",
       "      <td>5209.640</td>\n",
       "      <td>571</td>\n",
       "      <td>0.541</td>\n",
       "      <td>0.602</td>\n",
       "      <td>9.124</td>\n",
       "      <td>0.066</td>\n",
       "    </tr>\n",
       "    <tr>\n",
       "      <th>Campaign 14</th>\n",
       "      <td>665</td>\n",
       "      <td>3211</td>\n",
       "      <td>1851.010</td>\n",
       "      <td>285</td>\n",
       "      <td>0.207</td>\n",
       "      <td>2.783</td>\n",
       "      <td>6.495</td>\n",
       "      <td>0.429</td>\n",
       "    </tr>\n",
       "    <tr>\n",
       "      <th>Campaign 15</th>\n",
       "      <td>147</td>\n",
       "      <td>384</td>\n",
       "      <td>107.010</td>\n",
       "      <td>42</td>\n",
       "      <td>0.383</td>\n",
       "      <td>0.728</td>\n",
       "      <td>2.548</td>\n",
       "      <td>0.286</td>\n",
       "    </tr>\n",
       "    <tr>\n",
       "      <th>Campaign 16</th>\n",
       "      <td>7</td>\n",
       "      <td>23</td>\n",
       "      <td>15.540</td>\n",
       "      <td>3</td>\n",
       "      <td>0.304</td>\n",
       "      <td>2.220</td>\n",
       "      <td>5.180</td>\n",
       "      <td>0.429</td>\n",
       "    </tr>\n",
       "    <tr>\n",
       "      <th>Campaign 17</th>\n",
       "      <td>0</td>\n",
       "      <td>0</td>\n",
       "      <td>0.000</td>\n",
       "      <td>0</td>\n",
       "      <td>0.000</td>\n",
       "      <td>0.000</td>\n",
       "      <td>0.000</td>\n",
       "      <td>0.000</td>\n",
       "    </tr>\n",
       "    <tr>\n",
       "      <th>Campaign 18</th>\n",
       "      <td>179</td>\n",
       "      <td>832</td>\n",
       "      <td>340.910</td>\n",
       "      <td>8</td>\n",
       "      <td>0.215</td>\n",
       "      <td>1.905</td>\n",
       "      <td>42.614</td>\n",
       "      <td>0.045</td>\n",
       "    </tr>\n",
       "    <tr>\n",
       "      <th>Campaign 19</th>\n",
       "      <td>2775</td>\n",
       "      <td>5803</td>\n",
       "      <td>2134.610</td>\n",
       "      <td>242</td>\n",
       "      <td>0.478</td>\n",
       "      <td>0.769</td>\n",
       "      <td>8.821</td>\n",
       "      <td>0.087</td>\n",
       "    </tr>\n",
       "    <tr>\n",
       "      <th>Campaign 2</th>\n",
       "      <td>71862</td>\n",
       "      <td>125123</td>\n",
       "      <td>42644.950</td>\n",
       "      <td>4171</td>\n",
       "      <td>0.574</td>\n",
       "      <td>0.593</td>\n",
       "      <td>10.224</td>\n",
       "      <td>0.058</td>\n",
       "    </tr>\n",
       "    <tr>\n",
       "      <th>Campaign 20</th>\n",
       "      <td>0</td>\n",
       "      <td>0</td>\n",
       "      <td>0.000</td>\n",
       "      <td>0</td>\n",
       "      <td>0.000</td>\n",
       "      <td>0.000</td>\n",
       "      <td>0.000</td>\n",
       "      <td>0.000</td>\n",
       "    </tr>\n",
       "    <tr>\n",
       "      <th>Campaign 3</th>\n",
       "      <td>4998</td>\n",
       "      <td>15246</td>\n",
       "      <td>3108.030</td>\n",
       "      <td>943</td>\n",
       "      <td>0.328</td>\n",
       "      <td>0.622</td>\n",
       "      <td>3.296</td>\n",
       "      <td>0.189</td>\n",
       "    </tr>\n",
       "    <tr>\n",
       "      <th>Campaign 4</th>\n",
       "      <td>329</td>\n",
       "      <td>764</td>\n",
       "      <td>532.210</td>\n",
       "      <td>75</td>\n",
       "      <td>0.431</td>\n",
       "      <td>1.618</td>\n",
       "      <td>7.096</td>\n",
       "      <td>0.228</td>\n",
       "    </tr>\n",
       "    <tr>\n",
       "      <th>Campaign 5</th>\n",
       "      <td>49604</td>\n",
       "      <td>130986</td>\n",
       "      <td>52829.140</td>\n",
       "      <td>3178</td>\n",
       "      <td>0.379</td>\n",
       "      <td>1.065</td>\n",
       "      <td>16.623</td>\n",
       "      <td>0.064</td>\n",
       "    </tr>\n",
       "    <tr>\n",
       "      <th>Campaign 6</th>\n",
       "      <td>0</td>\n",
       "      <td>1</td>\n",
       "      <td>0.000</td>\n",
       "      <td>0</td>\n",
       "      <td>0.000</td>\n",
       "      <td>0.000</td>\n",
       "      <td>0.000</td>\n",
       "      <td>0.000</td>\n",
       "    </tr>\n",
       "    <tr>\n",
       "      <th>Campaign 7</th>\n",
       "      <td>166</td>\n",
       "      <td>427</td>\n",
       "      <td>124.120</td>\n",
       "      <td>10</td>\n",
       "      <td>0.389</td>\n",
       "      <td>0.748</td>\n",
       "      <td>12.412</td>\n",
       "      <td>0.060</td>\n",
       "    </tr>\n",
       "    <tr>\n",
       "      <th>Campaign 8</th>\n",
       "      <td>104</td>\n",
       "      <td>252</td>\n",
       "      <td>81.280</td>\n",
       "      <td>7</td>\n",
       "      <td>0.413</td>\n",
       "      <td>0.782</td>\n",
       "      <td>11.611</td>\n",
       "      <td>0.067</td>\n",
       "    </tr>\n",
       "    <tr>\n",
       "      <th>Campaign 9</th>\n",
       "      <td>10435</td>\n",
       "      <td>19665</td>\n",
       "      <td>4021.260</td>\n",
       "      <td>681</td>\n",
       "      <td>0.531</td>\n",
       "      <td>0.385</td>\n",
       "      <td>5.905</td>\n",
       "      <td>0.065</td>\n",
       "    </tr>\n",
       "  </tbody>\n",
       "</table>\n",
       "</div>"
      ],
      "text/plain": [
       "             Clicks    Impr      Cost  Lead Start Total  Click Through Rate  \\\n",
       "Campaign                                                                      \n",
       "Campaign 1     1283    3988  1339.710               113               0.322   \n",
       "Campaign 10   18538   99477 48965.640              4365               0.186   \n",
       "Campaign 11      20      37    38.020                 2               0.541   \n",
       "Campaign 12       7       9     2.350                 0               0.778   \n",
       "Campaign 13    8651   15995  5209.640               571               0.541   \n",
       "Campaign 14     665    3211  1851.010               285               0.207   \n",
       "Campaign 15     147     384   107.010                42               0.383   \n",
       "Campaign 16       7      23    15.540                 3               0.304   \n",
       "Campaign 17       0       0     0.000                 0               0.000   \n",
       "Campaign 18     179     832   340.910                 8               0.215   \n",
       "Campaign 19    2775    5803  2134.610               242               0.478   \n",
       "Campaign 2    71862  125123 42644.950              4171               0.574   \n",
       "Campaign 20       0       0     0.000                 0               0.000   \n",
       "Campaign 3     4998   15246  3108.030               943               0.328   \n",
       "Campaign 4      329     764   532.210                75               0.431   \n",
       "Campaign 5    49604  130986 52829.140              3178               0.379   \n",
       "Campaign 6        0       1     0.000                 0               0.000   \n",
       "Campaign 7      166     427   124.120                10               0.389   \n",
       "Campaign 8      104     252    81.280                 7               0.413   \n",
       "Campaign 9    10435   19665  4021.260               681               0.531   \n",
       "\n",
       "             Cost Per Click  Average Cost Per Lead  Click to Lead Conversion  \n",
       "Campaign                                                                      \n",
       "Campaign 1            1.044                 11.856                     0.088  \n",
       "Campaign 10           2.641                 11.218                     0.235  \n",
       "Campaign 11           1.901                 19.010                     0.100  \n",
       "Campaign 12           0.336                    inf                     0.000  \n",
       "Campaign 13           0.602                  9.124                     0.066  \n",
       "Campaign 14           2.783                  6.495                     0.429  \n",
       "Campaign 15           0.728                  2.548                     0.286  \n",
       "Campaign 16           2.220                  5.180                     0.429  \n",
       "Campaign 17           0.000                  0.000                     0.000  \n",
       "Campaign 18           1.905                 42.614                     0.045  \n",
       "Campaign 19           0.769                  8.821                     0.087  \n",
       "Campaign 2            0.593                 10.224                     0.058  \n",
       "Campaign 20           0.000                  0.000                     0.000  \n",
       "Campaign 3            0.622                  3.296                     0.189  \n",
       "Campaign 4            1.618                  7.096                     0.228  \n",
       "Campaign 5            1.065                 16.623                     0.064  \n",
       "Campaign 6            0.000                  0.000                     0.000  \n",
       "Campaign 7            0.748                 12.412                     0.060  \n",
       "Campaign 8            0.782                 11.611                     0.067  \n",
       "Campaign 9            0.385                  5.905                     0.065  "
      ]
     },
     "execution_count": 8,
     "metadata": {},
     "output_type": "execute_result"
    }
   ],
   "source": [
    "# View the underlying data with some additional metrics below\n",
    "campaigns['Click Through Rate'] = campaigns['Clicks'] / campaigns['Impr']\n",
    "campaigns['Cost Per Click'] = campaigns['Cost'] / campaigns['Clicks']\n",
    "campaigns['Average Cost Per Lead'] = campaigns['Cost'] / campaigns['Lead Start Total']\n",
    "campaigns['Click to Lead Conversion'] = campaigns['Lead Start Total'] / campaigns['Clicks']\n",
    "campaigns.fillna(0)"
   ]
  },
  {
   "cell_type": "markdown",
   "metadata": {},
   "source": [
    "### Campaign Performance vs Cost"
   ]
  },
  {
   "cell_type": "code",
   "execution_count": 9,
   "metadata": {
    "ExecuteTime": {
     "end_time": "2018-12-18T06:50:57.309896Z",
     "start_time": "2018-12-18T06:50:56.476205Z"
    }
   },
   "outputs": [
    {
     "data": {
      "image/png": "[encoded data removed]",
      "text/plain": [
       "<Figure size 432x432 with 3 Axes>"
      ]
     },
     "metadata": {
      "image/png": {
       "height": 422,
       "width": 438
      },
      "needs_background": "light"
     },
     "output_type": "display_data"
    },
    {
     "data": {
      "image/png": "[encoded data removed]",
      "text/plain": [
       "<Figure size 432x432 with 3 Axes>"
      ]
     },
     "metadata": {
      "image/png": {
       "height": 422,
       "width": 432
      },
      "needs_background": "light"
     },
     "output_type": "display_data"
    }
   ],
   "source": [
    "# Plot First Histogram\n",
    "sns.jointplot(x=\"Cost\", y=\"Clicks\", data=campaigns)\n",
    "plt.title('Scatterplot: Cost vs Click',y=1.1, x =-3, fontsize = 12);\n",
    "\n",
    "# Plot Second Histogram\n",
    "sns.jointplot(x=\"Cost\", y=\"Lead Start Total\", data=campaigns)\n",
    "plt.title('Scatterplot: Total Leads vs Clicks',y=1.1, x =-3, fontsize = 12);"
   ]
  },
  {
   "cell_type": "markdown",
   "metadata": {},
   "source": [
    "### Investigating Campaign 10"
   ]
  },
  {
   "cell_type": "code",
   "execution_count": 10,
   "metadata": {
    "ExecuteTime": {
     "end_time": "2018-12-18T06:51:04.236385Z",
     "start_time": "2018-12-18T06:51:02.681099Z"
    }
   },
   "outputs": [
    {
     "data": {
      "image/png": "[encoded data removed]",
      "text/plain": [
       "<Figure size 1080x360 with 1 Axes>"
      ]
     },
     "metadata": {
      "image/png": {
       "height": 370,
       "width": 891
      },
      "needs_background": "light"
     },
     "output_type": "display_data"
    }
   ],
   "source": [
    "cap10 = data[data.Campaign == 'Campaign 10'].sort_values('From')\n",
    "sns.barplot(x=\"From\", y=\"Avg CPC\", data=cap10, capsize=0, errwidth=0, color='#CD6027')\n",
    "plt.title('Avg Cost Per Click per Campaign Instance of Campaign 10');\n",
    "plt.xticks(rotation=40)\n",
    "plt.xticks(rotation=45)\n",
    "\n",
    "# Save Plot\n",
    "plt.savefig('Images/campaign10.jpg');"
   ]
  },
  {
   "cell_type": "markdown",
   "metadata": {},
   "source": [
    "### Comparing Top 3 Campaigns"
   ]
  },
  {
   "cell_type": "code",
   "execution_count": 11,
   "metadata": {
    "ExecuteTime": {
     "end_time": "2018-12-18T06:51:05.751234Z",
     "start_time": "2018-12-18T06:51:05.731615Z"
    }
   },
   "outputs": [
    {
     "data": {
      "text/plain": [
       "Campaign     Delivery method\n",
       "Campaign 10  Accelerated        39\n",
       "Campaign 2   Accelerated        39\n",
       "Campaign 5   Accelerated        39\n",
       "Name: Status, dtype: int64"
      ]
     },
     "execution_count": 11,
     "metadata": {},
     "output_type": "execute_result"
    }
   ],
   "source": [
    "# Filter the data for only the top 3 campaigns\n",
    "top_3 = data[(data.Campaign.str.contains('Campaign 2')) | \n",
    "         (data.Campaign.str.contains('Campaign 5')) |\n",
    "         (data.Campaign.str.contains('Campaign 10'))]\n",
    "top_3 = top_3[(~top_3.Campaign.str.contains('Campaign 20'))]\n",
    "\n",
    "top_3.groupby(['Campaign','Delivery method'])['Status'].count()"
   ]
  },
  {
   "cell_type": "code",
   "execution_count": 12,
   "metadata": {
    "ExecuteTime": {
     "end_time": "2018-12-18T06:51:06.291643Z",
     "start_time": "2018-12-18T06:51:06.278830Z"
    }
   },
   "outputs": [
    {
     "data": {
      "text/plain": [
       "Campaign     Ad rotation        \n",
       "Campaign 10  Conversion optimize    39\n",
       "Campaign 2   Conversion optimize    39\n",
       "Campaign 5   Conversion optimize    39\n",
       "Name: Status, dtype: int64"
      ]
     },
     "execution_count": 12,
     "metadata": {},
     "output_type": "execute_result"
    }
   ],
   "source": [
    "# Comparing Ad Rotation between top 3 campaigns\n",
    "top_3.groupby(['Campaign','Ad rotation'])['Status'].count()"
   ]
  },
  {
   "cell_type": "code",
   "execution_count": 13,
   "metadata": {
    "ExecuteTime": {
     "end_time": "2018-12-18T06:51:06.864293Z",
     "start_time": "2018-12-18T06:51:06.854896Z"
    }
   },
   "outputs": [
    {
     "data": {
      "text/plain": [
       "Campaign     Effective engine bid strategy name\n",
       "Campaign 10  (Target CPA)                          39\n",
       "Campaign 2   (Target CPA)                          39\n",
       "Campaign 5   (Target CPA)                          39\n",
       "Name: Status, dtype: int64"
      ]
     },
     "execution_count": 13,
     "metadata": {},
     "output_type": "execute_result"
    }
   ],
   "source": [
    "# Comparing bid strategy between top 3 campaigns\n",
    "top_3.groupby(['Campaign','Effective engine bid strategy name'])['Status'].count()"
   ]
  },
  {
   "cell_type": "code",
   "execution_count": 14,
   "metadata": {
    "ExecuteTime": {
     "end_time": "2018-12-18T06:51:07.509776Z",
     "start_time": "2018-12-18T06:51:07.498496Z"
    }
   },
   "outputs": [
    {
     "data": {
      "text/plain": [
       "Campaign     Engine        \n",
       "Campaign 10  Bing Ads          39\n",
       "             Google AdWords    39\n",
       "Campaign 2   Bing Ads          39\n",
       "             Google AdWords    39\n",
       "Campaign 5   Bing Ads          39\n",
       "             Google AdWords    39\n",
       "Name: Status, dtype: int64"
      ]
     },
     "execution_count": 14,
     "metadata": {},
     "output_type": "execute_result"
    }
   ],
   "source": [
    "# Comparing enginer usage between top 3 campaigns\n",
    "top_3.groupby(['Campaign','Engine'])['Status'].count()"
   ]
  },
  {
   "cell_type": "code",
   "execution_count": 15,
   "metadata": {
    "ExecuteTime": {
     "end_time": "2018-12-18T06:51:08.100358Z",
     "start_time": "2018-12-18T06:51:08.088015Z"
    }
   },
   "outputs": [
    {
     "data": {
      "text/plain": [
       "Campaign     Engine        \n",
       "Campaign 10  Bing Ads         1.472\n",
       "             Google AdWords   1.087\n",
       "Campaign 2   Bing Ads         1.389\n",
       "             Google AdWords   1.038\n",
       "Campaign 5   Bing Ads         1.449\n",
       "             Google AdWords   1.086\n",
       "Name: Avg pos, dtype: float64"
      ]
     },
     "execution_count": 15,
     "metadata": {},
     "output_type": "execute_result"
    }
   ],
   "source": [
    "# Comparing POS usage between top 3 campaigns\n",
    "top_3.groupby(['Campaign','Engine'])['Avg pos'].mean()"
   ]
  },
  {
   "cell_type": "markdown",
   "metadata": {},
   "source": [
    "### Comparing Campaign Bid Strategies"
   ]
  },
  {
   "cell_type": "code",
   "execution_count": 16,
   "metadata": {
    "ExecuteTime": {
     "end_time": "2018-12-18T06:51:09.685384Z",
     "start_time": "2018-12-18T06:51:09.659223Z"
    }
   },
   "outputs": [
    {
     "data": {
      "text/html": [
       "<div>\n",
       "<style scoped>\n",
       "    .dataframe tbody tr th:only-of-type {\n",
       "        vertical-align: middle;\n",
       "    }\n",
       "\n",
       "    .dataframe tbody tr th {\n",
       "        vertical-align: top;\n",
       "    }\n",
       "\n",
       "    .dataframe thead th {\n",
       "        text-align: right;\n",
       "    }\n",
       "</style>\n",
       "<table border=\"1\" class=\"dataframe\">\n",
       "  <thead>\n",
       "    <tr style=\"text-align: right;\">\n",
       "      <th></th>\n",
       "      <th>Clicks</th>\n",
       "      <th>Impr</th>\n",
       "      <th>Cost</th>\n",
       "      <th>Lead Start Total</th>\n",
       "      <th>Click Through Rate</th>\n",
       "      <th>Cost Per Click</th>\n",
       "      <th>Average Cost Per Lead</th>\n",
       "      <th>Click to Lead Conversion</th>\n",
       "    </tr>\n",
       "    <tr>\n",
       "      <th>Effective engine bid strategy name</th>\n",
       "      <th></th>\n",
       "      <th></th>\n",
       "      <th></th>\n",
       "      <th></th>\n",
       "      <th></th>\n",
       "      <th></th>\n",
       "      <th></th>\n",
       "      <th></th>\n",
       "    </tr>\n",
       "  </thead>\n",
       "  <tbody>\n",
       "    <tr>\n",
       "      <th>(Target CPA)</th>\n",
       "      <td>161081</td>\n",
       "      <td>397008</td>\n",
       "      <td>157566.910</td>\n",
       "      <td>13969</td>\n",
       "      <td>0.406</td>\n",
       "      <td>0.978</td>\n",
       "      <td>11.280</td>\n",
       "      <td>0.087</td>\n",
       "    </tr>\n",
       "    <tr>\n",
       "      <th>(manual)</th>\n",
       "      <td>928</td>\n",
       "      <td>2664</td>\n",
       "      <td>1173.670</td>\n",
       "      <td>139</td>\n",
       "      <td>0.348</td>\n",
       "      <td>1.265</td>\n",
       "      <td>8.444</td>\n",
       "      <td>0.150</td>\n",
       "    </tr>\n",
       "  </tbody>\n",
       "</table>\n",
       "</div>"
      ],
      "text/plain": [
       "                                    Clicks    Impr       Cost  \\\n",
       "Effective engine bid strategy name                              \n",
       "(Target CPA)                        161081  397008 157566.910   \n",
       "(manual)                               928    2664   1173.670   \n",
       "\n",
       "                                    Lead Start Total  Click Through Rate  \\\n",
       "Effective engine bid strategy name                                         \n",
       "(Target CPA)                                   13969               0.406   \n",
       "(manual)                                         139               0.348   \n",
       "\n",
       "                                    Cost Per Click  Average Cost Per Lead  \\\n",
       "Effective engine bid strategy name                                          \n",
       "(Target CPA)                                 0.978                 11.280   \n",
       "(manual)                                     1.265                  8.444   \n",
       "\n",
       "                                    Click to Lead Conversion  \n",
       "Effective engine bid strategy name                            \n",
       "(Target CPA)                                           0.087  \n",
       "(manual)                                               0.150  "
      ]
     },
     "execution_count": 16,
     "metadata": {},
     "output_type": "execute_result"
    }
   ],
   "source": [
    "search_engine = data.groupby(['Effective engine bid strategy name'])[['Clicks','Impr','Cost','Lead Start Total']].sum()\n",
    "search_engine['Click Through Rate'] = search_engine['Clicks'] / search_engine['Impr']\n",
    "search_engine['Cost Per Click'] = search_engine['Cost'] / search_engine['Clicks']\n",
    "search_engine['Average Cost Per Lead'] = search_engine['Cost'] / search_engine['Lead Start Total']\n",
    "search_engine['Click to Lead Conversion'] = search_engine['Lead Start Total'] / search_engine['Clicks']\n",
    "search_engine"
   ]
  },
  {
   "cell_type": "markdown",
   "metadata": {
    "ExecuteTime": {
     "end_time": "2018-12-18T06:36:56.929771Z",
     "start_time": "2018-12-18T06:36:56.926200Z"
    }
   },
   "source": [
    "### Comparing Campaign Delivery Methods"
   ]
  },
  {
   "cell_type": "code",
   "execution_count": 17,
   "metadata": {
    "ExecuteTime": {
     "end_time": "2018-12-18T06:51:10.716964Z",
     "start_time": "2018-12-18T06:51:10.686659Z"
    }
   },
   "outputs": [
    {
     "data": {
      "text/html": [
       "<div>\n",
       "<style scoped>\n",
       "    .dataframe tbody tr th:only-of-type {\n",
       "        vertical-align: middle;\n",
       "    }\n",
       "\n",
       "    .dataframe tbody tr th {\n",
       "        vertical-align: top;\n",
       "    }\n",
       "\n",
       "    .dataframe thead th {\n",
       "        text-align: right;\n",
       "    }\n",
       "</style>\n",
       "<table border=\"1\" class=\"dataframe\">\n",
       "  <thead>\n",
       "    <tr style=\"text-align: right;\">\n",
       "      <th></th>\n",
       "      <th>Clicks</th>\n",
       "      <th>Impr</th>\n",
       "      <th>Cost</th>\n",
       "      <th>Lead Start Total</th>\n",
       "      <th>Click Through Rate</th>\n",
       "      <th>Cost Per Click</th>\n",
       "      <th>Average Cost Per Lead</th>\n",
       "      <th>Click to Lead Conversion</th>\n",
       "    </tr>\n",
       "    <tr>\n",
       "      <th>Delivery method</th>\n",
       "      <th></th>\n",
       "      <th></th>\n",
       "      <th></th>\n",
       "      <th></th>\n",
       "      <th></th>\n",
       "      <th></th>\n",
       "      <th></th>\n",
       "      <th></th>\n",
       "    </tr>\n",
       "  </thead>\n",
       "  <tbody>\n",
       "    <tr>\n",
       "      <th>Accelerated</th>\n",
       "      <td>138355</td>\n",
       "      <td>349331</td>\n",
       "      <td>145737.850</td>\n",
       "      <td>11885</td>\n",
       "      <td>0.396</td>\n",
       "      <td>1.053</td>\n",
       "      <td>12.262</td>\n",
       "      <td>0.086</td>\n",
       "    </tr>\n",
       "    <tr>\n",
       "      <th>Standard</th>\n",
       "      <td>23654</td>\n",
       "      <td>50341</td>\n",
       "      <td>13002.730</td>\n",
       "      <td>2223</td>\n",
       "      <td>0.470</td>\n",
       "      <td>0.550</td>\n",
       "      <td>5.849</td>\n",
       "      <td>0.094</td>\n",
       "    </tr>\n",
       "  </tbody>\n",
       "</table>\n",
       "</div>"
      ],
      "text/plain": [
       "                 Clicks    Impr       Cost  Lead Start Total  \\\n",
       "Delivery method                                                \n",
       "Accelerated      138355  349331 145737.850             11885   \n",
       "Standard          23654   50341  13002.730              2223   \n",
       "\n",
       "                 Click Through Rate  Cost Per Click  Average Cost Per Lead  \\\n",
       "Delivery method                                                              \n",
       "Accelerated                   0.396           1.053                 12.262   \n",
       "Standard                      0.470           0.550                  5.849   \n",
       "\n",
       "                 Click to Lead Conversion  \n",
       "Delivery method                            \n",
       "Accelerated                         0.086  \n",
       "Standard                            0.094  "
      ]
     },
     "execution_count": 17,
     "metadata": {},
     "output_type": "execute_result"
    }
   ],
   "source": [
    "delivery_method = data.groupby(['Delivery method'])[['Clicks','Impr','Cost','Lead Start Total']].sum()\n",
    "delivery_method['Click Through Rate'] = delivery_method['Clicks'] / delivery_method['Impr']\n",
    "delivery_method['Cost Per Click'] = delivery_method['Cost'] / delivery_method['Clicks']\n",
    "delivery_method['Average Cost Per Lead'] = delivery_method['Cost'] / delivery_method['Lead Start Total']\n",
    "delivery_method['Click to Lead Conversion'] = delivery_method['Lead Start Total'] / delivery_method['Clicks']\n",
    "delivery_method"
   ]
  },
  {
   "cell_type": "markdown",
   "metadata": {},
   "source": [
    "### Comparing Campaign Language"
   ]
  },
  {
   "cell_type": "code",
   "execution_count": 18,
   "metadata": {
    "ExecuteTime": {
     "end_time": "2018-12-18T06:51:11.768570Z",
     "start_time": "2018-12-18T06:51:11.744280Z"
    }
   },
   "outputs": [
    {
     "data": {
      "text/html": [
       "<div>\n",
       "<style scoped>\n",
       "    .dataframe tbody tr th:only-of-type {\n",
       "        vertical-align: middle;\n",
       "    }\n",
       "\n",
       "    .dataframe tbody tr th {\n",
       "        vertical-align: top;\n",
       "    }\n",
       "\n",
       "    .dataframe thead th {\n",
       "        text-align: right;\n",
       "    }\n",
       "</style>\n",
       "<table border=\"1\" class=\"dataframe\">\n",
       "  <thead>\n",
       "    <tr style=\"text-align: right;\">\n",
       "      <th></th>\n",
       "      <th>Clicks</th>\n",
       "      <th>Impr</th>\n",
       "      <th>Cost</th>\n",
       "      <th>Lead Start Total</th>\n",
       "      <th>Click Through Rate</th>\n",
       "      <th>Cost Per Click</th>\n",
       "      <th>Average Cost Per Lead</th>\n",
       "      <th>Click to Lead Conversion</th>\n",
       "    </tr>\n",
       "    <tr>\n",
       "      <th>Language</th>\n",
       "      <th></th>\n",
       "      <th></th>\n",
       "      <th></th>\n",
       "      <th></th>\n",
       "      <th></th>\n",
       "      <th></th>\n",
       "      <th></th>\n",
       "      <th></th>\n",
       "    </tr>\n",
       "  </thead>\n",
       "  <tbody>\n",
       "    <tr>\n",
       "      <th>en</th>\n",
       "      <td>138435</td>\n",
       "      <td>349835</td>\n",
       "      <td>146268.810</td>\n",
       "      <td>11903</td>\n",
       "      <td>0.396</td>\n",
       "      <td>1.057</td>\n",
       "      <td>12.288</td>\n",
       "      <td>0.086</td>\n",
       "    </tr>\n",
       "    <tr>\n",
       "      <th>fr</th>\n",
       "      <td>23574</td>\n",
       "      <td>49837</td>\n",
       "      <td>12471.770</td>\n",
       "      <td>2205</td>\n",
       "      <td>0.473</td>\n",
       "      <td>0.529</td>\n",
       "      <td>5.656</td>\n",
       "      <td>0.094</td>\n",
       "    </tr>\n",
       "  </tbody>\n",
       "</table>\n",
       "</div>"
      ],
      "text/plain": [
       "          Clicks    Impr       Cost  Lead Start Total  Click Through Rate  \\\n",
       "Language                                                                    \n",
       "en        138435  349835 146268.810             11903               0.396   \n",
       "fr         23574   49837  12471.770              2205               0.473   \n",
       "\n",
       "          Cost Per Click  Average Cost Per Lead  Click to Lead Conversion  \n",
       "Language                                                                   \n",
       "en                 1.057                 12.288                     0.086  \n",
       "fr                 0.529                  5.656                     0.094  "
      ]
     },
     "execution_count": 18,
     "metadata": {},
     "output_type": "execute_result"
    }
   ],
   "source": [
    "language = data.groupby(['Language'])[['Clicks','Impr','Cost','Lead Start Total']].sum()\n",
    "language['Click Through Rate'] = language['Clicks'] / language['Impr']\n",
    "language['Cost Per Click'] = language['Cost'] / language['Clicks']\n",
    "language['Average Cost Per Lead'] = language['Cost'] / language['Lead Start Total']\n",
    "language['Click to Lead Conversion'] = language['Lead Start Total'] / language['Clicks']\n",
    "language"
   ]
  },
  {
   "cell_type": "markdown",
   "metadata": {},
   "source": [
    "### Comparing Ad rotation"
   ]
  },
  {
   "cell_type": "code",
   "execution_count": 19,
   "metadata": {
    "ExecuteTime": {
     "end_time": "2018-12-18T06:51:13.811698Z",
     "start_time": "2018-12-18T06:51:13.786082Z"
    }
   },
   "outputs": [
    {
     "data": {
      "text/html": [
       "<div>\n",
       "<style scoped>\n",
       "    .dataframe tbody tr th:only-of-type {\n",
       "        vertical-align: middle;\n",
       "    }\n",
       "\n",
       "    .dataframe tbody tr th {\n",
       "        vertical-align: top;\n",
       "    }\n",
       "\n",
       "    .dataframe thead th {\n",
       "        text-align: right;\n",
       "    }\n",
       "</style>\n",
       "<table border=\"1\" class=\"dataframe\">\n",
       "  <thead>\n",
       "    <tr style=\"text-align: right;\">\n",
       "      <th></th>\n",
       "      <th>Clicks</th>\n",
       "      <th>Impr</th>\n",
       "      <th>Cost</th>\n",
       "      <th>Lead Start Total</th>\n",
       "      <th>Click Through Rate</th>\n",
       "      <th>Cost Per Click</th>\n",
       "      <th>Average Cost Per Lead</th>\n",
       "      <th>Click to Lead Conversion</th>\n",
       "    </tr>\n",
       "    <tr>\n",
       "      <th>Ad rotation</th>\n",
       "      <th></th>\n",
       "      <th></th>\n",
       "      <th></th>\n",
       "      <th></th>\n",
       "      <th></th>\n",
       "      <th></th>\n",
       "      <th></th>\n",
       "      <th></th>\n",
       "    </tr>\n",
       "  </thead>\n",
       "  <tbody>\n",
       "    <tr>\n",
       "      <th>Conversion optimize</th>\n",
       "      <td>161830</td>\n",
       "      <td>398840</td>\n",
       "      <td>158399.670</td>\n",
       "      <td>14100</td>\n",
       "      <td>0.406</td>\n",
       "      <td>0.979</td>\n",
       "      <td>11.234</td>\n",
       "      <td>0.087</td>\n",
       "    </tr>\n",
       "    <tr>\n",
       "      <th>Optimize</th>\n",
       "      <td>179</td>\n",
       "      <td>832</td>\n",
       "      <td>340.910</td>\n",
       "      <td>8</td>\n",
       "      <td>0.215</td>\n",
       "      <td>1.905</td>\n",
       "      <td>42.614</td>\n",
       "      <td>0.045</td>\n",
       "    </tr>\n",
       "  </tbody>\n",
       "</table>\n",
       "</div>"
      ],
      "text/plain": [
       "                     Clicks    Impr       Cost  Lead Start Total  \\\n",
       "Ad rotation                                                        \n",
       "Conversion optimize  161830  398840 158399.670             14100   \n",
       "Optimize                179     832    340.910                 8   \n",
       "\n",
       "                     Click Through Rate  Cost Per Click  \\\n",
       "Ad rotation                                               \n",
       "Conversion optimize               0.406           0.979   \n",
       "Optimize                          0.215           1.905   \n",
       "\n",
       "                     Average Cost Per Lead  Click to Lead Conversion  \n",
       "Ad rotation                                                           \n",
       "Conversion optimize                 11.234                     0.087  \n",
       "Optimize                            42.614                     0.045  "
      ]
     },
     "execution_count": 19,
     "metadata": {},
     "output_type": "execute_result"
    }
   ],
   "source": [
    "rotation = data.groupby(['Ad rotation'])[['Clicks','Impr','Cost','Lead Start Total']].sum()\n",
    "rotation['Click Through Rate'] = rotation['Clicks'] / rotation['Impr']\n",
    "rotation['Cost Per Click'] = rotation['Cost'] / rotation['Clicks']\n",
    "rotation['Average Cost Per Lead'] = rotation['Cost'] / rotation['Lead Start Total']\n",
    "rotation['Click to Lead Conversion'] = rotation['Lead Start Total'] / rotation['Clicks']\n",
    "rotation"
   ]
  },
  {
   "cell_type": "markdown",
   "metadata": {},
   "source": [
    "Author: Kavi Sekhon"
   ]
  }
 ],
 "metadata": {
  "kernelspec": {
   "display_name": "Python 3",
   "language": "python",
   "name": "python3"
  },
  "language_info": {
   "codemirror_mode": {
    "name": "ipython",
    "version": 3
   },
   "file_extension": ".py",
   "mimetype": "text/x-python",
   "name": "python",
   "nbconvert_exporter": "python",
   "pygments_lexer": "ipython3",
   "version": "3.6.6"
  }
 },
 "nbformat": 4,
 "nbformat_minor": 2
}
