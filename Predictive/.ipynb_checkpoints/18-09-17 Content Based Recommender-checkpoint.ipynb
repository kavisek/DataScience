{
 "cells": [
  {
   "cell_type": "markdown",
   "metadata": {},
   "source": [
    "# Content Based Recommendations\n",
    "\n",
    "<span>Content based recomendation systems use the similarity between the items themselves in the dataset to provided recommendations to the user. The imdb dataset is used to generate recommendations by comparing similarities between the movie title's and description. We use the data provided in these text feature to generate a TF-IDF Matrix that help us generate the recommendations for the user.</span>\n",
    "\n",
    "### Import Preliminaries"
   ]
  },
  {
   "cell_type": "code",
   "execution_count": 1,
   "metadata": {
    "ExecuteTime": {
     "end_time": "2018-09-27T05:17:39.465949Z",
     "start_time": "2018-09-27T05:17:37.942877Z"
    }
   },
   "outputs": [],
   "source": [
    "# Import Generic Python Magic Function/Python Module/Configurations\n",
    "%matplotlib inline\n",
    "%config InlineBackend.figure_format='retina'\n",
    "\n",
    "# Import modules\n",
    "import matplotlib.pyplot as plt\n",
    "import matplotlib.gridspec as gridspec\n",
    "import matplotlib as mpl\n",
    "import numpy as np\n",
    "import pandas as pd \n",
    "import scipy\n",
    "import sklearn\n",
    "import seaborn as sns\n",
    "import warnings\n",
    "\n",
    "# Import Model Selection \n",
    "from sklearn.feature_extraction.text import TfidfVectorizer\n",
    "from sklearn.metrics.pairwise import cosine_similarity\n",
    "from sklearn.model_selection import train_test_split, cross_val_score\n",
    "\n",
    "# Set pandas options\n",
    "pd.set_option('max_columns',1000)\n",
    "pd.set_option('max_rows',30)\n",
    "pd.set_option('display.float_format', lambda x: '%.3f' % x)\n",
    "\n",
    "# Set plotting options\n",
    "mpl.rcParams['figure.figsize'] = (8.0, 7.0)\n",
    "\n",
    "# Ignore Warnings\n",
    "warnings.filterwarnings('ignore')"
   ]
  },
  {
   "cell_type": "markdown",
   "metadata": {},
   "source": [
    "### Import Data"
   ]
  },
  {
   "cell_type": "code",
   "execution_count": 2,
   "metadata": {
    "ExecuteTime": {
     "end_time": "2018-09-27T05:17:40.110722Z",
     "start_time": "2018-09-27T05:17:39.487838Z"
    }
   },
   "outputs": [
    {
     "data": {
      "text/html": [
       "<div>\n",
       "<style scoped>\n",
       "    .dataframe tbody tr th:only-of-type {\n",
       "        vertical-align: middle;\n",
       "    }\n",
       "\n",
       "    .dataframe tbody tr th {\n",
       "        vertical-align: top;\n",
       "    }\n",
       "\n",
       "    .dataframe thead th {\n",
       "        text-align: right;\n",
       "    }\n",
       "</style>\n",
       "<table border=\"1\" class=\"dataframe\">\n",
       "  <thead>\n",
       "    <tr style=\"text-align: right;\">\n",
       "      <th></th>\n",
       "      <th>title</th>\n",
       "      <th>overview</th>\n",
       "    </tr>\n",
       "  </thead>\n",
       "  <tbody>\n",
       "    <tr>\n",
       "      <th>0</th>\n",
       "      <td>Toy Story</td>\n",
       "      <td>Led by Woody, Andy's toys live happily in his ...</td>\n",
       "    </tr>\n",
       "    <tr>\n",
       "      <th>1</th>\n",
       "      <td>Jumanji</td>\n",
       "      <td>When siblings Judy and Peter discover an encha...</td>\n",
       "    </tr>\n",
       "    <tr>\n",
       "      <th>2</th>\n",
       "      <td>Grumpier Old Men</td>\n",
       "      <td>A family wedding reignites the ancient feud be...</td>\n",
       "    </tr>\n",
       "    <tr>\n",
       "      <th>3</th>\n",
       "      <td>Waiting to Exhale</td>\n",
       "      <td>Cheated on, mistreated and stepped on, the wom...</td>\n",
       "    </tr>\n",
       "    <tr>\n",
       "      <th>4</th>\n",
       "      <td>Father of the Bride Part II</td>\n",
       "      <td>Just when George Banks has recovered from his ...</td>\n",
       "    </tr>\n",
       "  </tbody>\n",
       "</table>\n",
       "</div>"
      ],
      "text/plain": [
       "                         title  \\\n",
       "0                    Toy Story   \n",
       "1                      Jumanji   \n",
       "2             Grumpier Old Men   \n",
       "3            Waiting to Exhale   \n",
       "4  Father of the Bride Part II   \n",
       "\n",
       "                                            overview  \n",
       "0  Led by Woody, Andy's toys live happily in his ...  \n",
       "1  When siblings Judy and Peter discover an encha...  \n",
       "2  A family wedding reignites the ancient feud be...  \n",
       "3  Cheated on, mistreated and stepped on, the wom...  \n",
       "4  Just when George Banks has recovered from his ...  "
      ]
     },
     "execution_count": 2,
     "metadata": {},
     "output_type": "execute_result"
    }
   ],
   "source": [
    "# Import IMDB dataset\n",
    "df = pd.read_csv('/Users/kavi/Documents/Science/Predictive/Data/movies_metadata.csv')\n",
    "df_descriptions = df[['title','overview']]\n",
    "df_descriptions.head()"
   ]
  },
  {
   "cell_type": "markdown",
   "metadata": {},
   "source": [
    "### Create TDIFD Matrix"
   ]
  },
  {
   "cell_type": "code",
   "execution_count": 3,
   "metadata": {
    "ExecuteTime": {
     "end_time": "2018-09-27T05:17:44.104518Z",
     "start_time": "2018-09-27T05:17:42.029875Z"
    }
   },
   "outputs": [],
   "source": [
    "index = 0\n",
    "values = []\n",
    "movie_index_dict = {}\n",
    "\n",
    "# Store movie name and insert index value in a dictionary\n",
    "for title_overview in df_descriptions.itertuples():\n",
    "    movie_name = title_overview[1]\n",
    "    value = title_overview[2]\n",
    "    values.append(value)\n",
    "    movie_index_dict[movie_name] = index\n",
    "    index += 1\n",
    "\n",
    "# Create Tfidf Matrix\n",
    "vectorizer = TfidfVectorizer(stop_words = \"english\")\n",
    "tfidf_matrix = vectorizer.fit_transform(df_descriptions['overview'].fillna(''))"
   ]
  },
  {
   "cell_type": "markdown",
   "metadata": {},
   "source": [
    "### Comparing Movie Similairy"
   ]
  },
  {
   "cell_type": "code",
   "execution_count": 4,
   "metadata": {
    "ExecuteTime": {
     "end_time": "2018-09-27T05:17:47.195968Z",
     "start_time": "2018-09-27T05:17:47.189352Z"
    }
   },
   "outputs": [
    {
     "data": {
      "text/plain": [
       "0.016209186697148742"
      ]
     },
     "execution_count": 4,
     "metadata": {},
     "output_type": "execute_result"
    }
   ],
   "source": [
    "#Need this helper function to look up a movie TFIDF by its name.\n",
    "def return_tfifd_data(movie_name, tfidf_matrix, movie_index_dict):\n",
    "    movie_id = movie_index_dict[movie_name]\n",
    "    movie_data= tfidf_matrix[movie_id,:]\n",
    "    return movie_data\n",
    "\n",
    "# Compare two movies and return their similiarity score\n",
    "def compare_movies(movie_1: str, movie_2: str):\n",
    "    '''\n",
    "    Return the cosine similarity between the two movie,\n",
    "    and return there cosine similarity\n",
    "    \n",
    "    Paramteres\n",
    "    ----------\n",
    "    movie_1: name of the first movie \n",
    "    movie_2: name of the second movie\n",
    "    \n",
    "    '''\n",
    "    movie_1_data = return_tfifd_data('No Country for Old Men',\n",
    "                                     tfidf_matrix,movie_index_dict)\n",
    "    movie_2_data = return_tfifd_data('The Social Network',\n",
    "                                     tfidf_matrix,movie_index_dict)\n",
    "    \n",
    "    similarity_score = cosine_similarity(movie_1_data, movie_2_data)\n",
    "    similarity_score = similarity_score[0][0]\n",
    "    return similarity_score\n",
    "\n",
    "# Test our funciton using the 'No Country for Old Men',\n",
    "# and'The Social Network' movie titles\n",
    "compare_movies('No Country for Old Men','The Social Network')"
   ]
  },
  {
   "cell_type": "markdown",
   "metadata": {},
   "source": [
    "### Content Recommender"
   ]
  },
  {
   "cell_type": "code",
   "execution_count": 6,
   "metadata": {
    "ExecuteTime": {
     "end_time": "2018-09-27T05:17:58.709507Z",
     "start_time": "2018-09-27T05:17:56.542297Z"
    }
   },
   "outputs": [
    {
     "data": {
      "text/html": [
       "<div>\n",
       "<style scoped>\n",
       "    .dataframe tbody tr th:only-of-type {\n",
       "        vertical-align: middle;\n",
       "    }\n",
       "\n",
       "    .dataframe tbody tr th {\n",
       "        vertical-align: top;\n",
       "    }\n",
       "\n",
       "    .dataframe thead th {\n",
       "        text-align: right;\n",
       "    }\n",
       "</style>\n",
       "<table border=\"1\" class=\"dataframe\">\n",
       "  <thead>\n",
       "    <tr style=\"text-align: right;\">\n",
       "      <th></th>\n",
       "      <th>title</th>\n",
       "      <th>similarity</th>\n",
       "    </tr>\n",
       "  </thead>\n",
       "  <tbody>\n",
       "    <tr>\n",
       "      <th>660</th>\n",
       "      <td>Thor</td>\n",
       "      <td>0.247</td>\n",
       "    </tr>\n",
       "    <tr>\n",
       "      <th>841</th>\n",
       "      <td>Thor: The Dark World</td>\n",
       "      <td>0.245</td>\n",
       "    </tr>\n",
       "    <tr>\n",
       "      <th>355</th>\n",
       "      <td>The Chronicles of Riddick</td>\n",
       "      <td>0.099</td>\n",
       "    </tr>\n",
       "    <tr>\n",
       "      <th>467</th>\n",
       "      <td>Fantastic 4: Rise of the Silver Surfer</td>\n",
       "      <td>0.093</td>\n",
       "    </tr>\n",
       "    <tr>\n",
       "      <th>728</th>\n",
       "      <td>Prometheus</td>\n",
       "      <td>0.085</td>\n",
       "    </tr>\n",
       "    <tr>\n",
       "      <th>668</th>\n",
       "      <td>X-Men: First Class</td>\n",
       "      <td>0.082</td>\n",
       "    </tr>\n",
       "    <tr>\n",
       "      <th>949</th>\n",
       "      <td>Warcraft</td>\n",
       "      <td>0.082</td>\n",
       "    </tr>\n",
       "    <tr>\n",
       "      <th>670</th>\n",
       "      <td>Green Lantern</td>\n",
       "      <td>0.081</td>\n",
       "    </tr>\n",
       "    <tr>\n",
       "      <th>904</th>\n",
       "      <td>Jupiter Ascending</td>\n",
       "      <td>0.078</td>\n",
       "    </tr>\n",
       "    <tr>\n",
       "      <th>259</th>\n",
       "      <td>The Fast and the Furious</td>\n",
       "      <td>0.069</td>\n",
       "    </tr>\n",
       "  </tbody>\n",
       "</table>\n",
       "</div>"
      ],
      "text/plain": [
       "                                      title  similarity\n",
       "660                                    Thor       0.247\n",
       "841                    Thor: The Dark World       0.245\n",
       "355               The Chronicles of Riddick       0.099\n",
       "467  Fantastic 4: Rise of the Silver Surfer       0.093\n",
       "728                              Prometheus       0.085\n",
       "668                      X-Men: First Class       0.082\n",
       "949                                Warcraft       0.082\n",
       "670                           Green Lantern       0.081\n",
       "904                       Jupiter Ascending       0.078\n",
       "259                The Fast and the Furious       0.069"
      ]
     },
     "execution_count": 6,
     "metadata": {},
     "output_type": "execute_result"
    }
   ],
   "source": [
    "# find the most similiar movies based on a single movie title\n",
    "def content_recomender(title,tfidf_matrix, movie_search_space; pd.DataFrame) :\n",
    "    '''\n",
    "    Given any movie title, return a dataframe that contain the title's\n",
    "    similarity to every other movie in the dataset =\n",
    "    \n",
    "    Parameters\n",
    "    ----------\n",
    "    title: movie title for target movie we are searching against\n",
    "    tfidf_matrix: the sparse dataframe containing all our TF_IFD data\n",
    "    movie_search_space: all the movies to search against in our dataset\n",
    "    \n",
    "    '''\n",
    "    \n",
    "    #Store the results in this DF\n",
    "    similar_movies = pd.DataFrame(columns = [\"title\",\"similarity\"] )\n",
    "    \n",
    "    # Return target titles tf\n",
    "    movie_1_data = return_tfifd_data(title,\n",
    "                                     tfidf_matrix,movie_index_dict)\n",
    "    \n",
    "    # Calculate Cosine Similarity for Every Other\n",
    "    # movie in the dataset\n",
    "    for movie in movie_search_space['title'] :\n",
    "        \n",
    "        #Find the similarity of the two movies\n",
    "        movie_2_data = return_tfifd_data(movie,\n",
    "                                     tfidf_matrix,movie_index_dict)\n",
    "        \n",
    "        # Calculate the  Similarity Score\n",
    "        similarity_score = cosine_similarity(movie_1_data, movie_2_data)\n",
    "        similarity_score = similarity_score[0][0]\n",
    "        \n",
    "        # Append Movie Name and Similarity Score to Output DataFrame\n",
    "        similar_movies.loc[len(similar_movies)] = [movie,similarity_score]\n",
    "\n",
    "    return similar_movies.sort_values(by=['similarity'],ascending=False)\n",
    "\n",
    "\n",
    "# Run our content recommender on our search space\n",
    "movie_search_space = df.loc[df['vote_count']>1000]\n",
    "movie_recommendations = content_recomender(\"Thor: Ragnarok\", tfidf_matrix,\n",
    "                                    movie_search_space)\n",
    "\n",
    "# View the top 10 movie titles based on our last watched film\n",
    "movie_recommendations.head(10)"
   ]
  },
  {
   "cell_type": "code",
   "execution_count": 65,
   "metadata": {
    "ExecuteTime": {
     "end_time": "2018-09-27T05:40:55.294129Z",
     "start_time": "2018-09-27T05:40:54.782624Z"
    }
   },
   "outputs": [
    {
     "data": {
      "image/png": "[encoded data removed]",
      "text/plain": [
       "<Figure size 864x720 with 2 Axes>"
      ]
     },
     "metadata": {
      "image/png": {
       "height": 306,
       "width": 756
      }
     },
     "output_type": "display_data"
    }
   ],
   "source": [
    "# Histograms of movie similarity\n",
    "plt.figure(figsize=(12,10))\n",
    "plt.subplot2grid((2, 2), (0, 0))\n",
    "plt.hist(movie_recommendations.similarity, \n",
    "              color='#40B6C4', edgecolor='white')\n",
    "plt.title('Histogram of Movie Similarity for Thor: Ragnarok')\n",
    "plt.xlabel('Similarity')\n",
    "plt.ylabel('Movie Frequency')\n",
    "plt.axvline(movie_recommendations.similarity.mean(), \n",
    "            color='r', linestyle='dashed', linewidth=2);\n",
    "\n",
    "plt.subplot2grid((2, 2), (0, 1))\n",
    "plt.hist(movie_recommendations.similarity,bins=80, \n",
    "              color='#40B6C4', edgecolor='white')\n",
    "plt.title('Histogram of Movie Similarity for Thor: Ragnarok (Zoomed)')\n",
    "plt.xlabel('Similarity')\n",
    "plt.ylabel('Movies Frequency')\n",
    "plt.axvline(movie_recommendations.similarity.mean(), \n",
    "            color='r', linestyle='dashed', linewidth=2)\n",
    "plt.xlim(-0.001,0.05);"
   ]
  },
  {
   "cell_type": "markdown",
   "metadata": {},
   "source": [
    "Author: Kavi Sekhon"
   ]
  }
 ],
 "metadata": {
  "kernelspec": {
   "display_name": "Python 3",
   "language": "python",
   "name": "python3"
  },
  "language_info": {
   "codemirror_mode": {
    "name": "ipython",
    "version": 3
   },
   "file_extension": ".py",
   "mimetype": "text/x-python",
   "name": "python",
   "nbconvert_exporter": "python",
   "pygments_lexer": "ipython3",
   "version": "3.6.6"
  },
  "varInspector": {
   "cols": {
    "lenName": 16,
    "lenType": 16,
    "lenVar": 40
   },
   "kernels_config": {
    "python": {
     "delete_cmd_postfix": "",
     "delete_cmd_prefix": "del ",
     "library": "var_list.py",
     "varRefreshCmd": "print(var_dic_list())"
    },
    "r": {
     "delete_cmd_postfix": ") ",
     "delete_cmd_prefix": "rm(",
     "library": "var_list.r",
     "varRefreshCmd": "cat(var_dic_list()) "
    }
   },
   "types_to_exclude": [
    "module",
    "function",
    "builtin_function_or_method",
    "instance",
    "_Feature"
   ],
   "window_display": false
  }
 },
 "nbformat": 4,
 "nbformat_minor": 2
}
