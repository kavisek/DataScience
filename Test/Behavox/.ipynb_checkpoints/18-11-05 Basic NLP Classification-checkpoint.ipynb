{
 "cells": [
  {
   "cell_type": "markdown",
   "metadata": {},
   "source": [
    "# Basic NLP Classification Model\n",
    "\n",
    "<span> This notebook describes a simple TFIDF model that can be used to classify an email as a business or personal email given a corpus from the email's subject body.\n",
    "\n",
    "### Import Preliminaries\n"
   ]
  },
  {
   "cell_type": "code",
   "execution_count": 128,
   "metadata": {},
   "outputs": [],
   "source": [
    "# Import Modules\n",
    "import os\n",
    "import itertools\n",
    "import matplotlib.pyplot as plt\n",
    "import numpy as np\n",
    "import pandas as pd\n",
    "import warnings\n",
    "\n",
    "from matplotlib import rcParams, gridspec\n",
    "from sklearn.feature_extraction.text import TfidfTransformer, CountVectorizer\n",
    "from sklearn.linear_model import SGDClassifier\n",
    "from sklearn.metrics import (confusion_matrix, precision_recall_curve, auc,\n",
    "                             roc_curve, recall_score, classification_report,\n",
    "                             f1_score, precision_score, recall_score,\n",
    "                             precision_recall_fscore_support, roc_auc_score)\n",
    "from sklearn.model_selection import cross_validate\n",
    "from sklearn.model_selection import train_test_split\n",
    "from sklearn.pipeline import Pipeline\n",
    "from sklearn.utils.class_weight import compute_sample_weight\n",
    "\n",
    "# Warning Configuration\n",
    "warnings.filterwarnings('ignore')\n",
    "\n"
   ]
  },
  {
   "cell_type": "markdown",
   "metadata": {},
   "source": [
    "### Funcitons"
   ]
  },
  {
   "cell_type": "code",
   "execution_count": 111,
   "metadata": {},
   "outputs": [],
   "source": [
    "# Retrieve EMmail Names\n",
    "def retrieve_email_names(path:str) -> list:\n",
    "    '''\n",
    "    This function with search the provided file path and return a\n",
    "    list of all the files names within path\n",
    "    \n",
    "    Parameters\n",
    "    ----------\n",
    "    path: a string input specifying the file path\n",
    "    \n",
    "    Examples\n",
    "    ----------\n",
    "    >>>> retrieve_email_names/kavi/emails/business')\n",
    "    >>>> retrieve_email_names(/kavi/emails/personal')\n",
    "    '''\n",
    "    \n",
    "    email_names = []\n",
    "    for root, dirs, files in os.walk(path):\n",
    "        for file in files:\n",
    "            email_names.append(file)\n",
    "    return email_names\n",
    "\n",
    "\n",
    "# Retriveve Email Content from Directory\n",
    "def retrieve_email_content(path):\n",
    "    '''\n",
    "    This function with search the provided file path and return a \n",
    "    list of corpus for all the files witin the directory. Note that\n",
    "    this function will filter the emails for only the subject lines\n",
    "    and will note return the email metadata from within this function.\n",
    "    \n",
    "    Parameters\n",
    "    ----------\n",
    "    path: a string input specifying the file path\n",
    "    \n",
    "    Examples\n",
    "    ---------\n",
    "    >>>> retrieve_email_content(/kavi/emails/business')\n",
    "    >>>> retrieve_email_content(/kavi/emails/personal')\n",
    "    \n",
    "    '''\n",
    "    email_content = []\n",
    "    for root, dirs, files in os.walk(path):\n",
    "        for file in files:\n",
    "            file_path = path+'/'+file\n",
    "            with open(file_path,  encoding='windows-1252') as email_file:\n",
    "                email = email_file.read()\n",
    "                start_pos = email.find('\\n\\n')\n",
    "                end_pos = email.find('<MARKUP id')\n",
    "                subject = email[start_pos:end_pos]\n",
    "                email_content.append(subject)\n",
    "    return email_content\n",
    "\n",
    "\n",
    "# Plot a confusion matrix with matplotlib given a confusion matrix\n",
    "def plot_confusion_matrix(cm, classes, fontsize=20,\n",
    "                          normalize=False, title='Confusion matrix',\n",
    "                          cmap=plt.cm.Blues):\n",
    "    '''\n",
    "    THE MAIN CONFUSION MATRIX, KAVI DON'T DELTETE BY ACCIDENT AGAIN. Function plots a \n",
    "    confusion matrix given a cm matrix and class names\n",
    "\n",
    "    Parameters\n",
    "    ----------\n",
    "    cm: sklearn confusion matrix\n",
    "    classes: numpy 1D array containing all unique class names\n",
    "\n",
    "    Examples\n",
    "    ---------\n",
    "    >>>>\n",
    "\n",
    "    plot_confusion_matrix(\n",
    "    cm,\n",
    "    classes,\n",
    "    fontsize=25,\n",
    "    normalize=True,\n",
    "    title=model.name.capitalize() + ': Test Set',\n",
    "    cmap=plt.cm.Greens)\n",
    "\n",
    "    '''\n",
    "    cm_num = cm\n",
    "    cm_per = cm.astype('float') / cm.sum(axis=1)[:, np.newaxis]\n",
    "\n",
    "    if normalize:\n",
    "        cm = cm.astype('float') / cm.sum(axis=1)[:, np.newaxis]\n",
    "        # print(\"Normalized confusion matrix\")\n",
    "    else:\n",
    "        None\n",
    "        # print('Confusion matrix, without normalization')\n",
    "\n",
    "    # print(cm)\n",
    "\n",
    "    plt.imshow(cm, interpolation='nearest', cmap=cmap)\n",
    "    plt.title(title.replace('_',' ').title()+'\\n', size=fontsize)\n",
    "    plt.colorbar()\n",
    "    tick_marks = np.arange(len(classes))\n",
    "    plt.xticks(tick_marks, classes, rotation=45, size=fontsize)\n",
    "    plt.yticks(tick_marks, classes, size=fontsize)\n",
    "\n",
    "    fmt = '.5f' if normalize else 'd'\n",
    "    thresh = cm.max() / 2.\n",
    "    for i, j in itertools.product(range(cm.shape[0]), range(cm.shape[1])):\n",
    "        # Set color parameters\n",
    "        color = \"white\" if cm[i, j] > thresh else \"black\"\n",
    "        alignment = \"center\"\n",
    "\n",
    "        # Plot perentage\n",
    "        text = format(cm_per[i, j], '.5f')\n",
    "        text = text + '%'\n",
    "        plt.text(j, i,\n",
    "            text,\n",
    "            fontsize=fontsize,\n",
    "            verticalalignment='baseline',\n",
    "            horizontalalignment='center',\n",
    "            color=color)\n",
    "        # Plot numeric\n",
    "        text = format(cm_num[i, j], 'd')\n",
    "        text = '\\n \\n' + text\n",
    "        plt.text(j, i,\n",
    "            text,\n",
    "            fontsize=fontsize,\n",
    "            verticalalignment='center',\n",
    "            horizontalalignment='center',\n",
    "            color=color)\n",
    "\n",
    "    plt.tight_layout()\n",
    "    plt.ylabel('True label'.title(), size=fontsize)\n",
    "    plt.xlabel('Predicted label'.title(), size=fontsize)\n",
    "\n",
    "    return None\n",
    "\n",
    "# Confusion matrix plotting function or normal classifier\n",
    "def plot_confusion_normal(model, classes, name, train_x, train_y,\n",
    "                          test_x, test_y, cmap=plt.cm.Greens):\n",
    "    '''\n",
    "    Fuction plota grid and calls the plot_confusion_matrix function\n",
    "    to plot two confusion matrices. One for the tarin set and another\n",
    "    for the test set\n",
    "\n",
    "    Parameters\n",
    "    ----------\n",
    "    cm: sklearn confusion matrix\n",
    "    classes: numpy 1D array containing all unique class names\n",
    "\n",
    "    Examples\n",
    "    ----------\n",
    "    >>>> plot_confusion_normal(xg_model, train_x, train_y)\n",
    "    >>>> plot_confusion_normal(rf_model, train_x, train_y)\n",
    "    '''\n",
    "\n",
    "    # Set the plot size\n",
    "    rcParams['figure.figsize'] = (30.0, 22.5)\n",
    "\n",
    "    # Set up grid\n",
    "    plt.figure()\n",
    "    fig = gridspec.GridSpec(3, 3)\n",
    "    grid_length = list(range(1, 3))\n",
    "    tuple_grid = [(i, j) for i in grid_length for j in grid_length]\n",
    "\n",
    "    # Plot Training Confusion Matrix\n",
    "    plt.subplot2grid((3, 3), (0, 0))\n",
    "    cm = confusion_matrix(train_y, model.predict(train_x))\n",
    "    plot_confusion_matrix(\n",
    "        cm,\n",
    "        classes=classes,\n",
    "        normalize=True,\n",
    "        title=name.capitalize() + ': Train Set',\n",
    "        cmap=cmap)\n",
    "\n",
    "    # Plot Testing Confusion Matrix\n",
    "    plt.subplot2grid((3, 3), (0, 1))\n",
    "    cm = confusion_matrix(test_y, model.predict(test_x))\n",
    "    plot_confusion_matrix(\n",
    "        cm,\n",
    "        classes=classes,\n",
    "        normalize=True,\n",
    "        title=name.capitalize() + ': Test Set',\n",
    "        cmap=cmap)\n",
    "\n",
    "    return None        \n"
   ]
  },
  {
   "cell_type": "markdown",
   "metadata": {},
   "source": [
    "### Import Data\n",
    "\n",
    "Aggregate all the emails from the business and personal sub directories. Strip any information before the first new line character and everythin after the first `<<MARKUP id=alex...>` HTML tag. When we import the we filter the string for the only the information within the body. Next I strip any unecassary information from the beforing aggregating the data into our training dataset."
   ]
  },
  {
   "cell_type": "code",
   "execution_count": 112,
   "metadata": {},
   "outputs": [
    {
     "name": "stdout",
     "output_type": "stream",
     "text": [
      "Business Email Name Length: 4871\n",
      "Business Email Concent Length: 4871\n",
      "Personal Email Name Length 1855\n",
      "Personal EMail Coentent Length 1855\n"
     ]
    }
   ],
   "source": [
    "# Local File Path to business and personal email data\n",
    "business = '/Users/kavi/Google Drive/Job/Technical Tests/Behavox/Data/business'\n",
    "personal = '/Users/kavi/Google Drive/Job/Technical Tests/Behavox/Data/personal'\n",
    "\n",
    "# Generate a list of files\n",
    "business_email_names = retrieve_email_names(business)\n",
    "personal_email_names = retrieve_email_names(personal)\n",
    "business_email_content = retrieve_email_content(business)\n",
    "personal_email_content = retrieve_email_content(personal)\n",
    "\n",
    "# Print the length of the returned lists\n",
    "print('Business Email Name Length:', len(business_email_names))\n",
    "print('Business Email Concent Length:', len(business_email_content))\n",
    "print('Personal Email Name Length', len(personal_email_names))\n",
    "print('Personal EMail Coentent Length', len(personal_email_content))"
   ]
  },
  {
   "cell_type": "code",
   "execution_count": 113,
   "metadata": {
    "scrolled": false
   },
   "outputs": [
    {
     "data": {
      "text/html": [
       "<div>\n",
       "<style scoped>\n",
       "    .dataframe tbody tr th:only-of-type {\n",
       "        vertical-align: middle;\n",
       "    }\n",
       "\n",
       "    .dataframe tbody tr th {\n",
       "        vertical-align: top;\n",
       "    }\n",
       "\n",
       "    .dataframe thead th {\n",
       "        text-align: right;\n",
       "    }\n",
       "</style>\n",
       "<table border=\"1\" class=\"dataframe\">\n",
       "  <thead>\n",
       "    <tr style=\"text-align: right;\">\n",
       "      <th></th>\n",
       "      <th>name</th>\n",
       "      <th>content</th>\n",
       "      <th>target</th>\n",
       "    </tr>\n",
       "  </thead>\n",
       "  <tbody>\n",
       "    <tr>\n",
       "      <th>0</th>\n",
       "      <td>maildir_cash-m_inbox_287</td>\n",
       "      <td>\\n\\nMichelle - can you respond?  I haven't see...</td>\n",
       "      <td>0</td>\n",
       "    </tr>\n",
       "    <tr>\n",
       "      <th>1</th>\n",
       "      <td>maildir_guzman-m_notes_inbox_916</td>\n",
       "      <td>\\n\\nHey Guys.\\n\\nBe cautious when doing a NP/M...</td>\n",
       "      <td>0</td>\n",
       "    </tr>\n",
       "    <tr>\n",
       "      <th>2</th>\n",
       "      <td>maildir_taylor-m_notes_inbox_1683</td>\n",
       "      <td>\\n\\nMark:\\n\\nHere is a draft of what I propose...</td>\n",
       "      <td>0</td>\n",
       "    </tr>\n",
       "    <tr>\n",
       "      <th>3</th>\n",
       "      <td>maildir_sanders-r_notes_inbox_182</td>\n",
       "      <td>\\n\\nAttached is an initial draft of an Agreeme...</td>\n",
       "      <td>0</td>\n",
       "    </tr>\n",
       "    <tr>\n",
       "      <th>4</th>\n",
       "      <td>maildir_shackleton-s_notes_inbox_1975</td>\n",
       "      <td>\\n\\nClint/Sara-\\n\\nI read the UBS &amp; CSFB confi...</td>\n",
       "      <td>0</td>\n",
       "    </tr>\n",
       "  </tbody>\n",
       "</table>\n",
       "</div>"
      ],
      "text/plain": [
       "                                    name  \\\n",
       "0               maildir_cash-m_inbox_287   \n",
       "1       maildir_guzman-m_notes_inbox_916   \n",
       "2      maildir_taylor-m_notes_inbox_1683   \n",
       "3      maildir_sanders-r_notes_inbox_182   \n",
       "4  maildir_shackleton-s_notes_inbox_1975   \n",
       "\n",
       "                                             content  target  \n",
       "0  \\n\\nMichelle - can you respond?  I haven't see...       0  \n",
       "1  \\n\\nHey Guys.\\n\\nBe cautious when doing a NP/M...       0  \n",
       "2  \\n\\nMark:\\n\\nHere is a draft of what I propose...       0  \n",
       "3  \\n\\nAttached is an initial draft of an Agreeme...       0  \n",
       "4  \\n\\nClint/Sara-\\n\\nI read the UBS & CSFB confi...       0  "
      ]
     },
     "execution_count": 113,
     "metadata": {},
     "output_type": "execute_result"
    }
   ],
   "source": [
    "# Appending List Data into a Single dataframe\n",
    "# Targt Values: Business Email = 0, Personal Email = 1\n",
    "email_target = [0]*len(business_email_names) + [1]*len(personal_email_names)\n",
    "email_names = business_email_names + personal_email_names\n",
    "email_content = business_email_content + personal_email_content\n",
    "\n",
    "# Let Combiine our data into a single dataset\n",
    "data = pd.DataFrame(data={\n",
    "    'name': email_names,\n",
    "    'content': email_content,\n",
    "    'target': email_target\n",
    "})\n",
    "\n",
    "# View the head of the dataframe\n",
    "data.head()"
   ]
  },
  {
   "cell_type": "markdown",
   "metadata": {},
   "source": [
    "##### Encoding Values"
   ]
  },
  {
   "cell_type": "code",
   "execution_count": 114,
   "metadata": {},
   "outputs": [],
   "source": [
    "# Encode our data into numpy arrays \n",
    "X = data.content.values\n",
    "y = data.target.values\n",
    "\n",
    "# Train-test split the data\n",
    "X_train, X_test, y_train, y_test = train_test_split(X,y)\n",
    "\n",
    "# Compute Sample Weights\n",
    "weights = compute_sample_weight(class_weight='balanced', y=y_train)"
   ]
  },
  {
   "cell_type": "markdown",
   "metadata": {},
   "source": [
    "### Build Pipeline"
   ]
  },
  {
   "cell_type": "code",
   "execution_count": 122,
   "metadata": {},
   "outputs": [],
   "source": [
    "# Building a simple for the model pipeline \n",
    "sgd_pipeline = Pipeline([\n",
    "    ('vect', CountVectorizer()),\n",
    "    ('tfidf', TfidfTransformer()),\n",
    "    ('sgdclassifier', SGDClassifier(loss='hinge', penalty='l2',\n",
    "                          alpha=1e-3, random_state=42,\n",
    "                          max_iter=5, tol=None)),], )"
   ]
  },
  {
   "cell_type": "markdown",
   "metadata": {},
   "source": [
    "### Model Evaluation"
   ]
  },
  {
   "cell_type": "code",
   "execution_count": 117,
   "metadata": {},
   "outputs": [],
   "source": [
    "# Fit our model\n",
    "sgd_pipeline.fit(X_train,y_train, **{'sgdclassifier__sample_weight':weights})\n",
    "sgd_pred = sgd_pipeline.predict(X_train)"
   ]
  },
  {
   "cell_type": "markdown",
   "metadata": {},
   "source": [
    "##### Crossvalidation Score"
   ]
  },
  {
   "cell_type": "code",
   "execution_count": 129,
   "metadata": {},
   "outputs": [
    {
     "data": {
      "text/plain": [
       "fit_time           0.863124\n",
       "score_time         0.492152\n",
       "test_accuracy      0.952813\n",
       "train_accuracy     0.971980\n",
       "test_precision     0.888147\n",
       "train_precision    0.920128\n",
       "test_recall        0.951853\n",
       "train_recall       0.985521\n",
       "test_f1            0.918759\n",
       "train_f1           0.951686\n",
       "test_roc_auc       0.988321\n",
       "train_roc_auc      0.996177\n",
       "Name: Mean, dtype: float64"
      ]
     },
     "execution_count": 129,
     "metadata": {},
     "output_type": "execute_result"
    }
   ],
   "source": [
    "# Calculate the cross validation score of the model\n",
    "scores = cross_validate(sgd_pipeline, X_train, y_train, \n",
    "                         cv=10, \n",
    "                         fit_params={'sgdclassifier__sample_weight':weights},\n",
    "                         scoring=['accuracy','precision','recall','f1','roc_auc'],)\n",
    "\n",
    "# Cross Validation Scores\n",
    "scores_df = pd.DataFrame(scores).T\n",
    "scores_df['Mean'] = scores_df.mean(axis=1)\n",
    "scores_df['Mean']"
   ]
  },
  {
   "cell_type": "markdown",
   "metadata": {},
   "source": [
    "##### Confusion Matrix"
   ]
  },
  {
   "cell_type": "code",
   "execution_count": 118,
   "metadata": {},
   "outputs": [
    {
     "data": {
      "image/png": "[encoded data removed]",
      "text/plain": [
       "<Figure size 2160x1620 with 4 Axes>"
      ]
     },
     "metadata": {},
     "output_type": "display_data"
    }
   ],
   "source": [
    "# Plot Confusion Matrix\n",
    "plot_confusion_normal(model=sgd_pipeline, classes=[0,1], \n",
    "                      name = 'SGD Pipeline',\n",
    "                      train_x=X_train,\n",
    "                      test_x=X_test,\n",
    "                      train_y=y_train, test_y=y_test,\n",
    "                      cmap= plt.cm.PuRd)"
   ]
  },
  {
   "cell_type": "markdown",
   "metadata": {},
   "source": [
    "##### Model Grid Search"
   ]
  },
  {
   "cell_type": "code",
   "execution_count": 1,
   "metadata": {},
   "outputs": [
    {
     "ename": "NameError",
     "evalue": "name 'SGDClassifier' is not defined",
     "output_type": "error",
     "traceback": [
      "\u001b[0;31m---------------------------------------------------------------------------\u001b[0m",
      "\u001b[0;31mNameError\u001b[0m                                 Traceback (most recent call last)",
      "\u001b[0;32m<ipython-input-1-55a5237d78d3>\u001b[0m in \u001b[0;36m<module>\u001b[0;34m()\u001b[0m\n\u001b[0;32m----> 1\u001b[0;31m \u001b[0mSGDClassifier\u001b[0m\u001b[0;34m(\u001b[0m\u001b[0;34m)\u001b[0m\u001b[0;34m\u001b[0m\u001b[0m\n\u001b[0m",
      "\u001b[0;31mNameError\u001b[0m: name 'SGDClassifier' is not defined"
     ]
    }
   ],
   "source": [
    "SGDClassifier()"
   ]
  },
  {
   "cell_type": "code",
   "execution_count": null,
   "metadata": {},
   "outputs": [],
   "source": [
    "# Setting up the grid\n",
    "grid = {'n_estimators':np.arange(0,100, 25)[1:],\n",
    "        'max_depth':list(range(1,10,2)),\n",
    "        'max_leaf_nodes':[5,10,25,50,75,100]}\n",
    "\n",
    "# Initialize with GridSearchCV with grid\n",
    "grid_search = GridSearchCV(estimator=rf_model, param_grid=grid, \n",
    "                     scoring='accuracy', n_jobs=-1, refit=True, cv=10,\n",
    "                     return_train_score=True)\n",
    "\n",
    "# Fit search\n",
    "grid_search.fit(X,y);"
   ]
  },
  {
   "cell_type": "markdown",
   "metadata": {},
   "source": [
    "##### Final Model"
   ]
  },
  {
   "cell_type": "code",
   "execution_count": null,
   "metadata": {},
   "outputs": [],
   "source": []
  },
  {
   "cell_type": "markdown",
   "metadata": {},
   "source": [
    "Author: Kavi Sekhon"
   ]
  }
 ],
 "metadata": {
  "kernelspec": {
   "display_name": "Python 3",
   "language": "python",
   "name": "python3"
  },
  "language_info": {
   "codemirror_mode": {
    "name": "ipython",
    "version": 3
   },
   "file_extension": ".py",
   "mimetype": "text/x-python",
   "name": "python",
   "nbconvert_exporter": "python",
   "pygments_lexer": "ipython3",
   "version": "3.6.5"
  }
 },
 "nbformat": 4,
 "nbformat_minor": 2
}
