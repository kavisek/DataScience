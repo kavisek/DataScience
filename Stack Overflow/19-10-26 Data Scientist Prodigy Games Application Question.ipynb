{
 "cells": [
  {
   "cell_type": "markdown",
   "metadata": {},
   "source": [
    "The positive whole numbers up to and including 10 that are multiples of 3 or 5 are 3, 5, 6, 9, and 10. What is the sum of all the positive whole numbers up to and including 1000 that are multiples of 13 or 31?"
   ]
  },
  {
   "cell_type": "code",
   "execution_count": 6,
   "metadata": {},
   "outputs": [
    {
     "name": "stdout",
     "output_type": "stream",
     "text": [
      "[0, 13, 26, 31, 39, 52, 62, 65, 78, 91, 93, 104, 117, 124, 130, 143, 155, 156, 169, 182, 186, 195, 208, 217, 221, 234, 247, 248, 260, 273, 279, 286, 299, 310, 312, 325, 338, 341, 351, 364, 372, 377, 390, 403, 416, 429, 434, 442, 455, 465, 468, 481, 494, 496, 507, 520, 527, 533, 546, 558, 559, 572, 585, 589, 598, 611, 620, 624, 637, 650, 651, 663, 676, 682, 689, 702, 713, 715, 728, 741, 744, 754, 767, 775, 780, 793, 806, 819, 832, 837, 845, 858, 868, 871, 884, 897, 899, 910, 923, 930, 936, 949, 961, 962, 975, 988, 992]\n"
     ]
    }
   ],
   "source": [
    "l = []\n",
    "for i in range(1001):\n",
    "    if (i % 13 == 0) | (i % 31 == 0):\n",
    "        l.append(i)\n",
    "print(l)"
   ]
  },
  {
   "cell_type": "code",
   "execution_count": 8,
   "metadata": {},
   "outputs": [
    {
     "data": {
      "text/plain": [
       "53197"
      ]
     },
     "execution_count": 8,
     "metadata": {},
     "output_type": "execute_result"
    }
   ],
   "source": [
    "sum(l)"
   ]
  },
  {
   "cell_type": "code",
   "execution_count": null,
   "metadata": {},
   "outputs": [],
   "source": []
  }
 ],
 "metadata": {
  "kernelspec": {
   "display_name": "Python 3",
   "language": "python",
   "name": "python3"
  },
  "language_info": {
   "codemirror_mode": {
    "name": "ipython",
    "version": 3
   },
   "file_extension": ".py",
   "mimetype": "text/x-python",
   "name": "python",
   "nbconvert_exporter": "python",
   "pygments_lexer": "ipython3",
   "version": "3.6.5"
  }
 },
 "nbformat": 4,
 "nbformat_minor": 2
}
