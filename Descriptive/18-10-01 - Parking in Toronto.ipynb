{
 "cells": [
  {
   "cell_type": "markdown",
   "metadata": {},
   "source": [
    "### Illegal Parking in Toronto\n",
    "\n",
    "<span> This notebook is a descriptive analysis of illegal parking in Toronto. The data has been source from Open Data Toronto.\n",
    "    \n",
    "Dataset: [2016 Parking Ticket Information](https://www.toronto.ca/city-government/data-research-maps/open-data/open-data-catalogue/#75d14c24-3b7e-f344-4412-d8fd41f89455)"
   ]
  },
  {
   "cell_type": "markdown",
   "metadata": {},
   "source": [
    "### Import Preliminaries"
   ]
  },
  {
   "cell_type": "code",
   "execution_count": 1,
   "metadata": {
    "ExecuteTime": {
     "end_time": "2018-10-03T10:03:49.601596Z",
     "start_time": "2018-10-03T10:03:45.764079Z"
    }
   },
   "outputs": [
    {
     "name": "stderr",
     "output_type": "stream",
     "text": [
      "Using TensorFlow backend.\n"
     ]
    }
   ],
   "source": [
    " # Import generic data science packages and configurations\n",
    "%matplotlib inline\n",
    "%config InlineBackend.figure_format='retina'\n",
    "\n",
    "# Import modules\n",
    "import itertools\n",
    "import keras\n",
    "import matplotlib.pyplot as plt\n",
    "import matplotlib.gridspec as gridspec\n",
    "import matplotlib as mpl\n",
    "import numpy as np\n",
    "import pandas as pd \n",
    "import sklearn\n",
    "import seaborn as sns\n",
    "import warnings\n",
    "\n",
    "# Import Model Selection\n",
    "from sqlalchemy import create_engine\n",
    "from sklearn.feature_extraction.text import TfidfVectorizer\n",
    "from sklearn.metrics.pairwise import cosine_similarity\n",
    "\n",
    "# Set pandas options\n",
    "pd.set_option('max_columns',1000)\n",
    "pd.set_option('max_rows',30)\n",
    "pd.set_option('display.float_format', lambda x: '%.3f' % x)\n",
    "\n",
    "# Set plotting options\n",
    "mpl.rcParams['figure.figsize'] = (8.0, 7.0)\n",
    "\n",
    "# Ignore Warnings\n",
    "warnings.filterwarnings('ignore')"
   ]
  },
  {
   "cell_type": "markdown",
   "metadata": {},
   "source": [
    "### Import Data"
   ]
  },
  {
   "cell_type": "code",
   "execution_count": 47,
   "metadata": {
    "ExecuteTime": {
     "end_time": "2018-10-03T10:30:46.083233Z",
     "start_time": "2018-10-03T10:30:41.838081Z"
    }
   },
   "outputs": [
    {
     "name": "stdout",
     "output_type": "stream",
     "text": [
      "DataFrame Shape: P1 (750000, 11)\n",
      "DataFrame SHape: p2 (750000, 11)\n",
      "DataFrame Shape: p3 (750000, 11)\n",
      "DataFrame Shape: p4 (4761, 11)\n",
      "DataFrame Shape pk: (2254761, 11)\n"
     ]
    }
   ],
   "source": [
    "# Import data from local direcotry\n",
    "p1 = pd.read_csv('Data/Toronto Parking Tickets/Parking_Tags_Data_2016_1.csv')\n",
    "p2 = pd.read_csv('Data/Toronto Parking Tickets/Parking_Tags_Data_2016_2.csv')\n",
    "p3 = pd.read_csv('Data/Toronto Parking Tickets/Parking_Tags_Data_2016_3.csv')\n",
    "p4 = pd.read_csv('Data/Toronto Parking Tickets/Parking_Tags_Data_2016_4.csv')\n",
    "pk = pd.concat([p1,p2,p3,p4], axis=0)\n",
    "\n",
    "# Princ the dataframe shape\n",
    "print('DataFrame Shape: P1', p1.shape)\n",
    "print('DataFrame SHape: p2', p2.shape)\n",
    "print('DataFrame Shape: p3', p3.shape)\n",
    "print('DataFrame Shape: p4', p4.shape)\n",
    "print('DataFrame Shape pk:', pk.shape)"
   ]
  },
  {
   "cell_type": "code",
   "execution_count": 25,
   "metadata": {
    "ExecuteTime": {
     "end_time": "2018-10-03T10:15:55.895736Z",
     "start_time": "2018-10-03T10:15:55.534925Z"
    }
   },
   "outputs": [
    {
     "name": "stdout",
     "output_type": "stream",
     "text": [
      "<class 'pandas.core.frame.DataFrame'>\n",
      "Int64Index: 2254761 entries, 0 to 4760\n",
      "Data columns (total 11 columns):\n",
      "tag_number_masked         object\n",
      "date_of_infraction        int64\n",
      "infraction_code           float64\n",
      "infraction_description    object\n",
      "set_fine_amount           int64\n",
      "time_of_infraction        float64\n",
      "location1                 object\n",
      "location2                 object\n",
      "location3                 object\n",
      "location4                 object\n",
      "province                  object\n",
      "dtypes: float64(2), int64(2), object(7)\n",
      "memory usage: 206.4+ MB\n"
     ]
    }
   ],
   "source": [
    "pk.info()"
   ]
  },
  {
   "cell_type": "code",
   "execution_count": 31,
   "metadata": {
    "ExecuteTime": {
     "end_time": "2018-10-03T10:17:52.565475Z",
     "start_time": "2018-10-03T10:17:52.552919Z"
    }
   },
   "outputs": [
    {
     "data": {
      "text/html": [
       "<div>\n",
       "<style scoped>\n",
       "    .dataframe tbody tr th:only-of-type {\n",
       "        vertical-align: middle;\n",
       "    }\n",
       "\n",
       "    .dataframe tbody tr th {\n",
       "        vertical-align: top;\n",
       "    }\n",
       "\n",
       "    .dataframe thead th {\n",
       "        text-align: right;\n",
       "    }\n",
       "</style>\n",
       "<table border=\"1\" class=\"dataframe\">\n",
       "  <thead>\n",
       "    <tr style=\"text-align: right;\">\n",
       "      <th></th>\n",
       "      <th>tag_number_masked</th>\n",
       "      <th>date_of_infraction</th>\n",
       "      <th>infraction_code</th>\n",
       "      <th>infraction_description</th>\n",
       "      <th>set_fine_amount</th>\n",
       "      <th>time_of_infraction</th>\n",
       "      <th>location1</th>\n",
       "      <th>location2</th>\n",
       "      <th>location3</th>\n",
       "      <th>location4</th>\n",
       "      <th>province</th>\n",
       "    </tr>\n",
       "  </thead>\n",
       "  <tbody>\n",
       "    <tr>\n",
       "      <th>0</th>\n",
       "      <td>***03850</td>\n",
       "      <td>20160101</td>\n",
       "      <td>29.000</td>\n",
       "      <td>PARK PROHIBITED TIME NO PERMIT</td>\n",
       "      <td>30</td>\n",
       "      <td>0.000</td>\n",
       "      <td>NR</td>\n",
       "      <td>49 GLOUCESTER ST</td>\n",
       "      <td>NaN</td>\n",
       "      <td>NaN</td>\n",
       "      <td>ON</td>\n",
       "    </tr>\n",
       "    <tr>\n",
       "      <th>1</th>\n",
       "      <td>***03851</td>\n",
       "      <td>20160101</td>\n",
       "      <td>29.000</td>\n",
       "      <td>PARK PROHIBITED TIME NO PERMIT</td>\n",
       "      <td>30</td>\n",
       "      <td>1.000</td>\n",
       "      <td>NR</td>\n",
       "      <td>45 GLOUCESTER ST</td>\n",
       "      <td>NaN</td>\n",
       "      <td>NaN</td>\n",
       "      <td>ON</td>\n",
       "    </tr>\n",
       "    <tr>\n",
       "      <th>2</th>\n",
       "      <td>***98221</td>\n",
       "      <td>20160101</td>\n",
       "      <td>29.000</td>\n",
       "      <td>PARK PROHIBITED TIME NO PERMIT</td>\n",
       "      <td>30</td>\n",
       "      <td>2.000</td>\n",
       "      <td>NR</td>\n",
       "      <td>274 GEORGE ST</td>\n",
       "      <td>NaN</td>\n",
       "      <td>NaN</td>\n",
       "      <td>ON</td>\n",
       "    </tr>\n",
       "    <tr>\n",
       "      <th>3</th>\n",
       "      <td>***85499</td>\n",
       "      <td>20160101</td>\n",
       "      <td>29.000</td>\n",
       "      <td>PARK PROHIBITED TIME NO PERMIT</td>\n",
       "      <td>30</td>\n",
       "      <td>2.000</td>\n",
       "      <td>NR</td>\n",
       "      <td>270 GEORGE ST</td>\n",
       "      <td>NaN</td>\n",
       "      <td>NaN</td>\n",
       "      <td>ON</td>\n",
       "    </tr>\n",
       "    <tr>\n",
       "      <th>4</th>\n",
       "      <td>***03852</td>\n",
       "      <td>20160101</td>\n",
       "      <td>406.000</td>\n",
       "      <td>PARK-VEH. W/O VALID ONT PLATE</td>\n",
       "      <td>40</td>\n",
       "      <td>2.000</td>\n",
       "      <td>NR</td>\n",
       "      <td>45 GLOUCESTER ST</td>\n",
       "      <td>NaN</td>\n",
       "      <td>NaN</td>\n",
       "      <td>ON</td>\n",
       "    </tr>\n",
       "  </tbody>\n",
       "</table>\n",
       "</div>"
      ],
      "text/plain": [
       "  tag_number_masked date_of_infraction  infraction_code  \\\n",
       "0          ***03850           20160101           29.000   \n",
       "1          ***03851           20160101           29.000   \n",
       "2          ***98221           20160101           29.000   \n",
       "3          ***85499           20160101           29.000   \n",
       "4          ***03852           20160101          406.000   \n",
       "\n",
       "           infraction_description  set_fine_amount  time_of_infraction  \\\n",
       "0  PARK PROHIBITED TIME NO PERMIT               30               0.000   \n",
       "1  PARK PROHIBITED TIME NO PERMIT               30               1.000   \n",
       "2  PARK PROHIBITED TIME NO PERMIT               30               2.000   \n",
       "3  PARK PROHIBITED TIME NO PERMIT               30               2.000   \n",
       "4   PARK-VEH. W/O VALID ONT PLATE               40               2.000   \n",
       "\n",
       "  location1         location2 location3 location4 province  \n",
       "0        NR  49 GLOUCESTER ST       NaN       NaN       ON  \n",
       "1        NR  45 GLOUCESTER ST       NaN       NaN       ON  \n",
       "2        NR     274 GEORGE ST       NaN       NaN       ON  \n",
       "3        NR     270 GEORGE ST       NaN       NaN       ON  \n",
       "4        NR  45 GLOUCESTER ST       NaN       NaN       ON  "
      ]
     },
     "execution_count": 31,
     "metadata": {},
     "output_type": "execute_result"
    }
   ],
   "source": [
    "# View a sample of the datafame\n",
    "pk.head()"
   ]
  },
  {
   "cell_type": "markdown",
   "metadata": {},
   "source": [
    "### Cleaning Data"
   ]
  },
  {
   "cell_type": "code",
   "execution_count": 48,
   "metadata": {
    "ExecuteTime": {
     "end_time": "2018-10-03T10:31:11.776322Z",
     "start_time": "2018-10-03T10:30:46.248914Z"
    }
   },
   "outputs": [
    {
     "data": {
      "text/plain": [
       "0       2016-01-01-00:00\n",
       "1       2016-01-01-00:00\n",
       "2       2016-01-01-00:00\n",
       "3       2016-01-01-00:00\n",
       "4       2016-01-01-00:00\n",
       "5       2016-01-01-00:00\n",
       "6       2016-01-01-00:00\n",
       "7       2016-01-01-00:00\n",
       "8       2016-01-01-00:00\n",
       "9       2016-01-01-00:00\n",
       "10      2016-01-01-00:00\n",
       "11      2016-01-01-00:00\n",
       "12      2016-01-01-00:00\n",
       "13      2016-01-01-00:00\n",
       "14      2016-01-01-00:00\n",
       "              ...       \n",
       "4746    2016-12-31-00:39\n",
       "4747    2016-12-31-00:39\n",
       "4748    2016-12-31-00:39\n",
       "4749    2016-12-31-00:39\n",
       "4750    2016-12-31-00:39\n",
       "4751    2016-12-31-00:39\n",
       "4752    2016-12-31-00:39\n",
       "4753    2016-12-31-00:39\n",
       "4754    2016-12-31-00:39\n",
       "4755    2016-12-31-00:39\n",
       "4756    2016-12-31-00:39\n",
       "4757    2016-12-31-00:39\n",
       "4758    2016-12-31-00:39\n",
       "4759      2016-12-31-NaT\n",
       "4760      2016-12-31-NaT\n",
       "Name: Datetime, Length: 2254761, dtype: object"
      ]
     },
     "execution_count": 48,
     "metadata": {},
     "output_type": "execute_result"
    }
   ],
   "source": [
    "pk.date_of_infraction = pk.date_of_infraction.astype(str)\n",
    "time = pd.to_datetime(pk[\"time_of_infraction\"], unit='s')\n",
    "pk['Datetime'] = (pk.date_of_infraction.str.slice(0,4) + \"-\" \n",
    "                         + pk.date_of_infraction.str.slice(4,6) + \"-\"  \n",
    "                         + pk.date_of_infraction.str.slice(6)) + '-' +time.dt.strftime('%H:%M')\n",
    "pk['Datetime']"
   ]
  },
  {
   "cell_type": "code",
   "execution_count": 34,
   "metadata": {
    "ExecuteTime": {
     "end_time": "2018-10-03T10:18:40.611699Z",
     "start_time": "2018-10-03T10:18:40.606637Z"
    }
   },
   "outputs": [
    {
     "name": "stdout",
     "output_type": "stream",
     "text": [
      "<class 'pandas.core.frame.DataFrame'>\n",
      "Int64Index: 2254761 entries, 0 to 4760\n",
      "Data columns (total 11 columns):\n",
      "tag_number_masked         object\n",
      "date_of_infraction        datetime64[ns]\n",
      "infraction_code           float64\n",
      "infraction_description    object\n",
      "set_fine_amount           int64\n",
      "time_of_infraction        float64\n",
      "location1                 object\n",
      "location2                 object\n",
      "location3                 object\n",
      "location4                 object\n",
      "province                  object\n",
      "dtypes: datetime64[ns](1), float64(2), int64(1), object(7)\n",
      "memory usage: 206.4+ MB\n"
     ]
    }
   ],
   "source": [
    "pk.info()"
   ]
  },
  {
   "cell_type": "code",
   "execution_count": 43,
   "metadata": {
    "ExecuteTime": {
     "end_time": "2018-10-03T10:25:03.652737Z",
     "start_time": "2018-10-03T10:24:41.999604Z"
    }
   },
   "outputs": [
    {
     "data": {
      "text/plain": [
       "0       00:00\n",
       "1       00:00\n",
       "2       00:00\n",
       "3       00:00\n",
       "4       00:00\n",
       "5       00:00\n",
       "6       00:00\n",
       "7       00:00\n",
       "8       00:00\n",
       "9       00:00\n",
       "10      00:00\n",
       "11      00:00\n",
       "12      00:00\n",
       "13      00:00\n",
       "14      00:00\n",
       "        ...  \n",
       "4746    00:39\n",
       "4747    00:39\n",
       "4748    00:39\n",
       "4749    00:39\n",
       "4750    00:39\n",
       "4751    00:39\n",
       "4752    00:39\n",
       "4753    00:39\n",
       "4754    00:39\n",
       "4755    00:39\n",
       "4756    00:39\n",
       "4757    00:39\n",
       "4758    00:39\n",
       "4759      NaT\n",
       "4760      NaT\n",
       "Name: time_of_infraction, Length: 2254761, dtype: object"
      ]
     },
     "execution_count": 43,
     "metadata": {},
     "output_type": "execute_result"
    }
   ],
   "source": []
  },
  {
   "cell_type": "code",
   "execution_count": null,
   "metadata": {},
   "outputs": [],
   "source": []
  }
 ],
 "metadata": {
  "kernelspec": {
   "display_name": "Python 3",
   "language": "python",
   "name": "python3"
  },
  "language_info": {
   "codemirror_mode": {
    "name": "ipython",
    "version": 3
   },
   "file_extension": ".py",
   "mimetype": "text/x-python",
   "name": "python",
   "nbconvert_exporter": "python",
   "pygments_lexer": "ipython3",
   "version": "3.6.6"
  },
  "varInspector": {
   "cols": {
    "lenName": 16,
    "lenType": 16,
    "lenVar": 40
   },
   "kernels_config": {
    "python": {
     "delete_cmd_postfix": "",
     "delete_cmd_prefix": "del ",
     "library": "var_list.py",
     "varRefreshCmd": "print(var_dic_list())"
    },
    "r": {
     "delete_cmd_postfix": ") ",
     "delete_cmd_prefix": "rm(",
     "library": "var_list.r",
     "varRefreshCmd": "cat(var_dic_list()) "
    }
   },
   "types_to_exclude": [
    "module",
    "function",
    "builtin_function_or_method",
    "instance",
    "_Feature"
   ],
   "window_display": false
  }
 },
 "nbformat": 4,
 "nbformat_minor": 2
}
